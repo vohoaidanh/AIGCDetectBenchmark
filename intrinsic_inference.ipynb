{
  "nbformat": 4,
  "nbformat_minor": 0,
  "metadata": {
    "colab": {
      "provenance": [],
      "include_colab_link": true
    },
    "kernelspec": {
      "name": "python3",
      "display_name": "Python 3"
    },
    "language_info": {
      "name": "python"
    }
  },
  "cells": [
    {
      "cell_type": "markdown",
      "metadata": {
        "id": "view-in-github",
        "colab_type": "text"
      },
      "source": [
        "<a href=\"https://colab.research.google.com/github/vohoaidanh/AIGCDetectBenchmark/blob/main/intrinsic_inference.ipynb\" target=\"_parent\"><img src=\"https://colab.research.google.com/assets/colab-badge.svg\" alt=\"Open In Colab\"/></a>"
      ]
    },
    {
      "cell_type": "markdown",
      "source": [
        "Make sure to set the runtime to GPU: Runtime -> Change runtime type -> T4 GPU\n",
        "\n",
        "You can upload your own images, then change the relevant code cells to load it and send it through the model."
      ],
      "metadata": {
        "id": "-lKPW1wZEulh"
      }
    },
    {
      "cell_type": "code",
      "source": [
        "from google.colab import drive\n",
        "drive.mount('/content/drive')"
      ],
      "metadata": {
        "id": "a6QvpGdYw3g3"
      },
      "execution_count": null,
      "outputs": []
    },
    {
      "cell_type": "code",
      "execution_count": null,
      "metadata": {
        "id": "_cPkUxN-ikld"
      },
      "outputs": [],
      "source": [
        "# install the intrinsic decomposition repo from github\n",
        "!pip install https://github.com/compphoto/Intrinsic/archive/main.zip"
      ]
    },
    {
      "cell_type": "code",
      "source": [
        "import torch\n",
        "\n",
        "# import some helper functions from chrislib (will be installed by the intrinsic repo)\n",
        "from chrislib.general import show, view, uninvert\n",
        "from chrislib.data_util import load_image\n",
        "\n",
        "# import model loading and running the pipeline\n",
        "from intrinsic.pipeline import run_pipeline\n",
        "from intrinsic.model_util import load_models"
      ],
      "metadata": {
        "id": "J0gn82ZSjomn"
      },
      "execution_count": null,
      "outputs": []
    },
    {
      "cell_type": "code",
      "source": [
        "# download the pretrained weights and return the model (may take a bit to download weights)\n",
        "intrinsic_model = load_models('paper_weights')"
      ],
      "metadata": {
        "id": "Ap3HubpwC_KG"
      },
      "execution_count": null,
      "outputs": []
    },
    {
      "cell_type": "code",
      "source": [
        "# load an example image from the github repo\n",
        "torch.hub.download_url_to_file('https://raw.githubusercontent.com/compphoto/Intrinsic/main/figures/avocado.png', 'avo.png')"
      ],
      "metadata": {
        "id": "m_NYfDx0AhTw"
      },
      "execution_count": null,
      "outputs": []
    },
    {
      "cell_type": "code",
      "source": [
        "# load the image to run through the pipeline\n",
        "img = load_image('/content/avo.png')"
      ],
      "metadata": {
        "id": "ALb4Pjfvj-MU"
      },
      "execution_count": null,
      "outputs": []
    },
    {
      "cell_type": "code",
      "source": [
        "# run the image through the pipeline (use R0 resizing dicussed in the paper)\n",
        "result = run_pipeline(\n",
        "    intrinsic_model,\n",
        "    img,\n",
        "    resize_conf=0.0,\n",
        "    maintain_size=True,\n",
        "    linear=False,\n",
        "    device='cuda'\n",
        ")"
      ],
      "metadata": {
        "id": "QW0TiFypkOj-"
      },
      "execution_count": null,
      "outputs": []
    },
    {
      "cell_type": "code",
      "source": [
        "# convert the inverse shading to regular shading for visualization\n",
        "shd = uninvert(result['inv_shading'])\n",
        "alb = result['albedo']"
      ],
      "metadata": {
        "id": "XpYY2MNjkp2f"
      },
      "execution_count": null,
      "outputs": []
    },
    {
      "cell_type": "code",
      "source": [
        "# show the result (gamma corrects the linear intrinsic components and scales to [0-1])\n",
        "show([img, view(shd), view(alb)], size=(20, 7))"
      ],
      "metadata": {
        "id": "8KKbyoVLki9s"
      },
      "execution_count": null,
      "outputs": []
    },
    {
      "cell_type": "markdown",
      "source": [
        "## Intrinsic Process"
      ],
      "metadata": {
        "id": "p65pLFZzxAdd"
      }
    },
    {
      "cell_type": "code",
      "source": [
        "# Copy Data from gdrive to colab\n",
        "!cp source -d dest\n"
      ],
      "metadata": {
        "id": "SxuJbI0DxUYn"
      },
      "execution_count": null,
      "outputs": []
    },
    {
      "cell_type": "code",
      "source": [
        "import os\n",
        "\n",
        "def get_image_list(data_path):\n",
        "  # Get all images in dataset (return a list of path of each image)\n",
        "  items = os.listdir(data_path) # Each item contains 40 images\n",
        "  image_list = []\n",
        "  for item in items:\n",
        "    f = os.path.join(data_path, item)\n",
        "    imgs = os.listdir(f)\n",
        "    imgs = [os.path.join(f,imgs) for i in imgs]\n",
        "    image_list.extend(imgs)\n",
        "  return image_list\n"
      ],
      "metadata": {
        "id": "FbQx8rZ6xAFA"
      },
      "execution_count": null,
      "outputs": []
    },
    {
      "cell_type": "markdown",
      "source": [
        "# Run process all images in the list"
      ],
      "metadata": {
        "id": "qxE9VVyF0QIC"
      }
    },
    {
      "cell_type": "code",
      "source": [
        "data_path = ''\n",
        "images = get_image_list(data_path)\n",
        "\n",
        "print('Total: {0} images'.format(len(images)))\n",
        "\n",
        "for image in images:\n",
        "    result = run_pipeline(\n",
        "      intrinsic_model,\n",
        "      img,\n",
        "      resize_conf=0.0,\n",
        "      maintain_size=True,\n",
        "      linear=False,\n",
        "      device='cuda'\n",
        "    )\n",
        "\n",
        "    albedo = results['albedo']\n",
        "    inv_shd = results['inv_shading']\n",
        "\n",
        "    # compute shading from inverse shading\n",
        "    shading = uninvert(inv_shd)"
      ],
      "metadata": {
        "id": "d1mEXjsG0Pp0"
      },
      "execution_count": null,
      "outputs": []
    }
  ]
}