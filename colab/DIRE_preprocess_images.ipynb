{
  "nbformat": 4,
  "nbformat_minor": 0,
  "metadata": {
    "colab": {
      "provenance": [],
      "gpuType": "T4",
      "mount_file_id": "1nsrkzAPaYTlatwpmJJtZXh40oTPDibFe",
      "authorship_tag": "ABX9TyPtTrtHIY4Y5st2jChctRjB",
      "include_colab_link": true
    },
    "kernelspec": {
      "name": "python3",
      "display_name": "Python 3"
    },
    "language_info": {
      "name": "python"
    },
    "accelerator": "GPU"
  },
  "cells": [
    {
      "cell_type": "markdown",
      "metadata": {
        "id": "view-in-github",
        "colab_type": "text"
      },
      "source": [
        "<a href=\"https://colab.research.google.com/github/vohoaidanh/AIGCDetectBenchmark/blob/main/colab/DIRE_preprocess_images.ipynb\" target=\"_parent\"><img src=\"https://colab.research.google.com/assets/colab-badge.svg\" alt=\"Open In Colab\"/></a>"
      ]
    },
    {
      "cell_type": "code",
      "execution_count": 1,
      "metadata": {
        "colab": {
          "base_uri": "https://localhost:8080/"
        },
        "id": "QspwbLO_H_SF",
        "outputId": "d96aa160-d1b3-4f04-f4bb-ad7885894092"
      },
      "outputs": [
        {
          "output_type": "stream",
          "name": "stdout",
          "text": [
            "Cloning into 'DIRE'...\n",
            "remote: Enumerating objects: 63, done.\u001b[K\n",
            "remote: Counting objects: 100% (63/63), done.\u001b[K\n",
            "remote: Compressing objects: 100% (56/56), done.\u001b[K\n",
            "remote: Total 63 (delta 7), reused 59 (delta 6), pack-reused 0\u001b[K\n",
            "Receiving objects: 100% (63/63), 1.95 MiB | 6.52 MiB/s, done.\n",
            "Resolving deltas: 100% (7/7), done.\n"
          ]
        }
      ],
      "source": [
        "!git clone https://github.com/ZhendongWang6/DIRE.git"
      ]
    },
    {
      "cell_type": "code",
      "source": [
        "!wget https://openaipublic.blob.core.windows.net/diffusion/jul-2021/256x256_diffusion_uncond.pt"
      ],
      "metadata": {
        "colab": {
          "base_uri": "https://localhost:8080/"
        },
        "id": "IFU_7d8vIZym",
        "outputId": "64092e84-fb5e-43d2-937e-b2ee9f31cc4d"
      },
      "execution_count": 2,
      "outputs": [
        {
          "output_type": "stream",
          "name": "stdout",
          "text": [
            "--2024-03-25 01:03:24--  https://openaipublic.blob.core.windows.net/diffusion/jul-2021/256x256_diffusion_uncond.pt\n",
            "Resolving openaipublic.blob.core.windows.net (openaipublic.blob.core.windows.net)... 20.209.18.33\n",
            "Connecting to openaipublic.blob.core.windows.net (openaipublic.blob.core.windows.net)|20.209.18.33|:443... connected.\n",
            "HTTP request sent, awaiting response... 200 OK\n",
            "Length: 2211383297 (2.1G) [application/octet-stream]\n",
            "Saving to: ‘256x256_diffusion_uncond.pt’\n",
            "\n",
            "256x256_diffusion_u 100%[===================>]   2.06G  11.0MB/s    in 3m 19s  \n",
            "\n",
            "2024-03-25 01:06:44 (10.6 MB/s) - ‘256x256_diffusion_uncond.pt’ saved [2211383297/2211383297]\n",
            "\n"
          ]
        }
      ]
    },
    {
      "cell_type": "code",
      "source": [
        "!pip install ftfy -q\n",
        "!pip install natsort -q\n",
        "!pip install tensorboardX -q\n",
        "!pip install blobfile -q\n",
        "!pip install mpi4py\n"
      ],
      "metadata": {
        "colab": {
          "base_uri": "https://localhost:8080/"
        },
        "id": "R3o1SjVbLQyP",
        "outputId": "4f279308-2367-4cf9-d419-8fb2a868e197"
      },
      "execution_count": 7,
      "outputs": [
        {
          "output_type": "stream",
          "name": "stdout",
          "text": [
            "\u001b[2K     \u001b[90m━━━━━━━━━━━━━━━━━━━━━━━━━━━━━━━━━━━━━━━━\u001b[0m \u001b[32m54.4/54.4 kB\u001b[0m \u001b[31m1.7 MB/s\u001b[0m eta \u001b[36m0:00:00\u001b[0m\n",
            "\u001b[2K     \u001b[90m━━━━━━━━━━━━━━━━━━━━━━━━━━━━━━━━━━━━━━━━\u001b[0m \u001b[32m101.7/101.7 kB\u001b[0m \u001b[31m2.9 MB/s\u001b[0m eta \u001b[36m0:00:00\u001b[0m\n",
            "\u001b[2K     \u001b[90m━━━━━━━━━━━━━━━━━━━━━━━━━━━━━━━━━━━━━━━━\u001b[0m \u001b[32m73.7/73.7 kB\u001b[0m \u001b[31m2.0 MB/s\u001b[0m eta \u001b[36m0:00:00\u001b[0m\n",
            "\u001b[2K     \u001b[90m━━━━━━━━━━━━━━━━━━━━━━━━━━━━━━━━━━━━━━━━\u001b[0m \u001b[32m2.1/2.1 MB\u001b[0m \u001b[31m17.1 MB/s\u001b[0m eta \u001b[36m0:00:00\u001b[0m\n",
            "\u001b[?25hCollecting mpi4py\n",
            "  Downloading mpi4py-3.1.5.tar.gz (2.5 MB)\n",
            "\u001b[2K     \u001b[90m━━━━━━━━━━━━━━━━━━━━━━━━━━━━━━━━━━━━━━━━\u001b[0m \u001b[32m2.5/2.5 MB\u001b[0m \u001b[31m25.1 MB/s\u001b[0m eta \u001b[36m0:00:00\u001b[0m\n",
            "\u001b[?25h  Installing build dependencies ... \u001b[?25l\u001b[?25hdone\n",
            "  Getting requirements to build wheel ... \u001b[?25l\u001b[?25hdone\n",
            "  Preparing metadata (pyproject.toml) ... \u001b[?25l\u001b[?25hdone\n",
            "Building wheels for collected packages: mpi4py\n",
            "  Building wheel for mpi4py (pyproject.toml) ... \u001b[?25l\u001b[?25hdone\n",
            "  Created wheel for mpi4py: filename=mpi4py-3.1.5-cp310-cp310-linux_x86_64.whl size=2746507 sha256=435ba8644e3863d78c6f10a3dc54e6f9c6f9247756be479a0dcf3d9041bb8556\n",
            "  Stored in directory: /root/.cache/pip/wheels/18/2b/7f/c852523089e9182b45fca50ff56f49a51eeb6284fd25a66713\n",
            "Successfully built mpi4py\n",
            "Installing collected packages: mpi4py\n",
            "Successfully installed mpi4py-3.1.5\n"
          ]
        }
      ]
    },
    {
      "cell_type": "code",
      "source": [
        "!cp /content/drive/MyDrive/DATASETS/real_gen_dataset.zip -d /content"
      ],
      "metadata": {
        "id": "NH1PBRCfInUR"
      },
      "execution_count": 3,
      "outputs": []
    },
    {
      "cell_type": "code",
      "source": [
        "!unzip -q /content/real_gen_dataset.zip -d dataset"
      ],
      "metadata": {
        "id": "XGNVy_QLJq9o"
      },
      "execution_count": 4,
      "outputs": []
    },
    {
      "cell_type": "code",
      "source": [
        "%cd DIRE"
      ],
      "metadata": {
        "colab": {
          "base_uri": "https://localhost:8080/"
        },
        "id": "l_4Sw1IgKuuk",
        "outputId": "21fdd8c3-cb83-4410-8e3c-2719ef79a502"
      },
      "execution_count": 5,
      "outputs": [
        {
          "output_type": "stream",
          "name": "stdout",
          "text": [
            "/content/DIRE\n"
          ]
        }
      ]
    },
    {
      "cell_type": "markdown",
      "source": [
        "#Process for test set\n",
        "(We need to remove all lines related to multi-GPU configuration in compe_dire.py before run)"
      ],
      "metadata": {
        "id": "CW5aayVZqmat"
      }
    },
    {
      "cell_type": "code",
      "source": [
        "!python guided-diffusion/compute_dire.py \\\n",
        "--model_path models/256x256_diffusion_uncond.pt \\\n",
        "--attention_resolutions 32,16,8 \\\n",
        "--class_cond False \\\n",
        "--diffusion_steps 1000 --dropout 0.1 --image_size 256 --learn_sigma True --noise_schedule linear --num_channels 256 \\\n",
        "--num_head_channels 64 --num_res_blocks 2 --resblock_updown True --use_fp16 True --use_scale_shift_norm True \\\n",
        "--images_dir /content/DIRE/real_gen_dataset/test \\\n",
        "--recons_dir /content/drive/MyDrive/DATASETS/DIRE/DiffusionForensics/recons_test \\\n",
        "--dire_dir /content/drive/MyDrive/DATASETS/DIRE/DiffusionForensics/dire_test \\\n",
        "--batch_size 16 --num_samples 1000  --timestep_respacing ddim20 --use_ddim True \\\n",
        "--has_subfolder True"
      ],
      "metadata": {
        "id": "CAwkw5N8I-Gm"
      },
      "execution_count": null,
      "outputs": []
    },
    {
      "cell_type": "markdown",
      "source": [
        "#Process for train set"
      ],
      "metadata": {
        "id": "6cDw1NXuyFds"
      }
    },
    {
      "cell_type": "code",
      "source": [
        "import os\n",
        "image_list = []\n",
        "extensions = ['.jpg', '.png', '.gif', '.bmp', '.webp']  # Add more extensions as needed\n",
        "def getname(base_dir):\n",
        "    for dirpath, dirnames, filenames in os.walk(base_dir):\n",
        "        if len(filenames) > 0:\n",
        "            imgs = [filename for filename in filenames if any(ext in filename for ext in extensions)]\n",
        "            image_list.extend(imgs)\n",
        "    return image_list\n"
      ],
      "metadata": {
        "id": "OpOUxhLnzRwk"
      },
      "execution_count": null,
      "outputs": []
    },
    {
      "cell_type": "code",
      "source": [
        "\n",
        "#Remove existed items before run\n",
        "data_dir = ''\n",
        "for dirpath, dirnames, filenames in os.walk(data_dir):\n",
        "    if len(filenames) >0:\n",
        "        for file in filenams:\n",
        "            if file in image_list:\n",
        "                full_name = os.path.join(dirpath, file)\n",
        "                os.remove(full_name)\n",
        "                print('removed :',full_name)\n"
      ],
      "metadata": {
        "id": "V2EgZO8X17iM"
      },
      "execution_count": null,
      "outputs": []
    },
    {
      "cell_type": "code",
      "source": [
        "!python guided-diffusion/compute_dire.py \\\n",
        "--model_path models/256x256_diffusion_uncond.pt \\\n",
        "--attention_resolutions 32,16,8 \\\n",
        "--class_cond False \\\n",
        "--diffusion_steps 1000 --dropout 0.1 --image_size 256 --learn_sigma True --noise_schedule linear --num_channels 256 \\\n",
        "--num_head_channels 64 --num_res_blocks 2 --resblock_updown True --use_fp16 True --use_scale_shift_norm True \\\n",
        "--images_dir /content/DIRE/real_gen_dataset/train \\\n",
        "--recons_dir /content/drive/MyDrive/DATASETS/DIRE/DiffusionForensics/recons_train \\\n",
        "--dire_dir /content/drive/MyDrive/DATASETS/DIRE/DiffusionForensics/dire_train \\\n",
        "--batch_size 16 --num_samples 1000  --timestep_respacing ddim20 --use_ddim True \\\n",
        "--has_subfolder True"
      ],
      "metadata": {
        "id": "K51KzT6x1_DY"
      },
      "execution_count": null,
      "outputs": []
    }
  ]
}