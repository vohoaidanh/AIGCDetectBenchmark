{
  "nbformat": 4,
  "nbformat_minor": 0,
  "metadata": {
    "colab": {
      "provenance": [],
      "include_colab_link": true
    },
    "kernelspec": {
      "name": "python3",
      "display_name": "Python 3"
    },
    "language_info": {
      "name": "python"
    }
  },
  "cells": [
    {
      "cell_type": "markdown",
      "metadata": {
        "id": "view-in-github",
        "colab_type": "text"
      },
      "source": [
        "<a href=\"https://colab.research.google.com/github/vohoaidanh/AIGCDetectBenchmark/blob/main/colab/DIRE_preprocess_images.ipynb\" target=\"_parent\"><img src=\"https://colab.research.google.com/assets/colab-badge.svg\" alt=\"Open In Colab\"/></a>"
      ]
    },
    {
      "cell_type": "code",
      "execution_count": 1,
      "metadata": {
        "colab": {
          "base_uri": "https://localhost:8080/"
        },
        "id": "QspwbLO_H_SF",
        "outputId": "78ae7464-b870-455d-d3e2-620ac1fde055"
      },
      "outputs": [
        {
          "output_type": "stream",
          "name": "stdout",
          "text": [
            "Cloning into 'DIRE'...\n",
            "remote: Enumerating objects: 63, done.\u001b[K\n",
            "remote: Counting objects: 100% (63/63), done.\u001b[K\n",
            "remote: Compressing objects: 100% (56/56), done.\u001b[K\n",
            "remote: Total 63 (delta 7), reused 59 (delta 6), pack-reused 0\u001b[K\n",
            "Receiving objects: 100% (63/63), 1.95 MiB | 10.99 MiB/s, done.\n",
            "Resolving deltas: 100% (7/7), done.\n"
          ]
        }
      ],
      "source": [
        "!git clone https://github.com/ZhendongWang6/DIRE.git"
      ]
    },
    {
      "cell_type": "code",
      "source": [
        "from google.colab import drive\n",
        "drive.mount('/content/drive')"
      ],
      "metadata": {
        "id": "Dk-k6HPyAWy2",
        "outputId": "b3d38e19-3974-49fd-f5a9-108cb63c3c39",
        "colab": {
          "base_uri": "https://localhost:8080/"
        }
      },
      "execution_count": 2,
      "outputs": [
        {
          "output_type": "stream",
          "name": "stdout",
          "text": [
            "Mounted at /content/drive\n"
          ]
        }
      ]
    },
    {
      "cell_type": "code",
      "source": [
        "!wget https://openaipublic.blob.core.windows.net/diffusion/jul-2021/256x256_diffusion_uncond.pt"
      ],
      "metadata": {
        "colab": {
          "base_uri": "https://localhost:8080/"
        },
        "id": "IFU_7d8vIZym",
        "outputId": "820bcd71-9b09-41bd-9ac7-5907b60a38ff"
      },
      "execution_count": 3,
      "outputs": [
        {
          "output_type": "stream",
          "name": "stdout",
          "text": [
            "--2024-03-25 13:42:58--  https://openaipublic.blob.core.windows.net/diffusion/jul-2021/256x256_diffusion_uncond.pt\n",
            "Resolving openaipublic.blob.core.windows.net (openaipublic.blob.core.windows.net)... 20.209.18.33\n",
            "Connecting to openaipublic.blob.core.windows.net (openaipublic.blob.core.windows.net)|20.209.18.33|:443... connected.\n",
            "HTTP request sent, awaiting response... 200 OK\n",
            "Length: 2211383297 (2.1G) [application/octet-stream]\n",
            "Saving to: ‘256x256_diffusion_uncond.pt’\n",
            "\n",
            "256x256_diffusion_u 100%[===================>]   2.06G  53.0MB/s    in 38s     \n",
            "\n",
            "2024-03-25 13:43:36 (56.0 MB/s) - ‘256x256_diffusion_uncond.pt’ saved [2211383297/2211383297]\n",
            "\n"
          ]
        }
      ]
    },
    {
      "cell_type": "code",
      "source": [
        "import os\n",
        "os.makedirs('DIRE/models', exist_ok=True)\n",
        "import shutil\n",
        "shutil.move('/content/256x256_diffusion_uncond.pt', 'DIRE/models')\n"
      ],
      "metadata": {
        "id": "Cz-nMdqoAhTQ",
        "outputId": "7875412b-2e6b-4b26-e49d-7d2b82e813af",
        "colab": {
          "base_uri": "https://localhost:8080/",
          "height": 35
        }
      },
      "execution_count": 4,
      "outputs": [
        {
          "output_type": "execute_result",
          "data": {
            "text/plain": [
              "'DIRE/models/256x256_diffusion_uncond.pt'"
            ],
            "application/vnd.google.colaboratory.intrinsic+json": {
              "type": "string"
            }
          },
          "metadata": {},
          "execution_count": 4
        }
      ]
    },
    {
      "cell_type": "code",
      "source": [
        "!pip install ftfy -q\n",
        "!pip install natsort -q\n",
        "!pip install tensorboardX -q\n",
        "!pip install blobfile -q\n",
        "!pip install mpi4py\n"
      ],
      "metadata": {
        "colab": {
          "base_uri": "https://localhost:8080/"
        },
        "id": "R3o1SjVbLQyP",
        "outputId": "195333af-e4c1-4b38-8786-cb3dd88751ea"
      },
      "execution_count": 5,
      "outputs": [
        {
          "output_type": "stream",
          "name": "stdout",
          "text": [
            "\u001b[2K     \u001b[90m━━━━━━━━━━━━━━━━━━━━━━━━━━━━━━━━━━━━━━━━\u001b[0m \u001b[32m54.4/54.4 kB\u001b[0m \u001b[31m858.0 kB/s\u001b[0m eta \u001b[36m0:00:00\u001b[0m\n",
            "\u001b[2K     \u001b[90m━━━━━━━━━━━━━━━━━━━━━━━━━━━━━━━━━━━━━━━━\u001b[0m \u001b[32m101.7/101.7 kB\u001b[0m \u001b[31m1.2 MB/s\u001b[0m eta \u001b[36m0:00:00\u001b[0m\n",
            "\u001b[2K     \u001b[90m━━━━━━━━━━━━━━━━━━━━━━━━━━━━━━━━━━━━━━━━\u001b[0m \u001b[32m73.7/73.7 kB\u001b[0m \u001b[31m1.0 MB/s\u001b[0m eta \u001b[36m0:00:00\u001b[0m\n",
            "\u001b[2K     \u001b[90m━━━━━━━━━━━━━━━━━━━━━━━━━━━━━━━━━━━━━━━━\u001b[0m \u001b[32m2.1/2.1 MB\u001b[0m \u001b[31m11.3 MB/s\u001b[0m eta \u001b[36m0:00:00\u001b[0m\n",
            "\u001b[?25hCollecting mpi4py\n",
            "  Downloading mpi4py-3.1.5.tar.gz (2.5 MB)\n",
            "\u001b[2K     \u001b[90m━━━━━━━━━━━━━━━━━━━━━━━━━━━━━━━━━━━━━━━━\u001b[0m \u001b[32m2.5/2.5 MB\u001b[0m \u001b[31m11.0 MB/s\u001b[0m eta \u001b[36m0:00:00\u001b[0m\n",
            "\u001b[?25h  Installing build dependencies ... \u001b[?25l\u001b[?25hdone\n",
            "  Getting requirements to build wheel ... \u001b[?25l\u001b[?25hdone\n",
            "  Preparing metadata (pyproject.toml) ... \u001b[?25l\u001b[?25hdone\n",
            "Building wheels for collected packages: mpi4py\n",
            "  Building wheel for mpi4py (pyproject.toml) ... \u001b[?25l\u001b[?25hdone\n",
            "  Created wheel for mpi4py: filename=mpi4py-3.1.5-cp310-cp310-linux_x86_64.whl size=2746508 sha256=7d38084fb1fd64d2ea9009bfc0146662bfe31837c623fa70b77001837f197648\n",
            "  Stored in directory: /root/.cache/pip/wheels/18/2b/7f/c852523089e9182b45fca50ff56f49a51eeb6284fd25a66713\n",
            "Successfully built mpi4py\n",
            "Installing collected packages: mpi4py\n",
            "Successfully installed mpi4py-3.1.5\n"
          ]
        }
      ]
    },
    {
      "cell_type": "code",
      "source": [
        "!cp /content/drive/MyDrive/DATASETS/real_gen_dataset.zip -d /content"
      ],
      "metadata": {
        "id": "NH1PBRCfInUR"
      },
      "execution_count": 6,
      "outputs": []
    },
    {
      "cell_type": "code",
      "source": [
        "!unzip -q /content/real_gen_dataset.zip -d DIRE"
      ],
      "metadata": {
        "id": "XGNVy_QLJq9o"
      },
      "execution_count": 7,
      "outputs": []
    },
    {
      "cell_type": "code",
      "source": [
        "%cd DIRE"
      ],
      "metadata": {
        "colab": {
          "base_uri": "https://localhost:8080/"
        },
        "id": "l_4Sw1IgKuuk",
        "outputId": "6ffaf20d-bead-498d-f28c-f4d5cb8725e2"
      },
      "execution_count": 8,
      "outputs": [
        {
          "output_type": "stream",
          "name": "stdout",
          "text": [
            "/content/DIRE\n"
          ]
        }
      ]
    },
    {
      "cell_type": "markdown",
      "source": [
        "#Process for test set\n",
        "(We need to remove all lines related to multi-GPU configuration in compe_dire.py before run)"
      ],
      "metadata": {
        "id": "CW5aayVZqmat"
      }
    },
    {
      "cell_type": "code",
      "source": [
        "!python guided-diffusion/compute_dire.py \\\n",
        "--model_path models/256x256_diffusion_uncond.pt \\\n",
        "--attention_resolutions 32,16,8 \\\n",
        "--class_cond False \\\n",
        "--diffusion_steps 1000 --dropout 0.1 --image_size 256 --learn_sigma True --noise_schedule linear --num_channels 256 \\\n",
        "--num_head_channels 64 --num_res_blocks 2 --resblock_updown True --use_fp16 True --use_scale_shift_norm True \\\n",
        "--images_dir /content/DIRE/real_gen_dataset/test \\\n",
        "--recons_dir /content/drive/MyDrive/DATASETS/DIRE/DiffusionForensics/recons_test \\\n",
        "--dire_dir /content/drive/MyDrive/DATASETS/DIRE/DiffusionForensics/dire_test \\\n",
        "--batch_size 16 --num_samples 1000  --timestep_respacing ddim20 --use_ddim True \\\n",
        "--has_subfolder True"
      ],
      "metadata": {
        "id": "CAwkw5N8I-Gm"
      },
      "execution_count": null,
      "outputs": []
    },
    {
      "cell_type": "markdown",
      "source": [
        "#Process for train set"
      ],
      "metadata": {
        "id": "6cDw1NXuyFds"
      }
    },
    {
      "cell_type": "code",
      "source": [
        "import os\n",
        "image_list = []\n",
        "extensions = ['.jpg', '.png', '.gif', '.bmp', '.webp']  # Add more extensions as needed\n",
        "def getname(base_dir):\n",
        "    for dirpath, dirnames, filenames in os.walk(base_dir):\n",
        "        if len(filenames) > 0:\n",
        "            imgs = [filename for filename in filenames if any(ext in filename for ext in extensions)]\n",
        "            image_list.extend(imgs)\n",
        "    return image_list\n"
      ],
      "metadata": {
        "id": "OpOUxhLnzRwk"
      },
      "execution_count": 9,
      "outputs": []
    },
    {
      "cell_type": "code",
      "source": [
        "image_list = getname('/content/drive/MyDrive/DATASETS/DIRE/DiffusionForensics/dire_train')"
      ],
      "metadata": {
        "id": "6UyTNUAQBkGU"
      },
      "execution_count": 10,
      "outputs": []
    },
    {
      "cell_type": "code",
      "source": [
        "len(image_list)"
      ],
      "metadata": {
        "id": "K_aTR_WPBuuE",
        "outputId": "fde91ad0-c54a-4a1e-adf3-bb9e31762714",
        "colab": {
          "base_uri": "https://localhost:8080/"
        }
      },
      "execution_count": 11,
      "outputs": [
        {
          "output_type": "execute_result",
          "data": {
            "text/plain": [
              "1896"
            ]
          },
          "metadata": {},
          "execution_count": 11
        }
      ]
    },
    {
      "cell_type": "code",
      "source": [
        "\n",
        "#Remove existed items before run\n",
        "data_dir = '/content/DIRE/real_gen_dataset'\n",
        "c=0\n",
        "for dirpath, dirnames, filenames in os.walk(data_dir):\n",
        "    if len(filenames) >0:\n",
        "        for file in filenames:\n",
        "            if file in image_list:\n",
        "                c+=1\n",
        "                full_name = os.path.join(dirpath, file)\n",
        "                os.remove(full_name)\n",
        "                print('removed {}:{}:'.format(c,full_name))\n"
      ],
      "metadata": {
        "id": "V2EgZO8X17iM"
      },
      "execution_count": null,
      "outputs": []
    },
    {
      "cell_type": "code",
      "source": [
        "len(os.listdir('/content/DIRE/real_gen_dataset/train/0_real')) + len(os.listdir('/content/DIRE/real_gen_dataset/train/1_fake'))"
      ],
      "metadata": {
        "id": "IK4OuKR6CMoG",
        "outputId": "16332db2-5740-4fb9-d9c3-348e8ff46ccb",
        "colab": {
          "base_uri": "https://localhost:8080/"
        }
      },
      "execution_count": 13,
      "outputs": [
        {
          "output_type": "execute_result",
          "data": {
            "text/plain": [
              "1686"
            ]
          },
          "metadata": {},
          "execution_count": 13
        }
      ]
    },
    {
      "cell_type": "code",
      "source": [
        "samples = len(os.listdir('/content/DIRE/real_gen_dataset/train/0_real')) + len(os.listdir('/content/DIRE/real_gen_dataset/train/1_fake'))"
      ],
      "metadata": {
        "id": "Hf_mUczw2sE-"
      },
      "execution_count": 16,
      "outputs": []
    },
    {
      "cell_type": "code",
      "source": [
        "!python guided-diffusion/compute_dire.py \\\n",
        "--model_path models/256x256_diffusion_uncond.pt \\\n",
        "--attention_resolutions 32,16,8 \\\n",
        "--class_cond False \\\n",
        "--diffusion_steps 1000 --dropout 0.1 --image_size 256 --learn_sigma True --noise_schedule linear --num_channels 256 \\\n",
        "--num_head_channels 64 --num_res_blocks 2 --resblock_updown True --use_fp16 True --use_scale_shift_norm True \\\n",
        "--images_dir /content/DIRE/real_gen_dataset/train \\\n",
        "--recons_dir /content/drive/MyDrive/DATASETS/DIRE/DiffusionForensics/recons_train \\\n",
        "--dire_dir /content/drive/MyDrive/DATASETS/DIRE/DiffusionForensics/dire_train \\\n",
        "--batch_size 16 --num_samples $samples  --timestep_respacing ddim20 --use_ddim True \\\n",
        "--has_subfolder True"
      ],
      "metadata": {
        "id": "K51KzT6x1_DY",
        "outputId": "e5c1855c-fd24-4c61-bd65-5394aae29a8e",
        "colab": {
          "base_uri": "https://localhost:8080/"
        }
      },
      "execution_count": 18,
      "outputs": [
        {
          "output_type": "stream",
          "name": "stdout",
          "text": [
            "Logging to /content/drive/MyDrive/DATASETS/DIRE/DiffusionForensics/recons_train\n",
            "Namespace(images_dir='/content/DIRE/real_gen_dataset/train', recons_dir='/content/drive/MyDrive/DATASETS/DIRE/DiffusionForensics/recons_train', dire_dir='/content/drive/MyDrive/DATASETS/DIRE/DiffusionForensics/dire_train', clip_denoised=True, num_samples=1686, batch_size=16, use_ddim=True, model_path='models/256x256_diffusion_uncond.pt', real_step=0, continue_reverse=False, has_subfolder=True, image_size=256, num_channels=256, num_res_blocks=2, num_heads=4, num_heads_upsample=-1, num_head_channels=64, attention_resolutions='32,16,8', channel_mult='', dropout=0.1, class_cond=False, use_checkpoint=False, use_scale_shift_norm=True, resblock_updown=True, use_fp16=True, use_new_attention_order=False, learn_sigma=True, diffusion_steps=1000, noise_schedule='linear', timestep_respacing='ddim20', use_kl=False, predict_xstart=False, rescale_timesteps=False, rescale_learned_sigmas=False)\n",
            "have created model and diffusion\n",
            "have created data loader\n",
            "computing recons & DIRE ...\n",
            "dataset length: 1686\n",
            "^C\n"
          ]
        }
      ]
    }
  ]
}