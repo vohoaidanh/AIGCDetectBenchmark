{
  "nbformat": 4,
  "nbformat_minor": 0,
  "metadata": {
    "colab": {
      "provenance": [],
      "gpuType": "T4",
      "include_colab_link": true
    },
    "kernelspec": {
      "name": "python3",
      "display_name": "Python 3"
    },
    "language_info": {
      "name": "python"
    },
    "accelerator": "GPU"
  },
  "cells": [
    {
      "cell_type": "markdown",
      "metadata": {
        "id": "view-in-github",
        "colab_type": "text"
      },
      "source": [
        "<a href=\"https://colab.research.google.com/github/vohoaidanh/AIGCDetectBenchmark/blob/main/colab/DIRE_preprocess_images.ipynb\" target=\"_parent\"><img src=\"https://colab.research.google.com/assets/colab-badge.svg\" alt=\"Open In Colab\"/></a>"
      ]
    },
    {
      "cell_type": "code",
      "execution_count": 1,
      "metadata": {
        "colab": {
          "base_uri": "https://localhost:8080/"
        },
        "id": "QspwbLO_H_SF",
        "outputId": "e58ff090-c475-477e-d363-356e4bb70fb2"
      },
      "outputs": [
        {
          "output_type": "stream",
          "name": "stdout",
          "text": [
            "Cloning into 'DIRE'...\n",
            "remote: Enumerating objects: 63, done.\u001b[K\n",
            "remote: Counting objects: 100% (63/63), done.\u001b[K\n",
            "remote: Compressing objects: 100% (56/56), done.\u001b[K\n",
            "remote: Total 63 (delta 7), reused 59 (delta 6), pack-reused 0\u001b[K\n",
            "Receiving objects: 100% (63/63), 1.95 MiB | 5.78 MiB/s, done.\n",
            "Resolving deltas: 100% (7/7), done.\n"
          ]
        }
      ],
      "source": [
        "!git clone https://github.com/ZhendongWang6/DIRE.git"
      ]
    },
    {
      "cell_type": "code",
      "source": [
        "from google.colab import drive\n",
        "drive.mount('/content/drive')"
      ],
      "metadata": {
        "id": "Dk-k6HPyAWy2",
        "outputId": "3c1f2666-96cd-4a17-9b57-065ce7597937",
        "colab": {
          "base_uri": "https://localhost:8080/"
        }
      },
      "execution_count": 2,
      "outputs": [
        {
          "output_type": "stream",
          "name": "stdout",
          "text": [
            "Mounted at /content/drive\n"
          ]
        }
      ]
    },
    {
      "cell_type": "code",
      "source": [
        "!wget https://openaipublic.blob.core.windows.net/diffusion/jul-2021/256x256_diffusion_uncond.pt"
      ],
      "metadata": {
        "colab": {
          "base_uri": "https://localhost:8080/"
        },
        "id": "IFU_7d8vIZym",
        "outputId": "112f9345-a0a9-41af-fae1-7905118907d1"
      },
      "execution_count": 3,
      "outputs": [
        {
          "output_type": "stream",
          "name": "stdout",
          "text": [
            "--2024-03-30 14:56:05--  https://openaipublic.blob.core.windows.net/diffusion/jul-2021/256x256_diffusion_uncond.pt\n",
            "Resolving openaipublic.blob.core.windows.net (openaipublic.blob.core.windows.net)... 20.209.18.33\n",
            "Connecting to openaipublic.blob.core.windows.net (openaipublic.blob.core.windows.net)|20.209.18.33|:443... connected.\n",
            "HTTP request sent, awaiting response... 200 OK\n",
            "Length: 2211383297 (2.1G) [application/octet-stream]\n",
            "Saving to: ‘256x256_diffusion_uncond.pt’\n",
            "\n",
            "256x256_diffusion_u 100%[===================>]   2.06G  11.0MB/s    in 3m 22s  \n",
            "\n",
            "2024-03-30 14:59:28 (10.4 MB/s) - ‘256x256_diffusion_uncond.pt’ saved [2211383297/2211383297]\n",
            "\n"
          ]
        }
      ]
    },
    {
      "cell_type": "code",
      "source": [
        "import os\n",
        "os.makedirs('DIRE/models', exist_ok=True)\n",
        "import shutil\n",
        "shutil.move('/content/256x256_diffusion_uncond.pt', 'DIRE/models')\n"
      ],
      "metadata": {
        "id": "Cz-nMdqoAhTQ",
        "outputId": "f8663cf0-66c4-4edd-ab67-d6f7bcc0afe7",
        "colab": {
          "base_uri": "https://localhost:8080/",
          "height": 35
        }
      },
      "execution_count": 4,
      "outputs": [
        {
          "output_type": "execute_result",
          "data": {
            "text/plain": [
              "'DIRE/models/256x256_diffusion_uncond.pt'"
            ],
            "application/vnd.google.colaboratory.intrinsic+json": {
              "type": "string"
            }
          },
          "metadata": {},
          "execution_count": 4
        }
      ]
    },
    {
      "cell_type": "code",
      "source": [
        "!pip install ftfy -q\n",
        "!pip install natsort -q\n",
        "!pip install tensorboardX -q\n",
        "!pip install blobfile -q\n",
        "!pip install mpi4py -q\n"
      ],
      "metadata": {
        "colab": {
          "base_uri": "https://localhost:8080/"
        },
        "id": "R3o1SjVbLQyP",
        "outputId": "29bf4e58-a0da-43d2-c17c-60fdba6eb21c"
      },
      "execution_count": 5,
      "outputs": [
        {
          "output_type": "stream",
          "name": "stdout",
          "text": [
            "\u001b[2K     \u001b[90m━━━━━━━━━━━━━━━━━━━━━━━━━━━━━━━━━━━━━━━━\u001b[0m \u001b[32m54.4/54.4 kB\u001b[0m \u001b[31m1.8 MB/s\u001b[0m eta \u001b[36m0:00:00\u001b[0m\n",
            "\u001b[2K     \u001b[90m━━━━━━━━━━━━━━━━━━━━━━━━━━━━━━━━━━━━━━━━\u001b[0m \u001b[32m101.7/101.7 kB\u001b[0m \u001b[31m2.7 MB/s\u001b[0m eta \u001b[36m0:00:00\u001b[0m\n",
            "\u001b[2K     \u001b[90m━━━━━━━━━━━━━━━━━━━━━━━━━━━━━━━━━━━━━━━━\u001b[0m \u001b[32m73.7/73.7 kB\u001b[0m \u001b[31m1.8 MB/s\u001b[0m eta \u001b[36m0:00:00\u001b[0m\n",
            "\u001b[2K     \u001b[90m━━━━━━━━━━━━━━━━━━━━━━━━━━━━━━━━━━━━━━━━\u001b[0m \u001b[32m2.1/2.1 MB\u001b[0m \u001b[31m9.1 MB/s\u001b[0m eta \u001b[36m0:00:00\u001b[0m\n",
            "\u001b[2K     \u001b[90m━━━━━━━━━━━━━━━━━━━━━━━━━━━━━━━━━━━━━━━━\u001b[0m \u001b[32m2.5/2.5 MB\u001b[0m \u001b[31m25.6 MB/s\u001b[0m eta \u001b[36m0:00:00\u001b[0m\n",
            "\u001b[?25h  Installing build dependencies ... \u001b[?25l\u001b[?25hdone\n",
            "  Getting requirements to build wheel ... \u001b[?25l\u001b[?25hdone\n",
            "  Preparing metadata (pyproject.toml) ... \u001b[?25l\u001b[?25hdone\n",
            "  Building wheel for mpi4py (pyproject.toml) ... \u001b[?25l\u001b[?25hdone\n"
          ]
        }
      ]
    },
    {
      "cell_type": "code",
      "source": [
        "#@title Unzip dataset\n",
        "#!cp /content/drive/MyDrive/DATASETS/RealFakeDB_tiny.zip -d /content\n",
        "dataset_zip_file = '/content/drive/MyDrive/DATASETS/RealFakeDB_tiny.zip' #@param {type:\"string\"}\n",
        "unzip_to = 'DIRE' #@param {type:\"string\"}\n",
        "!unzip -q $dataset_zip_file -d $unzip_to"
      ],
      "metadata": {
        "id": "XGNVy_QLJq9o",
        "cellView": "form"
      },
      "execution_count": 6,
      "outputs": []
    },
    {
      "cell_type": "code",
      "source": [
        "%cd DIRE"
      ],
      "metadata": {
        "colab": {
          "base_uri": "https://localhost:8080/"
        },
        "id": "l_4Sw1IgKuuk",
        "outputId": "e750ccc0-8ad2-43f9-93a0-de9920aaa1e7"
      },
      "execution_count": 7,
      "outputs": [
        {
          "output_type": "stream",
          "name": "stdout",
          "text": [
            "/content/DIRE\n"
          ]
        }
      ]
    },
    {
      "cell_type": "markdown",
      "source": [
        "#Process for test set\n",
        "(We need to remove all lines related to multi-GPU configuration in compe_dire.py before run)"
      ],
      "metadata": {
        "id": "CW5aayVZqmat"
      }
    },
    {
      "cell_type": "markdown",
      "source": [
        "#Process for train set"
      ],
      "metadata": {
        "id": "6cDw1NXuyFds"
      }
    },
    {
      "cell_type": "code",
      "source": [
        "import os\n",
        "image_list = []\n",
        "extensions = ['.jpg', '.png', '.gif', '.bmp', '.webp']  # Add more extensions as needed\n",
        "def getname(base_dir):\n",
        "    for dirpath, dirnames, filenames in os.walk(base_dir):\n",
        "        if len(filenames) > 0:\n",
        "            imgs = [filename for filename in filenames if any(ext in filename for ext in extensions)]\n",
        "            image_list.extend(imgs)\n",
        "    return image_list\n"
      ],
      "metadata": {
        "id": "OpOUxhLnzRwk"
      },
      "execution_count": 8,
      "outputs": []
    },
    {
      "cell_type": "code",
      "source": [
        "image_list=[]\n",
        "image_list = getname('/content/drive/MyDrive/DATASETS/DIRE/RealFakeDB_tiny/dire_test')\n"
      ],
      "metadata": {
        "id": "6UyTNUAQBkGU"
      },
      "execution_count": 9,
      "outputs": []
    },
    {
      "cell_type": "code",
      "source": [
        "len(image_list)"
      ],
      "metadata": {
        "id": "K_aTR_WPBuuE",
        "outputId": "b4f6cb45-4ed1-4eaa-a213-f26bd81567d4",
        "colab": {
          "base_uri": "https://localhost:8080/"
        }
      },
      "execution_count": 16,
      "outputs": [
        {
          "output_type": "execute_result",
          "data": {
            "text/plain": [
              "992"
            ]
          },
          "metadata": {},
          "execution_count": 16
        }
      ]
    },
    {
      "cell_type": "code",
      "source": [
        "#@title Remove all items existed in $image_list before run\n",
        "data_dir = '/content/DIRE/RealFakeDB_tiny' #@param {type:\"string\"}\n",
        "c=0\n",
        "for dirpath, dirnames, filenames in os.walk(data_dir):\n",
        "    if len(filenames) >0:\n",
        "        for file in filenames:\n",
        "            if file in image_list:\n",
        "                c+=1\n",
        "                full_name = os.path.join(dirpath, file)\n",
        "                os.remove(full_name)\n",
        "                print('removed {}:{}:'.format(c,full_name))\n",
        "\n",
        "samples = len(os.listdir(data_dir + '/0_real')) + len(os.listdir(data_dir + '/1_fake'))\n",
        "print('num sample remain :', samples)"
      ],
      "metadata": {
        "id": "V2EgZO8X17iM",
        "cellView": "form"
      },
      "execution_count": null,
      "outputs": []
    },
    {
      "cell_type": "code",
      "source": [
        "#@title 1. Keep this tab alive to prevent Colab from disconnecting you { display-mode: \"form\" }\n",
        "\n",
        "#@markdown Press play on the music player that will appear below:\n",
        "%%html\n",
        "<audio src=\"https://oobabooga.github.io/silence.m4a\" controls>"
      ],
      "metadata": {
        "colab": {
          "base_uri": "https://localhost:8080/",
          "height": 61
        },
        "id": "f0LPnGR87RW8",
        "outputId": "5e8b588c-7519-4c93-e9a0-905101d018cc"
      },
      "execution_count": 33,
      "outputs": [
        {
          "output_type": "display_data",
          "data": {
            "text/plain": [
              "<IPython.core.display.HTML object>"
            ],
            "text/html": [
              "<audio src=\"https://oobabooga.github.io/silence.m4a\" controls>\n"
            ]
          },
          "metadata": {}
        }
      ]
    },
    {
      "cell_type": "code",
      "source": [
        "# edit add wepb to        if \".\" in entry and ext.lower() in [\"jpg\", \"jpeg\", \"png\", \"gif\", \"webp\"]: in image_dataset.py gaussioan_diffusion\n",
        "!python guided-diffusion/compute_dire.py \\\n",
        "--model_path models/256x256_diffusion_uncond.pt \\\n",
        "--attention_resolutions 32,16,8 \\\n",
        "--class_cond False \\\n",
        "--diffusion_steps 1000 --dropout 0.1 --image_size 256 --learn_sigma True --noise_schedule linear --num_channels 256 \\\n",
        "--num_head_channels 64 --num_res_blocks 2 --resblock_updown True --use_fp16 True --use_scale_shift_norm True \\\n",
        "--images_dir /content/DIRE/RealFakeDB_tiny/test/1_fake \\\n",
        "--recons_dir /content/drive/MyDrive/DATASETS/DIRE/RealFakeDB_tiny/recons_test/1_fake \\\n",
        "--dire_dir /content/drive/MyDrive/DATASETS/DIRE/RealFakeDB_tiny/dire_test/1_fake \\\n",
        "--batch_size 16 --num_samples 1016  --timestep_respacing ddim20 --use_ddim True \\\n",
        "--has_subfolder False"
      ],
      "metadata": {
        "id": "K51KzT6x1_DY",
        "outputId": "410107a2-5b11-4a78-fd34-645fcfd693d9",
        "colab": {
          "base_uri": "https://localhost:8080/"
        }
      },
      "execution_count": null,
      "outputs": [
        {
          "output_type": "stream",
          "name": "stdout",
          "text": [
            "Logging to /content/drive/MyDrive/DATASETS/DIRE/RealFakeDB_tiny/recons_test/1_fake\n",
            "Namespace(images_dir='/content/DIRE/RealFakeDB_tiny/test/1_fake', recons_dir='/content/drive/MyDrive/DATASETS/DIRE/RealFakeDB_tiny/recons_test/1_fake', dire_dir='/content/drive/MyDrive/DATASETS/DIRE/RealFakeDB_tiny/dire_test/1_fake', clip_denoised=True, num_samples=1016, batch_size=16, use_ddim=True, model_path='models/256x256_diffusion_uncond.pt', real_step=0, continue_reverse=False, has_subfolder=False, image_size=256, num_channels=256, num_res_blocks=2, num_heads=4, num_heads_upsample=-1, num_head_channels=64, attention_resolutions='32,16,8', channel_mult='', dropout=0.1, class_cond=False, use_checkpoint=False, use_scale_shift_norm=True, resblock_updown=True, use_fp16=True, use_new_attention_order=False, learn_sigma=True, diffusion_steps=1000, noise_schedule='linear', timestep_respacing='ddim20', use_kl=False, predict_xstart=False, rescale_timesteps=False, rescale_learned_sigmas=False)\n",
            "have created model and diffusion\n",
            "have created data loader\n",
            "computing recons & DIRE ...\n",
            "dataset length: 1000\n",
            "save image at/content/drive/MyDrive/DATASETS/DIRE/RealFakeDB_tiny/dire_test/1_fake/000361dd-068d-4537-91f7-dcd63edf2d97.webp\n",
            "save image at/content/drive/MyDrive/DATASETS/DIRE/RealFakeDB_tiny/dire_test/1_fake/0044aeb7-0ec4-403b-9d52-2c8bf8503e93.webp\n",
            "save image at/content/drive/MyDrive/DATASETS/DIRE/RealFakeDB_tiny/dire_test/1_fake/006f7978-20d3-42f7-9c46-fb2692b5f551.webp\n",
            "save image at/content/drive/MyDrive/DATASETS/DIRE/RealFakeDB_tiny/dire_test/1_fake/00a16d0d-5c12-4edc-969e-18e8b6c64fc9.webp\n",
            "save image at/content/drive/MyDrive/DATASETS/DIRE/RealFakeDB_tiny/dire_test/1_fake/00b515c6-da36-4151-a232-b4ff42f20baf.webp\n",
            "save image at/content/drive/MyDrive/DATASETS/DIRE/RealFakeDB_tiny/dire_test/1_fake/00cd91a9-ce3d-4d89-990d-6cca3c65fdf5.webp\n",
            "save image at/content/drive/MyDrive/DATASETS/DIRE/RealFakeDB_tiny/dire_test/1_fake/012d762b-3c50-4d7f-99e0-740c68528d87.webp\n",
            "save image at/content/drive/MyDrive/DATASETS/DIRE/RealFakeDB_tiny/dire_test/1_fake/015b8967-ce45-40b6-9aa8-efac8537fa64.webp\n",
            "save image at/content/drive/MyDrive/DATASETS/DIRE/RealFakeDB_tiny/dire_test/1_fake/017fe6aa-cbd1-4828-b284-d02a8069ac8e.webp\n",
            "save image at/content/drive/MyDrive/DATASETS/DIRE/RealFakeDB_tiny/dire_test/1_fake/01e45ec5-e214-4d20-9cec-de6bbc3fbf22.webp\n",
            "save image at/content/drive/MyDrive/DATASETS/DIRE/RealFakeDB_tiny/dire_test/1_fake/029114fa-5061-40ba-9d9d-f7fba6b0afe9.webp\n",
            "save image at/content/drive/MyDrive/DATASETS/DIRE/RealFakeDB_tiny/dire_test/1_fake/02de9e18-8626-4050-912c-877a343c1d08.webp\n",
            "save image at/content/drive/MyDrive/DATASETS/DIRE/RealFakeDB_tiny/dire_test/1_fake/031262f1-b58f-45fd-8d64-97e4f77e4467.webp\n",
            "save image at/content/drive/MyDrive/DATASETS/DIRE/RealFakeDB_tiny/dire_test/1_fake/0359746f-40de-413a-873d-2457fb2f6152.webp\n",
            "save image at/content/drive/MyDrive/DATASETS/DIRE/RealFakeDB_tiny/dire_test/1_fake/03e9ae54-2208-4fd9-b04c-855e10088e05.webp\n",
            "save image at/content/drive/MyDrive/DATASETS/DIRE/RealFakeDB_tiny/dire_test/1_fake/03fad4b2-e69c-4e5e-bed0-d40decc34491.webp\n",
            "have finished 16 samples\n",
            "save image at/content/drive/MyDrive/DATASETS/DIRE/RealFakeDB_tiny/dire_test/1_fake/0490e092-cd90-4bab-b59a-32da505b31c0.webp\n",
            "save image at/content/drive/MyDrive/DATASETS/DIRE/RealFakeDB_tiny/dire_test/1_fake/052450c7-f714-4d32-80a2-ee245bdd3932.webp\n",
            "save image at/content/drive/MyDrive/DATASETS/DIRE/RealFakeDB_tiny/dire_test/1_fake/05498074-42fd-41bd-abda-0cb15eeb0f6d.webp\n",
            "save image at/content/drive/MyDrive/DATASETS/DIRE/RealFakeDB_tiny/dire_test/1_fake/056e405a-e153-4f9f-8d7f-a1644fd28a4a.webp\n",
            "save image at/content/drive/MyDrive/DATASETS/DIRE/RealFakeDB_tiny/dire_test/1_fake/05ef7409-494d-423b-9779-447699e85a66.webp\n",
            "save image at/content/drive/MyDrive/DATASETS/DIRE/RealFakeDB_tiny/dire_test/1_fake/0602e371-a2f2-4bc3-a668-b1afe8d281a1.webp\n",
            "save image at/content/drive/MyDrive/DATASETS/DIRE/RealFakeDB_tiny/dire_test/1_fake/0629f0c2-a548-4a87-81ae-35f4bf6b29f4.webp\n",
            "save image at/content/drive/MyDrive/DATASETS/DIRE/RealFakeDB_tiny/dire_test/1_fake/0647a02c-879d-483f-81d0-65b945e7bec1.webp\n",
            "save image at/content/drive/MyDrive/DATASETS/DIRE/RealFakeDB_tiny/dire_test/1_fake/065f15bd-8a33-428a-b10e-3d596466d8b4.webp\n",
            "save image at/content/drive/MyDrive/DATASETS/DIRE/RealFakeDB_tiny/dire_test/1_fake/070644c8-b487-49b6-a43d-1e45fb4a40de.webp\n",
            "save image at/content/drive/MyDrive/DATASETS/DIRE/RealFakeDB_tiny/dire_test/1_fake/074769e5-e056-4e38-bd06-4daca670bc34.webp\n",
            "save image at/content/drive/MyDrive/DATASETS/DIRE/RealFakeDB_tiny/dire_test/1_fake/07aa2172-203e-41d1-a9ea-e767f3056789.webp\n",
            "save image at/content/drive/MyDrive/DATASETS/DIRE/RealFakeDB_tiny/dire_test/1_fake/08540b71-160c-43e1-920c-07309ef8f393.webp\n",
            "save image at/content/drive/MyDrive/DATASETS/DIRE/RealFakeDB_tiny/dire_test/1_fake/08de890a-7e8f-4714-a389-3296628b0b0b.webp\n",
            "save image at/content/drive/MyDrive/DATASETS/DIRE/RealFakeDB_tiny/dire_test/1_fake/0917eb53-1554-42e5-8a85-309a1ee97a6b.webp\n",
            "save image at/content/drive/MyDrive/DATASETS/DIRE/RealFakeDB_tiny/dire_test/1_fake/09200392-db60-4a38-ab7d-4802ad4fa36d.webp\n",
            "have finished 32 samples\n",
            "save image at/content/drive/MyDrive/DATASETS/DIRE/RealFakeDB_tiny/dire_test/1_fake/098c69ae-ada8-45f1-b1ef-b456cc246fa2.webp\n",
            "save image at/content/drive/MyDrive/DATASETS/DIRE/RealFakeDB_tiny/dire_test/1_fake/099f2989-310a-462f-a2d9-5e96b2682453.webp\n",
            "save image at/content/drive/MyDrive/DATASETS/DIRE/RealFakeDB_tiny/dire_test/1_fake/09bf1ae2-a369-4ec9-acba-8d95ba62eab5.webp\n",
            "save image at/content/drive/MyDrive/DATASETS/DIRE/RealFakeDB_tiny/dire_test/1_fake/09ce17f2-c96c-404d-8f4b-02e538e6b98a.webp\n",
            "save image at/content/drive/MyDrive/DATASETS/DIRE/RealFakeDB_tiny/dire_test/1_fake/09db42be-5464-4150-82f2-909695920867.webp\n",
            "save image at/content/drive/MyDrive/DATASETS/DIRE/RealFakeDB_tiny/dire_test/1_fake/09f9b29d-f2eb-48fe-8d6c-0b1befae05c5.webp\n",
            "save image at/content/drive/MyDrive/DATASETS/DIRE/RealFakeDB_tiny/dire_test/1_fake/0a4e6855-f955-478a-bee5-00d914fc4ec2.webp\n",
            "save image at/content/drive/MyDrive/DATASETS/DIRE/RealFakeDB_tiny/dire_test/1_fake/0acf33e5-4252-4ea6-a749-5750991bdd4a.webp\n",
            "save image at/content/drive/MyDrive/DATASETS/DIRE/RealFakeDB_tiny/dire_test/1_fake/0b53af2b-83b9-4448-9efd-98d033f2b110.webp\n",
            "save image at/content/drive/MyDrive/DATASETS/DIRE/RealFakeDB_tiny/dire_test/1_fake/0b8105d7-be43-433f-b0f1-751683ffbd15.webp\n",
            "save image at/content/drive/MyDrive/DATASETS/DIRE/RealFakeDB_tiny/dire_test/1_fake/0b8cac0e-52c2-46b0-a10c-b6064809f96d.webp\n",
            "save image at/content/drive/MyDrive/DATASETS/DIRE/RealFakeDB_tiny/dire_test/1_fake/0bb14bc7-360a-4793-bba4-485f672a346c.webp\n",
            "save image at/content/drive/MyDrive/DATASETS/DIRE/RealFakeDB_tiny/dire_test/1_fake/0bed42b7-ad82-414e-bf0e-40a43e5f867b.webp\n",
            "save image at/content/drive/MyDrive/DATASETS/DIRE/RealFakeDB_tiny/dire_test/1_fake/0c1b05d4-7c94-4e27-b23a-2d6cdeb17f09.webp\n",
            "save image at/content/drive/MyDrive/DATASETS/DIRE/RealFakeDB_tiny/dire_test/1_fake/0c80d4a0-d04d-417e-b10e-3ebdfd6fcc9f.webp\n",
            "save image at/content/drive/MyDrive/DATASETS/DIRE/RealFakeDB_tiny/dire_test/1_fake/0cc55a12-d067-4f92-aa3c-a3b6e37e133c.webp\n",
            "have finished 48 samples\n",
            "save image at/content/drive/MyDrive/DATASETS/DIRE/RealFakeDB_tiny/dire_test/1_fake/0cebd44d-259b-4f7d-80e5-b61364894edc.webp\n",
            "save image at/content/drive/MyDrive/DATASETS/DIRE/RealFakeDB_tiny/dire_test/1_fake/0d448071-791b-48c2-bcde-6b0ea0253a91.webp\n",
            "save image at/content/drive/MyDrive/DATASETS/DIRE/RealFakeDB_tiny/dire_test/1_fake/0dadde5d-2a34-439a-9d27-5bb069576d15.webp\n",
            "save image at/content/drive/MyDrive/DATASETS/DIRE/RealFakeDB_tiny/dire_test/1_fake/0def8d77-2d0d-485e-8943-1d888cac013e.webp\n",
            "save image at/content/drive/MyDrive/DATASETS/DIRE/RealFakeDB_tiny/dire_test/1_fake/0e256824-350a-401e-b2b4-a3f1f0b36af7.webp\n",
            "save image at/content/drive/MyDrive/DATASETS/DIRE/RealFakeDB_tiny/dire_test/1_fake/0e5974aa-4206-4934-89c8-d08d2507a360.webp\n",
            "save image at/content/drive/MyDrive/DATASETS/DIRE/RealFakeDB_tiny/dire_test/1_fake/0e5e3a08-c2d6-49d4-ae94-0d395db07373.webp\n",
            "save image at/content/drive/MyDrive/DATASETS/DIRE/RealFakeDB_tiny/dire_test/1_fake/0eac6f53-2724-42af-8ea7-4d7547d3cc31.webp\n",
            "save image at/content/drive/MyDrive/DATASETS/DIRE/RealFakeDB_tiny/dire_test/1_fake/0f99936b-e79c-4675-9a72-da18c6fd6eee.webp\n",
            "save image at/content/drive/MyDrive/DATASETS/DIRE/RealFakeDB_tiny/dire_test/1_fake/0fc2e34f-a595-4341-a803-d9d7419ddd79.webp\n",
            "save image at/content/drive/MyDrive/DATASETS/DIRE/RealFakeDB_tiny/dire_test/1_fake/0fc558be-2322-4036-bdad-7b6bff32e8ac.webp\n",
            "save image at/content/drive/MyDrive/DATASETS/DIRE/RealFakeDB_tiny/dire_test/1_fake/0fca66bc-f6f0-4ae3-9d85-ff42c06066b0.webp\n",
            "save image at/content/drive/MyDrive/DATASETS/DIRE/RealFakeDB_tiny/dire_test/1_fake/0fcf93f7-75bd-4acd-b079-4ea79269dc49.webp\n",
            "save image at/content/drive/MyDrive/DATASETS/DIRE/RealFakeDB_tiny/dire_test/1_fake/1011e359-5293-4c8f-9238-0a12abac8f11.webp\n",
            "save image at/content/drive/MyDrive/DATASETS/DIRE/RealFakeDB_tiny/dire_test/1_fake/10a25c57-e806-4a99-99f1-c1fb1e9d2386.webp\n",
            "save image at/content/drive/MyDrive/DATASETS/DIRE/RealFakeDB_tiny/dire_test/1_fake/10b3a5af-e5e9-44b9-a39d-42603bb27b35.webp\n",
            "have finished 64 samples\n"
          ]
        }
      ]
    }
  ]
}