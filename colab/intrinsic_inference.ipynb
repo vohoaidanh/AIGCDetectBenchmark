{
  "nbformat": 4,
  "nbformat_minor": 0,
  "metadata": {
    "colab": {
      "provenance": [],
      "include_colab_link": true
    },
    "kernelspec": {
      "name": "python3",
      "display_name": "Python 3"
    },
    "language_info": {
      "name": "python"
    }
  },
  "cells": [
    {
      "cell_type": "markdown",
      "metadata": {
        "id": "view-in-github",
        "colab_type": "text"
      },
      "source": [
        "<a href=\"https://colab.research.google.com/github/vohoaidanh/AIGCDetectBenchmark/blob/main/colab/intrinsic_inference.ipynb\" target=\"_parent\"><img src=\"https://colab.research.google.com/assets/colab-badge.svg\" alt=\"Open In Colab\"/></a>"
      ]
    },
    {
      "cell_type": "markdown",
      "source": [
        "Make sure to set the runtime to GPU: Runtime -> Change runtime type -> T4 GPU\n",
        "\n",
        "You can upload your own images, then change the relevant code cells to load it and send it through the model."
      ],
      "metadata": {
        "id": "-lKPW1wZEulh"
      }
    },
    {
      "cell_type": "code",
      "source": [
        "from google.colab import drive\n",
        "drive.mount('/content/drive')"
      ],
      "metadata": {
        "id": "a6QvpGdYw3g3",
        "outputId": "3703c935-b705-4c9e-d435-a2a8418447b0",
        "colab": {
          "base_uri": "https://localhost:8080/"
        }
      },
      "execution_count": 1,
      "outputs": [
        {
          "output_type": "stream",
          "name": "stdout",
          "text": [
            "Mounted at /content/drive\n"
          ]
        }
      ]
    },
    {
      "cell_type": "code",
      "execution_count": 2,
      "metadata": {
        "id": "_cPkUxN-ikld",
        "colab": {
          "base_uri": "https://localhost:8080/"
        },
        "outputId": "d761a35c-c4bf-4551-f53a-09312d6800ea"
      },
      "outputs": [
        {
          "output_type": "stream",
          "name": "stdout",
          "text": [
            "Cloning into 'Intrinsic'...\n",
            "remote: Enumerating objects: 131, done.\u001b[K\n",
            "remote: Counting objects: 100% (18/18), done.\u001b[K\n",
            "remote: Compressing objects: 100% (16/16), done.\u001b[K\n",
            "remote: Total 131 (delta 11), reused 3 (delta 2), pack-reused 113\u001b[K\n",
            "Receiving objects: 100% (131/131), 28.81 MiB | 32.56 MiB/s, done.\n",
            "Resolving deltas: 100% (50/50), done.\n",
            "/content/Intrinsic\n",
            "Processing /content/Intrinsic\n",
            "  Preparing metadata (setup.py) ... \u001b[?25l\u001b[?25hdone\n",
            "Collecting altered_midas@ git+https://github.com/CCareaga/MiDaS@master (from intrinsic==0.0.1)\n",
            "  Cloning https://github.com/CCareaga/MiDaS (to revision master) to /tmp/pip-install-ustdeqrv/altered-midas_f389dee33798432d97af843c9b180b5d\n",
            "  Running command git clone --filter=blob:none --quiet https://github.com/CCareaga/MiDaS /tmp/pip-install-ustdeqrv/altered-midas_f389dee33798432d97af843c9b180b5d\n",
            "  Resolved https://github.com/CCareaga/MiDaS to commit 043f3b8d9f6d2f7e740a8ac45e0745c0b5e2fd03\n",
            "  Preparing metadata (setup.py) ... \u001b[?25l\u001b[?25hdone\n",
            "Collecting chrislib@ git+https://github.com/CCareaga/chrislib@main (from intrinsic==0.0.1)\n",
            "  Cloning https://github.com/CCareaga/chrislib (to revision main) to /tmp/pip-install-ustdeqrv/chrislib_0ac5716d0e714bc5a8c50d61763400e2\n",
            "  Running command git clone --filter=blob:none --quiet https://github.com/CCareaga/chrislib /tmp/pip-install-ustdeqrv/chrislib_0ac5716d0e714bc5a8c50d61763400e2\n",
            "  Resolved https://github.com/CCareaga/chrislib to commit 6834448930593ec6f7403f411bd42beaf3afb27b\n",
            "  Preparing metadata (setup.py) ... \u001b[?25l\u001b[?25hdone\n",
            "Requirement already satisfied: numpy>=1.23.5 in /usr/local/lib/python3.10/dist-packages (from altered_midas@ git+https://github.com/CCareaga/MiDaS@master->intrinsic==0.0.1) (1.25.2)\n",
            "Requirement already satisfied: opencv-python>=4.8.0.76 in /usr/local/lib/python3.10/dist-packages (from altered_midas@ git+https://github.com/CCareaga/MiDaS@master->intrinsic==0.0.1) (4.8.0.76)\n",
            "Requirement already satisfied: torch>=2.0.1 in /usr/local/lib/python3.10/dist-packages (from altered_midas@ git+https://github.com/CCareaga/MiDaS@master->intrinsic==0.0.1) (2.2.1+cu121)\n",
            "Requirement already satisfied: torchvision>=0.15.2 in /usr/local/lib/python3.10/dist-packages (from altered_midas@ git+https://github.com/CCareaga/MiDaS@master->intrinsic==0.0.1) (0.17.1+cu121)\n",
            "Collecting timm>=0.6.12 (from altered_midas@ git+https://github.com/CCareaga/MiDaS@master->intrinsic==0.0.1)\n",
            "  Downloading timm-0.9.16-py3-none-any.whl (2.2 MB)\n",
            "\u001b[2K     \u001b[90m━━━━━━━━━━━━━━━━━━━━━━━━━━━━━━━━━━━━━━━━\u001b[0m \u001b[32m2.2/2.2 MB\u001b[0m \u001b[31m10.4 MB/s\u001b[0m eta \u001b[36m0:00:00\u001b[0m\n",
            "\u001b[?25hRequirement already satisfied: beautifulsoup4>=4.11.2 in /usr/local/lib/python3.10/dist-packages (from chrislib@ git+https://github.com/CCareaga/chrislib@main->intrinsic==0.0.1) (4.12.3)\n",
            "Requirement already satisfied: imageio>=2.31.3 in /usr/local/lib/python3.10/dist-packages (from chrislib@ git+https://github.com/CCareaga/chrislib@main->intrinsic==0.0.1) (2.31.6)\n",
            "Collecting kornia>=0.7.0 (from chrislib@ git+https://github.com/CCareaga/chrislib@main->intrinsic==0.0.1)\n",
            "  Downloading kornia-0.7.2-py2.py3-none-any.whl (825 kB)\n",
            "\u001b[2K     \u001b[90m━━━━━━━━━━━━━━━━━━━━━━━━━━━━━━━━━━━━━━━━\u001b[0m \u001b[32m825.4/825.4 kB\u001b[0m \u001b[31m15.3 MB/s\u001b[0m eta \u001b[36m0:00:00\u001b[0m\n",
            "\u001b[?25hRequirement already satisfied: matplotlib>=3.7.1 in /usr/local/lib/python3.10/dist-packages (from chrislib@ git+https://github.com/CCareaga/chrislib@main->intrinsic==0.0.1) (3.7.1)\n",
            "Requirement already satisfied: Pillow>=9.4.0 in /usr/local/lib/python3.10/dist-packages (from chrislib@ git+https://github.com/CCareaga/chrislib@main->intrinsic==0.0.1) (9.4.0)\n",
            "Requirement already satisfied: requests>=2.31.0 in /usr/local/lib/python3.10/dist-packages (from chrislib@ git+https://github.com/CCareaga/chrislib@main->intrinsic==0.0.1) (2.31.0)\n",
            "Requirement already satisfied: scikit-image>=0.19.3 in /usr/local/lib/python3.10/dist-packages (from chrislib@ git+https://github.com/CCareaga/chrislib@main->intrinsic==0.0.1) (0.19.3)\n",
            "Requirement already satisfied: scipy>=1.10.1 in /usr/local/lib/python3.10/dist-packages (from chrislib@ git+https://github.com/CCareaga/chrislib@main->intrinsic==0.0.1) (1.11.4)\n",
            "Requirement already satisfied: tqdm>=4.66.1 in /usr/local/lib/python3.10/dist-packages (from chrislib@ git+https://github.com/CCareaga/chrislib@main->intrinsic==0.0.1) (4.66.2)\n",
            "Requirement already satisfied: soupsieve>1.2 in /usr/local/lib/python3.10/dist-packages (from beautifulsoup4>=4.11.2->chrislib@ git+https://github.com/CCareaga/chrislib@main->intrinsic==0.0.1) (2.5)\n",
            "Collecting kornia-rs>=0.1.0 (from kornia>=0.7.0->chrislib@ git+https://github.com/CCareaga/chrislib@main->intrinsic==0.0.1)\n",
            "  Downloading kornia_rs-0.1.2-cp310-cp310-manylinux_2_17_x86_64.manylinux2014_x86_64.whl (2.4 MB)\n",
            "\u001b[2K     \u001b[90m━━━━━━━━━━━━━━━━━━━━━━━━━━━━━━━━━━━━━━━━\u001b[0m \u001b[32m2.4/2.4 MB\u001b[0m \u001b[31m18.1 MB/s\u001b[0m eta \u001b[36m0:00:00\u001b[0m\n",
            "\u001b[?25hRequirement already satisfied: packaging in /usr/local/lib/python3.10/dist-packages (from kornia>=0.7.0->chrislib@ git+https://github.com/CCareaga/chrislib@main->intrinsic==0.0.1) (24.0)\n",
            "Requirement already satisfied: contourpy>=1.0.1 in /usr/local/lib/python3.10/dist-packages (from matplotlib>=3.7.1->chrislib@ git+https://github.com/CCareaga/chrislib@main->intrinsic==0.0.1) (1.2.0)\n",
            "Requirement already satisfied: cycler>=0.10 in /usr/local/lib/python3.10/dist-packages (from matplotlib>=3.7.1->chrislib@ git+https://github.com/CCareaga/chrislib@main->intrinsic==0.0.1) (0.12.1)\n",
            "Requirement already satisfied: fonttools>=4.22.0 in /usr/local/lib/python3.10/dist-packages (from matplotlib>=3.7.1->chrislib@ git+https://github.com/CCareaga/chrislib@main->intrinsic==0.0.1) (4.49.0)\n",
            "Requirement already satisfied: kiwisolver>=1.0.1 in /usr/local/lib/python3.10/dist-packages (from matplotlib>=3.7.1->chrislib@ git+https://github.com/CCareaga/chrislib@main->intrinsic==0.0.1) (1.4.5)\n",
            "Requirement already satisfied: pyparsing>=2.3.1 in /usr/local/lib/python3.10/dist-packages (from matplotlib>=3.7.1->chrislib@ git+https://github.com/CCareaga/chrislib@main->intrinsic==0.0.1) (3.1.2)\n",
            "Requirement already satisfied: python-dateutil>=2.7 in /usr/local/lib/python3.10/dist-packages (from matplotlib>=3.7.1->chrislib@ git+https://github.com/CCareaga/chrislib@main->intrinsic==0.0.1) (2.8.2)\n",
            "Requirement already satisfied: charset-normalizer<4,>=2 in /usr/local/lib/python3.10/dist-packages (from requests>=2.31.0->chrislib@ git+https://github.com/CCareaga/chrislib@main->intrinsic==0.0.1) (3.3.2)\n",
            "Requirement already satisfied: idna<4,>=2.5 in /usr/local/lib/python3.10/dist-packages (from requests>=2.31.0->chrislib@ git+https://github.com/CCareaga/chrislib@main->intrinsic==0.0.1) (3.6)\n",
            "Requirement already satisfied: urllib3<3,>=1.21.1 in /usr/local/lib/python3.10/dist-packages (from requests>=2.31.0->chrislib@ git+https://github.com/CCareaga/chrislib@main->intrinsic==0.0.1) (2.0.7)\n",
            "Requirement already satisfied: certifi>=2017.4.17 in /usr/local/lib/python3.10/dist-packages (from requests>=2.31.0->chrislib@ git+https://github.com/CCareaga/chrislib@main->intrinsic==0.0.1) (2024.2.2)\n",
            "Requirement already satisfied: networkx>=2.2 in /usr/local/lib/python3.10/dist-packages (from scikit-image>=0.19.3->chrislib@ git+https://github.com/CCareaga/chrislib@main->intrinsic==0.0.1) (3.2.1)\n",
            "Requirement already satisfied: tifffile>=2019.7.26 in /usr/local/lib/python3.10/dist-packages (from scikit-image>=0.19.3->chrislib@ git+https://github.com/CCareaga/chrislib@main->intrinsic==0.0.1) (2024.2.12)\n",
            "Requirement already satisfied: PyWavelets>=1.1.1 in /usr/local/lib/python3.10/dist-packages (from scikit-image>=0.19.3->chrislib@ git+https://github.com/CCareaga/chrislib@main->intrinsic==0.0.1) (1.5.0)\n",
            "Requirement already satisfied: pyyaml in /usr/local/lib/python3.10/dist-packages (from timm>=0.6.12->altered_midas@ git+https://github.com/CCareaga/MiDaS@master->intrinsic==0.0.1) (6.0.1)\n",
            "Requirement already satisfied: huggingface_hub in /usr/local/lib/python3.10/dist-packages (from timm>=0.6.12->altered_midas@ git+https://github.com/CCareaga/MiDaS@master->intrinsic==0.0.1) (0.20.3)\n",
            "Requirement already satisfied: safetensors in /usr/local/lib/python3.10/dist-packages (from timm>=0.6.12->altered_midas@ git+https://github.com/CCareaga/MiDaS@master->intrinsic==0.0.1) (0.4.2)\n",
            "Requirement already satisfied: filelock in /usr/local/lib/python3.10/dist-packages (from torch>=2.0.1->altered_midas@ git+https://github.com/CCareaga/MiDaS@master->intrinsic==0.0.1) (3.13.1)\n",
            "Requirement already satisfied: typing-extensions>=4.8.0 in /usr/local/lib/python3.10/dist-packages (from torch>=2.0.1->altered_midas@ git+https://github.com/CCareaga/MiDaS@master->intrinsic==0.0.1) (4.10.0)\n",
            "Requirement already satisfied: sympy in /usr/local/lib/python3.10/dist-packages (from torch>=2.0.1->altered_midas@ git+https://github.com/CCareaga/MiDaS@master->intrinsic==0.0.1) (1.12)\n",
            "Requirement already satisfied: jinja2 in /usr/local/lib/python3.10/dist-packages (from torch>=2.0.1->altered_midas@ git+https://github.com/CCareaga/MiDaS@master->intrinsic==0.0.1) (3.1.3)\n",
            "Requirement already satisfied: fsspec in /usr/local/lib/python3.10/dist-packages (from torch>=2.0.1->altered_midas@ git+https://github.com/CCareaga/MiDaS@master->intrinsic==0.0.1) (2023.6.0)\n",
            "Collecting nvidia-cuda-nvrtc-cu12==12.1.105 (from torch>=2.0.1->altered_midas@ git+https://github.com/CCareaga/MiDaS@master->intrinsic==0.0.1)\n",
            "  Downloading nvidia_cuda_nvrtc_cu12-12.1.105-py3-none-manylinux1_x86_64.whl (23.7 MB)\n",
            "\u001b[2K     \u001b[90m━━━━━━━━━━━━━━━━━━━━━━━━━━━━━━━━━━━━━━━━\u001b[0m \u001b[32m23.7/23.7 MB\u001b[0m \u001b[31m31.3 MB/s\u001b[0m eta \u001b[36m0:00:00\u001b[0m\n",
            "\u001b[?25hCollecting nvidia-cuda-runtime-cu12==12.1.105 (from torch>=2.0.1->altered_midas@ git+https://github.com/CCareaga/MiDaS@master->intrinsic==0.0.1)\n",
            "  Downloading nvidia_cuda_runtime_cu12-12.1.105-py3-none-manylinux1_x86_64.whl (823 kB)\n",
            "\u001b[2K     \u001b[90m━━━━━━━━━━━━━━━━━━━━━━━━━━━━━━━━━━━━━━━━\u001b[0m \u001b[32m823.6/823.6 kB\u001b[0m \u001b[31m46.2 MB/s\u001b[0m eta \u001b[36m0:00:00\u001b[0m\n",
            "\u001b[?25hCollecting nvidia-cuda-cupti-cu12==12.1.105 (from torch>=2.0.1->altered_midas@ git+https://github.com/CCareaga/MiDaS@master->intrinsic==0.0.1)\n",
            "  Downloading nvidia_cuda_cupti_cu12-12.1.105-py3-none-manylinux1_x86_64.whl (14.1 MB)\n",
            "\u001b[2K     \u001b[90m━━━━━━━━━━━━━━━━━━━━━━━━━━━━━━━━━━━━━━━━\u001b[0m \u001b[32m14.1/14.1 MB\u001b[0m \u001b[31m43.7 MB/s\u001b[0m eta \u001b[36m0:00:00\u001b[0m\n",
            "\u001b[?25hCollecting nvidia-cudnn-cu12==8.9.2.26 (from torch>=2.0.1->altered_midas@ git+https://github.com/CCareaga/MiDaS@master->intrinsic==0.0.1)\n",
            "  Downloading nvidia_cudnn_cu12-8.9.2.26-py3-none-manylinux1_x86_64.whl (731.7 MB)\n",
            "\u001b[2K     \u001b[90m━━━━━━━━━━━━━━━━━━━━━━━━━━━━━━━━━━━━━━━━\u001b[0m \u001b[32m731.7/731.7 MB\u001b[0m \u001b[31m2.0 MB/s\u001b[0m eta \u001b[36m0:00:00\u001b[0m\n",
            "\u001b[?25hCollecting nvidia-cublas-cu12==12.1.3.1 (from torch>=2.0.1->altered_midas@ git+https://github.com/CCareaga/MiDaS@master->intrinsic==0.0.1)\n",
            "  Downloading nvidia_cublas_cu12-12.1.3.1-py3-none-manylinux1_x86_64.whl (410.6 MB)\n",
            "\u001b[2K     \u001b[90m━━━━━━━━━━━━━━━━━━━━━━━━━━━━━━━━━━━━━━━━\u001b[0m \u001b[32m410.6/410.6 MB\u001b[0m \u001b[31m3.3 MB/s\u001b[0m eta \u001b[36m0:00:00\u001b[0m\n",
            "\u001b[?25hCollecting nvidia-cufft-cu12==11.0.2.54 (from torch>=2.0.1->altered_midas@ git+https://github.com/CCareaga/MiDaS@master->intrinsic==0.0.1)\n",
            "  Downloading nvidia_cufft_cu12-11.0.2.54-py3-none-manylinux1_x86_64.whl (121.6 MB)\n",
            "\u001b[2K     \u001b[90m━━━━━━━━━━━━━━━━━━━━━━━━━━━━━━━━━━━━━━━━\u001b[0m \u001b[32m121.6/121.6 MB\u001b[0m \u001b[31m6.0 MB/s\u001b[0m eta \u001b[36m0:00:00\u001b[0m\n",
            "\u001b[?25hCollecting nvidia-curand-cu12==10.3.2.106 (from torch>=2.0.1->altered_midas@ git+https://github.com/CCareaga/MiDaS@master->intrinsic==0.0.1)\n",
            "  Downloading nvidia_curand_cu12-10.3.2.106-py3-none-manylinux1_x86_64.whl (56.5 MB)\n",
            "\u001b[2K     \u001b[90m━━━━━━━━━━━━━━━━━━━━━━━━━━━━━━━━━━━━━━━━\u001b[0m \u001b[32m56.5/56.5 MB\u001b[0m \u001b[31m10.1 MB/s\u001b[0m eta \u001b[36m0:00:00\u001b[0m\n",
            "\u001b[?25hCollecting nvidia-cusolver-cu12==11.4.5.107 (from torch>=2.0.1->altered_midas@ git+https://github.com/CCareaga/MiDaS@master->intrinsic==0.0.1)\n",
            "  Downloading nvidia_cusolver_cu12-11.4.5.107-py3-none-manylinux1_x86_64.whl (124.2 MB)\n",
            "\u001b[2K     \u001b[90m━━━━━━━━━━━━━━━━━━━━━━━━━━━━━━━━━━━━━━━━\u001b[0m \u001b[32m124.2/124.2 MB\u001b[0m \u001b[31m7.5 MB/s\u001b[0m eta \u001b[36m0:00:00\u001b[0m\n",
            "\u001b[?25hCollecting nvidia-cusparse-cu12==12.1.0.106 (from torch>=2.0.1->altered_midas@ git+https://github.com/CCareaga/MiDaS@master->intrinsic==0.0.1)\n",
            "  Downloading nvidia_cusparse_cu12-12.1.0.106-py3-none-manylinux1_x86_64.whl (196.0 MB)\n",
            "\u001b[2K     \u001b[90m━━━━━━━━━━━━━━━━━━━━━━━━━━━━━━━━━━━━━━━━\u001b[0m \u001b[32m196.0/196.0 MB\u001b[0m \u001b[31m2.6 MB/s\u001b[0m eta \u001b[36m0:00:00\u001b[0m\n",
            "\u001b[?25hCollecting nvidia-nccl-cu12==2.19.3 (from torch>=2.0.1->altered_midas@ git+https://github.com/CCareaga/MiDaS@master->intrinsic==0.0.1)\n",
            "  Downloading nvidia_nccl_cu12-2.19.3-py3-none-manylinux1_x86_64.whl (166.0 MB)\n",
            "\u001b[2K     \u001b[90m━━━━━━━━━━━━━━━━━━━━━━━━━━━━━━━━━━━━━━━━\u001b[0m \u001b[32m166.0/166.0 MB\u001b[0m \u001b[31m4.4 MB/s\u001b[0m eta \u001b[36m0:00:00\u001b[0m\n",
            "\u001b[?25hCollecting nvidia-nvtx-cu12==12.1.105 (from torch>=2.0.1->altered_midas@ git+https://github.com/CCareaga/MiDaS@master->intrinsic==0.0.1)\n",
            "  Downloading nvidia_nvtx_cu12-12.1.105-py3-none-manylinux1_x86_64.whl (99 kB)\n",
            "\u001b[2K     \u001b[90m━━━━━━━━━━━━━━━━━━━━━━━━━━━━━━━━━━━━━━━━\u001b[0m \u001b[32m99.1/99.1 kB\u001b[0m \u001b[31m9.7 MB/s\u001b[0m eta \u001b[36m0:00:00\u001b[0m\n",
            "\u001b[?25hRequirement already satisfied: triton==2.2.0 in /usr/local/lib/python3.10/dist-packages (from torch>=2.0.1->altered_midas@ git+https://github.com/CCareaga/MiDaS@master->intrinsic==0.0.1) (2.2.0)\n",
            "Collecting nvidia-nvjitlink-cu12 (from nvidia-cusolver-cu12==11.4.5.107->torch>=2.0.1->altered_midas@ git+https://github.com/CCareaga/MiDaS@master->intrinsic==0.0.1)\n",
            "  Downloading nvidia_nvjitlink_cu12-12.4.99-py3-none-manylinux2014_x86_64.whl (21.1 MB)\n",
            "\u001b[2K     \u001b[90m━━━━━━━━━━━━━━━━━━━━━━━━━━━━━━━━━━━━━━━━\u001b[0m \u001b[32m21.1/21.1 MB\u001b[0m \u001b[31m63.6 MB/s\u001b[0m eta \u001b[36m0:00:00\u001b[0m\n",
            "\u001b[?25hRequirement already satisfied: six>=1.5 in /usr/local/lib/python3.10/dist-packages (from python-dateutil>=2.7->matplotlib>=3.7.1->chrislib@ git+https://github.com/CCareaga/chrislib@main->intrinsic==0.0.1) (1.16.0)\n",
            "Requirement already satisfied: MarkupSafe>=2.0 in /usr/local/lib/python3.10/dist-packages (from jinja2->torch>=2.0.1->altered_midas@ git+https://github.com/CCareaga/MiDaS@master->intrinsic==0.0.1) (2.1.5)\n",
            "Requirement already satisfied: mpmath>=0.19 in /usr/local/lib/python3.10/dist-packages (from sympy->torch>=2.0.1->altered_midas@ git+https://github.com/CCareaga/MiDaS@master->intrinsic==0.0.1) (1.3.0)\n",
            "Building wheels for collected packages: intrinsic, altered_midas, chrislib\n",
            "  Building wheel for intrinsic (setup.py) ... \u001b[?25l\u001b[?25hdone\n",
            "  Created wheel for intrinsic: filename=intrinsic-0.0.1-py3-none-any.whl size=6590 sha256=63f4b3610511f5071a2bd5e65185bf6cda8758b8eb2a26ecd47e0878349125ad\n",
            "  Stored in directory: /tmp/pip-ephem-wheel-cache-kbf5ay4e/wheels/f8/86/4c/b93a4d4127262ddf75ab0e49b9d199c084f31539b0c71de815\n",
            "  Building wheel for altered_midas (setup.py) ... \u001b[?25l\u001b[?25hdone\n",
            "  Created wheel for altered_midas: filename=altered_midas-0.0.1-py3-none-any.whl size=22996 sha256=c66d5d9f841f976789ba818eef6c1dc974ddc8fa0081a65869fa553d257a5bdc\n",
            "  Stored in directory: /tmp/pip-ephem-wheel-cache-kbf5ay4e/wheels/c7/2d/45/535a34d1096543ebeda5b2c35e60775a91d24fcefb15107c8a\n",
            "  Building wheel for chrislib (setup.py) ... \u001b[?25l\u001b[?25hdone\n",
            "  Created wheel for chrislib: filename=chrislib-0.0.1-py3-none-any.whl size=46190 sha256=599672be1ae953ce0ef9a9e00f9c499fa37f6e848dace025910ff000d0a009e6\n",
            "  Stored in directory: /tmp/pip-ephem-wheel-cache-kbf5ay4e/wheels/0e/ab/38/7865d2c55f0571db4d183eb8295c061ce948619d972123b612\n",
            "Successfully built intrinsic altered_midas chrislib\n",
            "Installing collected packages: nvidia-nvtx-cu12, nvidia-nvjitlink-cu12, nvidia-nccl-cu12, nvidia-curand-cu12, nvidia-cufft-cu12, nvidia-cuda-runtime-cu12, nvidia-cuda-nvrtc-cu12, nvidia-cuda-cupti-cu12, nvidia-cublas-cu12, kornia-rs, nvidia-cusparse-cu12, nvidia-cudnn-cu12, nvidia-cusolver-cu12, kornia, timm, chrislib, altered_midas, intrinsic\n",
            "Successfully installed altered_midas-0.0.1 chrislib-0.0.1 intrinsic-0.0.1 kornia-0.7.2 kornia-rs-0.1.2 nvidia-cublas-cu12-12.1.3.1 nvidia-cuda-cupti-cu12-12.1.105 nvidia-cuda-nvrtc-cu12-12.1.105 nvidia-cuda-runtime-cu12-12.1.105 nvidia-cudnn-cu12-8.9.2.26 nvidia-cufft-cu12-11.0.2.54 nvidia-curand-cu12-10.3.2.106 nvidia-cusolver-cu12-11.4.5.107 nvidia-cusparse-cu12-12.1.0.106 nvidia-nccl-cu12-2.19.3 nvidia-nvjitlink-cu12-12.4.99 nvidia-nvtx-cu12-12.1.105 timm-0.9.16\n"
          ]
        }
      ],
      "source": [
        "# install the intrinsic decomposition repo from github\n",
        "#!pip install https://github.com/compphoto/Intrinsic/archive/main.zip\n",
        "!git clone https://github.com/compphoto/Intrinsic\n",
        "%cd Intrinsic\n",
        "!pip install ."
      ]
    },
    {
      "cell_type": "code",
      "source": [
        "import torch\n",
        "\n",
        "# import some helper functions from chrislib (will be installed by the intrinsic repo)\n",
        "from chrislib.general import show, view, uninvert\n",
        "from chrislib.data_util import load_image\n",
        "\n",
        "# import model loading and running the pipeline\n",
        "from intrinsic.pipeline import run_pipeline\n",
        "from intrinsic.model_util import load_models"
      ],
      "metadata": {
        "id": "J0gn82ZSjomn"
      },
      "execution_count": 3,
      "outputs": []
    },
    {
      "cell_type": "code",
      "source": [
        "# download the pretrained weights and return the model (may take a bit to download weights)\n",
        "DEVICE = 'cpu'\n",
        "intrinsic_model = load_models('paper_weights', device=DEVICE)"
      ],
      "metadata": {
        "id": "Ap3HubpwC_KG",
        "colab": {
          "base_uri": "https://localhost:8080/"
        },
        "outputId": "390ed0d7-93da-4b2e-a64c-5ae9da69fef3"
      },
      "execution_count": 4,
      "outputs": [
        {
          "output_type": "stream",
          "name": "stderr",
          "text": [
            "Downloading: \"https://github.com/compphoto/Intrinsic/releases/download/v1.0/final_weights.pt\" to /root/.cache/torch/hub/checkpoints/final_weights.pt\n",
            "100%|██████████| 485M/485M [00:03<00:00, 141MB/s]\n",
            "Downloading: \"https://github.com/facebookresearch/WSL-Images/zipball/main\" to /root/.cache/torch/hub/main.zip\n",
            "Downloading: \"https://download.pytorch.org/models/ig_resnext101_32x8-c38310e5.pth\" to /root/.cache/torch/hub/checkpoints/ig_resnext101_32x8-c38310e5.pth\n",
            "100%|██████████| 340M/340M [00:10<00:00, 33.0MB/s]\n",
            "/usr/local/lib/python3.10/dist-packages/torch/hub.py:294: UserWarning: You are about to download and run code from an untrusted repository. In a future release, this won't be allowed. To add the repository to your trusted list, change the command to {calling_fn}(..., trust_repo=False) and a command prompt will appear asking for an explicit confirmation of trust, or load(..., trust_repo=True), which will assume that the prompt is to be answered with 'yes'. You can also use load(..., trust_repo='check') which will only prompt for confirmation if the repo is not already trusted. This will eventually be the default behaviour\n",
            "  warnings.warn(\n",
            "Downloading: \"https://github.com/rwightman/gen-efficientnet-pytorch/zipball/master\" to /root/.cache/torch/hub/master.zip\n"
          ]
        }
      ]
    },
    {
      "cell_type": "code",
      "source": [
        "# load an example image from the github repo\n",
        "torch.hub.download_url_to_file('https://raw.githubusercontent.com/compphoto/Intrinsic/main/figures/avocado.png', 'avo.png')"
      ],
      "metadata": {
        "id": "m_NYfDx0AhTw",
        "colab": {
          "base_uri": "https://localhost:8080/"
        },
        "outputId": "7bf18f92-f5f8-43d6-ccbd-7beadf24c22f"
      },
      "execution_count": null,
      "outputs": [
        {
          "output_type": "stream",
          "name": "stderr",
          "text": [
            "100%|██████████| 2.85M/2.85M [00:00<00:00, 30.7MB/s]\n"
          ]
        }
      ]
    },
    {
      "cell_type": "code",
      "source": [
        "# load the image to run through the pipeline\n",
        "img = load_image('/content/Intrinsic/avo.png')"
      ],
      "metadata": {
        "id": "ALb4Pjfvj-MU"
      },
      "execution_count": null,
      "outputs": []
    },
    {
      "cell_type": "code",
      "source": [
        "from PIL import Image\n",
        "import numpy as np"
      ],
      "metadata": {
        "id": "_WRr56wL6kBL"
      },
      "execution_count": 5,
      "outputs": []
    },
    {
      "cell_type": "code",
      "source": [
        "# run the image through the pipeline (use R0 resizing dicussed in the paper)\n",
        "result = run_pipeline(\n",
        "    intrinsic_model,\n",
        "    img,\n",
        "    resize_conf=0.0,\n",
        "    maintain_size=True,\n",
        "    linear=False,\n",
        "    device=DEVICE\n",
        ")"
      ],
      "metadata": {
        "id": "QW0TiFypkOj-"
      },
      "execution_count": null,
      "outputs": []
    },
    {
      "cell_type": "code",
      "source": [
        "# convert the inverse shading to regular shading for visualization\n",
        "shd = uninvert(result['inv_shading'])\n",
        "alb = result['albedo']"
      ],
      "metadata": {
        "id": "XpYY2MNjkp2f"
      },
      "execution_count": null,
      "outputs": []
    },
    {
      "cell_type": "code",
      "source": [
        "shd3 = np.stack((shd, shd, shd), axis=-1)\n"
      ],
      "metadata": {
        "id": "54wq5gFV89wo"
      },
      "execution_count": null,
      "outputs": []
    },
    {
      "cell_type": "code",
      "source": [
        "img_array = (shd * 255).astype(np.uint8)\n",
        "img = Image.fromarray(img_array)\n",
        "img.save(\"output_image.png\")\n"
      ],
      "metadata": {
        "id": "ElxAXiv962Tv"
      },
      "execution_count": null,
      "outputs": []
    },
    {
      "cell_type": "code",
      "source": [
        "# show the result (gamma corrects the linear intrinsic components and scales to [0-1])\n",
        "show([img, c, view(alb)], size=(20, 7))"
      ],
      "metadata": {
        "id": "8KKbyoVLki9s"
      },
      "execution_count": null,
      "outputs": []
    },
    {
      "cell_type": "markdown",
      "source": [
        "## Intrinsic Process"
      ],
      "metadata": {
        "id": "p65pLFZzxAdd"
      }
    },
    {
      "cell_type": "code",
      "source": [
        "# Copy Data from gdrive to colab\n",
        "!cp source -d dest\n"
      ],
      "metadata": {
        "id": "SxuJbI0DxUYn"
      },
      "execution_count": null,
      "outputs": []
    },
    {
      "cell_type": "code",
      "source": [
        "import os\n",
        "\n",
        "def get_image_list(data_path):\n",
        "  # Get all images in dataset (return a list of path of each image)\n",
        "  items = os.listdir(data_path) # Each item contains 40 images\n",
        "  image_list = []\n",
        "  for item in items:\n",
        "    f = os.path.join(data_path, item)\n",
        "    imgs = os.listdir(f)\n",
        "    imgs_1 = [os.path.join(f,i) for i in imgs]\n",
        "    image_list.extend(imgs_1)\n",
        "  return image_list\n"
      ],
      "metadata": {
        "id": "FbQx8rZ6xAFA"
      },
      "execution_count": 6,
      "outputs": []
    },
    {
      "cell_type": "code",
      "source": [
        "from PIL import Image\n",
        "import os\n",
        "import numpy as np\n",
        "def save_image(image_, folder_path, filename):\n",
        "    \"\"\"\n",
        "    Save an image to a specified folder.\n",
        "    \"\"\"\n",
        "    image = (view(image_) * 255.0).astype(np.uint8)\n",
        "\n",
        "    if image.shape[-1] == 1:\n",
        "        image = np.squeeze(image, axis=2)\n",
        "\n",
        "    if image.dtype != np.uint8:\n",
        "        image = image.astype(np.uint8)\n",
        "\n",
        "    image = Image.fromarray(image)\n",
        "\n",
        "    # Create the folder if it doesn't exist\n",
        "    if not os.path.exists(folder_path):\n",
        "        os.makedirs(folder_path)\n",
        "\n",
        "    # Construct the full file path\n",
        "    file_path = os.path.join(folder_path, filename)\n",
        "    print(file_path)\n",
        "    # Save the image\n",
        "    image.save(file_path)\n"
      ],
      "metadata": {
        "id": "pEIbgXqTZ-UG"
      },
      "execution_count": 7,
      "outputs": []
    },
    {
      "cell_type": "code",
      "source": [
        "!cp /content/drive/MyDrive/DATASETS/DiffusionForensics/imagenet/train/adm.tar.gz -d /content"
      ],
      "metadata": {
        "id": "j_t81_6_JrQp"
      },
      "execution_count": 8,
      "outputs": []
    },
    {
      "cell_type": "code",
      "source": [
        "!gunzip /content/adm.tar.gz"
      ],
      "metadata": {
        "id": "yGUJ7M5dKt80"
      },
      "execution_count": 9,
      "outputs": []
    },
    {
      "cell_type": "code",
      "source": [
        "!tar -xvf /content/adm.tar"
      ],
      "metadata": {
        "id": "wCKiDH5uOfLy",
        "outputId": "7d0cb6c4-d380-4b2d-b7c8-f86ebdb2e43c",
        "colab": {
          "base_uri": "https://localhost:8080/"
        }
      },
      "execution_count": 10,
      "outputs": [
        {
          "output_type": "stream",
          "name": "stdout",
          "text": [
            "\u001b[1;30;43mStreaming output truncated to the last 5000 lines.\u001b[0m\n",
            "adm/226/17.png\n",
            "adm/226/3.png\n",
            "adm/226/1.png\n",
            "adm/226/25.png\n",
            "adm/226/24.png\n",
            "adm/226/34.png\n",
            "adm/226/33.png\n",
            "adm/226/23.png\n",
            "adm/226/22.png\n",
            "adm/226/18.png\n",
            "adm/226/11.png\n",
            "adm/226/39.png\n",
            "adm/226/7.png\n",
            "adm/226/27.png\n",
            "adm/226/19.png\n",
            "adm/226/0.png\n",
            "adm/226/2.png\n",
            "adm/226/29.png\n",
            "adm/226/36.png\n",
            "adm/226/20.png\n",
            "adm/226/30.png\n",
            "adm/226/8.png\n",
            "adm/226/5.png\n",
            "adm/226/14.png\n",
            "adm/226/4.png\n",
            "adm/226/9.png\n",
            "adm/226/26.png\n",
            "adm/226/31.png\n",
            "adm/226/21.png\n",
            "adm/226/32.png\n",
            "adm/226/37.png\n",
            "adm/226/38.png\n",
            "adm/226/15.png\n",
            "adm/226/16.png\n",
            "adm/226/35.png\n",
            "adm/226/6.png\n",
            "adm/226/28.png\n",
            "adm/226/12.png\n",
            "adm/226/13.png\n",
            "adm/956/\n",
            "adm/956/10.png\n",
            "adm/956/17.png\n",
            "adm/956/3.png\n",
            "adm/956/1.png\n",
            "adm/956/25.png\n",
            "adm/956/24.png\n",
            "adm/956/34.png\n",
            "adm/956/33.png\n",
            "adm/956/23.png\n",
            "adm/956/22.png\n",
            "adm/956/18.png\n",
            "adm/956/11.png\n",
            "adm/956/39.png\n",
            "adm/956/7.png\n",
            "adm/956/27.png\n",
            "adm/956/19.png\n",
            "adm/956/0.png\n",
            "adm/956/2.png\n",
            "adm/956/29.png\n",
            "adm/956/36.png\n",
            "adm/956/20.png\n",
            "adm/956/30.png\n",
            "adm/956/8.png\n",
            "adm/956/5.png\n",
            "adm/956/14.png\n",
            "adm/956/4.png\n",
            "adm/956/9.png\n",
            "adm/956/26.png\n",
            "adm/956/31.png\n",
            "adm/956/21.png\n",
            "adm/956/32.png\n",
            "adm/956/37.png\n",
            "adm/956/38.png\n",
            "adm/956/15.png\n",
            "adm/956/16.png\n",
            "adm/956/35.png\n",
            "adm/956/6.png\n",
            "adm/956/28.png\n",
            "adm/956/12.png\n",
            "adm/956/13.png\n",
            "adm/65/\n",
            "adm/65/10.png\n",
            "adm/65/17.png\n",
            "adm/65/3.png\n",
            "adm/65/1.png\n",
            "adm/65/25.png\n",
            "adm/65/24.png\n",
            "adm/65/34.png\n",
            "adm/65/33.png\n",
            "adm/65/23.png\n",
            "adm/65/22.png\n",
            "adm/65/18.png\n",
            "adm/65/11.png\n",
            "adm/65/39.png\n",
            "adm/65/7.png\n",
            "adm/65/27.png\n",
            "adm/65/19.png\n",
            "adm/65/0.png\n",
            "adm/65/2.png\n",
            "adm/65/29.png\n",
            "adm/65/36.png\n",
            "adm/65/20.png\n",
            "adm/65/30.png\n",
            "adm/65/8.png\n",
            "adm/65/5.png\n",
            "adm/65/14.png\n",
            "adm/65/4.png\n",
            "adm/65/9.png\n",
            "adm/65/26.png\n",
            "adm/65/31.png\n",
            "adm/65/21.png\n",
            "adm/65/32.png\n",
            "adm/65/37.png\n",
            "adm/65/38.png\n",
            "adm/65/15.png\n",
            "adm/65/16.png\n",
            "adm/65/35.png\n",
            "adm/65/6.png\n",
            "adm/65/28.png\n",
            "adm/65/12.png\n",
            "adm/65/13.png\n",
            "adm/664/\n",
            "adm/664/10.png\n",
            "adm/664/17.png\n",
            "adm/664/3.png\n",
            "adm/664/1.png\n",
            "adm/664/25.png\n",
            "adm/664/24.png\n",
            "adm/664/34.png\n",
            "adm/664/33.png\n",
            "adm/664/23.png\n",
            "adm/664/22.png\n",
            "adm/664/18.png\n",
            "adm/664/11.png\n",
            "adm/664/39.png\n",
            "adm/664/7.png\n",
            "adm/664/27.png\n",
            "adm/664/19.png\n",
            "adm/664/0.png\n",
            "adm/664/2.png\n",
            "adm/664/29.png\n",
            "adm/664/36.png\n",
            "adm/664/20.png\n",
            "adm/664/30.png\n",
            "adm/664/8.png\n",
            "adm/664/5.png\n",
            "adm/664/14.png\n",
            "adm/664/4.png\n",
            "adm/664/9.png\n",
            "adm/664/26.png\n",
            "adm/664/31.png\n",
            "adm/664/21.png\n",
            "adm/664/32.png\n",
            "adm/664/37.png\n",
            "adm/664/38.png\n",
            "adm/664/15.png\n",
            "adm/664/16.png\n",
            "adm/664/35.png\n",
            "adm/664/6.png\n",
            "adm/664/28.png\n",
            "adm/664/12.png\n",
            "adm/664/13.png\n",
            "adm/836/\n",
            "adm/836/10.png\n",
            "adm/836/17.png\n",
            "adm/836/3.png\n",
            "adm/836/1.png\n",
            "adm/836/25.png\n",
            "adm/836/24.png\n",
            "adm/836/34.png\n",
            "adm/836/33.png\n",
            "adm/836/23.png\n",
            "adm/836/22.png\n",
            "adm/836/18.png\n",
            "adm/836/11.png\n",
            "adm/836/39.png\n",
            "adm/836/7.png\n",
            "adm/836/27.png\n",
            "adm/836/19.png\n",
            "adm/836/0.png\n",
            "adm/836/2.png\n",
            "adm/836/29.png\n",
            "adm/836/36.png\n",
            "adm/836/20.png\n",
            "adm/836/30.png\n",
            "adm/836/8.png\n",
            "adm/836/5.png\n",
            "adm/836/14.png\n",
            "adm/836/4.png\n",
            "adm/836/9.png\n",
            "adm/836/26.png\n",
            "adm/836/31.png\n",
            "adm/836/21.png\n",
            "adm/836/32.png\n",
            "adm/836/37.png\n",
            "adm/836/38.png\n",
            "adm/836/15.png\n",
            "adm/836/16.png\n",
            "adm/836/35.png\n",
            "adm/836/6.png\n",
            "adm/836/28.png\n",
            "adm/836/12.png\n",
            "adm/836/13.png\n",
            "adm/250/\n",
            "adm/250/10.png\n",
            "adm/250/17.png\n",
            "adm/250/3.png\n",
            "adm/250/1.png\n",
            "adm/250/25.png\n",
            "adm/250/24.png\n",
            "adm/250/34.png\n",
            "adm/250/33.png\n",
            "adm/250/23.png\n",
            "adm/250/22.png\n",
            "adm/250/18.png\n",
            "adm/250/11.png\n",
            "adm/250/39.png\n",
            "adm/250/7.png\n",
            "adm/250/27.png\n",
            "adm/250/19.png\n",
            "adm/250/0.png\n",
            "adm/250/2.png\n",
            "adm/250/29.png\n",
            "adm/250/36.png\n",
            "adm/250/20.png\n",
            "adm/250/30.png\n",
            "adm/250/8.png\n",
            "adm/250/5.png\n",
            "adm/250/14.png\n",
            "adm/250/4.png\n",
            "adm/250/9.png\n",
            "adm/250/26.png\n",
            "adm/250/31.png\n",
            "adm/250/21.png\n",
            "adm/250/32.png\n",
            "adm/250/37.png\n",
            "adm/250/38.png\n",
            "adm/250/15.png\n",
            "adm/250/16.png\n",
            "adm/250/35.png\n",
            "adm/250/6.png\n",
            "adm/250/28.png\n",
            "adm/250/12.png\n",
            "adm/250/13.png\n",
            "adm/229/\n",
            "adm/229/10.png\n",
            "adm/229/17.png\n",
            "adm/229/3.png\n",
            "adm/229/1.png\n",
            "adm/229/25.png\n",
            "adm/229/24.png\n",
            "adm/229/34.png\n",
            "adm/229/33.png\n",
            "adm/229/23.png\n",
            "adm/229/22.png\n",
            "adm/229/18.png\n",
            "adm/229/11.png\n",
            "adm/229/39.png\n",
            "adm/229/7.png\n",
            "adm/229/27.png\n",
            "adm/229/19.png\n",
            "adm/229/0.png\n",
            "adm/229/2.png\n",
            "adm/229/29.png\n",
            "adm/229/36.png\n",
            "adm/229/20.png\n",
            "adm/229/30.png\n",
            "adm/229/8.png\n",
            "adm/229/5.png\n",
            "adm/229/14.png\n",
            "adm/229/4.png\n",
            "adm/229/9.png\n",
            "adm/229/26.png\n",
            "adm/229/31.png\n",
            "adm/229/21.png\n",
            "adm/229/32.png\n",
            "adm/229/37.png\n",
            "adm/229/38.png\n",
            "adm/229/15.png\n",
            "adm/229/16.png\n",
            "adm/229/35.png\n",
            "adm/229/6.png\n",
            "adm/229/28.png\n",
            "adm/229/12.png\n",
            "adm/229/13.png\n",
            "adm/918/\n",
            "adm/918/10.png\n",
            "adm/918/17.png\n",
            "adm/918/3.png\n",
            "adm/918/1.png\n",
            "adm/918/25.png\n",
            "adm/918/24.png\n",
            "adm/918/34.png\n",
            "adm/918/33.png\n",
            "adm/918/23.png\n",
            "adm/918/22.png\n",
            "adm/918/18.png\n",
            "adm/918/11.png\n",
            "adm/918/39.png\n",
            "adm/918/7.png\n",
            "adm/918/27.png\n",
            "adm/918/19.png\n",
            "adm/918/0.png\n",
            "adm/918/2.png\n",
            "adm/918/29.png\n",
            "adm/918/36.png\n",
            "adm/918/20.png\n",
            "adm/918/30.png\n",
            "adm/918/8.png\n",
            "adm/918/5.png\n",
            "adm/918/14.png\n",
            "adm/918/4.png\n",
            "adm/918/9.png\n",
            "adm/918/26.png\n",
            "adm/918/31.png\n",
            "adm/918/21.png\n",
            "adm/918/32.png\n",
            "adm/918/37.png\n",
            "adm/918/38.png\n",
            "adm/918/15.png\n",
            "adm/918/16.png\n",
            "adm/918/35.png\n",
            "adm/918/6.png\n",
            "adm/918/28.png\n",
            "adm/918/12.png\n",
            "adm/918/13.png\n",
            "adm/517/\n",
            "adm/517/10.png\n",
            "adm/517/17.png\n",
            "adm/517/3.png\n",
            "adm/517/1.png\n",
            "adm/517/25.png\n",
            "adm/517/24.png\n",
            "adm/517/34.png\n",
            "adm/517/33.png\n",
            "adm/517/23.png\n",
            "adm/517/22.png\n",
            "adm/517/18.png\n",
            "adm/517/11.png\n",
            "adm/517/39.png\n",
            "adm/517/7.png\n",
            "adm/517/27.png\n",
            "adm/517/19.png\n",
            "adm/517/0.png\n",
            "adm/517/2.png\n",
            "adm/517/29.png\n",
            "adm/517/36.png\n",
            "adm/517/20.png\n",
            "adm/517/30.png\n",
            "adm/517/8.png\n",
            "adm/517/5.png\n",
            "adm/517/14.png\n",
            "adm/517/4.png\n",
            "adm/517/9.png\n",
            "adm/517/26.png\n",
            "adm/517/31.png\n",
            "adm/517/21.png\n",
            "adm/517/32.png\n",
            "adm/517/37.png\n",
            "adm/517/38.png\n",
            "adm/517/15.png\n",
            "adm/517/16.png\n",
            "adm/517/35.png\n",
            "adm/517/6.png\n",
            "adm/517/28.png\n",
            "adm/517/12.png\n",
            "adm/517/13.png\n",
            "adm/750/\n",
            "adm/750/10.png\n",
            "adm/750/17.png\n",
            "adm/750/3.png\n",
            "adm/750/1.png\n",
            "adm/750/25.png\n",
            "adm/750/24.png\n",
            "adm/750/34.png\n",
            "adm/750/33.png\n",
            "adm/750/23.png\n",
            "adm/750/22.png\n",
            "adm/750/18.png\n",
            "adm/750/11.png\n",
            "adm/750/39.png\n",
            "adm/750/7.png\n",
            "adm/750/27.png\n",
            "adm/750/19.png\n",
            "adm/750/0.png\n",
            "adm/750/2.png\n",
            "adm/750/29.png\n",
            "adm/750/36.png\n",
            "adm/750/20.png\n",
            "adm/750/30.png\n",
            "adm/750/8.png\n",
            "adm/750/5.png\n",
            "adm/750/14.png\n",
            "adm/750/4.png\n",
            "adm/750/9.png\n",
            "adm/750/26.png\n",
            "adm/750/31.png\n",
            "adm/750/21.png\n",
            "adm/750/32.png\n",
            "adm/750/37.png\n",
            "adm/750/38.png\n",
            "adm/750/15.png\n",
            "adm/750/16.png\n",
            "adm/750/35.png\n",
            "adm/750/6.png\n",
            "adm/750/28.png\n",
            "adm/750/12.png\n",
            "adm/750/13.png\n",
            "adm/45/\n",
            "adm/45/10.png\n",
            "adm/45/17.png\n",
            "adm/45/3.png\n",
            "adm/45/1.png\n",
            "adm/45/25.png\n",
            "adm/45/24.png\n",
            "adm/45/34.png\n",
            "adm/45/33.png\n",
            "adm/45/23.png\n",
            "adm/45/22.png\n",
            "adm/45/18.png\n",
            "adm/45/11.png\n",
            "adm/45/39.png\n",
            "adm/45/7.png\n",
            "adm/45/27.png\n",
            "adm/45/19.png\n",
            "adm/45/0.png\n",
            "adm/45/2.png\n",
            "adm/45/29.png\n",
            "adm/45/36.png\n",
            "adm/45/20.png\n",
            "adm/45/30.png\n",
            "adm/45/8.png\n",
            "adm/45/5.png\n",
            "adm/45/14.png\n",
            "adm/45/4.png\n",
            "adm/45/9.png\n",
            "adm/45/26.png\n",
            "adm/45/31.png\n",
            "adm/45/21.png\n",
            "adm/45/32.png\n",
            "adm/45/37.png\n",
            "adm/45/38.png\n",
            "adm/45/15.png\n",
            "adm/45/16.png\n",
            "adm/45/35.png\n",
            "adm/45/6.png\n",
            "adm/45/28.png\n",
            "adm/45/12.png\n",
            "adm/45/13.png\n",
            "adm/390/\n",
            "adm/390/10.png\n",
            "adm/390/17.png\n",
            "adm/390/3.png\n",
            "adm/390/1.png\n",
            "adm/390/25.png\n",
            "adm/390/24.png\n",
            "adm/390/34.png\n",
            "adm/390/33.png\n",
            "adm/390/23.png\n",
            "adm/390/22.png\n",
            "adm/390/18.png\n",
            "adm/390/11.png\n",
            "adm/390/39.png\n",
            "adm/390/7.png\n",
            "adm/390/27.png\n",
            "adm/390/19.png\n",
            "adm/390/0.png\n",
            "adm/390/2.png\n",
            "adm/390/29.png\n",
            "adm/390/36.png\n",
            "adm/390/20.png\n",
            "adm/390/30.png\n",
            "adm/390/8.png\n",
            "adm/390/5.png\n",
            "adm/390/14.png\n",
            "adm/390/4.png\n",
            "adm/390/9.png\n",
            "adm/390/26.png\n",
            "adm/390/31.png\n",
            "adm/390/21.png\n",
            "adm/390/32.png\n",
            "adm/390/37.png\n",
            "adm/390/38.png\n",
            "adm/390/15.png\n",
            "adm/390/16.png\n",
            "adm/390/35.png\n",
            "adm/390/6.png\n",
            "adm/390/28.png\n",
            "adm/390/12.png\n",
            "adm/390/13.png\n",
            "adm/985/\n",
            "adm/985/10.png\n",
            "adm/985/17.png\n",
            "adm/985/3.png\n",
            "adm/985/1.png\n",
            "adm/985/25.png\n",
            "adm/985/24.png\n",
            "adm/985/34.png\n",
            "adm/985/33.png\n",
            "adm/985/23.png\n",
            "adm/985/22.png\n",
            "adm/985/18.png\n",
            "adm/985/11.png\n",
            "adm/985/39.png\n",
            "adm/985/7.png\n",
            "adm/985/27.png\n",
            "adm/985/19.png\n",
            "adm/985/0.png\n",
            "adm/985/2.png\n",
            "adm/985/29.png\n",
            "adm/985/36.png\n",
            "adm/985/20.png\n",
            "adm/985/30.png\n",
            "adm/985/8.png\n",
            "adm/985/5.png\n",
            "adm/985/14.png\n",
            "adm/985/4.png\n",
            "adm/985/9.png\n",
            "adm/985/26.png\n",
            "adm/985/31.png\n",
            "adm/985/21.png\n",
            "adm/985/32.png\n",
            "adm/985/37.png\n",
            "adm/985/38.png\n",
            "adm/985/15.png\n",
            "adm/985/16.png\n",
            "adm/985/35.png\n",
            "adm/985/6.png\n",
            "adm/985/28.png\n",
            "adm/985/12.png\n",
            "adm/985/13.png\n",
            "adm/314/\n",
            "adm/314/10.png\n",
            "adm/314/17.png\n",
            "adm/314/3.png\n",
            "adm/314/1.png\n",
            "adm/314/25.png\n",
            "adm/314/24.png\n",
            "adm/314/34.png\n",
            "adm/314/33.png\n",
            "adm/314/23.png\n",
            "adm/314/22.png\n",
            "adm/314/18.png\n",
            "adm/314/11.png\n",
            "adm/314/39.png\n",
            "adm/314/7.png\n",
            "adm/314/27.png\n",
            "adm/314/19.png\n",
            "adm/314/0.png\n",
            "adm/314/2.png\n",
            "adm/314/29.png\n",
            "adm/314/36.png\n",
            "adm/314/20.png\n",
            "adm/314/30.png\n",
            "adm/314/8.png\n",
            "adm/314/5.png\n",
            "adm/314/14.png\n",
            "adm/314/4.png\n",
            "adm/314/9.png\n",
            "adm/314/26.png\n",
            "adm/314/31.png\n",
            "adm/314/21.png\n",
            "adm/314/32.png\n",
            "adm/314/37.png\n",
            "adm/314/38.png\n",
            "adm/314/15.png\n",
            "adm/314/16.png\n",
            "adm/314/35.png\n",
            "adm/314/6.png\n",
            "adm/314/28.png\n",
            "adm/314/12.png\n",
            "adm/314/13.png\n",
            "adm/615/\n",
            "adm/615/10.png\n",
            "adm/615/17.png\n",
            "adm/615/3.png\n",
            "adm/615/1.png\n",
            "adm/615/25.png\n",
            "adm/615/24.png\n",
            "adm/615/34.png\n",
            "adm/615/33.png\n",
            "adm/615/23.png\n",
            "adm/615/22.png\n",
            "adm/615/18.png\n",
            "adm/615/11.png\n",
            "adm/615/39.png\n",
            "adm/615/7.png\n",
            "adm/615/27.png\n",
            "adm/615/19.png\n",
            "adm/615/0.png\n",
            "adm/615/2.png\n",
            "adm/615/29.png\n",
            "adm/615/36.png\n",
            "adm/615/20.png\n",
            "adm/615/30.png\n",
            "adm/615/8.png\n",
            "adm/615/5.png\n",
            "adm/615/14.png\n",
            "adm/615/4.png\n",
            "adm/615/9.png\n",
            "adm/615/26.png\n",
            "adm/615/31.png\n",
            "adm/615/21.png\n",
            "adm/615/32.png\n",
            "adm/615/37.png\n",
            "adm/615/38.png\n",
            "adm/615/15.png\n",
            "adm/615/16.png\n",
            "adm/615/35.png\n",
            "adm/615/6.png\n",
            "adm/615/28.png\n",
            "adm/615/12.png\n",
            "adm/615/13.png\n",
            "adm/157/\n",
            "adm/157/10.png\n",
            "adm/157/17.png\n",
            "adm/157/3.png\n",
            "adm/157/1.png\n",
            "adm/157/25.png\n",
            "adm/157/24.png\n",
            "adm/157/34.png\n",
            "adm/157/33.png\n",
            "adm/157/23.png\n",
            "adm/157/22.png\n",
            "adm/157/18.png\n",
            "adm/157/11.png\n",
            "adm/157/39.png\n",
            "adm/157/7.png\n",
            "adm/157/27.png\n",
            "adm/157/19.png\n",
            "adm/157/0.png\n",
            "adm/157/2.png\n",
            "adm/157/29.png\n",
            "adm/157/36.png\n",
            "adm/157/20.png\n",
            "adm/157/30.png\n",
            "adm/157/8.png\n",
            "adm/157/5.png\n",
            "adm/157/14.png\n",
            "adm/157/4.png\n",
            "adm/157/9.png\n",
            "adm/157/26.png\n",
            "adm/157/31.png\n",
            "adm/157/21.png\n",
            "adm/157/32.png\n",
            "adm/157/37.png\n",
            "adm/157/38.png\n",
            "adm/157/15.png\n",
            "adm/157/16.png\n",
            "adm/157/35.png\n",
            "adm/157/6.png\n",
            "adm/157/28.png\n",
            "adm/157/12.png\n",
            "adm/157/13.png\n",
            "adm/150/\n",
            "adm/150/10.png\n",
            "adm/150/17.png\n",
            "adm/150/3.png\n",
            "adm/150/1.png\n",
            "adm/150/25.png\n",
            "adm/150/24.png\n",
            "adm/150/34.png\n",
            "adm/150/33.png\n",
            "adm/150/23.png\n",
            "adm/150/22.png\n",
            "adm/150/18.png\n",
            "adm/150/11.png\n",
            "adm/150/39.png\n",
            "adm/150/7.png\n",
            "adm/150/27.png\n",
            "adm/150/19.png\n",
            "adm/150/0.png\n",
            "adm/150/2.png\n",
            "adm/150/29.png\n",
            "adm/150/36.png\n",
            "adm/150/20.png\n",
            "adm/150/30.png\n",
            "adm/150/8.png\n",
            "adm/150/5.png\n",
            "adm/150/14.png\n",
            "adm/150/4.png\n",
            "adm/150/9.png\n",
            "adm/150/26.png\n",
            "adm/150/31.png\n",
            "adm/150/21.png\n",
            "adm/150/32.png\n",
            "adm/150/37.png\n",
            "adm/150/38.png\n",
            "adm/150/15.png\n",
            "adm/150/16.png\n",
            "adm/150/35.png\n",
            "adm/150/6.png\n",
            "adm/150/28.png\n",
            "adm/150/12.png\n",
            "adm/150/13.png\n",
            "adm/203/\n",
            "adm/203/10.png\n",
            "adm/203/17.png\n",
            "adm/203/3.png\n",
            "adm/203/1.png\n",
            "adm/203/25.png\n",
            "adm/203/24.png\n",
            "adm/203/34.png\n",
            "adm/203/33.png\n",
            "adm/203/23.png\n",
            "adm/203/22.png\n",
            "adm/203/18.png\n",
            "adm/203/11.png\n",
            "adm/203/39.png\n",
            "adm/203/7.png\n",
            "adm/203/27.png\n",
            "adm/203/19.png\n",
            "adm/203/0.png\n",
            "adm/203/2.png\n",
            "adm/203/29.png\n",
            "adm/203/36.png\n",
            "adm/203/20.png\n",
            "adm/203/30.png\n",
            "adm/203/8.png\n",
            "adm/203/5.png\n",
            "adm/203/14.png\n",
            "adm/203/4.png\n",
            "adm/203/9.png\n",
            "adm/203/26.png\n",
            "adm/203/31.png\n",
            "adm/203/21.png\n",
            "adm/203/32.png\n",
            "adm/203/37.png\n",
            "adm/203/38.png\n",
            "adm/203/15.png\n",
            "adm/203/16.png\n",
            "adm/203/35.png\n",
            "adm/203/6.png\n",
            "adm/203/28.png\n",
            "adm/203/12.png\n",
            "adm/203/13.png\n",
            "adm/275/\n",
            "adm/275/10.png\n",
            "adm/275/17.png\n",
            "adm/275/3.png\n",
            "adm/275/1.png\n",
            "adm/275/25.png\n",
            "adm/275/24.png\n",
            "adm/275/34.png\n",
            "adm/275/33.png\n",
            "adm/275/23.png\n",
            "adm/275/22.png\n",
            "adm/275/18.png\n",
            "adm/275/11.png\n",
            "adm/275/39.png\n",
            "adm/275/7.png\n",
            "adm/275/27.png\n",
            "adm/275/19.png\n",
            "adm/275/0.png\n",
            "adm/275/2.png\n",
            "adm/275/29.png\n",
            "adm/275/36.png\n",
            "adm/275/20.png\n",
            "adm/275/30.png\n",
            "adm/275/8.png\n",
            "adm/275/5.png\n",
            "adm/275/14.png\n",
            "adm/275/4.png\n",
            "adm/275/9.png\n",
            "adm/275/26.png\n",
            "adm/275/31.png\n",
            "adm/275/21.png\n",
            "adm/275/32.png\n",
            "adm/275/37.png\n",
            "adm/275/38.png\n",
            "adm/275/15.png\n",
            "adm/275/16.png\n",
            "adm/275/35.png\n",
            "adm/275/6.png\n",
            "adm/275/28.png\n",
            "adm/275/12.png\n",
            "adm/275/13.png\n",
            "adm/39/\n",
            "adm/39/10.png\n",
            "adm/39/17.png\n",
            "adm/39/3.png\n",
            "adm/39/1.png\n",
            "adm/39/25.png\n",
            "adm/39/24.png\n",
            "adm/39/34.png\n",
            "adm/39/33.png\n",
            "adm/39/23.png\n",
            "adm/39/22.png\n",
            "adm/39/18.png\n",
            "adm/39/11.png\n",
            "adm/39/39.png\n",
            "adm/39/7.png\n",
            "adm/39/27.png\n",
            "adm/39/19.png\n",
            "adm/39/0.png\n",
            "adm/39/2.png\n",
            "adm/39/29.png\n",
            "adm/39/36.png\n",
            "adm/39/20.png\n",
            "adm/39/30.png\n",
            "adm/39/8.png\n",
            "adm/39/5.png\n",
            "adm/39/14.png\n",
            "adm/39/4.png\n",
            "adm/39/9.png\n",
            "adm/39/26.png\n",
            "adm/39/31.png\n",
            "adm/39/21.png\n",
            "adm/39/32.png\n",
            "adm/39/37.png\n",
            "adm/39/38.png\n",
            "adm/39/15.png\n",
            "adm/39/16.png\n",
            "adm/39/35.png\n",
            "adm/39/6.png\n",
            "adm/39/28.png\n",
            "adm/39/12.png\n",
            "adm/39/13.png\n",
            "adm/856/\n",
            "adm/856/10.png\n",
            "adm/856/17.png\n",
            "adm/856/3.png\n",
            "adm/856/1.png\n",
            "adm/856/25.png\n",
            "adm/856/24.png\n",
            "adm/856/34.png\n",
            "adm/856/33.png\n",
            "adm/856/23.png\n",
            "adm/856/22.png\n",
            "adm/856/18.png\n",
            "adm/856/11.png\n",
            "adm/856/39.png\n",
            "adm/856/7.png\n",
            "adm/856/27.png\n",
            "adm/856/19.png\n",
            "adm/856/0.png\n",
            "adm/856/2.png\n",
            "adm/856/29.png\n",
            "adm/856/36.png\n",
            "adm/856/20.png\n",
            "adm/856/30.png\n",
            "adm/856/8.png\n",
            "adm/856/5.png\n",
            "adm/856/14.png\n",
            "adm/856/4.png\n",
            "adm/856/9.png\n",
            "adm/856/26.png\n",
            "adm/856/31.png\n",
            "adm/856/21.png\n",
            "adm/856/32.png\n",
            "adm/856/37.png\n",
            "adm/856/38.png\n",
            "adm/856/15.png\n",
            "adm/856/16.png\n",
            "adm/856/35.png\n",
            "adm/856/6.png\n",
            "adm/856/28.png\n",
            "adm/856/12.png\n",
            "adm/856/13.png\n",
            "adm/225/\n",
            "adm/225/10.png\n",
            "adm/225/17.png\n",
            "adm/225/3.png\n",
            "adm/225/1.png\n",
            "adm/225/25.png\n",
            "adm/225/24.png\n",
            "adm/225/34.png\n",
            "adm/225/33.png\n",
            "adm/225/23.png\n",
            "adm/225/22.png\n",
            "adm/225/18.png\n",
            "adm/225/11.png\n",
            "adm/225/39.png\n",
            "adm/225/7.png\n",
            "adm/225/27.png\n",
            "adm/225/19.png\n",
            "adm/225/0.png\n",
            "adm/225/2.png\n",
            "adm/225/29.png\n",
            "adm/225/36.png\n",
            "adm/225/20.png\n",
            "adm/225/30.png\n",
            "adm/225/8.png\n",
            "adm/225/5.png\n",
            "adm/225/14.png\n",
            "adm/225/4.png\n",
            "adm/225/9.png\n",
            "adm/225/26.png\n",
            "adm/225/31.png\n",
            "adm/225/21.png\n",
            "adm/225/32.png\n",
            "adm/225/37.png\n",
            "adm/225/38.png\n",
            "adm/225/15.png\n",
            "adm/225/16.png\n",
            "adm/225/35.png\n",
            "adm/225/6.png\n",
            "adm/225/28.png\n",
            "adm/225/12.png\n",
            "adm/225/13.png\n",
            "adm/729/\n",
            "adm/729/10.png\n",
            "adm/729/17.png\n",
            "adm/729/3.png\n",
            "adm/729/1.png\n",
            "adm/729/25.png\n",
            "adm/729/24.png\n",
            "adm/729/34.png\n",
            "adm/729/33.png\n",
            "adm/729/23.png\n",
            "adm/729/22.png\n",
            "adm/729/18.png\n",
            "adm/729/11.png\n",
            "adm/729/39.png\n",
            "adm/729/7.png\n",
            "adm/729/27.png\n",
            "adm/729/19.png\n",
            "adm/729/0.png\n",
            "adm/729/2.png\n",
            "adm/729/29.png\n",
            "adm/729/36.png\n",
            "adm/729/20.png\n",
            "adm/729/30.png\n",
            "adm/729/8.png\n",
            "adm/729/5.png\n",
            "adm/729/14.png\n",
            "adm/729/4.png\n",
            "adm/729/9.png\n",
            "adm/729/26.png\n",
            "adm/729/31.png\n",
            "adm/729/21.png\n",
            "adm/729/32.png\n",
            "adm/729/37.png\n",
            "adm/729/38.png\n",
            "adm/729/15.png\n",
            "adm/729/16.png\n",
            "adm/729/35.png\n",
            "adm/729/6.png\n",
            "adm/729/28.png\n",
            "adm/729/12.png\n",
            "adm/729/13.png\n",
            "adm/712/\n",
            "adm/712/10.png\n",
            "adm/712/17.png\n",
            "adm/712/3.png\n",
            "adm/712/1.png\n",
            "adm/712/25.png\n",
            "adm/712/24.png\n",
            "adm/712/34.png\n",
            "adm/712/33.png\n",
            "adm/712/23.png\n",
            "adm/712/22.png\n",
            "adm/712/18.png\n",
            "adm/712/11.png\n",
            "adm/712/39.png\n",
            "adm/712/7.png\n",
            "adm/712/27.png\n",
            "adm/712/19.png\n",
            "adm/712/0.png\n",
            "adm/712/2.png\n",
            "adm/712/29.png\n",
            "adm/712/36.png\n",
            "adm/712/20.png\n",
            "adm/712/30.png\n",
            "adm/712/8.png\n",
            "adm/712/5.png\n",
            "adm/712/14.png\n",
            "adm/712/4.png\n",
            "adm/712/9.png\n",
            "adm/712/26.png\n",
            "adm/712/31.png\n",
            "adm/712/21.png\n",
            "adm/712/32.png\n",
            "adm/712/37.png\n",
            "adm/712/38.png\n",
            "adm/712/15.png\n",
            "adm/712/16.png\n",
            "adm/712/35.png\n",
            "adm/712/6.png\n",
            "adm/712/28.png\n",
            "adm/712/12.png\n",
            "adm/712/13.png\n",
            "adm/959/\n",
            "adm/959/10.png\n",
            "adm/959/17.png\n",
            "adm/959/3.png\n",
            "adm/959/1.png\n",
            "adm/959/25.png\n",
            "adm/959/24.png\n",
            "adm/959/34.png\n",
            "adm/959/33.png\n",
            "adm/959/23.png\n",
            "adm/959/22.png\n",
            "adm/959/18.png\n",
            "adm/959/11.png\n",
            "adm/959/39.png\n",
            "adm/959/7.png\n",
            "adm/959/27.png\n",
            "adm/959/19.png\n",
            "adm/959/0.png\n",
            "adm/959/2.png\n",
            "adm/959/29.png\n",
            "adm/959/36.png\n",
            "adm/959/20.png\n",
            "adm/959/30.png\n",
            "adm/959/8.png\n",
            "adm/959/5.png\n",
            "adm/959/14.png\n",
            "adm/959/4.png\n",
            "adm/959/9.png\n",
            "adm/959/26.png\n",
            "adm/959/31.png\n",
            "adm/959/21.png\n",
            "adm/959/32.png\n",
            "adm/959/37.png\n",
            "adm/959/38.png\n",
            "adm/959/15.png\n",
            "adm/959/16.png\n",
            "adm/959/35.png\n",
            "adm/959/6.png\n",
            "adm/959/28.png\n",
            "adm/959/12.png\n",
            "adm/959/13.png\n",
            "adm/327/\n",
            "adm/327/10.png\n",
            "adm/327/17.png\n",
            "adm/327/3.png\n",
            "adm/327/1.png\n",
            "adm/327/25.png\n",
            "adm/327/24.png\n",
            "adm/327/34.png\n",
            "adm/327/33.png\n",
            "adm/327/23.png\n",
            "adm/327/22.png\n",
            "adm/327/18.png\n",
            "adm/327/11.png\n",
            "adm/327/39.png\n",
            "adm/327/7.png\n",
            "adm/327/27.png\n",
            "adm/327/19.png\n",
            "adm/327/0.png\n",
            "adm/327/2.png\n",
            "adm/327/29.png\n",
            "adm/327/36.png\n",
            "adm/327/20.png\n",
            "adm/327/30.png\n",
            "adm/327/8.png\n",
            "adm/327/5.png\n",
            "adm/327/14.png\n",
            "adm/327/4.png\n",
            "adm/327/9.png\n",
            "adm/327/26.png\n",
            "adm/327/31.png\n",
            "adm/327/21.png\n",
            "adm/327/32.png\n",
            "adm/327/37.png\n",
            "adm/327/38.png\n",
            "adm/327/15.png\n",
            "adm/327/16.png\n",
            "adm/327/35.png\n",
            "adm/327/6.png\n",
            "adm/327/28.png\n",
            "adm/327/12.png\n",
            "adm/327/13.png\n",
            "adm/476/\n",
            "adm/476/10.png\n",
            "adm/476/17.png\n",
            "adm/476/3.png\n",
            "adm/476/1.png\n",
            "adm/476/25.png\n",
            "adm/476/24.png\n",
            "adm/476/34.png\n",
            "adm/476/33.png\n",
            "adm/476/23.png\n",
            "adm/476/22.png\n",
            "adm/476/18.png\n",
            "adm/476/11.png\n",
            "adm/476/39.png\n",
            "adm/476/7.png\n",
            "adm/476/27.png\n",
            "adm/476/19.png\n",
            "adm/476/0.png\n",
            "adm/476/2.png\n",
            "adm/476/29.png\n",
            "adm/476/36.png\n",
            "adm/476/20.png\n",
            "adm/476/30.png\n",
            "adm/476/8.png\n",
            "adm/476/5.png\n",
            "adm/476/14.png\n",
            "adm/476/4.png\n",
            "adm/476/9.png\n",
            "adm/476/26.png\n",
            "adm/476/31.png\n",
            "adm/476/21.png\n",
            "adm/476/32.png\n",
            "adm/476/37.png\n",
            "adm/476/38.png\n",
            "adm/476/15.png\n",
            "adm/476/16.png\n",
            "adm/476/35.png\n",
            "adm/476/6.png\n",
            "adm/476/28.png\n",
            "adm/476/12.png\n",
            "adm/476/13.png\n",
            "adm/447/\n",
            "adm/447/10.png\n",
            "adm/447/17.png\n",
            "adm/447/3.png\n",
            "adm/447/1.png\n",
            "adm/447/25.png\n",
            "adm/447/24.png\n",
            "adm/447/34.png\n",
            "adm/447/33.png\n",
            "adm/447/23.png\n",
            "adm/447/22.png\n",
            "adm/447/18.png\n",
            "adm/447/11.png\n",
            "adm/447/39.png\n",
            "adm/447/7.png\n",
            "adm/447/27.png\n",
            "adm/447/19.png\n",
            "adm/447/0.png\n",
            "adm/447/2.png\n",
            "adm/447/29.png\n",
            "adm/447/36.png\n",
            "adm/447/20.png\n",
            "adm/447/30.png\n",
            "adm/447/8.png\n",
            "adm/447/5.png\n",
            "adm/447/14.png\n",
            "adm/447/4.png\n",
            "adm/447/9.png\n",
            "adm/447/26.png\n",
            "adm/447/31.png\n",
            "adm/447/21.png\n",
            "adm/447/32.png\n",
            "adm/447/37.png\n",
            "adm/447/38.png\n",
            "adm/447/15.png\n",
            "adm/447/16.png\n",
            "adm/447/35.png\n",
            "adm/447/6.png\n",
            "adm/447/28.png\n",
            "adm/447/12.png\n",
            "adm/447/13.png\n",
            "adm/864/\n",
            "adm/864/10.png\n",
            "adm/864/17.png\n",
            "adm/864/3.png\n",
            "adm/864/1.png\n",
            "adm/864/25.png\n",
            "adm/864/24.png\n",
            "adm/864/34.png\n",
            "adm/864/33.png\n",
            "adm/864/23.png\n",
            "adm/864/22.png\n",
            "adm/864/18.png\n",
            "adm/864/11.png\n",
            "adm/864/39.png\n",
            "adm/864/7.png\n",
            "adm/864/27.png\n",
            "adm/864/19.png\n",
            "adm/864/0.png\n",
            "adm/864/2.png\n",
            "adm/864/29.png\n",
            "adm/864/36.png\n",
            "adm/864/20.png\n",
            "adm/864/30.png\n",
            "adm/864/8.png\n",
            "adm/864/5.png\n",
            "adm/864/14.png\n",
            "adm/864/4.png\n",
            "adm/864/9.png\n",
            "adm/864/26.png\n",
            "adm/864/31.png\n",
            "adm/864/21.png\n",
            "adm/864/32.png\n",
            "adm/864/37.png\n",
            "adm/864/38.png\n",
            "adm/864/15.png\n",
            "adm/864/16.png\n",
            "adm/864/35.png\n",
            "adm/864/6.png\n",
            "adm/864/28.png\n",
            "adm/864/12.png\n",
            "adm/864/13.png\n",
            "adm/581/\n",
            "adm/581/10.png\n",
            "adm/581/17.png\n",
            "adm/581/3.png\n",
            "adm/581/1.png\n",
            "adm/581/25.png\n",
            "adm/581/24.png\n",
            "adm/581/34.png\n",
            "adm/581/33.png\n",
            "adm/581/23.png\n",
            "adm/581/22.png\n",
            "adm/581/18.png\n",
            "adm/581/11.png\n",
            "adm/581/39.png\n",
            "adm/581/7.png\n",
            "adm/581/27.png\n",
            "adm/581/19.png\n",
            "adm/581/0.png\n",
            "adm/581/2.png\n",
            "adm/581/29.png\n",
            "adm/581/36.png\n",
            "adm/581/20.png\n",
            "adm/581/30.png\n",
            "adm/581/8.png\n",
            "adm/581/5.png\n",
            "adm/581/14.png\n",
            "adm/581/4.png\n",
            "adm/581/9.png\n",
            "adm/581/26.png\n",
            "adm/581/31.png\n",
            "adm/581/21.png\n",
            "adm/581/32.png\n",
            "adm/581/37.png\n",
            "adm/581/38.png\n",
            "adm/581/15.png\n",
            "adm/581/16.png\n",
            "adm/581/35.png\n",
            "adm/581/6.png\n",
            "adm/581/28.png\n",
            "adm/581/12.png\n",
            "adm/581/13.png\n",
            "adm/297/\n",
            "adm/297/10.png\n",
            "adm/297/17.png\n",
            "adm/297/3.png\n",
            "adm/297/1.png\n",
            "adm/297/25.png\n",
            "adm/297/24.png\n",
            "adm/297/34.png\n",
            "adm/297/33.png\n",
            "adm/297/23.png\n",
            "adm/297/22.png\n",
            "adm/297/18.png\n",
            "adm/297/11.png\n",
            "adm/297/39.png\n",
            "adm/297/7.png\n",
            "adm/297/27.png\n",
            "adm/297/19.png\n",
            "adm/297/0.png\n",
            "adm/297/2.png\n",
            "adm/297/29.png\n",
            "adm/297/36.png\n",
            "adm/297/20.png\n",
            "adm/297/30.png\n",
            "adm/297/8.png\n",
            "adm/297/5.png\n",
            "adm/297/14.png\n",
            "adm/297/4.png\n",
            "adm/297/9.png\n",
            "adm/297/26.png\n",
            "adm/297/31.png\n",
            "adm/297/21.png\n",
            "adm/297/32.png\n",
            "adm/297/37.png\n",
            "adm/297/38.png\n",
            "adm/297/15.png\n",
            "adm/297/16.png\n",
            "adm/297/35.png\n",
            "adm/297/6.png\n",
            "adm/297/28.png\n",
            "adm/297/12.png\n",
            "adm/297/13.png\n",
            "adm/315/\n",
            "adm/315/10.png\n",
            "adm/315/17.png\n",
            "adm/315/3.png\n",
            "adm/315/1.png\n",
            "adm/315/25.png\n",
            "adm/315/24.png\n",
            "adm/315/34.png\n",
            "adm/315/33.png\n",
            "adm/315/23.png\n",
            "adm/315/22.png\n",
            "adm/315/18.png\n",
            "adm/315/11.png\n",
            "adm/315/39.png\n",
            "adm/315/7.png\n",
            "adm/315/27.png\n",
            "adm/315/19.png\n",
            "adm/315/0.png\n",
            "adm/315/2.png\n",
            "adm/315/29.png\n",
            "adm/315/36.png\n",
            "adm/315/20.png\n",
            "adm/315/30.png\n",
            "adm/315/8.png\n",
            "adm/315/5.png\n",
            "adm/315/14.png\n",
            "adm/315/4.png\n",
            "adm/315/9.png\n",
            "adm/315/26.png\n",
            "adm/315/31.png\n",
            "adm/315/21.png\n",
            "adm/315/32.png\n",
            "adm/315/37.png\n",
            "adm/315/38.png\n",
            "adm/315/15.png\n",
            "adm/315/16.png\n",
            "adm/315/35.png\n",
            "adm/315/6.png\n",
            "adm/315/28.png\n",
            "adm/315/12.png\n",
            "adm/315/13.png\n",
            "adm/193/\n",
            "adm/193/10.png\n",
            "adm/193/17.png\n",
            "adm/193/3.png\n",
            "adm/193/1.png\n",
            "adm/193/25.png\n",
            "adm/193/24.png\n",
            "adm/193/34.png\n",
            "adm/193/33.png\n",
            "adm/193/23.png\n",
            "adm/193/22.png\n",
            "adm/193/18.png\n",
            "adm/193/11.png\n",
            "adm/193/39.png\n",
            "adm/193/7.png\n",
            "adm/193/27.png\n",
            "adm/193/19.png\n",
            "adm/193/0.png\n",
            "adm/193/2.png\n",
            "adm/193/29.png\n",
            "adm/193/36.png\n",
            "adm/193/20.png\n",
            "adm/193/30.png\n",
            "adm/193/8.png\n",
            "adm/193/5.png\n",
            "adm/193/14.png\n",
            "adm/193/4.png\n",
            "adm/193/9.png\n",
            "adm/193/26.png\n",
            "adm/193/31.png\n",
            "adm/193/21.png\n",
            "adm/193/32.png\n",
            "adm/193/37.png\n",
            "adm/193/38.png\n",
            "adm/193/15.png\n",
            "adm/193/16.png\n",
            "adm/193/35.png\n",
            "adm/193/6.png\n",
            "adm/193/28.png\n",
            "adm/193/12.png\n",
            "adm/193/13.png\n",
            "adm/410/\n",
            "adm/410/10.png\n",
            "adm/410/17.png\n",
            "adm/410/3.png\n",
            "adm/410/1.png\n",
            "adm/410/25.png\n",
            "adm/410/24.png\n",
            "adm/410/34.png\n",
            "adm/410/33.png\n",
            "adm/410/23.png\n",
            "adm/410/22.png\n",
            "adm/410/18.png\n",
            "adm/410/11.png\n",
            "adm/410/39.png\n",
            "adm/410/7.png\n",
            "adm/410/27.png\n",
            "adm/410/19.png\n",
            "adm/410/0.png\n",
            "adm/410/2.png\n",
            "adm/410/29.png\n",
            "adm/410/36.png\n",
            "adm/410/20.png\n",
            "adm/410/30.png\n",
            "adm/410/8.png\n",
            "adm/410/5.png\n",
            "adm/410/14.png\n",
            "adm/410/4.png\n",
            "adm/410/9.png\n",
            "adm/410/26.png\n",
            "adm/410/31.png\n",
            "adm/410/21.png\n",
            "adm/410/32.png\n",
            "adm/410/37.png\n",
            "adm/410/38.png\n",
            "adm/410/15.png\n",
            "adm/410/16.png\n",
            "adm/410/35.png\n",
            "adm/410/6.png\n",
            "adm/410/28.png\n",
            "adm/410/12.png\n",
            "adm/410/13.png\n",
            "adm/433/\n",
            "adm/433/10.png\n",
            "adm/433/17.png\n",
            "adm/433/3.png\n",
            "adm/433/1.png\n",
            "adm/433/25.png\n",
            "adm/433/24.png\n",
            "adm/433/34.png\n",
            "adm/433/33.png\n",
            "adm/433/23.png\n",
            "adm/433/22.png\n",
            "adm/433/18.png\n",
            "adm/433/11.png\n",
            "adm/433/39.png\n",
            "adm/433/7.png\n",
            "adm/433/27.png\n",
            "adm/433/19.png\n",
            "adm/433/0.png\n",
            "adm/433/2.png\n",
            "adm/433/29.png\n",
            "adm/433/36.png\n",
            "adm/433/20.png\n",
            "adm/433/30.png\n",
            "adm/433/8.png\n",
            "adm/433/5.png\n",
            "adm/433/14.png\n",
            "adm/433/4.png\n",
            "adm/433/9.png\n",
            "adm/433/26.png\n",
            "adm/433/31.png\n",
            "adm/433/21.png\n",
            "adm/433/32.png\n",
            "adm/433/37.png\n",
            "adm/433/38.png\n",
            "adm/433/15.png\n",
            "adm/433/16.png\n",
            "adm/433/35.png\n",
            "adm/433/6.png\n",
            "adm/433/28.png\n",
            "adm/433/12.png\n",
            "adm/433/13.png\n",
            "adm/935/\n",
            "adm/935/10.png\n",
            "adm/935/17.png\n",
            "adm/935/3.png\n",
            "adm/935/1.png\n",
            "adm/935/25.png\n",
            "adm/935/24.png\n",
            "adm/935/34.png\n",
            "adm/935/33.png\n",
            "adm/935/23.png\n",
            "adm/935/22.png\n",
            "adm/935/18.png\n",
            "adm/935/11.png\n",
            "adm/935/39.png\n",
            "adm/935/7.png\n",
            "adm/935/27.png\n",
            "adm/935/19.png\n",
            "adm/935/0.png\n",
            "adm/935/2.png\n",
            "adm/935/29.png\n",
            "adm/935/36.png\n",
            "adm/935/20.png\n",
            "adm/935/30.png\n",
            "adm/935/8.png\n",
            "adm/935/5.png\n",
            "adm/935/14.png\n",
            "adm/935/4.png\n",
            "adm/935/9.png\n",
            "adm/935/26.png\n",
            "adm/935/31.png\n",
            "adm/935/21.png\n",
            "adm/935/32.png\n",
            "adm/935/37.png\n",
            "adm/935/38.png\n",
            "adm/935/15.png\n",
            "adm/935/16.png\n",
            "adm/935/35.png\n",
            "adm/935/6.png\n",
            "adm/935/28.png\n",
            "adm/935/12.png\n",
            "adm/935/13.png\n",
            "adm/737/\n",
            "adm/737/10.png\n",
            "adm/737/17.png\n",
            "adm/737/3.png\n",
            "adm/737/1.png\n",
            "adm/737/25.png\n",
            "adm/737/24.png\n",
            "adm/737/34.png\n",
            "adm/737/33.png\n",
            "adm/737/23.png\n",
            "adm/737/22.png\n",
            "adm/737/18.png\n",
            "adm/737/11.png\n",
            "adm/737/39.png\n",
            "adm/737/7.png\n",
            "adm/737/27.png\n",
            "adm/737/19.png\n",
            "adm/737/0.png\n",
            "adm/737/2.png\n",
            "adm/737/29.png\n",
            "adm/737/36.png\n",
            "adm/737/20.png\n",
            "adm/737/30.png\n",
            "adm/737/8.png\n",
            "adm/737/5.png\n",
            "adm/737/14.png\n",
            "adm/737/4.png\n",
            "adm/737/9.png\n",
            "adm/737/26.png\n",
            "adm/737/31.png\n",
            "adm/737/21.png\n",
            "adm/737/32.png\n",
            "adm/737/37.png\n",
            "adm/737/38.png\n",
            "adm/737/15.png\n",
            "adm/737/16.png\n",
            "adm/737/35.png\n",
            "adm/737/6.png\n",
            "adm/737/28.png\n",
            "adm/737/12.png\n",
            "adm/737/13.png\n",
            "adm/1/\n",
            "adm/1/10.png\n",
            "adm/1/17.png\n",
            "adm/1/3.png\n",
            "adm/1/1.png\n",
            "adm/1/25.png\n",
            "adm/1/24.png\n",
            "adm/1/34.png\n",
            "adm/1/33.png\n",
            "adm/1/23.png\n",
            "adm/1/22.png\n",
            "adm/1/18.png\n",
            "adm/1/11.png\n",
            "adm/1/39.png\n",
            "adm/1/7.png\n",
            "adm/1/27.png\n",
            "adm/1/19.png\n",
            "adm/1/0.png\n",
            "adm/1/2.png\n",
            "adm/1/29.png\n",
            "adm/1/36.png\n",
            "adm/1/20.png\n",
            "adm/1/30.png\n",
            "adm/1/8.png\n",
            "adm/1/5.png\n",
            "adm/1/14.png\n",
            "adm/1/4.png\n",
            "adm/1/9.png\n",
            "adm/1/26.png\n",
            "adm/1/31.png\n",
            "adm/1/21.png\n",
            "adm/1/32.png\n",
            "adm/1/37.png\n",
            "adm/1/38.png\n",
            "adm/1/15.png\n",
            "adm/1/16.png\n",
            "adm/1/35.png\n",
            "adm/1/6.png\n",
            "adm/1/28.png\n",
            "adm/1/12.png\n",
            "adm/1/13.png\n",
            "adm/158/\n",
            "adm/158/10.png\n",
            "adm/158/17.png\n",
            "adm/158/3.png\n",
            "adm/158/1.png\n",
            "adm/158/25.png\n",
            "adm/158/24.png\n",
            "adm/158/34.png\n",
            "adm/158/33.png\n",
            "adm/158/23.png\n",
            "adm/158/22.png\n",
            "adm/158/18.png\n",
            "adm/158/11.png\n",
            "adm/158/39.png\n",
            "adm/158/7.png\n",
            "adm/158/27.png\n",
            "adm/158/19.png\n",
            "adm/158/0.png\n",
            "adm/158/2.png\n",
            "adm/158/29.png\n",
            "adm/158/36.png\n",
            "adm/158/20.png\n",
            "adm/158/30.png\n",
            "adm/158/8.png\n",
            "adm/158/5.png\n",
            "adm/158/14.png\n",
            "adm/158/4.png\n",
            "adm/158/9.png\n",
            "adm/158/26.png\n",
            "adm/158/31.png\n",
            "adm/158/21.png\n",
            "adm/158/32.png\n",
            "adm/158/37.png\n",
            "adm/158/38.png\n",
            "adm/158/15.png\n",
            "adm/158/16.png\n",
            "adm/158/35.png\n",
            "adm/158/6.png\n",
            "adm/158/28.png\n",
            "adm/158/12.png\n",
            "adm/158/13.png\n",
            "adm/454/\n",
            "adm/454/10.png\n",
            "adm/454/17.png\n",
            "adm/454/3.png\n",
            "adm/454/1.png\n",
            "adm/454/25.png\n",
            "adm/454/24.png\n",
            "adm/454/34.png\n",
            "adm/454/33.png\n",
            "adm/454/23.png\n",
            "adm/454/22.png\n",
            "adm/454/18.png\n",
            "adm/454/11.png\n",
            "adm/454/39.png\n",
            "adm/454/7.png\n",
            "adm/454/27.png\n",
            "adm/454/19.png\n",
            "adm/454/0.png\n",
            "adm/454/2.png\n",
            "adm/454/29.png\n",
            "adm/454/36.png\n",
            "adm/454/20.png\n",
            "adm/454/30.png\n",
            "adm/454/8.png\n",
            "adm/454/5.png\n",
            "adm/454/14.png\n",
            "adm/454/4.png\n",
            "adm/454/9.png\n",
            "adm/454/26.png\n",
            "adm/454/31.png\n",
            "adm/454/21.png\n",
            "adm/454/32.png\n",
            "adm/454/37.png\n",
            "adm/454/38.png\n",
            "adm/454/15.png\n",
            "adm/454/16.png\n",
            "adm/454/35.png\n",
            "adm/454/6.png\n",
            "adm/454/28.png\n",
            "adm/454/12.png\n",
            "adm/454/13.png\n",
            "adm/930/\n",
            "adm/930/10.png\n",
            "adm/930/17.png\n",
            "adm/930/3.png\n",
            "adm/930/1.png\n",
            "adm/930/25.png\n",
            "adm/930/24.png\n",
            "adm/930/34.png\n",
            "adm/930/33.png\n",
            "adm/930/23.png\n",
            "adm/930/22.png\n",
            "adm/930/18.png\n",
            "adm/930/11.png\n",
            "adm/930/39.png\n",
            "adm/930/7.png\n",
            "adm/930/27.png\n",
            "adm/930/19.png\n",
            "adm/930/0.png\n",
            "adm/930/2.png\n",
            "adm/930/29.png\n",
            "adm/930/36.png\n",
            "adm/930/20.png\n",
            "adm/930/30.png\n",
            "adm/930/8.png\n",
            "adm/930/5.png\n",
            "adm/930/14.png\n",
            "adm/930/4.png\n",
            "adm/930/9.png\n",
            "adm/930/26.png\n",
            "adm/930/31.png\n",
            "adm/930/21.png\n",
            "adm/930/32.png\n",
            "adm/930/37.png\n",
            "adm/930/38.png\n",
            "adm/930/15.png\n",
            "adm/930/16.png\n",
            "adm/930/35.png\n",
            "adm/930/6.png\n",
            "adm/930/28.png\n",
            "adm/930/12.png\n",
            "adm/930/13.png\n",
            "adm/767/\n",
            "adm/767/10.png\n",
            "adm/767/17.png\n",
            "adm/767/3.png\n",
            "adm/767/1.png\n",
            "adm/767/25.png\n",
            "adm/767/24.png\n",
            "adm/767/34.png\n",
            "adm/767/33.png\n",
            "adm/767/23.png\n",
            "adm/767/22.png\n",
            "adm/767/18.png\n",
            "adm/767/11.png\n",
            "adm/767/39.png\n",
            "adm/767/7.png\n",
            "adm/767/27.png\n",
            "adm/767/19.png\n",
            "adm/767/0.png\n",
            "adm/767/2.png\n",
            "adm/767/29.png\n",
            "adm/767/36.png\n",
            "adm/767/20.png\n",
            "adm/767/30.png\n",
            "adm/767/8.png\n",
            "adm/767/5.png\n",
            "adm/767/14.png\n",
            "adm/767/4.png\n",
            "adm/767/9.png\n",
            "adm/767/26.png\n",
            "adm/767/31.png\n",
            "adm/767/21.png\n",
            "adm/767/32.png\n",
            "adm/767/37.png\n",
            "adm/767/38.png\n",
            "adm/767/15.png\n",
            "adm/767/16.png\n",
            "adm/767/35.png\n",
            "adm/767/6.png\n",
            "adm/767/28.png\n",
            "adm/767/12.png\n",
            "adm/767/13.png\n",
            "adm/474/\n",
            "adm/474/10.png\n",
            "adm/474/17.png\n",
            "adm/474/3.png\n",
            "adm/474/1.png\n",
            "adm/474/25.png\n",
            "adm/474/24.png\n",
            "adm/474/34.png\n",
            "adm/474/33.png\n",
            "adm/474/23.png\n",
            "adm/474/22.png\n",
            "adm/474/18.png\n",
            "adm/474/11.png\n",
            "adm/474/39.png\n",
            "adm/474/7.png\n",
            "adm/474/27.png\n",
            "adm/474/19.png\n",
            "adm/474/0.png\n",
            "adm/474/2.png\n",
            "adm/474/29.png\n",
            "adm/474/36.png\n",
            "adm/474/20.png\n",
            "adm/474/30.png\n",
            "adm/474/8.png\n",
            "adm/474/5.png\n",
            "adm/474/14.png\n",
            "adm/474/4.png\n",
            "adm/474/9.png\n",
            "adm/474/26.png\n",
            "adm/474/31.png\n",
            "adm/474/21.png\n",
            "adm/474/32.png\n",
            "adm/474/37.png\n",
            "adm/474/38.png\n",
            "adm/474/15.png\n",
            "adm/474/16.png\n",
            "adm/474/35.png\n",
            "adm/474/6.png\n",
            "adm/474/28.png\n",
            "adm/474/12.png\n",
            "adm/474/13.png\n",
            "adm/562/\n",
            "adm/562/10.png\n",
            "adm/562/17.png\n",
            "adm/562/3.png\n",
            "adm/562/1.png\n",
            "adm/562/25.png\n",
            "adm/562/24.png\n",
            "adm/562/34.png\n",
            "adm/562/33.png\n",
            "adm/562/23.png\n",
            "adm/562/22.png\n",
            "adm/562/18.png\n",
            "adm/562/11.png\n",
            "adm/562/39.png\n",
            "adm/562/7.png\n",
            "adm/562/27.png\n",
            "adm/562/19.png\n",
            "adm/562/0.png\n",
            "adm/562/2.png\n",
            "adm/562/29.png\n",
            "adm/562/36.png\n",
            "adm/562/20.png\n",
            "adm/562/30.png\n",
            "adm/562/8.png\n",
            "adm/562/5.png\n",
            "adm/562/14.png\n",
            "adm/562/4.png\n",
            "adm/562/9.png\n",
            "adm/562/26.png\n",
            "adm/562/31.png\n",
            "adm/562/21.png\n",
            "adm/562/32.png\n",
            "adm/562/37.png\n",
            "adm/562/38.png\n",
            "adm/562/15.png\n",
            "adm/562/16.png\n",
            "adm/562/35.png\n",
            "adm/562/6.png\n",
            "adm/562/28.png\n",
            "adm/562/12.png\n",
            "adm/562/13.png\n",
            "adm/749/\n",
            "adm/749/10.png\n",
            "adm/749/17.png\n",
            "adm/749/3.png\n",
            "adm/749/1.png\n",
            "adm/749/25.png\n",
            "adm/749/24.png\n",
            "adm/749/34.png\n",
            "adm/749/33.png\n",
            "adm/749/23.png\n",
            "adm/749/22.png\n",
            "adm/749/18.png\n",
            "adm/749/11.png\n",
            "adm/749/39.png\n",
            "adm/749/7.png\n",
            "adm/749/27.png\n",
            "adm/749/19.png\n",
            "adm/749/0.png\n",
            "adm/749/2.png\n",
            "adm/749/29.png\n",
            "adm/749/36.png\n",
            "adm/749/20.png\n",
            "adm/749/30.png\n",
            "adm/749/8.png\n",
            "adm/749/5.png\n",
            "adm/749/14.png\n",
            "adm/749/4.png\n",
            "adm/749/9.png\n",
            "adm/749/26.png\n",
            "adm/749/31.png\n",
            "adm/749/21.png\n",
            "adm/749/32.png\n",
            "adm/749/37.png\n",
            "adm/749/38.png\n",
            "adm/749/15.png\n",
            "adm/749/16.png\n",
            "adm/749/35.png\n",
            "adm/749/6.png\n",
            "adm/749/28.png\n",
            "adm/749/12.png\n",
            "adm/749/13.png\n",
            "adm/96/\n",
            "adm/96/10.png\n",
            "adm/96/17.png\n",
            "adm/96/3.png\n",
            "adm/96/1.png\n",
            "adm/96/25.png\n",
            "adm/96/24.png\n",
            "adm/96/34.png\n",
            "adm/96/33.png\n",
            "adm/96/23.png\n",
            "adm/96/22.png\n",
            "adm/96/18.png\n",
            "adm/96/11.png\n",
            "adm/96/39.png\n",
            "adm/96/7.png\n",
            "adm/96/27.png\n",
            "adm/96/19.png\n",
            "adm/96/0.png\n",
            "adm/96/2.png\n",
            "adm/96/29.png\n",
            "adm/96/36.png\n",
            "adm/96/20.png\n",
            "adm/96/30.png\n",
            "adm/96/8.png\n",
            "adm/96/5.png\n",
            "adm/96/14.png\n",
            "adm/96/4.png\n",
            "adm/96/9.png\n",
            "adm/96/26.png\n",
            "adm/96/31.png\n",
            "adm/96/21.png\n",
            "adm/96/32.png\n",
            "adm/96/37.png\n",
            "adm/96/38.png\n",
            "adm/96/15.png\n",
            "adm/96/16.png\n",
            "adm/96/35.png\n",
            "adm/96/6.png\n",
            "adm/96/28.png\n",
            "adm/96/12.png\n",
            "adm/96/13.png\n",
            "adm/232/\n",
            "adm/232/10.png\n",
            "adm/232/17.png\n",
            "adm/232/3.png\n",
            "adm/232/1.png\n",
            "adm/232/25.png\n",
            "adm/232/24.png\n",
            "adm/232/34.png\n",
            "adm/232/33.png\n",
            "adm/232/23.png\n",
            "adm/232/22.png\n",
            "adm/232/18.png\n",
            "adm/232/11.png\n",
            "adm/232/39.png\n",
            "adm/232/7.png\n",
            "adm/232/27.png\n",
            "adm/232/19.png\n",
            "adm/232/0.png\n",
            "adm/232/2.png\n",
            "adm/232/29.png\n",
            "adm/232/36.png\n",
            "adm/232/20.png\n",
            "adm/232/30.png\n",
            "adm/232/8.png\n",
            "adm/232/5.png\n",
            "adm/232/14.png\n",
            "adm/232/4.png\n",
            "adm/232/9.png\n",
            "adm/232/26.png\n",
            "adm/232/31.png\n",
            "adm/232/21.png\n",
            "adm/232/32.png\n",
            "adm/232/37.png\n",
            "adm/232/38.png\n",
            "adm/232/15.png\n",
            "adm/232/16.png\n",
            "adm/232/35.png\n",
            "adm/232/6.png\n",
            "adm/232/28.png\n",
            "adm/232/12.png\n",
            "adm/232/13.png\n",
            "adm/164/\n",
            "adm/164/10.png\n",
            "adm/164/17.png\n",
            "adm/164/3.png\n",
            "adm/164/1.png\n",
            "adm/164/25.png\n",
            "adm/164/24.png\n",
            "adm/164/34.png\n",
            "adm/164/33.png\n",
            "adm/164/23.png\n",
            "adm/164/22.png\n",
            "adm/164/18.png\n",
            "adm/164/11.png\n",
            "adm/164/39.png\n",
            "adm/164/7.png\n",
            "adm/164/27.png\n",
            "adm/164/19.png\n",
            "adm/164/0.png\n",
            "adm/164/2.png\n",
            "adm/164/29.png\n",
            "adm/164/36.png\n",
            "adm/164/20.png\n",
            "adm/164/30.png\n",
            "adm/164/8.png\n",
            "adm/164/5.png\n",
            "adm/164/14.png\n",
            "adm/164/4.png\n",
            "adm/164/9.png\n",
            "adm/164/26.png\n",
            "adm/164/31.png\n",
            "adm/164/21.png\n",
            "adm/164/32.png\n",
            "adm/164/37.png\n",
            "adm/164/38.png\n",
            "adm/164/15.png\n",
            "adm/164/16.png\n",
            "adm/164/35.png\n",
            "adm/164/6.png\n",
            "adm/164/28.png\n",
            "adm/164/12.png\n",
            "adm/164/13.png\n",
            "adm/223/\n",
            "adm/223/10.png\n",
            "adm/223/17.png\n",
            "adm/223/3.png\n",
            "adm/223/1.png\n",
            "adm/223/25.png\n",
            "adm/223/24.png\n",
            "adm/223/34.png\n",
            "adm/223/33.png\n",
            "adm/223/23.png\n",
            "adm/223/22.png\n",
            "adm/223/18.png\n",
            "adm/223/11.png\n",
            "adm/223/39.png\n",
            "adm/223/7.png\n",
            "adm/223/27.png\n",
            "adm/223/19.png\n",
            "adm/223/0.png\n",
            "adm/223/2.png\n",
            "adm/223/29.png\n",
            "adm/223/36.png\n",
            "adm/223/20.png\n",
            "adm/223/30.png\n",
            "adm/223/8.png\n",
            "adm/223/5.png\n",
            "adm/223/14.png\n",
            "adm/223/4.png\n",
            "adm/223/9.png\n",
            "adm/223/26.png\n",
            "adm/223/31.png\n",
            "adm/223/21.png\n",
            "adm/223/32.png\n",
            "adm/223/37.png\n",
            "adm/223/38.png\n",
            "adm/223/15.png\n",
            "adm/223/16.png\n",
            "adm/223/35.png\n",
            "adm/223/6.png\n",
            "adm/223/28.png\n",
            "adm/223/12.png\n",
            "adm/223/13.png\n",
            "adm/36/\n",
            "adm/36/10.png\n",
            "adm/36/17.png\n",
            "adm/36/3.png\n",
            "adm/36/1.png\n",
            "adm/36/25.png\n",
            "adm/36/24.png\n",
            "adm/36/34.png\n",
            "adm/36/33.png\n",
            "adm/36/23.png\n",
            "adm/36/22.png\n",
            "adm/36/18.png\n",
            "adm/36/11.png\n",
            "adm/36/39.png\n",
            "adm/36/7.png\n",
            "adm/36/27.png\n",
            "adm/36/19.png\n",
            "adm/36/0.png\n",
            "adm/36/2.png\n",
            "adm/36/29.png\n",
            "adm/36/36.png\n",
            "adm/36/20.png\n",
            "adm/36/30.png\n",
            "adm/36/8.png\n",
            "adm/36/5.png\n",
            "adm/36/14.png\n",
            "adm/36/4.png\n",
            "adm/36/9.png\n",
            "adm/36/26.png\n",
            "adm/36/31.png\n",
            "adm/36/21.png\n",
            "adm/36/32.png\n",
            "adm/36/37.png\n",
            "adm/36/38.png\n",
            "adm/36/15.png\n",
            "adm/36/16.png\n",
            "adm/36/35.png\n",
            "adm/36/6.png\n",
            "adm/36/28.png\n",
            "adm/36/12.png\n",
            "adm/36/13.png\n",
            "adm/19/\n",
            "adm/19/10.png\n",
            "adm/19/17.png\n",
            "adm/19/3.png\n",
            "adm/19/1.png\n",
            "adm/19/25.png\n",
            "adm/19/24.png\n",
            "adm/19/34.png\n",
            "adm/19/33.png\n",
            "adm/19/23.png\n",
            "adm/19/22.png\n",
            "adm/19/18.png\n",
            "adm/19/11.png\n",
            "adm/19/39.png\n",
            "adm/19/7.png\n",
            "adm/19/27.png\n",
            "adm/19/19.png\n",
            "adm/19/0.png\n",
            "adm/19/2.png\n",
            "adm/19/29.png\n",
            "adm/19/36.png\n",
            "adm/19/20.png\n",
            "adm/19/30.png\n",
            "adm/19/8.png\n",
            "adm/19/5.png\n",
            "adm/19/14.png\n",
            "adm/19/4.png\n",
            "adm/19/9.png\n",
            "adm/19/26.png\n",
            "adm/19/31.png\n",
            "adm/19/21.png\n",
            "adm/19/32.png\n",
            "adm/19/37.png\n",
            "adm/19/38.png\n",
            "adm/19/15.png\n",
            "adm/19/16.png\n",
            "adm/19/35.png\n",
            "adm/19/6.png\n",
            "adm/19/28.png\n",
            "adm/19/12.png\n",
            "adm/19/13.png\n",
            "adm/385/\n",
            "adm/385/10.png\n",
            "adm/385/17.png\n",
            "adm/385/3.png\n",
            "adm/385/1.png\n",
            "adm/385/25.png\n",
            "adm/385/24.png\n",
            "adm/385/34.png\n",
            "adm/385/33.png\n",
            "adm/385/23.png\n",
            "adm/385/22.png\n",
            "adm/385/18.png\n",
            "adm/385/11.png\n",
            "adm/385/39.png\n",
            "adm/385/7.png\n",
            "adm/385/27.png\n",
            "adm/385/19.png\n",
            "adm/385/0.png\n",
            "adm/385/2.png\n",
            "adm/385/29.png\n",
            "adm/385/36.png\n",
            "adm/385/20.png\n",
            "adm/385/30.png\n",
            "adm/385/8.png\n",
            "adm/385/5.png\n",
            "adm/385/14.png\n",
            "adm/385/4.png\n",
            "adm/385/9.png\n",
            "adm/385/26.png\n",
            "adm/385/31.png\n",
            "adm/385/21.png\n",
            "adm/385/32.png\n",
            "adm/385/37.png\n",
            "adm/385/38.png\n",
            "adm/385/15.png\n",
            "adm/385/16.png\n",
            "adm/385/35.png\n",
            "adm/385/6.png\n",
            "adm/385/28.png\n",
            "adm/385/12.png\n",
            "adm/385/13.png\n",
            "adm/716/\n",
            "adm/716/10.png\n",
            "adm/716/17.png\n",
            "adm/716/3.png\n",
            "adm/716/1.png\n",
            "adm/716/25.png\n",
            "adm/716/24.png\n",
            "adm/716/34.png\n",
            "adm/716/33.png\n",
            "adm/716/23.png\n",
            "adm/716/22.png\n",
            "adm/716/18.png\n",
            "adm/716/11.png\n",
            "adm/716/39.png\n",
            "adm/716/7.png\n",
            "adm/716/27.png\n",
            "adm/716/19.png\n",
            "adm/716/0.png\n",
            "adm/716/2.png\n",
            "adm/716/29.png\n",
            "adm/716/36.png\n",
            "adm/716/20.png\n",
            "adm/716/30.png\n",
            "adm/716/8.png\n",
            "adm/716/5.png\n",
            "adm/716/14.png\n",
            "adm/716/4.png\n",
            "adm/716/9.png\n",
            "adm/716/26.png\n",
            "adm/716/31.png\n",
            "adm/716/21.png\n",
            "adm/716/32.png\n",
            "adm/716/37.png\n",
            "adm/716/38.png\n",
            "adm/716/15.png\n",
            "adm/716/16.png\n",
            "adm/716/35.png\n",
            "adm/716/6.png\n",
            "adm/716/28.png\n",
            "adm/716/12.png\n",
            "adm/716/13.png\n",
            "adm/633/\n",
            "adm/633/10.png\n",
            "adm/633/17.png\n",
            "adm/633/3.png\n",
            "adm/633/1.png\n",
            "adm/633/25.png\n",
            "adm/633/24.png\n",
            "adm/633/34.png\n",
            "adm/633/33.png\n",
            "adm/633/23.png\n",
            "adm/633/22.png\n",
            "adm/633/18.png\n",
            "adm/633/11.png\n",
            "adm/633/39.png\n",
            "adm/633/7.png\n",
            "adm/633/27.png\n",
            "adm/633/19.png\n",
            "adm/633/0.png\n",
            "adm/633/2.png\n",
            "adm/633/29.png\n",
            "adm/633/36.png\n",
            "adm/633/20.png\n",
            "adm/633/30.png\n",
            "adm/633/8.png\n",
            "adm/633/5.png\n",
            "adm/633/14.png\n",
            "adm/633/4.png\n",
            "adm/633/9.png\n",
            "adm/633/26.png\n",
            "adm/633/31.png\n",
            "adm/633/21.png\n",
            "adm/633/32.png\n",
            "adm/633/37.png\n",
            "adm/633/38.png\n",
            "adm/633/15.png\n",
            "adm/633/16.png\n",
            "adm/633/35.png\n",
            "adm/633/6.png\n",
            "adm/633/28.png\n",
            "adm/633/12.png\n",
            "adm/633/13.png\n",
            "adm/328/\n",
            "adm/328/10.png\n",
            "adm/328/17.png\n",
            "adm/328/3.png\n",
            "adm/328/1.png\n",
            "adm/328/25.png\n",
            "adm/328/24.png\n",
            "adm/328/34.png\n",
            "adm/328/33.png\n",
            "adm/328/23.png\n",
            "adm/328/22.png\n",
            "adm/328/18.png\n",
            "adm/328/11.png\n",
            "adm/328/39.png\n",
            "adm/328/7.png\n",
            "adm/328/27.png\n",
            "adm/328/19.png\n",
            "adm/328/0.png\n",
            "adm/328/2.png\n",
            "adm/328/29.png\n",
            "adm/328/36.png\n",
            "adm/328/20.png\n",
            "adm/328/30.png\n",
            "adm/328/8.png\n",
            "adm/328/5.png\n",
            "adm/328/14.png\n",
            "adm/328/4.png\n",
            "adm/328/9.png\n",
            "adm/328/26.png\n",
            "adm/328/31.png\n",
            "adm/328/21.png\n",
            "adm/328/32.png\n",
            "adm/328/37.png\n",
            "adm/328/38.png\n",
            "adm/328/15.png\n",
            "adm/328/16.png\n",
            "adm/328/35.png\n",
            "adm/328/6.png\n",
            "adm/328/28.png\n",
            "adm/328/12.png\n",
            "adm/328/13.png\n",
            "adm/842/\n",
            "adm/842/10.png\n",
            "adm/842/17.png\n",
            "adm/842/3.png\n",
            "adm/842/1.png\n",
            "adm/842/25.png\n",
            "adm/842/24.png\n",
            "adm/842/34.png\n",
            "adm/842/33.png\n",
            "adm/842/23.png\n",
            "adm/842/22.png\n",
            "adm/842/18.png\n",
            "adm/842/11.png\n",
            "adm/842/39.png\n",
            "adm/842/7.png\n",
            "adm/842/27.png\n",
            "adm/842/19.png\n",
            "adm/842/0.png\n",
            "adm/842/2.png\n",
            "adm/842/29.png\n",
            "adm/842/36.png\n",
            "adm/842/20.png\n",
            "adm/842/30.png\n",
            "adm/842/8.png\n",
            "adm/842/5.png\n",
            "adm/842/14.png\n",
            "adm/842/4.png\n",
            "adm/842/9.png\n",
            "adm/842/26.png\n",
            "adm/842/31.png\n",
            "adm/842/21.png\n",
            "adm/842/32.png\n",
            "adm/842/37.png\n",
            "adm/842/38.png\n",
            "adm/842/15.png\n",
            "adm/842/16.png\n",
            "adm/842/35.png\n",
            "adm/842/6.png\n",
            "adm/842/28.png\n",
            "adm/842/12.png\n",
            "adm/842/13.png\n",
            "adm/380/\n",
            "adm/380/10.png\n",
            "adm/380/17.png\n",
            "adm/380/3.png\n",
            "adm/380/1.png\n",
            "adm/380/25.png\n",
            "adm/380/24.png\n",
            "adm/380/34.png\n",
            "adm/380/33.png\n",
            "adm/380/23.png\n",
            "adm/380/22.png\n",
            "adm/380/18.png\n",
            "adm/380/11.png\n",
            "adm/380/39.png\n",
            "adm/380/7.png\n",
            "adm/380/27.png\n",
            "adm/380/19.png\n",
            "adm/380/0.png\n",
            "adm/380/2.png\n",
            "adm/380/29.png\n",
            "adm/380/36.png\n",
            "adm/380/20.png\n",
            "adm/380/30.png\n",
            "adm/380/8.png\n",
            "adm/380/5.png\n",
            "adm/380/14.png\n",
            "adm/380/4.png\n",
            "adm/380/9.png\n",
            "adm/380/26.png\n",
            "adm/380/31.png\n",
            "adm/380/21.png\n",
            "adm/380/32.png\n",
            "adm/380/37.png\n",
            "adm/380/38.png\n",
            "adm/380/15.png\n",
            "adm/380/16.png\n",
            "adm/380/35.png\n",
            "adm/380/6.png\n",
            "adm/380/28.png\n",
            "adm/380/12.png\n",
            "adm/380/13.png\n",
            "adm/598/\n",
            "adm/598/10.png\n",
            "adm/598/17.png\n",
            "adm/598/3.png\n",
            "adm/598/1.png\n",
            "adm/598/25.png\n",
            "adm/598/24.png\n",
            "adm/598/34.png\n",
            "adm/598/33.png\n",
            "adm/598/23.png\n",
            "adm/598/22.png\n",
            "adm/598/18.png\n",
            "adm/598/11.png\n",
            "adm/598/39.png\n",
            "adm/598/7.png\n",
            "adm/598/27.png\n",
            "adm/598/19.png\n",
            "adm/598/0.png\n",
            "adm/598/2.png\n",
            "adm/598/29.png\n",
            "adm/598/36.png\n",
            "adm/598/20.png\n",
            "adm/598/30.png\n",
            "adm/598/8.png\n",
            "adm/598/5.png\n",
            "adm/598/14.png\n",
            "adm/598/4.png\n",
            "adm/598/9.png\n",
            "adm/598/26.png\n",
            "adm/598/31.png\n",
            "adm/598/21.png\n",
            "adm/598/32.png\n",
            "adm/598/37.png\n",
            "adm/598/38.png\n",
            "adm/598/15.png\n",
            "adm/598/16.png\n",
            "adm/598/35.png\n",
            "adm/598/6.png\n",
            "adm/598/28.png\n",
            "adm/598/12.png\n",
            "adm/598/13.png\n",
            "adm/902/\n",
            "adm/902/10.png\n",
            "adm/902/17.png\n",
            "adm/902/3.png\n",
            "adm/902/1.png\n",
            "adm/902/25.png\n",
            "adm/902/24.png\n",
            "adm/902/34.png\n",
            "adm/902/33.png\n",
            "adm/902/23.png\n",
            "adm/902/22.png\n",
            "adm/902/18.png\n",
            "adm/902/11.png\n",
            "adm/902/39.png\n",
            "adm/902/7.png\n",
            "adm/902/27.png\n",
            "adm/902/19.png\n",
            "adm/902/0.png\n",
            "adm/902/2.png\n",
            "adm/902/29.png\n",
            "adm/902/36.png\n",
            "adm/902/20.png\n",
            "adm/902/30.png\n",
            "adm/902/8.png\n",
            "adm/902/5.png\n",
            "adm/902/14.png\n",
            "adm/902/4.png\n",
            "adm/902/9.png\n",
            "adm/902/26.png\n",
            "adm/902/31.png\n",
            "adm/902/21.png\n",
            "adm/902/32.png\n",
            "adm/902/37.png\n",
            "adm/902/38.png\n",
            "adm/902/15.png\n",
            "adm/902/16.png\n",
            "adm/902/35.png\n",
            "adm/902/6.png\n",
            "adm/902/28.png\n",
            "adm/902/12.png\n",
            "adm/902/13.png\n",
            "adm/618/\n",
            "adm/618/10.png\n",
            "adm/618/17.png\n",
            "adm/618/3.png\n",
            "adm/618/1.png\n",
            "adm/618/25.png\n",
            "adm/618/24.png\n",
            "adm/618/34.png\n",
            "adm/618/33.png\n",
            "adm/618/23.png\n",
            "adm/618/22.png\n",
            "adm/618/18.png\n",
            "adm/618/11.png\n",
            "adm/618/39.png\n",
            "adm/618/7.png\n",
            "adm/618/27.png\n",
            "adm/618/19.png\n",
            "adm/618/0.png\n",
            "adm/618/2.png\n",
            "adm/618/29.png\n",
            "adm/618/36.png\n",
            "adm/618/20.png\n",
            "adm/618/30.png\n",
            "adm/618/8.png\n",
            "adm/618/5.png\n",
            "adm/618/14.png\n",
            "adm/618/4.png\n",
            "adm/618/9.png\n",
            "adm/618/26.png\n",
            "adm/618/31.png\n",
            "adm/618/21.png\n",
            "adm/618/32.png\n",
            "adm/618/37.png\n",
            "adm/618/38.png\n",
            "adm/618/15.png\n",
            "adm/618/16.png\n",
            "adm/618/35.png\n",
            "adm/618/6.png\n",
            "adm/618/28.png\n",
            "adm/618/12.png\n",
            "adm/618/13.png\n",
            "adm/909/\n",
            "adm/909/10.png\n",
            "adm/909/17.png\n",
            "adm/909/3.png\n",
            "adm/909/1.png\n",
            "adm/909/25.png\n",
            "adm/909/24.png\n",
            "adm/909/34.png\n",
            "adm/909/33.png\n",
            "adm/909/23.png\n",
            "adm/909/22.png\n",
            "adm/909/18.png\n",
            "adm/909/11.png\n",
            "adm/909/39.png\n",
            "adm/909/7.png\n",
            "adm/909/27.png\n",
            "adm/909/19.png\n",
            "adm/909/0.png\n",
            "adm/909/2.png\n",
            "adm/909/29.png\n",
            "adm/909/36.png\n",
            "adm/909/20.png\n",
            "adm/909/30.png\n",
            "adm/909/8.png\n",
            "adm/909/5.png\n",
            "adm/909/14.png\n",
            "adm/909/4.png\n",
            "adm/909/9.png\n",
            "adm/909/26.png\n",
            "adm/909/31.png\n",
            "adm/909/21.png\n",
            "adm/909/32.png\n",
            "adm/909/37.png\n",
            "adm/909/38.png\n",
            "adm/909/15.png\n",
            "adm/909/16.png\n",
            "adm/909/35.png\n",
            "adm/909/6.png\n",
            "adm/909/28.png\n",
            "adm/909/12.png\n",
            "adm/909/13.png\n",
            "adm/114/\n",
            "adm/114/10.png\n",
            "adm/114/17.png\n",
            "adm/114/3.png\n",
            "adm/114/1.png\n",
            "adm/114/25.png\n",
            "adm/114/24.png\n",
            "adm/114/34.png\n",
            "adm/114/33.png\n",
            "adm/114/23.png\n",
            "adm/114/22.png\n",
            "adm/114/18.png\n",
            "adm/114/11.png\n",
            "adm/114/39.png\n",
            "adm/114/7.png\n",
            "adm/114/27.png\n",
            "adm/114/19.png\n",
            "adm/114/0.png\n",
            "adm/114/2.png\n",
            "adm/114/29.png\n",
            "adm/114/36.png\n",
            "adm/114/20.png\n",
            "adm/114/30.png\n",
            "adm/114/8.png\n",
            "adm/114/5.png\n",
            "adm/114/14.png\n",
            "adm/114/4.png\n",
            "adm/114/9.png\n",
            "adm/114/26.png\n",
            "adm/114/31.png\n",
            "adm/114/21.png\n",
            "adm/114/32.png\n",
            "adm/114/37.png\n",
            "adm/114/38.png\n",
            "adm/114/15.png\n",
            "adm/114/16.png\n",
            "adm/114/35.png\n",
            "adm/114/6.png\n",
            "adm/114/28.png\n",
            "adm/114/12.png\n",
            "adm/114/13.png\n",
            "adm/847/\n",
            "adm/847/10.png\n",
            "adm/847/17.png\n",
            "adm/847/3.png\n",
            "adm/847/1.png\n",
            "adm/847/25.png\n",
            "adm/847/24.png\n",
            "adm/847/34.png\n",
            "adm/847/33.png\n",
            "adm/847/23.png\n",
            "adm/847/22.png\n",
            "adm/847/18.png\n",
            "adm/847/11.png\n",
            "adm/847/39.png\n",
            "adm/847/7.png\n",
            "adm/847/27.png\n",
            "adm/847/19.png\n",
            "adm/847/0.png\n",
            "adm/847/2.png\n",
            "adm/847/29.png\n",
            "adm/847/36.png\n",
            "adm/847/20.png\n",
            "adm/847/30.png\n",
            "adm/847/8.png\n",
            "adm/847/5.png\n",
            "adm/847/14.png\n",
            "adm/847/4.png\n",
            "adm/847/9.png\n",
            "adm/847/26.png\n",
            "adm/847/31.png\n",
            "adm/847/21.png\n",
            "adm/847/32.png\n",
            "adm/847/37.png\n",
            "adm/847/38.png\n",
            "adm/847/15.png\n",
            "adm/847/16.png\n",
            "adm/847/35.png\n",
            "adm/847/6.png\n",
            "adm/847/28.png\n",
            "adm/847/12.png\n",
            "adm/847/13.png\n",
            "adm/564/\n",
            "adm/564/10.png\n",
            "adm/564/17.png\n",
            "adm/564/3.png\n",
            "adm/564/1.png\n",
            "adm/564/25.png\n",
            "adm/564/24.png\n",
            "adm/564/34.png\n",
            "adm/564/33.png\n",
            "adm/564/23.png\n",
            "adm/564/22.png\n",
            "adm/564/18.png\n",
            "adm/564/11.png\n",
            "adm/564/39.png\n",
            "adm/564/7.png\n",
            "adm/564/27.png\n",
            "adm/564/19.png\n",
            "adm/564/0.png\n",
            "adm/564/2.png\n",
            "adm/564/29.png\n",
            "adm/564/36.png\n",
            "adm/564/20.png\n",
            "adm/564/30.png\n",
            "adm/564/8.png\n",
            "adm/564/5.png\n",
            "adm/564/14.png\n",
            "adm/564/4.png\n",
            "adm/564/9.png\n",
            "adm/564/26.png\n",
            "adm/564/31.png\n",
            "adm/564/21.png\n",
            "adm/564/32.png\n",
            "adm/564/37.png\n",
            "adm/564/38.png\n",
            "adm/564/15.png\n",
            "adm/564/16.png\n",
            "adm/564/35.png\n",
            "adm/564/6.png\n",
            "adm/564/28.png\n",
            "adm/564/12.png\n",
            "adm/564/13.png\n",
            "adm/951/\n",
            "adm/951/10.png\n",
            "adm/951/17.png\n",
            "adm/951/3.png\n",
            "adm/951/1.png\n",
            "adm/951/25.png\n",
            "adm/951/24.png\n",
            "adm/951/34.png\n",
            "adm/951/33.png\n",
            "adm/951/23.png\n",
            "adm/951/22.png\n",
            "adm/951/18.png\n",
            "adm/951/11.png\n",
            "adm/951/39.png\n",
            "adm/951/7.png\n",
            "adm/951/27.png\n",
            "adm/951/19.png\n",
            "adm/951/0.png\n",
            "adm/951/2.png\n",
            "adm/951/29.png\n",
            "adm/951/36.png\n",
            "adm/951/20.png\n",
            "adm/951/30.png\n",
            "adm/951/8.png\n",
            "adm/951/5.png\n",
            "adm/951/14.png\n",
            "adm/951/4.png\n",
            "adm/951/9.png\n",
            "adm/951/26.png\n",
            "adm/951/31.png\n",
            "adm/951/21.png\n",
            "adm/951/32.png\n",
            "adm/951/37.png\n",
            "adm/951/38.png\n",
            "adm/951/15.png\n",
            "adm/951/16.png\n",
            "adm/951/35.png\n",
            "adm/951/6.png\n",
            "adm/951/28.png\n",
            "adm/951/12.png\n",
            "adm/951/13.png\n",
            "adm/632/\n",
            "adm/632/10.png\n",
            "adm/632/17.png\n",
            "adm/632/3.png\n",
            "adm/632/1.png\n",
            "adm/632/25.png\n",
            "adm/632/24.png\n",
            "adm/632/34.png\n",
            "adm/632/33.png\n",
            "adm/632/23.png\n",
            "adm/632/22.png\n",
            "adm/632/18.png\n",
            "adm/632/11.png\n",
            "adm/632/39.png\n",
            "adm/632/7.png\n",
            "adm/632/27.png\n",
            "adm/632/19.png\n",
            "adm/632/0.png\n",
            "adm/632/2.png\n",
            "adm/632/29.png\n",
            "adm/632/36.png\n",
            "adm/632/20.png\n",
            "adm/632/30.png\n",
            "adm/632/8.png\n",
            "adm/632/5.png\n",
            "adm/632/14.png\n",
            "adm/632/4.png\n",
            "adm/632/9.png\n",
            "adm/632/26.png\n",
            "adm/632/31.png\n",
            "adm/632/21.png\n",
            "adm/632/32.png\n",
            "adm/632/37.png\n",
            "adm/632/38.png\n",
            "adm/632/15.png\n",
            "adm/632/16.png\n",
            "adm/632/35.png\n",
            "adm/632/6.png\n",
            "adm/632/28.png\n",
            "adm/632/12.png\n",
            "adm/632/13.png\n",
            "adm/512/\n",
            "adm/512/10.png\n",
            "adm/512/17.png\n",
            "adm/512/3.png\n",
            "adm/512/1.png\n",
            "adm/512/25.png\n",
            "adm/512/24.png\n",
            "adm/512/34.png\n",
            "adm/512/33.png\n",
            "adm/512/23.png\n",
            "adm/512/22.png\n",
            "adm/512/18.png\n",
            "adm/512/11.png\n",
            "adm/512/39.png\n",
            "adm/512/7.png\n",
            "adm/512/27.png\n",
            "adm/512/19.png\n",
            "adm/512/0.png\n",
            "adm/512/2.png\n",
            "adm/512/29.png\n",
            "adm/512/36.png\n",
            "adm/512/20.png\n",
            "adm/512/30.png\n",
            "adm/512/8.png\n",
            "adm/512/5.png\n",
            "adm/512/14.png\n",
            "adm/512/4.png\n",
            "adm/512/9.png\n",
            "adm/512/26.png\n",
            "adm/512/31.png\n",
            "adm/512/21.png\n",
            "adm/512/32.png\n",
            "adm/512/37.png\n",
            "adm/512/38.png\n",
            "adm/512/15.png\n",
            "adm/512/16.png\n",
            "adm/512/35.png\n",
            "adm/512/6.png\n",
            "adm/512/28.png\n",
            "adm/512/12.png\n",
            "adm/512/13.png\n",
            "adm/147/\n",
            "adm/147/10.png\n",
            "adm/147/17.png\n",
            "adm/147/3.png\n",
            "adm/147/1.png\n",
            "adm/147/25.png\n",
            "adm/147/24.png\n",
            "adm/147/34.png\n",
            "adm/147/33.png\n",
            "adm/147/23.png\n",
            "adm/147/22.png\n",
            "adm/147/18.png\n",
            "adm/147/11.png\n",
            "adm/147/39.png\n",
            "adm/147/7.png\n",
            "adm/147/27.png\n",
            "adm/147/19.png\n",
            "adm/147/0.png\n",
            "adm/147/2.png\n",
            "adm/147/29.png\n",
            "adm/147/36.png\n",
            "adm/147/20.png\n",
            "adm/147/30.png\n",
            "adm/147/8.png\n",
            "adm/147/5.png\n",
            "adm/147/14.png\n",
            "adm/147/4.png\n",
            "adm/147/9.png\n",
            "adm/147/26.png\n",
            "adm/147/31.png\n",
            "adm/147/21.png\n",
            "adm/147/32.png\n",
            "adm/147/37.png\n",
            "adm/147/38.png\n",
            "adm/147/15.png\n",
            "adm/147/16.png\n",
            "adm/147/35.png\n",
            "adm/147/6.png\n",
            "adm/147/28.png\n",
            "adm/147/12.png\n",
            "adm/147/13.png\n",
            "adm/700/\n",
            "adm/700/10.png\n",
            "adm/700/17.png\n",
            "adm/700/3.png\n",
            "adm/700/1.png\n",
            "adm/700/25.png\n",
            "adm/700/24.png\n",
            "adm/700/34.png\n",
            "adm/700/33.png\n",
            "adm/700/23.png\n",
            "adm/700/22.png\n",
            "adm/700/18.png\n",
            "adm/700/11.png\n",
            "adm/700/39.png\n",
            "adm/700/7.png\n",
            "adm/700/27.png\n",
            "adm/700/19.png\n",
            "adm/700/0.png\n",
            "adm/700/2.png\n",
            "adm/700/29.png\n",
            "adm/700/36.png\n",
            "adm/700/20.png\n",
            "adm/700/30.png\n",
            "adm/700/8.png\n",
            "adm/700/5.png\n",
            "adm/700/14.png\n",
            "adm/700/4.png\n",
            "adm/700/9.png\n",
            "adm/700/26.png\n",
            "adm/700/31.png\n",
            "adm/700/21.png\n",
            "adm/700/32.png\n",
            "adm/700/37.png\n",
            "adm/700/38.png\n",
            "adm/700/15.png\n",
            "adm/700/16.png\n",
            "adm/700/35.png\n",
            "adm/700/6.png\n",
            "adm/700/28.png\n",
            "adm/700/12.png\n",
            "adm/700/13.png\n",
            "adm/653/\n",
            "adm/653/10.png\n",
            "adm/653/17.png\n",
            "adm/653/3.png\n",
            "adm/653/1.png\n",
            "adm/653/25.png\n",
            "adm/653/24.png\n",
            "adm/653/34.png\n",
            "adm/653/33.png\n",
            "adm/653/23.png\n",
            "adm/653/22.png\n",
            "adm/653/18.png\n",
            "adm/653/11.png\n",
            "adm/653/39.png\n",
            "adm/653/7.png\n",
            "adm/653/27.png\n",
            "adm/653/19.png\n",
            "adm/653/0.png\n",
            "adm/653/2.png\n",
            "adm/653/29.png\n",
            "adm/653/36.png\n",
            "adm/653/20.png\n",
            "adm/653/30.png\n",
            "adm/653/8.png\n",
            "adm/653/5.png\n",
            "adm/653/14.png\n",
            "adm/653/4.png\n",
            "adm/653/9.png\n",
            "adm/653/26.png\n",
            "adm/653/31.png\n",
            "adm/653/21.png\n",
            "adm/653/32.png\n",
            "adm/653/37.png\n",
            "adm/653/38.png\n",
            "adm/653/15.png\n",
            "adm/653/16.png\n",
            "adm/653/35.png\n",
            "adm/653/6.png\n",
            "adm/653/28.png\n",
            "adm/653/12.png\n",
            "adm/653/13.png\n",
            "adm/67/\n",
            "adm/67/10.png\n",
            "adm/67/17.png\n",
            "adm/67/3.png\n",
            "adm/67/1.png\n",
            "adm/67/25.png\n",
            "adm/67/24.png\n",
            "adm/67/34.png\n",
            "adm/67/33.png\n",
            "adm/67/23.png\n",
            "adm/67/22.png\n",
            "adm/67/18.png\n",
            "adm/67/11.png\n",
            "adm/67/39.png\n",
            "adm/67/7.png\n",
            "adm/67/27.png\n",
            "adm/67/19.png\n",
            "adm/67/0.png\n",
            "adm/67/2.png\n",
            "adm/67/29.png\n",
            "adm/67/36.png\n",
            "adm/67/20.png\n",
            "adm/67/30.png\n",
            "adm/67/8.png\n",
            "adm/67/5.png\n",
            "adm/67/14.png\n",
            "adm/67/4.png\n",
            "adm/67/9.png\n",
            "adm/67/26.png\n",
            "adm/67/31.png\n",
            "adm/67/21.png\n",
            "adm/67/32.png\n",
            "adm/67/37.png\n",
            "adm/67/38.png\n",
            "adm/67/15.png\n",
            "adm/67/16.png\n",
            "adm/67/35.png\n",
            "adm/67/6.png\n",
            "adm/67/28.png\n",
            "adm/67/12.png\n",
            "adm/67/13.png\n",
            "adm/745/\n",
            "adm/745/10.png\n",
            "adm/745/17.png\n",
            "adm/745/3.png\n",
            "adm/745/1.png\n",
            "adm/745/25.png\n",
            "adm/745/24.png\n",
            "adm/745/34.png\n",
            "adm/745/33.png\n",
            "adm/745/23.png\n",
            "adm/745/22.png\n",
            "adm/745/18.png\n",
            "adm/745/11.png\n",
            "adm/745/39.png\n",
            "adm/745/7.png\n",
            "adm/745/27.png\n",
            "adm/745/19.png\n",
            "adm/745/0.png\n",
            "adm/745/2.png\n",
            "adm/745/29.png\n",
            "adm/745/36.png\n",
            "adm/745/20.png\n",
            "adm/745/30.png\n",
            "adm/745/8.png\n",
            "adm/745/5.png\n",
            "adm/745/14.png\n",
            "adm/745/4.png\n",
            "adm/745/9.png\n",
            "adm/745/26.png\n",
            "adm/745/31.png\n",
            "adm/745/21.png\n",
            "adm/745/32.png\n",
            "adm/745/37.png\n",
            "adm/745/38.png\n",
            "adm/745/15.png\n",
            "adm/745/16.png\n",
            "adm/745/35.png\n",
            "adm/745/6.png\n",
            "adm/745/28.png\n",
            "adm/745/12.png\n",
            "adm/745/13.png\n",
            "adm/623/\n",
            "adm/623/10.png\n",
            "adm/623/17.png\n",
            "adm/623/3.png\n",
            "adm/623/1.png\n",
            "adm/623/25.png\n",
            "adm/623/24.png\n",
            "adm/623/34.png\n",
            "adm/623/33.png\n",
            "adm/623/23.png\n",
            "adm/623/22.png\n",
            "adm/623/18.png\n",
            "adm/623/11.png\n",
            "adm/623/39.png\n",
            "adm/623/7.png\n",
            "adm/623/27.png\n",
            "adm/623/19.png\n",
            "adm/623/0.png\n",
            "adm/623/2.png\n",
            "adm/623/29.png\n",
            "adm/623/36.png\n",
            "adm/623/20.png\n",
            "adm/623/30.png\n",
            "adm/623/8.png\n",
            "adm/623/5.png\n",
            "adm/623/14.png\n",
            "adm/623/4.png\n",
            "adm/623/9.png\n",
            "adm/623/26.png\n",
            "adm/623/31.png\n",
            "adm/623/21.png\n",
            "adm/623/32.png\n",
            "adm/623/37.png\n",
            "adm/623/38.png\n",
            "adm/623/15.png\n",
            "adm/623/16.png\n",
            "adm/623/35.png\n",
            "adm/623/6.png\n",
            "adm/623/28.png\n",
            "adm/623/12.png\n",
            "adm/623/13.png\n",
            "adm/335/\n",
            "adm/335/10.png\n",
            "adm/335/17.png\n",
            "adm/335/3.png\n",
            "adm/335/1.png\n",
            "adm/335/25.png\n",
            "adm/335/24.png\n",
            "adm/335/34.png\n",
            "adm/335/33.png\n",
            "adm/335/23.png\n",
            "adm/335/22.png\n",
            "adm/335/18.png\n",
            "adm/335/11.png\n",
            "adm/335/39.png\n",
            "adm/335/7.png\n",
            "adm/335/27.png\n",
            "adm/335/19.png\n",
            "adm/335/0.png\n",
            "adm/335/2.png\n",
            "adm/335/29.png\n",
            "adm/335/36.png\n",
            "adm/335/20.png\n",
            "adm/335/30.png\n",
            "adm/335/8.png\n",
            "adm/335/5.png\n",
            "adm/335/14.png\n",
            "adm/335/4.png\n",
            "adm/335/9.png\n",
            "adm/335/26.png\n",
            "adm/335/31.png\n",
            "adm/335/21.png\n",
            "adm/335/32.png\n",
            "adm/335/37.png\n",
            "adm/335/38.png\n",
            "adm/335/15.png\n",
            "adm/335/16.png\n",
            "adm/335/35.png\n",
            "adm/335/6.png\n",
            "adm/335/28.png\n",
            "adm/335/12.png\n",
            "adm/335/13.png\n",
            "adm/66/\n",
            "adm/66/10.png\n",
            "adm/66/17.png\n",
            "adm/66/3.png\n",
            "adm/66/1.png\n",
            "adm/66/25.png\n",
            "adm/66/24.png\n",
            "adm/66/34.png\n",
            "adm/66/33.png\n",
            "adm/66/23.png\n",
            "adm/66/22.png\n",
            "adm/66/18.png\n",
            "adm/66/11.png\n",
            "adm/66/39.png\n",
            "adm/66/7.png\n",
            "adm/66/27.png\n",
            "adm/66/19.png\n",
            "adm/66/0.png\n",
            "adm/66/2.png\n",
            "adm/66/29.png\n",
            "adm/66/36.png\n",
            "adm/66/20.png\n",
            "adm/66/30.png\n",
            "adm/66/8.png\n",
            "adm/66/5.png\n",
            "adm/66/14.png\n",
            "adm/66/4.png\n",
            "adm/66/9.png\n",
            "adm/66/26.png\n",
            "adm/66/31.png\n",
            "adm/66/21.png\n",
            "adm/66/32.png\n",
            "adm/66/37.png\n",
            "adm/66/38.png\n",
            "adm/66/15.png\n",
            "adm/66/16.png\n",
            "adm/66/35.png\n",
            "adm/66/6.png\n",
            "adm/66/28.png\n",
            "adm/66/12.png\n",
            "adm/66/13.png\n",
            "adm/957/\n",
            "adm/957/10.png\n",
            "adm/957/17.png\n",
            "adm/957/3.png\n",
            "adm/957/1.png\n",
            "adm/957/25.png\n",
            "adm/957/24.png\n",
            "adm/957/34.png\n",
            "adm/957/33.png\n",
            "adm/957/23.png\n",
            "adm/957/22.png\n",
            "adm/957/18.png\n",
            "adm/957/11.png\n",
            "adm/957/39.png\n",
            "adm/957/7.png\n",
            "adm/957/27.png\n",
            "adm/957/19.png\n",
            "adm/957/0.png\n",
            "adm/957/2.png\n",
            "adm/957/29.png\n",
            "adm/957/36.png\n",
            "adm/957/20.png\n",
            "adm/957/30.png\n",
            "adm/957/8.png\n",
            "adm/957/5.png\n",
            "adm/957/14.png\n",
            "adm/957/4.png\n",
            "adm/957/9.png\n",
            "adm/957/26.png\n",
            "adm/957/31.png\n",
            "adm/957/21.png\n",
            "adm/957/32.png\n",
            "adm/957/37.png\n",
            "adm/957/38.png\n",
            "adm/957/15.png\n",
            "adm/957/16.png\n",
            "adm/957/35.png\n",
            "adm/957/6.png\n",
            "adm/957/28.png\n",
            "adm/957/12.png\n",
            "adm/957/13.png\n",
            "adm/413/\n",
            "adm/413/10.png\n",
            "adm/413/17.png\n",
            "adm/413/3.png\n",
            "adm/413/1.png\n",
            "adm/413/25.png\n",
            "adm/413/24.png\n",
            "adm/413/34.png\n",
            "adm/413/33.png\n",
            "adm/413/23.png\n",
            "adm/413/22.png\n",
            "adm/413/18.png\n",
            "adm/413/11.png\n",
            "adm/413/39.png\n",
            "adm/413/7.png\n",
            "adm/413/27.png\n",
            "adm/413/19.png\n",
            "adm/413/0.png\n",
            "adm/413/2.png\n",
            "adm/413/29.png\n",
            "adm/413/36.png\n",
            "adm/413/20.png\n",
            "adm/413/30.png\n",
            "adm/413/8.png\n",
            "adm/413/5.png\n",
            "adm/413/14.png\n",
            "adm/413/4.png\n",
            "adm/413/9.png\n",
            "adm/413/26.png\n",
            "adm/413/31.png\n",
            "adm/413/21.png\n",
            "adm/413/32.png\n",
            "adm/413/37.png\n",
            "adm/413/38.png\n",
            "adm/413/15.png\n",
            "adm/413/16.png\n",
            "adm/413/35.png\n",
            "adm/413/6.png\n",
            "adm/413/28.png\n",
            "adm/413/12.png\n",
            "adm/413/13.png\n",
            "adm/51/\n",
            "adm/51/10.png\n",
            "adm/51/17.png\n",
            "adm/51/3.png\n",
            "adm/51/1.png\n",
            "adm/51/25.png\n",
            "adm/51/24.png\n",
            "adm/51/34.png\n",
            "adm/51/33.png\n",
            "adm/51/23.png\n",
            "adm/51/22.png\n",
            "adm/51/18.png\n",
            "adm/51/11.png\n",
            "adm/51/39.png\n",
            "adm/51/7.png\n",
            "adm/51/27.png\n",
            "adm/51/19.png\n",
            "adm/51/0.png\n",
            "adm/51/2.png\n",
            "adm/51/29.png\n",
            "adm/51/36.png\n",
            "adm/51/20.png\n",
            "adm/51/30.png\n",
            "adm/51/8.png\n",
            "adm/51/5.png\n",
            "adm/51/14.png\n",
            "adm/51/4.png\n",
            "adm/51/9.png\n",
            "adm/51/26.png\n",
            "adm/51/31.png\n",
            "adm/51/21.png\n",
            "adm/51/32.png\n",
            "adm/51/37.png\n",
            "adm/51/38.png\n",
            "adm/51/15.png\n",
            "adm/51/16.png\n",
            "adm/51/35.png\n",
            "adm/51/6.png\n",
            "adm/51/28.png\n",
            "adm/51/12.png\n",
            "adm/51/13.png\n",
            "adm/360/\n",
            "adm/360/10.png\n",
            "adm/360/17.png\n",
            "adm/360/3.png\n",
            "adm/360/1.png\n",
            "adm/360/25.png\n",
            "adm/360/24.png\n",
            "adm/360/34.png\n",
            "adm/360/33.png\n",
            "adm/360/23.png\n",
            "adm/360/22.png\n",
            "adm/360/18.png\n",
            "adm/360/11.png\n",
            "adm/360/39.png\n",
            "adm/360/7.png\n",
            "adm/360/27.png\n",
            "adm/360/19.png\n",
            "adm/360/0.png\n",
            "adm/360/2.png\n",
            "adm/360/29.png\n",
            "adm/360/36.png\n",
            "adm/360/20.png\n",
            "adm/360/30.png\n",
            "adm/360/8.png\n",
            "adm/360/5.png\n",
            "adm/360/14.png\n",
            "adm/360/4.png\n",
            "adm/360/9.png\n",
            "adm/360/26.png\n",
            "adm/360/31.png\n",
            "adm/360/21.png\n",
            "adm/360/32.png\n",
            "adm/360/37.png\n",
            "adm/360/38.png\n",
            "adm/360/15.png\n",
            "adm/360/16.png\n",
            "adm/360/35.png\n",
            "adm/360/6.png\n",
            "adm/360/28.png\n",
            "adm/360/12.png\n",
            "adm/360/13.png\n",
            "adm/626/\n",
            "adm/626/10.png\n",
            "adm/626/17.png\n",
            "adm/626/3.png\n",
            "adm/626/1.png\n",
            "adm/626/25.png\n",
            "adm/626/24.png\n",
            "adm/626/34.png\n",
            "adm/626/33.png\n",
            "adm/626/23.png\n",
            "adm/626/22.png\n",
            "adm/626/18.png\n",
            "adm/626/11.png\n",
            "adm/626/39.png\n",
            "adm/626/7.png\n",
            "adm/626/27.png\n",
            "adm/626/19.png\n",
            "adm/626/0.png\n",
            "adm/626/2.png\n",
            "adm/626/29.png\n",
            "adm/626/36.png\n",
            "adm/626/20.png\n",
            "adm/626/30.png\n",
            "adm/626/8.png\n",
            "adm/626/5.png\n",
            "adm/626/14.png\n",
            "adm/626/4.png\n",
            "adm/626/9.png\n",
            "adm/626/26.png\n",
            "adm/626/31.png\n",
            "adm/626/21.png\n",
            "adm/626/32.png\n",
            "adm/626/37.png\n",
            "adm/626/38.png\n",
            "adm/626/15.png\n",
            "adm/626/16.png\n",
            "adm/626/35.png\n",
            "adm/626/6.png\n",
            "adm/626/28.png\n",
            "adm/626/12.png\n",
            "adm/626/13.png\n",
            "adm/93/\n",
            "adm/93/10.png\n",
            "adm/93/17.png\n",
            "adm/93/3.png\n",
            "adm/93/1.png\n",
            "adm/93/25.png\n",
            "adm/93/24.png\n",
            "adm/93/34.png\n",
            "adm/93/33.png\n",
            "adm/93/23.png\n",
            "adm/93/22.png\n",
            "adm/93/18.png\n",
            "adm/93/11.png\n",
            "adm/93/39.png\n",
            "adm/93/7.png\n",
            "adm/93/27.png\n",
            "adm/93/19.png\n",
            "adm/93/0.png\n",
            "adm/93/2.png\n",
            "adm/93/29.png\n",
            "adm/93/36.png\n",
            "adm/93/20.png\n",
            "adm/93/30.png\n",
            "adm/93/8.png\n",
            "adm/93/5.png\n",
            "adm/93/14.png\n",
            "adm/93/4.png\n",
            "adm/93/9.png\n",
            "adm/93/26.png\n",
            "adm/93/31.png\n",
            "adm/93/21.png\n",
            "adm/93/32.png\n",
            "adm/93/37.png\n",
            "adm/93/38.png\n",
            "adm/93/15.png\n",
            "adm/93/16.png\n",
            "adm/93/35.png\n",
            "adm/93/6.png\n",
            "adm/93/28.png\n",
            "adm/93/12.png\n",
            "adm/93/13.png\n",
            "adm/52/\n",
            "adm/52/10.png\n",
            "adm/52/17.png\n",
            "adm/52/3.png\n",
            "adm/52/1.png\n",
            "adm/52/25.png\n",
            "adm/52/24.png\n",
            "adm/52/34.png\n",
            "adm/52/33.png\n",
            "adm/52/23.png\n",
            "adm/52/22.png\n",
            "adm/52/18.png\n",
            "adm/52/11.png\n",
            "adm/52/39.png\n",
            "adm/52/7.png\n",
            "adm/52/27.png\n",
            "adm/52/19.png\n",
            "adm/52/0.png\n",
            "adm/52/2.png\n",
            "adm/52/29.png\n",
            "adm/52/36.png\n",
            "adm/52/20.png\n",
            "adm/52/30.png\n",
            "adm/52/8.png\n",
            "adm/52/5.png\n",
            "adm/52/14.png\n",
            "adm/52/4.png\n",
            "adm/52/9.png\n",
            "adm/52/26.png\n",
            "adm/52/31.png\n",
            "adm/52/21.png\n",
            "adm/52/32.png\n",
            "adm/52/37.png\n",
            "adm/52/38.png\n",
            "adm/52/15.png\n",
            "adm/52/16.png\n",
            "adm/52/35.png\n",
            "adm/52/6.png\n",
            "adm/52/28.png\n",
            "adm/52/12.png\n",
            "adm/52/13.png\n",
            "adm/236/\n",
            "adm/236/10.png\n",
            "adm/236/17.png\n",
            "adm/236/3.png\n",
            "adm/236/1.png\n",
            "adm/236/25.png\n",
            "adm/236/24.png\n",
            "adm/236/34.png\n",
            "adm/236/33.png\n",
            "adm/236/23.png\n",
            "adm/236/22.png\n",
            "adm/236/18.png\n",
            "adm/236/11.png\n",
            "adm/236/39.png\n",
            "adm/236/7.png\n",
            "adm/236/27.png\n",
            "adm/236/19.png\n",
            "adm/236/0.png\n",
            "adm/236/2.png\n",
            "adm/236/29.png\n",
            "adm/236/36.png\n",
            "adm/236/20.png\n",
            "adm/236/30.png\n",
            "adm/236/8.png\n",
            "adm/236/5.png\n",
            "adm/236/14.png\n",
            "adm/236/4.png\n",
            "adm/236/9.png\n",
            "adm/236/26.png\n",
            "adm/236/31.png\n",
            "adm/236/21.png\n",
            "adm/236/32.png\n",
            "adm/236/37.png\n",
            "adm/236/38.png\n",
            "adm/236/15.png\n",
            "adm/236/16.png\n",
            "adm/236/35.png\n",
            "adm/236/6.png\n",
            "adm/236/28.png\n",
            "adm/236/12.png\n",
            "adm/236/13.png\n",
            "adm/38/\n",
            "adm/38/10.png\n",
            "adm/38/17.png\n",
            "adm/38/3.png\n",
            "adm/38/1.png\n",
            "adm/38/25.png\n",
            "adm/38/24.png\n",
            "adm/38/34.png\n",
            "adm/38/33.png\n",
            "adm/38/23.png\n",
            "adm/38/22.png\n",
            "adm/38/18.png\n",
            "adm/38/11.png\n",
            "adm/38/39.png\n",
            "adm/38/7.png\n",
            "adm/38/27.png\n",
            "adm/38/19.png\n",
            "adm/38/0.png\n",
            "adm/38/2.png\n",
            "adm/38/29.png\n",
            "adm/38/36.png\n",
            "adm/38/20.png\n",
            "adm/38/30.png\n",
            "adm/38/8.png\n",
            "adm/38/5.png\n",
            "adm/38/14.png\n",
            "adm/38/4.png\n",
            "adm/38/9.png\n",
            "adm/38/26.png\n",
            "adm/38/31.png\n",
            "adm/38/21.png\n",
            "adm/38/32.png\n",
            "adm/38/37.png\n",
            "adm/38/38.png\n",
            "adm/38/15.png\n",
            "adm/38/16.png\n",
            "adm/38/35.png\n",
            "adm/38/6.png\n",
            "adm/38/28.png\n",
            "adm/38/12.png\n",
            "adm/38/13.png\n",
            "adm/539/\n",
            "adm/539/10.png\n",
            "adm/539/17.png\n",
            "adm/539/3.png\n",
            "adm/539/1.png\n",
            "adm/539/25.png\n",
            "adm/539/24.png\n",
            "adm/539/34.png\n",
            "adm/539/33.png\n",
            "adm/539/23.png\n",
            "adm/539/22.png\n",
            "adm/539/18.png\n",
            "adm/539/11.png\n",
            "adm/539/39.png\n",
            "adm/539/7.png\n",
            "adm/539/27.png\n",
            "adm/539/19.png\n",
            "adm/539/0.png\n",
            "adm/539/2.png\n",
            "adm/539/29.png\n",
            "adm/539/36.png\n",
            "adm/539/20.png\n",
            "adm/539/30.png\n",
            "adm/539/8.png\n",
            "adm/539/5.png\n",
            "adm/539/14.png\n",
            "adm/539/4.png\n",
            "adm/539/9.png\n",
            "adm/539/26.png\n",
            "adm/539/31.png\n",
            "adm/539/21.png\n",
            "adm/539/32.png\n",
            "adm/539/37.png\n",
            "adm/539/38.png\n",
            "adm/539/15.png\n",
            "adm/539/16.png\n",
            "adm/539/35.png\n",
            "adm/539/6.png\n",
            "adm/539/28.png\n",
            "adm/539/12.png\n",
            "adm/539/13.png\n",
            "adm/22/\n",
            "adm/22/10.png\n",
            "adm/22/17.png\n",
            "adm/22/3.png\n",
            "adm/22/1.png\n",
            "adm/22/25.png\n",
            "adm/22/24.png\n",
            "adm/22/34.png\n",
            "adm/22/33.png\n",
            "adm/22/23.png\n",
            "adm/22/22.png\n",
            "adm/22/18.png\n",
            "adm/22/11.png\n",
            "adm/22/39.png\n",
            "adm/22/7.png\n",
            "adm/22/27.png\n",
            "adm/22/19.png\n",
            "adm/22/0.png\n",
            "adm/22/2.png\n",
            "adm/22/29.png\n",
            "adm/22/36.png\n",
            "adm/22/20.png\n",
            "adm/22/30.png\n",
            "adm/22/8.png\n",
            "adm/22/5.png\n",
            "adm/22/14.png\n",
            "adm/22/4.png\n",
            "adm/22/9.png\n",
            "adm/22/26.png\n",
            "adm/22/31.png\n",
            "adm/22/21.png\n",
            "adm/22/32.png\n",
            "adm/22/37.png\n",
            "adm/22/38.png\n",
            "adm/22/15.png\n",
            "adm/22/16.png\n",
            "adm/22/35.png\n",
            "adm/22/6.png\n",
            "adm/22/28.png\n",
            "adm/22/12.png\n",
            "adm/22/13.png\n",
            "adm/423/\n",
            "adm/423/10.png\n",
            "adm/423/17.png\n",
            "adm/423/3.png\n",
            "adm/423/1.png\n",
            "adm/423/25.png\n",
            "adm/423/24.png\n",
            "adm/423/34.png\n",
            "adm/423/33.png\n",
            "adm/423/23.png\n",
            "adm/423/22.png\n",
            "adm/423/18.png\n",
            "adm/423/11.png\n",
            "adm/423/39.png\n",
            "adm/423/7.png\n",
            "adm/423/27.png\n",
            "adm/423/19.png\n",
            "adm/423/0.png\n",
            "adm/423/2.png\n",
            "adm/423/29.png\n",
            "adm/423/36.png\n",
            "adm/423/20.png\n",
            "adm/423/30.png\n",
            "adm/423/8.png\n",
            "adm/423/5.png\n",
            "adm/423/14.png\n",
            "adm/423/4.png\n",
            "adm/423/9.png\n",
            "adm/423/26.png\n",
            "adm/423/31.png\n",
            "adm/423/21.png\n",
            "adm/423/32.png\n",
            "adm/423/37.png\n",
            "adm/423/38.png\n",
            "adm/423/15.png\n",
            "adm/423/16.png\n",
            "adm/423/35.png\n",
            "adm/423/6.png\n",
            "adm/423/28.png\n",
            "adm/423/12.png\n",
            "adm/423/13.png\n",
            "adm/719/\n",
            "adm/719/10.png\n",
            "adm/719/17.png\n",
            "adm/719/3.png\n",
            "adm/719/1.png\n",
            "adm/719/25.png\n",
            "adm/719/24.png\n",
            "adm/719/34.png\n",
            "adm/719/33.png\n",
            "adm/719/23.png\n",
            "adm/719/22.png\n",
            "adm/719/18.png\n",
            "adm/719/11.png\n",
            "adm/719/39.png\n",
            "adm/719/7.png\n",
            "adm/719/27.png\n",
            "adm/719/19.png\n",
            "adm/719/0.png\n",
            "adm/719/2.png\n",
            "adm/719/29.png\n",
            "adm/719/36.png\n",
            "adm/719/20.png\n",
            "adm/719/30.png\n",
            "adm/719/8.png\n",
            "adm/719/5.png\n",
            "adm/719/14.png\n",
            "adm/719/4.png\n",
            "adm/719/9.png\n",
            "adm/719/26.png\n",
            "adm/719/31.png\n",
            "adm/719/21.png\n",
            "adm/719/32.png\n",
            "adm/719/37.png\n",
            "adm/719/38.png\n",
            "adm/719/15.png\n",
            "adm/719/16.png\n",
            "adm/719/35.png\n",
            "adm/719/6.png\n",
            "adm/719/28.png\n",
            "adm/719/12.png\n",
            "adm/719/13.png\n",
            "adm/188/\n",
            "adm/188/10.png\n",
            "adm/188/17.png\n",
            "adm/188/3.png\n",
            "adm/188/1.png\n",
            "adm/188/25.png\n",
            "adm/188/24.png\n",
            "adm/188/34.png\n",
            "adm/188/33.png\n",
            "adm/188/23.png\n",
            "adm/188/22.png\n",
            "adm/188/18.png\n",
            "adm/188/11.png\n",
            "adm/188/39.png\n",
            "adm/188/7.png\n",
            "adm/188/27.png\n",
            "adm/188/19.png\n",
            "adm/188/0.png\n",
            "adm/188/2.png\n",
            "adm/188/29.png\n",
            "adm/188/36.png\n",
            "adm/188/20.png\n",
            "adm/188/30.png\n",
            "adm/188/8.png\n",
            "adm/188/5.png\n",
            "adm/188/14.png\n",
            "adm/188/4.png\n",
            "adm/188/9.png\n",
            "adm/188/26.png\n",
            "adm/188/31.png\n",
            "adm/188/21.png\n",
            "adm/188/32.png\n",
            "adm/188/37.png\n",
            "adm/188/38.png\n",
            "adm/188/15.png\n",
            "adm/188/16.png\n",
            "adm/188/35.png\n",
            "adm/188/6.png\n",
            "adm/188/28.png\n",
            "adm/188/12.png\n",
            "adm/188/13.png\n",
            "adm/149/\n",
            "adm/149/10.png\n",
            "adm/149/17.png\n",
            "adm/149/3.png\n",
            "adm/149/1.png\n",
            "adm/149/25.png\n",
            "adm/149/24.png\n",
            "adm/149/34.png\n",
            "adm/149/33.png\n",
            "adm/149/23.png\n",
            "adm/149/22.png\n",
            "adm/149/18.png\n",
            "adm/149/11.png\n",
            "adm/149/39.png\n",
            "adm/149/7.png\n",
            "adm/149/27.png\n",
            "adm/149/19.png\n",
            "adm/149/0.png\n",
            "adm/149/2.png\n",
            "adm/149/29.png\n",
            "adm/149/36.png\n",
            "adm/149/20.png\n",
            "adm/149/30.png\n",
            "adm/149/8.png\n",
            "adm/149/5.png\n",
            "adm/149/14.png\n",
            "adm/149/4.png\n",
            "adm/149/9.png\n",
            "adm/149/26.png\n",
            "adm/149/31.png\n",
            "adm/149/21.png\n",
            "adm/149/32.png\n",
            "adm/149/37.png\n",
            "adm/149/38.png\n",
            "adm/149/15.png\n",
            "adm/149/16.png\n",
            "adm/149/35.png\n",
            "adm/149/6.png\n",
            "adm/149/28.png\n",
            "adm/149/12.png\n",
            "adm/149/13.png\n",
            "adm/437/\n",
            "adm/437/10.png\n",
            "adm/437/17.png\n",
            "adm/437/3.png\n",
            "adm/437/1.png\n",
            "adm/437/25.png\n",
            "adm/437/24.png\n",
            "adm/437/34.png\n",
            "adm/437/33.png\n",
            "adm/437/23.png\n",
            "adm/437/22.png\n",
            "adm/437/18.png\n",
            "adm/437/11.png\n",
            "adm/437/39.png\n",
            "adm/437/7.png\n",
            "adm/437/27.png\n",
            "adm/437/19.png\n",
            "adm/437/0.png\n",
            "adm/437/2.png\n",
            "adm/437/29.png\n",
            "adm/437/36.png\n",
            "adm/437/20.png\n",
            "adm/437/30.png\n",
            "adm/437/8.png\n",
            "adm/437/5.png\n",
            "adm/437/14.png\n",
            "adm/437/4.png\n",
            "adm/437/9.png\n",
            "adm/437/26.png\n",
            "adm/437/31.png\n",
            "adm/437/21.png\n",
            "adm/437/32.png\n",
            "adm/437/37.png\n",
            "adm/437/38.png\n",
            "adm/437/15.png\n",
            "adm/437/16.png\n",
            "adm/437/35.png\n",
            "adm/437/6.png\n",
            "adm/437/28.png\n",
            "adm/437/12.png\n",
            "adm/437/13.png\n",
            "adm/504/\n",
            "adm/504/10.png\n",
            "adm/504/17.png\n",
            "adm/504/3.png\n",
            "adm/504/1.png\n",
            "adm/504/25.png\n",
            "adm/504/24.png\n",
            "adm/504/34.png\n",
            "adm/504/33.png\n",
            "adm/504/23.png\n",
            "adm/504/22.png\n",
            "adm/504/18.png\n",
            "adm/504/11.png\n",
            "adm/504/39.png\n",
            "adm/504/7.png\n",
            "adm/504/27.png\n",
            "adm/504/19.png\n",
            "adm/504/0.png\n",
            "adm/504/2.png\n",
            "adm/504/29.png\n",
            "adm/504/36.png\n",
            "adm/504/20.png\n",
            "adm/504/30.png\n",
            "adm/504/8.png\n",
            "adm/504/5.png\n",
            "adm/504/14.png\n",
            "adm/504/4.png\n",
            "adm/504/9.png\n",
            "adm/504/26.png\n",
            "adm/504/31.png\n",
            "adm/504/21.png\n",
            "adm/504/32.png\n",
            "adm/504/37.png\n",
            "adm/504/38.png\n",
            "adm/504/15.png\n",
            "adm/504/16.png\n",
            "adm/504/35.png\n",
            "adm/504/6.png\n",
            "adm/504/28.png\n",
            "adm/504/12.png\n",
            "adm/504/13.png\n",
            "adm/237/\n",
            "adm/237/10.png\n",
            "adm/237/17.png\n",
            "adm/237/3.png\n",
            "adm/237/1.png\n",
            "adm/237/25.png\n",
            "adm/237/24.png\n",
            "adm/237/34.png\n",
            "adm/237/33.png\n",
            "adm/237/23.png\n",
            "adm/237/22.png\n",
            "adm/237/18.png\n",
            "adm/237/11.png\n",
            "adm/237/39.png\n",
            "adm/237/7.png\n",
            "adm/237/27.png\n",
            "adm/237/19.png\n",
            "adm/237/0.png\n",
            "adm/237/2.png\n",
            "adm/237/29.png\n",
            "adm/237/36.png\n",
            "adm/237/20.png\n",
            "adm/237/30.png\n",
            "adm/237/8.png\n",
            "adm/237/5.png\n",
            "adm/237/14.png\n",
            "adm/237/4.png\n",
            "adm/237/9.png\n",
            "adm/237/26.png\n",
            "adm/237/31.png\n",
            "adm/237/21.png\n",
            "adm/237/32.png\n",
            "adm/237/37.png\n",
            "adm/237/38.png\n",
            "adm/237/15.png\n",
            "adm/237/16.png\n",
            "adm/237/35.png\n",
            "adm/237/6.png\n",
            "adm/237/28.png\n",
            "adm/237/12.png\n",
            "adm/237/13.png\n",
            "adm/895/\n",
            "adm/895/10.png\n",
            "adm/895/17.png\n",
            "adm/895/3.png\n",
            "adm/895/1.png\n",
            "adm/895/25.png\n",
            "adm/895/24.png\n",
            "adm/895/34.png\n",
            "adm/895/33.png\n",
            "adm/895/23.png\n",
            "adm/895/22.png\n",
            "adm/895/18.png\n",
            "adm/895/11.png\n",
            "adm/895/39.png\n",
            "adm/895/7.png\n",
            "adm/895/27.png\n",
            "adm/895/19.png\n",
            "adm/895/0.png\n",
            "adm/895/2.png\n",
            "adm/895/29.png\n",
            "adm/895/36.png\n",
            "adm/895/20.png\n",
            "adm/895/30.png\n",
            "adm/895/8.png\n",
            "adm/895/5.png\n",
            "adm/895/14.png\n",
            "adm/895/4.png\n",
            "adm/895/9.png\n",
            "adm/895/26.png\n",
            "adm/895/31.png\n",
            "adm/895/21.png\n",
            "adm/895/32.png\n",
            "adm/895/37.png\n",
            "adm/895/38.png\n",
            "adm/895/15.png\n",
            "adm/895/16.png\n",
            "adm/895/35.png\n",
            "adm/895/6.png\n",
            "adm/895/28.png\n",
            "adm/895/12.png\n",
            "adm/895/13.png\n",
            "adm/249/\n",
            "adm/249/10.png\n",
            "adm/249/17.png\n",
            "adm/249/3.png\n",
            "adm/249/1.png\n",
            "adm/249/25.png\n",
            "adm/249/24.png\n",
            "adm/249/34.png\n",
            "adm/249/33.png\n",
            "adm/249/23.png\n",
            "adm/249/22.png\n",
            "adm/249/18.png\n",
            "adm/249/11.png\n",
            "adm/249/39.png\n",
            "adm/249/7.png\n",
            "adm/249/27.png\n",
            "adm/249/19.png\n",
            "adm/249/0.png\n",
            "adm/249/2.png\n",
            "adm/249/29.png\n",
            "adm/249/36.png\n",
            "adm/249/20.png\n",
            "adm/249/30.png\n",
            "adm/249/8.png\n",
            "adm/249/5.png\n",
            "adm/249/14.png\n",
            "adm/249/4.png\n",
            "adm/249/9.png\n",
            "adm/249/26.png\n",
            "adm/249/31.png\n",
            "adm/249/21.png\n",
            "adm/249/32.png\n",
            "adm/249/37.png\n",
            "adm/249/38.png\n",
            "adm/249/15.png\n",
            "adm/249/16.png\n",
            "adm/249/35.png\n",
            "adm/249/6.png\n",
            "adm/249/28.png\n",
            "adm/249/12.png\n",
            "adm/249/13.png\n",
            "adm/818/\n",
            "adm/818/10.png\n",
            "adm/818/17.png\n",
            "adm/818/3.png\n",
            "adm/818/1.png\n",
            "adm/818/25.png\n",
            "adm/818/24.png\n",
            "adm/818/34.png\n",
            "adm/818/33.png\n",
            "adm/818/23.png\n",
            "adm/818/22.png\n",
            "adm/818/18.png\n",
            "adm/818/11.png\n",
            "adm/818/39.png\n",
            "adm/818/7.png\n",
            "adm/818/27.png\n",
            "adm/818/19.png\n",
            "adm/818/0.png\n",
            "adm/818/2.png\n",
            "adm/818/29.png\n",
            "adm/818/36.png\n",
            "adm/818/20.png\n",
            "adm/818/30.png\n",
            "adm/818/8.png\n",
            "adm/818/5.png\n",
            "adm/818/14.png\n",
            "adm/818/4.png\n",
            "adm/818/9.png\n",
            "adm/818/26.png\n",
            "adm/818/31.png\n",
            "adm/818/21.png\n",
            "adm/818/32.png\n",
            "adm/818/37.png\n",
            "adm/818/38.png\n",
            "adm/818/15.png\n",
            "adm/818/16.png\n",
            "adm/818/35.png\n",
            "adm/818/6.png\n",
            "adm/818/28.png\n",
            "adm/818/12.png\n",
            "adm/818/13.png\n",
            "adm/487/\n",
            "adm/487/10.png\n",
            "adm/487/17.png\n",
            "adm/487/3.png\n",
            "adm/487/1.png\n",
            "adm/487/25.png\n",
            "adm/487/24.png\n",
            "adm/487/34.png\n",
            "adm/487/33.png\n",
            "adm/487/23.png\n",
            "adm/487/22.png\n",
            "adm/487/18.png\n",
            "adm/487/11.png\n",
            "adm/487/39.png\n",
            "adm/487/7.png\n",
            "adm/487/27.png\n",
            "adm/487/19.png\n",
            "adm/487/0.png\n",
            "adm/487/2.png\n",
            "adm/487/29.png\n",
            "adm/487/36.png\n",
            "adm/487/20.png\n",
            "adm/487/30.png\n",
            "adm/487/8.png\n",
            "adm/487/5.png\n",
            "adm/487/14.png\n",
            "adm/487/4.png\n",
            "adm/487/9.png\n",
            "adm/487/26.png\n",
            "adm/487/31.png\n",
            "adm/487/21.png\n",
            "adm/487/32.png\n",
            "adm/487/37.png\n",
            "adm/487/38.png\n",
            "adm/487/15.png\n",
            "adm/487/16.png\n",
            "adm/487/35.png\n",
            "adm/487/6.png\n",
            "adm/487/28.png\n",
            "adm/487/12.png\n",
            "adm/487/13.png\n",
            "adm/11/\n",
            "adm/11/10.png\n",
            "adm/11/17.png\n",
            "adm/11/3.png\n",
            "adm/11/1.png\n",
            "adm/11/25.png\n",
            "adm/11/24.png\n",
            "adm/11/34.png\n",
            "adm/11/33.png\n",
            "adm/11/23.png\n",
            "adm/11/22.png\n",
            "adm/11/18.png\n",
            "adm/11/11.png\n",
            "adm/11/39.png\n",
            "adm/11/7.png\n",
            "adm/11/27.png\n",
            "adm/11/19.png\n",
            "adm/11/0.png\n",
            "adm/11/2.png\n",
            "adm/11/29.png\n",
            "adm/11/36.png\n",
            "adm/11/20.png\n",
            "adm/11/30.png\n",
            "adm/11/8.png\n",
            "adm/11/5.png\n",
            "adm/11/14.png\n",
            "adm/11/4.png\n",
            "adm/11/9.png\n",
            "adm/11/26.png\n",
            "adm/11/31.png\n",
            "adm/11/21.png\n",
            "adm/11/32.png\n",
            "adm/11/37.png\n",
            "adm/11/38.png\n",
            "adm/11/15.png\n",
            "adm/11/16.png\n",
            "adm/11/35.png\n",
            "adm/11/6.png\n",
            "adm/11/28.png\n",
            "adm/11/12.png\n",
            "adm/11/13.png\n",
            "adm/420/\n",
            "adm/420/10.png\n",
            "adm/420/17.png\n",
            "adm/420/3.png\n",
            "adm/420/1.png\n",
            "adm/420/25.png\n",
            "adm/420/24.png\n",
            "adm/420/34.png\n",
            "adm/420/33.png\n",
            "adm/420/23.png\n",
            "adm/420/22.png\n",
            "adm/420/18.png\n",
            "adm/420/11.png\n",
            "adm/420/39.png\n",
            "adm/420/7.png\n",
            "adm/420/27.png\n",
            "adm/420/19.png\n",
            "adm/420/0.png\n",
            "adm/420/2.png\n",
            "adm/420/29.png\n",
            "adm/420/36.png\n",
            "adm/420/20.png\n",
            "adm/420/30.png\n",
            "adm/420/8.png\n",
            "adm/420/5.png\n",
            "adm/420/14.png\n",
            "adm/420/4.png\n",
            "adm/420/9.png\n",
            "adm/420/26.png\n",
            "adm/420/31.png\n",
            "adm/420/21.png\n",
            "adm/420/32.png\n",
            "adm/420/37.png\n",
            "adm/420/38.png\n",
            "adm/420/15.png\n",
            "adm/420/16.png\n",
            "adm/420/35.png\n",
            "adm/420/6.png\n",
            "adm/420/28.png\n",
            "adm/420/12.png\n",
            "adm/420/13.png\n",
            "adm/291/\n",
            "adm/291/10.png\n",
            "adm/291/17.png\n",
            "adm/291/3.png\n",
            "adm/291/1.png\n",
            "adm/291/25.png\n",
            "adm/291/24.png\n",
            "adm/291/34.png\n",
            "adm/291/33.png\n",
            "adm/291/23.png\n",
            "adm/291/22.png\n",
            "adm/291/18.png\n",
            "adm/291/11.png\n",
            "adm/291/39.png\n",
            "adm/291/7.png\n",
            "adm/291/27.png\n",
            "adm/291/19.png\n",
            "adm/291/0.png\n",
            "adm/291/2.png\n",
            "adm/291/29.png\n",
            "adm/291/36.png\n",
            "adm/291/20.png\n",
            "adm/291/30.png\n",
            "adm/291/8.png\n",
            "adm/291/5.png\n",
            "adm/291/14.png\n",
            "adm/291/4.png\n",
            "adm/291/9.png\n",
            "adm/291/26.png\n",
            "adm/291/31.png\n",
            "adm/291/21.png\n",
            "adm/291/32.png\n",
            "adm/291/37.png\n",
            "adm/291/38.png\n",
            "adm/291/15.png\n",
            "adm/291/16.png\n",
            "adm/291/35.png\n",
            "adm/291/6.png\n",
            "adm/291/28.png\n",
            "adm/291/12.png\n",
            "adm/291/13.png\n",
            "adm/965/\n",
            "adm/965/10.png\n",
            "adm/965/17.png\n",
            "adm/965/3.png\n",
            "adm/965/1.png\n",
            "adm/965/25.png\n",
            "adm/965/24.png\n",
            "adm/965/34.png\n",
            "adm/965/33.png\n",
            "adm/965/23.png\n",
            "adm/965/22.png\n",
            "adm/965/18.png\n",
            "adm/965/11.png\n",
            "adm/965/39.png\n",
            "adm/965/7.png\n",
            "adm/965/27.png\n",
            "adm/965/19.png\n",
            "adm/965/0.png\n",
            "adm/965/2.png\n",
            "adm/965/29.png\n",
            "adm/965/36.png\n",
            "adm/965/20.png\n",
            "adm/965/30.png\n",
            "adm/965/8.png\n",
            "adm/965/5.png\n",
            "adm/965/14.png\n",
            "adm/965/4.png\n",
            "adm/965/9.png\n",
            "adm/965/26.png\n",
            "adm/965/31.png\n",
            "adm/965/21.png\n",
            "adm/965/32.png\n",
            "adm/965/37.png\n",
            "adm/965/38.png\n",
            "adm/965/15.png\n",
            "adm/965/16.png\n",
            "adm/965/35.png\n",
            "adm/965/6.png\n",
            "adm/965/28.png\n",
            "adm/965/12.png\n",
            "adm/965/13.png\n",
            "adm/394/\n",
            "adm/394/10.png\n",
            "adm/394/17.png\n",
            "adm/394/3.png\n",
            "adm/394/1.png\n",
            "adm/394/25.png\n",
            "adm/394/24.png\n",
            "adm/394/34.png\n",
            "adm/394/33.png\n",
            "adm/394/23.png\n",
            "adm/394/22.png\n",
            "adm/394/18.png\n",
            "adm/394/11.png\n",
            "adm/394/39.png\n",
            "adm/394/7.png\n",
            "adm/394/27.png\n",
            "adm/394/19.png\n",
            "adm/394/0.png\n",
            "adm/394/2.png\n",
            "adm/394/29.png\n",
            "adm/394/36.png\n",
            "adm/394/20.png\n",
            "adm/394/30.png\n",
            "adm/394/8.png\n",
            "adm/394/5.png\n",
            "adm/394/14.png\n",
            "adm/394/4.png\n",
            "adm/394/9.png\n",
            "adm/394/26.png\n",
            "adm/394/31.png\n",
            "adm/394/21.png\n",
            "adm/394/32.png\n",
            "adm/394/37.png\n",
            "adm/394/38.png\n",
            "adm/394/15.png\n",
            "adm/394/16.png\n",
            "adm/394/35.png\n",
            "adm/394/6.png\n",
            "adm/394/28.png\n",
            "adm/394/12.png\n",
            "adm/394/13.png\n",
            "adm/606/\n",
            "adm/606/10.png\n",
            "adm/606/17.png\n",
            "adm/606/3.png\n",
            "adm/606/1.png\n",
            "adm/606/25.png\n",
            "adm/606/24.png\n",
            "adm/606/34.png\n",
            "adm/606/33.png\n",
            "adm/606/23.png\n",
            "adm/606/22.png\n",
            "adm/606/18.png\n",
            "adm/606/11.png\n",
            "adm/606/39.png\n",
            "adm/606/7.png\n",
            "adm/606/27.png\n",
            "adm/606/19.png\n",
            "adm/606/0.png\n",
            "adm/606/2.png\n",
            "adm/606/29.png\n",
            "adm/606/36.png\n",
            "adm/606/20.png\n",
            "adm/606/30.png\n",
            "adm/606/8.png\n",
            "adm/606/5.png\n",
            "adm/606/14.png\n",
            "adm/606/4.png\n",
            "adm/606/9.png\n",
            "adm/606/26.png\n",
            "adm/606/31.png\n",
            "adm/606/21.png\n",
            "adm/606/32.png\n",
            "adm/606/37.png\n",
            "adm/606/38.png\n",
            "adm/606/15.png\n",
            "adm/606/16.png\n",
            "adm/606/35.png\n",
            "adm/606/6.png\n",
            "adm/606/28.png\n",
            "adm/606/12.png\n",
            "adm/606/13.png\n",
            "adm/888/\n",
            "adm/888/10.png\n",
            "adm/888/17.png\n",
            "adm/888/3.png\n",
            "adm/888/1.png\n",
            "adm/888/25.png\n",
            "adm/888/24.png\n",
            "adm/888/34.png\n",
            "adm/888/33.png\n",
            "adm/888/23.png\n",
            "adm/888/22.png\n",
            "adm/888/18.png\n",
            "adm/888/11.png\n",
            "adm/888/39.png\n",
            "adm/888/7.png\n",
            "adm/888/27.png\n",
            "adm/888/19.png\n",
            "adm/888/0.png\n",
            "adm/888/2.png\n",
            "adm/888/29.png\n",
            "adm/888/36.png\n",
            "adm/888/20.png\n",
            "adm/888/30.png\n",
            "adm/888/8.png\n",
            "adm/888/5.png\n",
            "adm/888/14.png\n",
            "adm/888/4.png\n",
            "adm/888/9.png\n",
            "adm/888/26.png\n",
            "adm/888/31.png\n",
            "adm/888/21.png\n",
            "adm/888/32.png\n",
            "adm/888/37.png\n",
            "adm/888/38.png\n",
            "adm/888/15.png\n",
            "adm/888/16.png\n",
            "adm/888/35.png\n",
            "adm/888/6.png\n",
            "adm/888/28.png\n",
            "adm/888/12.png\n",
            "adm/888/13.png\n",
            "adm/440/\n",
            "adm/440/10.png\n",
            "adm/440/17.png\n",
            "adm/440/3.png\n",
            "adm/440/1.png\n",
            "adm/440/25.png\n",
            "adm/440/24.png\n",
            "adm/440/34.png\n",
            "adm/440/33.png\n",
            "adm/440/23.png\n",
            "adm/440/22.png\n",
            "adm/440/18.png\n",
            "adm/440/11.png\n",
            "adm/440/39.png\n",
            "adm/440/7.png\n",
            "adm/440/27.png\n",
            "adm/440/19.png\n",
            "adm/440/0.png\n",
            "adm/440/2.png\n",
            "adm/440/29.png\n",
            "adm/440/36.png\n",
            "adm/440/20.png\n",
            "adm/440/30.png\n",
            "adm/440/8.png\n",
            "adm/440/5.png\n",
            "adm/440/14.png\n",
            "adm/440/4.png\n",
            "adm/440/9.png\n",
            "adm/440/26.png\n",
            "adm/440/31.png\n",
            "adm/440/21.png\n",
            "adm/440/32.png\n",
            "adm/440/37.png\n",
            "adm/440/38.png\n",
            "adm/440/15.png\n",
            "adm/440/16.png\n",
            "adm/440/35.png\n",
            "adm/440/6.png\n",
            "adm/440/28.png\n",
            "adm/440/12.png\n",
            "adm/440/13.png\n",
            "adm/117/\n",
            "adm/117/10.png\n",
            "adm/117/17.png\n",
            "adm/117/3.png\n",
            "adm/117/1.png\n",
            "adm/117/25.png\n",
            "adm/117/24.png\n",
            "adm/117/34.png\n",
            "adm/117/33.png\n",
            "adm/117/23.png\n",
            "adm/117/22.png\n",
            "adm/117/18.png\n",
            "adm/117/11.png\n",
            "adm/117/39.png\n",
            "adm/117/7.png\n",
            "adm/117/27.png\n",
            "adm/117/19.png\n",
            "adm/117/0.png\n",
            "adm/117/2.png\n",
            "adm/117/29.png\n",
            "adm/117/36.png\n",
            "adm/117/20.png\n",
            "adm/117/30.png\n",
            "adm/117/8.png\n",
            "adm/117/5.png\n",
            "adm/117/14.png\n",
            "adm/117/4.png\n",
            "adm/117/9.png\n",
            "adm/117/26.png\n",
            "adm/117/31.png\n",
            "adm/117/21.png\n",
            "adm/117/32.png\n",
            "adm/117/37.png\n",
            "adm/117/38.png\n",
            "adm/117/15.png\n",
            "adm/117/16.png\n",
            "adm/117/35.png\n",
            "adm/117/6.png\n",
            "adm/117/28.png\n",
            "adm/117/12.png\n",
            "adm/117/13.png\n",
            "adm/798/\n",
            "adm/798/10.png\n",
            "adm/798/17.png\n",
            "adm/798/3.png\n",
            "adm/798/1.png\n",
            "adm/798/25.png\n",
            "adm/798/24.png\n",
            "adm/798/34.png\n",
            "adm/798/33.png\n",
            "adm/798/23.png\n",
            "adm/798/22.png\n",
            "adm/798/18.png\n",
            "adm/798/11.png\n",
            "adm/798/39.png\n",
            "adm/798/7.png\n",
            "adm/798/27.png\n",
            "adm/798/19.png\n",
            "adm/798/0.png\n",
            "adm/798/2.png\n",
            "adm/798/29.png\n",
            "adm/798/36.png\n",
            "adm/798/20.png\n",
            "adm/798/30.png\n",
            "adm/798/8.png\n",
            "adm/798/5.png\n",
            "adm/798/14.png\n",
            "adm/798/4.png\n",
            "adm/798/9.png\n",
            "adm/798/26.png\n",
            "adm/798/31.png\n",
            "adm/798/21.png\n",
            "adm/798/32.png\n",
            "adm/798/37.png\n",
            "adm/798/38.png\n",
            "adm/798/15.png\n",
            "adm/798/16.png\n",
            "adm/798/35.png\n",
            "adm/798/6.png\n",
            "adm/798/28.png\n",
            "adm/798/12.png\n",
            "adm/798/13.png\n",
            "adm/754/\n",
            "adm/754/10.png\n",
            "adm/754/17.png\n",
            "adm/754/3.png\n",
            "adm/754/1.png\n",
            "adm/754/25.png\n",
            "adm/754/24.png\n",
            "adm/754/34.png\n",
            "adm/754/33.png\n",
            "adm/754/23.png\n",
            "adm/754/22.png\n",
            "adm/754/18.png\n",
            "adm/754/11.png\n",
            "adm/754/39.png\n",
            "adm/754/7.png\n",
            "adm/754/27.png\n",
            "adm/754/19.png\n",
            "adm/754/0.png\n",
            "adm/754/2.png\n",
            "adm/754/29.png\n",
            "adm/754/36.png\n",
            "adm/754/20.png\n",
            "adm/754/30.png\n",
            "adm/754/8.png\n",
            "adm/754/5.png\n",
            "adm/754/14.png\n",
            "adm/754/4.png\n",
            "adm/754/9.png\n",
            "adm/754/26.png\n",
            "adm/754/31.png\n",
            "adm/754/21.png\n",
            "adm/754/32.png\n",
            "adm/754/37.png\n",
            "adm/754/38.png\n",
            "adm/754/15.png\n",
            "adm/754/16.png\n",
            "adm/754/35.png\n",
            "adm/754/6.png\n",
            "adm/754/28.png\n",
            "adm/754/12.png\n",
            "adm/754/13.png\n",
            "adm/871/\n",
            "adm/871/10.png\n",
            "adm/871/17.png\n",
            "adm/871/3.png\n",
            "adm/871/1.png\n",
            "adm/871/25.png\n",
            "adm/871/24.png\n",
            "adm/871/34.png\n",
            "adm/871/33.png\n",
            "adm/871/23.png\n",
            "adm/871/22.png\n",
            "adm/871/18.png\n",
            "adm/871/11.png\n",
            "adm/871/39.png\n",
            "adm/871/7.png\n",
            "adm/871/27.png\n",
            "adm/871/19.png\n",
            "adm/871/0.png\n",
            "adm/871/2.png\n",
            "adm/871/29.png\n",
            "adm/871/36.png\n",
            "adm/871/20.png\n",
            "adm/871/30.png\n",
            "adm/871/8.png\n",
            "adm/871/5.png\n",
            "adm/871/14.png\n",
            "adm/871/4.png\n",
            "adm/871/9.png\n",
            "adm/871/26.png\n",
            "adm/871/31.png\n",
            "adm/871/21.png\n",
            "adm/871/32.png\n",
            "adm/871/37.png\n",
            "adm/871/38.png\n",
            "adm/871/15.png\n",
            "adm/871/16.png\n",
            "adm/871/35.png\n",
            "adm/871/6.png\n",
            "adm/871/28.png\n",
            "adm/871/12.png\n",
            "adm/871/13.png\n",
            "adm/23/\n",
            "adm/23/10.png\n",
            "adm/23/17.png\n",
            "adm/23/3.png\n",
            "adm/23/1.png\n",
            "adm/23/25.png\n",
            "adm/23/24.png\n",
            "adm/23/34.png\n",
            "adm/23/33.png\n",
            "adm/23/23.png\n",
            "adm/23/22.png\n",
            "adm/23/18.png\n",
            "adm/23/11.png\n",
            "adm/23/39.png\n",
            "adm/23/7.png\n",
            "adm/23/27.png\n",
            "adm/23/19.png\n",
            "adm/23/0.png\n",
            "adm/23/2.png\n",
            "adm/23/29.png\n",
            "adm/23/36.png\n",
            "adm/23/20.png\n",
            "adm/23/30.png\n",
            "adm/23/8.png\n",
            "adm/23/5.png\n",
            "adm/23/14.png\n",
            "adm/23/4.png\n",
            "adm/23/9.png\n",
            "adm/23/26.png\n",
            "adm/23/31.png\n",
            "adm/23/21.png\n",
            "adm/23/32.png\n",
            "adm/23/37.png\n",
            "adm/23/38.png\n",
            "adm/23/15.png\n",
            "adm/23/16.png\n",
            "adm/23/35.png\n",
            "adm/23/6.png\n",
            "adm/23/28.png\n",
            "adm/23/12.png\n",
            "adm/23/13.png\n",
            "adm/825/\n",
            "adm/825/10.png\n",
            "adm/825/17.png\n",
            "adm/825/3.png\n",
            "adm/825/1.png\n",
            "adm/825/25.png\n",
            "adm/825/24.png\n",
            "adm/825/34.png\n",
            "adm/825/33.png\n",
            "adm/825/23.png\n",
            "adm/825/22.png\n",
            "adm/825/18.png\n",
            "adm/825/11.png\n",
            "adm/825/39.png\n",
            "adm/825/7.png\n",
            "adm/825/27.png\n",
            "adm/825/19.png\n",
            "adm/825/0.png\n",
            "adm/825/2.png\n",
            "adm/825/29.png\n",
            "adm/825/36.png\n",
            "adm/825/20.png\n",
            "adm/825/30.png\n",
            "adm/825/8.png\n",
            "adm/825/5.png\n",
            "adm/825/14.png\n",
            "adm/825/4.png\n",
            "adm/825/9.png\n",
            "adm/825/26.png\n",
            "adm/825/31.png\n",
            "adm/825/21.png\n",
            "adm/825/32.png\n",
            "adm/825/37.png\n",
            "adm/825/38.png\n",
            "adm/825/15.png\n",
            "adm/825/16.png\n",
            "adm/825/35.png\n",
            "adm/825/6.png\n",
            "adm/825/28.png\n",
            "adm/825/12.png\n",
            "adm/825/13.png\n",
            "adm/642/\n",
            "adm/642/10.png\n",
            "adm/642/17.png\n",
            "adm/642/3.png\n",
            "adm/642/1.png\n",
            "adm/642/25.png\n",
            "adm/642/24.png\n",
            "adm/642/34.png\n",
            "adm/642/33.png\n",
            "adm/642/23.png\n",
            "adm/642/22.png\n",
            "adm/642/18.png\n",
            "adm/642/11.png\n",
            "adm/642/39.png\n",
            "adm/642/7.png\n",
            "adm/642/27.png\n",
            "adm/642/19.png\n",
            "adm/642/0.png\n",
            "adm/642/2.png\n",
            "adm/642/29.png\n",
            "adm/642/36.png\n",
            "adm/642/20.png\n",
            "adm/642/30.png\n",
            "adm/642/8.png\n",
            "adm/642/5.png\n",
            "adm/642/14.png\n",
            "adm/642/4.png\n",
            "adm/642/9.png\n",
            "adm/642/26.png\n",
            "adm/642/31.png\n",
            "adm/642/21.png\n",
            "adm/642/32.png\n",
            "adm/642/37.png\n",
            "adm/642/38.png\n",
            "adm/642/15.png\n",
            "adm/642/16.png\n",
            "adm/642/35.png\n",
            "adm/642/6.png\n",
            "adm/642/28.png\n",
            "adm/642/12.png\n",
            "adm/642/13.png\n",
            "adm/736/\n",
            "adm/736/10.png\n",
            "adm/736/17.png\n",
            "adm/736/3.png\n",
            "adm/736/1.png\n",
            "adm/736/25.png\n",
            "adm/736/24.png\n",
            "adm/736/34.png\n",
            "adm/736/33.png\n",
            "adm/736/23.png\n",
            "adm/736/22.png\n",
            "adm/736/18.png\n",
            "adm/736/11.png\n",
            "adm/736/39.png\n",
            "adm/736/7.png\n",
            "adm/736/27.png\n",
            "adm/736/19.png\n",
            "adm/736/0.png\n",
            "adm/736/2.png\n",
            "adm/736/29.png\n",
            "adm/736/36.png\n",
            "adm/736/20.png\n",
            "adm/736/30.png\n",
            "adm/736/8.png\n",
            "adm/736/5.png\n",
            "adm/736/14.png\n",
            "adm/736/4.png\n",
            "adm/736/9.png\n",
            "adm/736/26.png\n",
            "adm/736/31.png\n",
            "adm/736/21.png\n",
            "adm/736/32.png\n",
            "adm/736/37.png\n",
            "adm/736/38.png\n",
            "adm/736/15.png\n",
            "adm/736/16.png\n",
            "adm/736/35.png\n",
            "adm/736/6.png\n",
            "adm/736/28.png\n",
            "adm/736/12.png\n",
            "adm/736/13.png\n",
            "adm/929/\n",
            "adm/929/10.png\n",
            "adm/929/17.png\n",
            "adm/929/3.png\n",
            "adm/929/1.png\n",
            "adm/929/25.png\n",
            "adm/929/24.png\n",
            "adm/929/34.png\n",
            "adm/929/33.png\n",
            "adm/929/23.png\n",
            "adm/929/22.png\n",
            "adm/929/18.png\n",
            "adm/929/11.png\n",
            "adm/929/39.png\n",
            "adm/929/7.png\n",
            "adm/929/27.png\n",
            "adm/929/19.png\n",
            "adm/929/0.png\n",
            "adm/929/2.png\n",
            "adm/929/29.png\n",
            "adm/929/36.png\n",
            "adm/929/20.png\n",
            "adm/929/30.png\n",
            "adm/929/8.png\n",
            "adm/929/5.png\n",
            "adm/929/14.png\n",
            "adm/929/4.png\n",
            "adm/929/9.png\n",
            "adm/929/26.png\n",
            "adm/929/31.png\n",
            "adm/929/21.png\n",
            "adm/929/32.png\n",
            "adm/929/37.png\n",
            "adm/929/38.png\n",
            "adm/929/15.png\n",
            "adm/929/16.png\n",
            "adm/929/35.png\n",
            "adm/929/6.png\n",
            "adm/929/28.png\n",
            "adm/929/12.png\n",
            "adm/929/13.png\n",
            "adm/742/\n",
            "adm/742/10.png\n",
            "adm/742/17.png\n",
            "adm/742/3.png\n",
            "adm/742/1.png\n",
            "adm/742/25.png\n",
            "adm/742/24.png\n",
            "adm/742/34.png\n",
            "adm/742/33.png\n",
            "adm/742/23.png\n",
            "adm/742/22.png\n",
            "adm/742/18.png\n",
            "adm/742/11.png\n",
            "adm/742/39.png\n",
            "adm/742/7.png\n",
            "adm/742/27.png\n",
            "adm/742/19.png\n",
            "adm/742/0.png\n",
            "adm/742/2.png\n",
            "adm/742/29.png\n",
            "adm/742/36.png\n",
            "adm/742/20.png\n",
            "adm/742/30.png\n",
            "adm/742/8.png\n",
            "adm/742/5.png\n",
            "adm/742/14.png\n",
            "adm/742/4.png\n",
            "adm/742/9.png\n",
            "adm/742/26.png\n",
            "adm/742/31.png\n",
            "adm/742/21.png\n",
            "adm/742/32.png\n",
            "adm/742/37.png\n",
            "adm/742/38.png\n",
            "adm/742/15.png\n",
            "adm/742/16.png\n",
            "adm/742/35.png\n",
            "adm/742/6.png\n",
            "adm/742/28.png\n",
            "adm/742/12.png\n",
            "adm/742/13.png\n",
            "adm/417/\n",
            "adm/417/10.png\n",
            "adm/417/17.png\n",
            "adm/417/3.png\n",
            "adm/417/1.png\n",
            "adm/417/25.png\n",
            "adm/417/24.png\n",
            "adm/417/34.png\n",
            "adm/417/33.png\n",
            "adm/417/23.png\n",
            "adm/417/22.png\n",
            "adm/417/18.png\n",
            "adm/417/11.png\n",
            "adm/417/39.png\n",
            "adm/417/7.png\n",
            "adm/417/27.png\n",
            "adm/417/19.png\n",
            "adm/417/0.png\n",
            "adm/417/2.png\n",
            "adm/417/29.png\n",
            "adm/417/36.png\n",
            "adm/417/20.png\n",
            "adm/417/30.png\n",
            "adm/417/8.png\n",
            "adm/417/5.png\n",
            "adm/417/14.png\n",
            "adm/417/4.png\n",
            "adm/417/9.png\n",
            "adm/417/26.png\n",
            "adm/417/31.png\n",
            "adm/417/21.png\n",
            "adm/417/32.png\n",
            "adm/417/37.png\n",
            "adm/417/38.png\n",
            "adm/417/15.png\n",
            "adm/417/16.png\n",
            "adm/417/35.png\n",
            "adm/417/6.png\n",
            "adm/417/28.png\n",
            "adm/417/12.png\n",
            "adm/417/13.png\n",
            "adm/806/\n",
            "adm/806/10.png\n",
            "adm/806/17.png\n",
            "adm/806/3.png\n",
            "adm/806/1.png\n",
            "adm/806/25.png\n",
            "adm/806/24.png\n",
            "adm/806/34.png\n",
            "adm/806/33.png\n",
            "adm/806/23.png\n",
            "adm/806/22.png\n",
            "adm/806/18.png\n",
            "adm/806/11.png\n",
            "adm/806/39.png\n",
            "adm/806/7.png\n",
            "adm/806/27.png\n",
            "adm/806/19.png\n",
            "adm/806/0.png\n",
            "adm/806/2.png\n",
            "adm/806/29.png\n",
            "adm/806/36.png\n",
            "adm/806/20.png\n",
            "adm/806/30.png\n",
            "adm/806/8.png\n",
            "adm/806/5.png\n",
            "adm/806/14.png\n",
            "adm/806/4.png\n",
            "adm/806/9.png\n",
            "adm/806/26.png\n",
            "adm/806/31.png\n",
            "adm/806/21.png\n",
            "adm/806/32.png\n",
            "adm/806/37.png\n",
            "adm/806/38.png\n",
            "adm/806/15.png\n",
            "adm/806/16.png\n",
            "adm/806/35.png\n",
            "adm/806/6.png\n",
            "adm/806/28.png\n",
            "adm/806/12.png\n",
            "adm/806/13.png\n",
            "adm/624/\n",
            "adm/624/10.png\n",
            "adm/624/17.png\n",
            "adm/624/3.png\n",
            "adm/624/1.png\n",
            "adm/624/25.png\n",
            "adm/624/24.png\n",
            "adm/624/34.png\n",
            "adm/624/33.png\n",
            "adm/624/23.png\n",
            "adm/624/22.png\n",
            "adm/624/18.png\n",
            "adm/624/11.png\n",
            "adm/624/39.png\n",
            "adm/624/7.png\n",
            "adm/624/27.png\n",
            "adm/624/19.png\n",
            "adm/624/0.png\n",
            "adm/624/2.png\n",
            "adm/624/29.png\n",
            "adm/624/36.png\n",
            "adm/624/20.png\n",
            "adm/624/30.png\n",
            "adm/624/8.png\n",
            "adm/624/5.png\n",
            "adm/624/14.png\n",
            "adm/624/4.png\n",
            "adm/624/9.png\n",
            "adm/624/26.png\n",
            "adm/624/31.png\n",
            "adm/624/21.png\n",
            "adm/624/32.png\n",
            "adm/624/37.png\n",
            "adm/624/38.png\n",
            "adm/624/15.png\n",
            "adm/624/16.png\n",
            "adm/624/35.png\n",
            "adm/624/6.png\n",
            "adm/624/28.png\n",
            "adm/624/12.png\n",
            "adm/624/13.png\n",
            "adm/168/\n",
            "adm/168/10.png\n",
            "adm/168/17.png\n",
            "adm/168/3.png\n",
            "adm/168/1.png\n",
            "adm/168/25.png\n",
            "adm/168/24.png\n",
            "adm/168/34.png\n",
            "adm/168/33.png\n",
            "adm/168/23.png\n",
            "adm/168/22.png\n",
            "adm/168/18.png\n",
            "adm/168/11.png\n",
            "adm/168/39.png\n",
            "adm/168/7.png\n",
            "adm/168/27.png\n",
            "adm/168/19.png\n",
            "adm/168/0.png\n",
            "adm/168/2.png\n",
            "adm/168/29.png\n",
            "adm/168/36.png\n",
            "adm/168/20.png\n",
            "adm/168/30.png\n",
            "adm/168/8.png\n",
            "adm/168/5.png\n",
            "adm/168/14.png\n",
            "adm/168/4.png\n",
            "adm/168/9.png\n",
            "adm/168/26.png\n",
            "adm/168/31.png\n",
            "adm/168/21.png\n",
            "adm/168/32.png\n",
            "adm/168/37.png\n",
            "adm/168/38.png\n",
            "adm/168/15.png\n",
            "adm/168/16.png\n",
            "adm/168/35.png\n",
            "adm/168/6.png\n",
            "adm/168/28.png\n",
            "adm/168/12.png\n",
            "adm/168/13.png\n",
            "adm/68/\n",
            "adm/68/10.png\n",
            "adm/68/17.png\n",
            "adm/68/3.png\n",
            "adm/68/1.png\n",
            "adm/68/25.png\n",
            "adm/68/24.png\n",
            "adm/68/34.png\n",
            "adm/68/33.png\n",
            "adm/68/23.png\n",
            "adm/68/22.png\n",
            "adm/68/18.png\n",
            "adm/68/11.png\n",
            "adm/68/39.png\n",
            "adm/68/7.png\n",
            "adm/68/27.png\n",
            "adm/68/19.png\n",
            "adm/68/0.png\n",
            "adm/68/2.png\n",
            "adm/68/29.png\n",
            "adm/68/36.png\n",
            "adm/68/20.png\n",
            "adm/68/30.png\n",
            "adm/68/8.png\n",
            "adm/68/5.png\n",
            "adm/68/14.png\n",
            "adm/68/4.png\n",
            "adm/68/9.png\n",
            "adm/68/26.png\n",
            "adm/68/31.png\n",
            "adm/68/21.png\n",
            "adm/68/32.png\n",
            "adm/68/37.png\n",
            "adm/68/38.png\n",
            "adm/68/15.png\n",
            "adm/68/16.png\n",
            "adm/68/35.png\n",
            "adm/68/6.png\n",
            "adm/68/28.png\n",
            "adm/68/12.png\n",
            "adm/68/13.png\n",
            "adm/857/\n",
            "adm/857/10.png\n",
            "adm/857/17.png\n",
            "adm/857/3.png\n",
            "adm/857/1.png\n",
            "adm/857/25.png\n",
            "adm/857/24.png\n",
            "adm/857/34.png\n",
            "adm/857/33.png\n",
            "adm/857/23.png\n",
            "adm/857/22.png\n",
            "adm/857/18.png\n",
            "adm/857/11.png\n",
            "adm/857/39.png\n",
            "adm/857/7.png\n",
            "adm/857/27.png\n",
            "adm/857/19.png\n",
            "adm/857/0.png\n",
            "adm/857/2.png\n",
            "adm/857/29.png\n",
            "adm/857/36.png\n",
            "adm/857/20.png\n",
            "adm/857/30.png\n",
            "adm/857/8.png\n",
            "adm/857/5.png\n",
            "adm/857/14.png\n",
            "adm/857/4.png\n",
            "adm/857/9.png\n",
            "adm/857/26.png\n",
            "adm/857/31.png\n",
            "adm/857/21.png\n",
            "adm/857/32.png\n",
            "adm/857/37.png\n",
            "adm/857/38.png\n",
            "adm/857/15.png\n",
            "adm/857/16.png\n",
            "adm/857/35.png\n",
            "adm/857/6.png\n",
            "adm/857/28.png\n",
            "adm/857/12.png\n",
            "adm/857/13.png\n",
            "adm/674/\n",
            "adm/674/10.png\n",
            "adm/674/17.png\n",
            "adm/674/3.png\n",
            "adm/674/1.png\n",
            "adm/674/25.png\n",
            "adm/674/24.png\n",
            "adm/674/34.png\n",
            "adm/674/33.png\n",
            "adm/674/23.png\n",
            "adm/674/22.png\n",
            "adm/674/18.png\n",
            "adm/674/11.png\n",
            "adm/674/39.png\n",
            "adm/674/7.png\n",
            "adm/674/27.png\n",
            "adm/674/19.png\n",
            "adm/674/0.png\n",
            "adm/674/2.png\n",
            "adm/674/29.png\n",
            "adm/674/36.png\n",
            "adm/674/20.png\n",
            "adm/674/30.png\n",
            "adm/674/8.png\n",
            "adm/674/5.png\n",
            "adm/674/14.png\n",
            "adm/674/4.png\n",
            "adm/674/9.png\n",
            "adm/674/26.png\n",
            "adm/674/31.png\n",
            "adm/674/21.png\n",
            "adm/674/32.png\n",
            "adm/674/37.png\n",
            "adm/674/38.png\n",
            "adm/674/15.png\n",
            "adm/674/16.png\n",
            "adm/674/35.png\n",
            "adm/674/6.png\n",
            "adm/674/28.png\n",
            "adm/674/12.png\n",
            "adm/674/13.png\n"
          ]
        }
      ]
    },
    {
      "cell_type": "code",
      "source": [
        "data_path = '/content/Intrinsic/adm'\n",
        "dest_root = '/content/drive/MyDrive/DATASETS/DiffusionForensics/intrinsic/imagenet/train/1_fake'\n",
        "images = get_image_list(data_path)\n",
        "from pathlib import Path\n"
      ],
      "metadata": {
        "id": "LNgiAJVfaEeB"
      },
      "execution_count": 11,
      "outputs": []
    },
    {
      "cell_type": "code",
      "source": [
        "images[:10]"
      ],
      "metadata": {
        "id": "MFZSW-BZbW3U",
        "outputId": "87a70db1-91d6-4a31-ebbb-00e979e78302",
        "colab": {
          "base_uri": "https://localhost:8080/"
        }
      },
      "execution_count": null,
      "outputs": [
        {
          "output_type": "execute_result",
          "data": {
            "text/plain": [
              "['/content/Intrinsic/adm/897/35.png',\n",
              " '/content/Intrinsic/adm/897/16.png',\n",
              " '/content/Intrinsic/adm/897/12.png',\n",
              " '/content/Intrinsic/adm/897/26.png',\n",
              " '/content/Intrinsic/adm/897/17.png',\n",
              " '/content/Intrinsic/adm/897/10.png',\n",
              " '/content/Intrinsic/adm/897/27.png',\n",
              " '/content/Intrinsic/adm/897/3.png',\n",
              " '/content/Intrinsic/adm/897/4.png',\n",
              " '/content/Intrinsic/adm/897/13.png']"
            ]
          },
          "metadata": {},
          "execution_count": 12
        }
      ]
    },
    {
      "cell_type": "markdown",
      "source": [
        "# Run process all images in the list"
      ],
      "metadata": {
        "id": "qxE9VVyF0QIC"
      }
    },
    {
      "cell_type": "code",
      "source": [
        "from tqdm import tqdm\n",
        "print('Total: {0} images'.format(len(images)))\n",
        "albedo = None\n",
        "inv_shd = None\n",
        "shading = None\n",
        "DEVICE = 'cpu'\n",
        "i = 1896 + 436\n",
        "start = i\n",
        "#images1 = images[:21] + images[1896:]\n",
        "for image in tqdm(images[start:]):\n",
        "    img = load_image(image)\n",
        "\n",
        "    if img.shape[-1] == 3:\n",
        "        result = run_pipeline(\n",
        "          intrinsic_model,\n",
        "          img,\n",
        "          resize_conf=0.0,\n",
        "          maintain_size=True,\n",
        "          linear=False,\n",
        "          device=DEVICE\n",
        "        )\n",
        "\n",
        "        i +=1\n",
        "    else:\n",
        "      print(image,':', img.shape)\n",
        "      continue\n",
        "\n",
        "    albedo = result['albedo']\n",
        "    inv_shd = result['inv_shading']\n",
        "\n",
        "    # compute shading from inverse shading\n",
        "    shading = uninvert(inv_shd)\n",
        "    # File name\n",
        "    file_name = Path(image).stem\n",
        "\n",
        "    save_image(albedo, dest_root,file_name + '_albedo_{0}'.format(i) + '.png')\n",
        "    save_image(shading, dest_root,file_name + '_shading_{0}'.format(i) + '.png')\n",
        "    save_image(img, dest_root,file_name + '_origin_{0}'.format(i) + '.png')\n",
        "\n",
        "\n"
      ],
      "metadata": {
        "id": "d1mEXjsG0Pp0",
        "outputId": "2b1b48f5-267f-4a37-c315-c65e7787eb11",
        "colab": {
          "base_uri": "https://localhost:8080/",
          "height": 1000
        }
      },
      "execution_count": 14,
      "outputs": [
        {
          "output_type": "stream",
          "name": "stdout",
          "text": [
            "Total: 40000 images\n"
          ]
        },
        {
          "output_type": "stream",
          "name": "stderr",
          "text": [
            "  0%|          | 1/38104 [00:18<191:53:34, 18.13s/it]"
          ]
        },
        {
          "output_type": "stream",
          "name": "stdout",
          "text": [
            "/content/drive/MyDrive/DATASETS/DiffusionForensics/intrinsic/imagenet/train/1_fake/17_albedo_1897.png\n",
            "/content/drive/MyDrive/DATASETS/DiffusionForensics/intrinsic/imagenet/train/1_fake/17_shading_1897.png\n",
            "/content/drive/MyDrive/DATASETS/DiffusionForensics/intrinsic/imagenet/train/1_fake/17_origin_1897.png\n"
          ]
        },
        {
          "output_type": "stream",
          "name": "stderr",
          "text": [
            "\r  0%|          | 2/38104 [00:35<185:37:05, 17.54s/it]"
          ]
        },
        {
          "output_type": "stream",
          "name": "stdout",
          "text": [
            "/content/drive/MyDrive/DATASETS/DiffusionForensics/intrinsic/imagenet/train/1_fake/25_albedo_1898.png\n",
            "/content/drive/MyDrive/DATASETS/DiffusionForensics/intrinsic/imagenet/train/1_fake/25_shading_1898.png\n",
            "/content/drive/MyDrive/DATASETS/DiffusionForensics/intrinsic/imagenet/train/1_fake/25_origin_1898.png\n"
          ]
        },
        {
          "output_type": "stream",
          "name": "stderr",
          "text": [
            "\r  0%|          | 3/38104 [00:52<183:20:35, 17.32s/it]"
          ]
        },
        {
          "output_type": "stream",
          "name": "stdout",
          "text": [
            "/content/drive/MyDrive/DATASETS/DiffusionForensics/intrinsic/imagenet/train/1_fake/37_albedo_1899.png\n",
            "/content/drive/MyDrive/DATASETS/DiffusionForensics/intrinsic/imagenet/train/1_fake/37_shading_1899.png\n",
            "/content/drive/MyDrive/DATASETS/DiffusionForensics/intrinsic/imagenet/train/1_fake/37_origin_1899.png\n"
          ]
        },
        {
          "output_type": "stream",
          "name": "stderr",
          "text": [
            "\r  0%|          | 4/38104 [01:10<186:14:47, 17.60s/it]"
          ]
        },
        {
          "output_type": "stream",
          "name": "stdout",
          "text": [
            "/content/drive/MyDrive/DATASETS/DiffusionForensics/intrinsic/imagenet/train/1_fake/20_albedo_1900.png\n",
            "/content/drive/MyDrive/DATASETS/DiffusionForensics/intrinsic/imagenet/train/1_fake/20_shading_1900.png\n",
            "/content/drive/MyDrive/DATASETS/DiffusionForensics/intrinsic/imagenet/train/1_fake/20_origin_1900.png\n"
          ]
        },
        {
          "output_type": "stream",
          "name": "stderr",
          "text": [
            "\r  0%|          | 5/38104 [01:27<183:08:08, 17.30s/it]"
          ]
        },
        {
          "output_type": "stream",
          "name": "stdout",
          "text": [
            "/content/drive/MyDrive/DATASETS/DiffusionForensics/intrinsic/imagenet/train/1_fake/1_albedo_1901.png\n",
            "/content/drive/MyDrive/DATASETS/DiffusionForensics/intrinsic/imagenet/train/1_fake/1_shading_1901.png\n",
            "/content/drive/MyDrive/DATASETS/DiffusionForensics/intrinsic/imagenet/train/1_fake/1_origin_1901.png\n"
          ]
        },
        {
          "output_type": "stream",
          "name": "stderr",
          "text": [
            "\r  0%|          | 6/38104 [01:36<155:56:53, 14.74s/it]"
          ]
        },
        {
          "output_type": "stream",
          "name": "stdout",
          "text": [
            "/content/drive/MyDrive/DATASETS/DiffusionForensics/intrinsic/imagenet/train/1_fake/32_albedo_1902.png\n",
            "/content/drive/MyDrive/DATASETS/DiffusionForensics/intrinsic/imagenet/train/1_fake/32_shading_1902.png\n",
            "/content/drive/MyDrive/DATASETS/DiffusionForensics/intrinsic/imagenet/train/1_fake/32_origin_1902.png\n"
          ]
        },
        {
          "output_type": "stream",
          "name": "stderr",
          "text": [
            "\r  0%|          | 7/38104 [01:55<169:00:58, 15.97s/it]"
          ]
        },
        {
          "output_type": "stream",
          "name": "stdout",
          "text": [
            "/content/drive/MyDrive/DATASETS/DiffusionForensics/intrinsic/imagenet/train/1_fake/9_albedo_1903.png\n",
            "/content/drive/MyDrive/DATASETS/DiffusionForensics/intrinsic/imagenet/train/1_fake/9_shading_1903.png\n",
            "/content/drive/MyDrive/DATASETS/DiffusionForensics/intrinsic/imagenet/train/1_fake/9_origin_1903.png\n"
          ]
        },
        {
          "output_type": "stream",
          "name": "stderr",
          "text": [
            "\r  0%|          | 8/38104 [02:12<172:27:33, 16.30s/it]"
          ]
        },
        {
          "output_type": "stream",
          "name": "stdout",
          "text": [
            "/content/drive/MyDrive/DATASETS/DiffusionForensics/intrinsic/imagenet/train/1_fake/14_albedo_1904.png\n",
            "/content/drive/MyDrive/DATASETS/DiffusionForensics/intrinsic/imagenet/train/1_fake/14_shading_1904.png\n",
            "/content/drive/MyDrive/DATASETS/DiffusionForensics/intrinsic/imagenet/train/1_fake/14_origin_1904.png\n"
          ]
        },
        {
          "output_type": "stream",
          "name": "stderr",
          "text": [
            "\r  0%|          | 9/38104 [02:29<175:05:25, 16.55s/it]"
          ]
        },
        {
          "output_type": "stream",
          "name": "stdout",
          "text": [
            "/content/drive/MyDrive/DATASETS/DiffusionForensics/intrinsic/imagenet/train/1_fake/8_albedo_1905.png\n",
            "/content/drive/MyDrive/DATASETS/DiffusionForensics/intrinsic/imagenet/train/1_fake/8_shading_1905.png\n",
            "/content/drive/MyDrive/DATASETS/DiffusionForensics/intrinsic/imagenet/train/1_fake/8_origin_1905.png\n"
          ]
        },
        {
          "output_type": "stream",
          "name": "stderr",
          "text": [
            "\r  0%|          | 10/38104 [02:49<185:12:24, 17.50s/it]"
          ]
        },
        {
          "output_type": "stream",
          "name": "stdout",
          "text": [
            "/content/drive/MyDrive/DATASETS/DiffusionForensics/intrinsic/imagenet/train/1_fake/19_albedo_1906.png\n",
            "/content/drive/MyDrive/DATASETS/DiffusionForensics/intrinsic/imagenet/train/1_fake/19_shading_1906.png\n",
            "/content/drive/MyDrive/DATASETS/DiffusionForensics/intrinsic/imagenet/train/1_fake/19_origin_1906.png\n"
          ]
        },
        {
          "output_type": "stream",
          "name": "stderr",
          "text": [
            "\r  0%|          | 11/38104 [03:06<185:17:08, 17.51s/it]"
          ]
        },
        {
          "output_type": "stream",
          "name": "stdout",
          "text": [
            "/content/drive/MyDrive/DATASETS/DiffusionForensics/intrinsic/imagenet/train/1_fake/3_albedo_1907.png\n",
            "/content/drive/MyDrive/DATASETS/DiffusionForensics/intrinsic/imagenet/train/1_fake/3_shading_1907.png\n",
            "/content/drive/MyDrive/DATASETS/DiffusionForensics/intrinsic/imagenet/train/1_fake/3_origin_1907.png\n"
          ]
        },
        {
          "output_type": "stream",
          "name": "stderr",
          "text": [
            "\r  0%|          | 12/38104 [03:23<184:01:28, 17.39s/it]"
          ]
        },
        {
          "output_type": "stream",
          "name": "stdout",
          "text": [
            "/content/drive/MyDrive/DATASETS/DiffusionForensics/intrinsic/imagenet/train/1_fake/35_albedo_1908.png\n",
            "/content/drive/MyDrive/DATASETS/DiffusionForensics/intrinsic/imagenet/train/1_fake/35_shading_1908.png\n",
            "/content/drive/MyDrive/DATASETS/DiffusionForensics/intrinsic/imagenet/train/1_fake/35_origin_1908.png\n"
          ]
        },
        {
          "output_type": "stream",
          "name": "stderr",
          "text": [
            "\r  0%|          | 13/38104 [03:40<182:26:16, 17.24s/it]"
          ]
        },
        {
          "output_type": "stream",
          "name": "stdout",
          "text": [
            "/content/drive/MyDrive/DATASETS/DiffusionForensics/intrinsic/imagenet/train/1_fake/10_albedo_1909.png\n",
            "/content/drive/MyDrive/DATASETS/DiffusionForensics/intrinsic/imagenet/train/1_fake/10_shading_1909.png\n",
            "/content/drive/MyDrive/DATASETS/DiffusionForensics/intrinsic/imagenet/train/1_fake/10_origin_1909.png\n"
          ]
        },
        {
          "output_type": "stream",
          "name": "stderr",
          "text": [
            "\r  0%|          | 14/38104 [03:58<184:34:48, 17.45s/it]"
          ]
        },
        {
          "output_type": "stream",
          "name": "stdout",
          "text": [
            "/content/drive/MyDrive/DATASETS/DiffusionForensics/intrinsic/imagenet/train/1_fake/31_albedo_1910.png\n",
            "/content/drive/MyDrive/DATASETS/DiffusionForensics/intrinsic/imagenet/train/1_fake/31_shading_1910.png\n",
            "/content/drive/MyDrive/DATASETS/DiffusionForensics/intrinsic/imagenet/train/1_fake/31_origin_1910.png\n"
          ]
        },
        {
          "output_type": "stream",
          "name": "stderr",
          "text": [
            "\r  0%|          | 15/38104 [04:15<183:44:17, 17.37s/it]"
          ]
        },
        {
          "output_type": "stream",
          "name": "stdout",
          "text": [
            "/content/drive/MyDrive/DATASETS/DiffusionForensics/intrinsic/imagenet/train/1_fake/23_albedo_1911.png\n",
            "/content/drive/MyDrive/DATASETS/DiffusionForensics/intrinsic/imagenet/train/1_fake/23_shading_1911.png\n",
            "/content/drive/MyDrive/DATASETS/DiffusionForensics/intrinsic/imagenet/train/1_fake/23_origin_1911.png\n"
          ]
        },
        {
          "output_type": "stream",
          "name": "stderr",
          "text": [
            "\r  0%|          | 16/38104 [04:32<183:06:55, 17.31s/it]"
          ]
        },
        {
          "output_type": "stream",
          "name": "stdout",
          "text": [
            "/content/drive/MyDrive/DATASETS/DiffusionForensics/intrinsic/imagenet/train/1_fake/0_albedo_1912.png\n",
            "/content/drive/MyDrive/DATASETS/DiffusionForensics/intrinsic/imagenet/train/1_fake/0_shading_1912.png\n",
            "/content/drive/MyDrive/DATASETS/DiffusionForensics/intrinsic/imagenet/train/1_fake/0_origin_1912.png\n",
            "/content/drive/MyDrive/DATASETS/DiffusionForensics/intrinsic/imagenet/train/1_fake/22_albedo_1913.png\n",
            "/content/drive/MyDrive/DATASETS/DiffusionForensics/intrinsic/imagenet/train/1_fake/22_shading_1913.png\n",
            "/content/drive/MyDrive/DATASETS/DiffusionForensics/intrinsic/imagenet/train/1_fake/22_origin_1913.png\n"
          ]
        },
        {
          "output_type": "stream",
          "name": "stderr",
          "text": [
            "  0%|          | 18/38104 [05:08<184:18:13, 17.42s/it]"
          ]
        },
        {
          "output_type": "stream",
          "name": "stdout",
          "text": [
            "/content/drive/MyDrive/DATASETS/DiffusionForensics/intrinsic/imagenet/train/1_fake/21_albedo_1914.png\n",
            "/content/drive/MyDrive/DATASETS/DiffusionForensics/intrinsic/imagenet/train/1_fake/21_shading_1914.png\n",
            "/content/drive/MyDrive/DATASETS/DiffusionForensics/intrinsic/imagenet/train/1_fake/21_origin_1914.png\n"
          ]
        },
        {
          "output_type": "stream",
          "name": "stderr",
          "text": [
            "\r  0%|          | 19/38104 [05:25<183:11:56, 17.32s/it]"
          ]
        },
        {
          "output_type": "stream",
          "name": "stdout",
          "text": [
            "/content/drive/MyDrive/DATASETS/DiffusionForensics/intrinsic/imagenet/train/1_fake/12_albedo_1915.png\n",
            "/content/drive/MyDrive/DATASETS/DiffusionForensics/intrinsic/imagenet/train/1_fake/12_shading_1915.png\n",
            "/content/drive/MyDrive/DATASETS/DiffusionForensics/intrinsic/imagenet/train/1_fake/12_origin_1915.png\n"
          ]
        },
        {
          "output_type": "stream",
          "name": "stderr",
          "text": [
            "\r  0%|          | 20/38104 [05:41<180:58:47, 17.11s/it]"
          ]
        },
        {
          "output_type": "stream",
          "name": "stdout",
          "text": [
            "/content/drive/MyDrive/DATASETS/DiffusionForensics/intrinsic/imagenet/train/1_fake/18_albedo_1916.png\n",
            "/content/drive/MyDrive/DATASETS/DiffusionForensics/intrinsic/imagenet/train/1_fake/18_shading_1916.png\n",
            "/content/drive/MyDrive/DATASETS/DiffusionForensics/intrinsic/imagenet/train/1_fake/18_origin_1916.png\n"
          ]
        },
        {
          "output_type": "stream",
          "name": "stderr",
          "text": [
            "\r  0%|          | 21/38104 [05:59<184:25:10, 17.43s/it]"
          ]
        },
        {
          "output_type": "stream",
          "name": "stdout",
          "text": [
            "/content/drive/MyDrive/DATASETS/DiffusionForensics/intrinsic/imagenet/train/1_fake/34_albedo_1917.png\n",
            "/content/drive/MyDrive/DATASETS/DiffusionForensics/intrinsic/imagenet/train/1_fake/34_shading_1917.png\n",
            "/content/drive/MyDrive/DATASETS/DiffusionForensics/intrinsic/imagenet/train/1_fake/34_origin_1917.png\n"
          ]
        },
        {
          "output_type": "stream",
          "name": "stderr",
          "text": [
            "\r  0%|          | 22/38104 [06:17<185:15:06, 17.51s/it]"
          ]
        },
        {
          "output_type": "stream",
          "name": "stdout",
          "text": [
            "/content/drive/MyDrive/DATASETS/DiffusionForensics/intrinsic/imagenet/train/1_fake/26_albedo_1918.png\n",
            "/content/drive/MyDrive/DATASETS/DiffusionForensics/intrinsic/imagenet/train/1_fake/26_shading_1918.png\n",
            "/content/drive/MyDrive/DATASETS/DiffusionForensics/intrinsic/imagenet/train/1_fake/26_origin_1918.png\n"
          ]
        },
        {
          "output_type": "stream",
          "name": "stderr",
          "text": [
            "\r  0%|          | 23/38104 [06:34<183:59:56, 17.39s/it]"
          ]
        },
        {
          "output_type": "stream",
          "name": "stdout",
          "text": [
            "/content/drive/MyDrive/DATASETS/DiffusionForensics/intrinsic/imagenet/train/1_fake/38_albedo_1919.png\n",
            "/content/drive/MyDrive/DATASETS/DiffusionForensics/intrinsic/imagenet/train/1_fake/38_shading_1919.png\n",
            "/content/drive/MyDrive/DATASETS/DiffusionForensics/intrinsic/imagenet/train/1_fake/38_origin_1919.png\n"
          ]
        },
        {
          "output_type": "stream",
          "name": "stderr",
          "text": [
            "\r  0%|          | 24/38104 [06:51<183:35:50, 17.36s/it]"
          ]
        },
        {
          "output_type": "stream",
          "name": "stdout",
          "text": [
            "/content/drive/MyDrive/DATASETS/DiffusionForensics/intrinsic/imagenet/train/1_fake/4_albedo_1920.png\n",
            "/content/drive/MyDrive/DATASETS/DiffusionForensics/intrinsic/imagenet/train/1_fake/4_shading_1920.png\n",
            "/content/drive/MyDrive/DATASETS/DiffusionForensics/intrinsic/imagenet/train/1_fake/4_origin_1920.png\n"
          ]
        },
        {
          "output_type": "stream",
          "name": "stderr",
          "text": [
            "\r  0%|          | 25/38104 [07:08<181:20:19, 17.14s/it]"
          ]
        },
        {
          "output_type": "stream",
          "name": "stdout",
          "text": [
            "/content/drive/MyDrive/DATASETS/DiffusionForensics/intrinsic/imagenet/train/1_fake/16_albedo_1921.png\n",
            "/content/drive/MyDrive/DATASETS/DiffusionForensics/intrinsic/imagenet/train/1_fake/16_shading_1921.png\n",
            "/content/drive/MyDrive/DATASETS/DiffusionForensics/intrinsic/imagenet/train/1_fake/16_origin_1921.png\n"
          ]
        },
        {
          "output_type": "stream",
          "name": "stderr",
          "text": [
            "\r  0%|          | 26/38104 [07:25<179:36:28, 16.98s/it]"
          ]
        },
        {
          "output_type": "stream",
          "name": "stdout",
          "text": [
            "/content/drive/MyDrive/DATASETS/DiffusionForensics/intrinsic/imagenet/train/1_fake/33_albedo_1922.png\n",
            "/content/drive/MyDrive/DATASETS/DiffusionForensics/intrinsic/imagenet/train/1_fake/33_shading_1922.png\n",
            "/content/drive/MyDrive/DATASETS/DiffusionForensics/intrinsic/imagenet/train/1_fake/33_origin_1922.png\n"
          ]
        },
        {
          "output_type": "stream",
          "name": "stderr",
          "text": [
            "\r  0%|          | 27/38104 [07:43<183:55:58, 17.39s/it]"
          ]
        },
        {
          "output_type": "stream",
          "name": "stdout",
          "text": [
            "/content/drive/MyDrive/DATASETS/DiffusionForensics/intrinsic/imagenet/train/1_fake/6_albedo_1923.png\n",
            "/content/drive/MyDrive/DATASETS/DiffusionForensics/intrinsic/imagenet/train/1_fake/6_shading_1923.png\n",
            "/content/drive/MyDrive/DATASETS/DiffusionForensics/intrinsic/imagenet/train/1_fake/6_origin_1923.png\n"
          ]
        },
        {
          "output_type": "stream",
          "name": "stderr",
          "text": [
            "\r  0%|          | 28/38104 [08:00<182:59:50, 17.30s/it]"
          ]
        },
        {
          "output_type": "stream",
          "name": "stdout",
          "text": [
            "/content/drive/MyDrive/DATASETS/DiffusionForensics/intrinsic/imagenet/train/1_fake/7_albedo_1924.png\n",
            "/content/drive/MyDrive/DATASETS/DiffusionForensics/intrinsic/imagenet/train/1_fake/7_shading_1924.png\n",
            "/content/drive/MyDrive/DATASETS/DiffusionForensics/intrinsic/imagenet/train/1_fake/7_origin_1924.png\n"
          ]
        },
        {
          "output_type": "stream",
          "name": "stderr",
          "text": [
            "\r  0%|          | 29/38104 [08:17<181:03:06, 17.12s/it]"
          ]
        },
        {
          "output_type": "stream",
          "name": "stdout",
          "text": [
            "/content/drive/MyDrive/DATASETS/DiffusionForensics/intrinsic/imagenet/train/1_fake/36_albedo_1925.png\n",
            "/content/drive/MyDrive/DATASETS/DiffusionForensics/intrinsic/imagenet/train/1_fake/36_shading_1925.png\n",
            "/content/drive/MyDrive/DATASETS/DiffusionForensics/intrinsic/imagenet/train/1_fake/36_origin_1925.png\n"
          ]
        },
        {
          "output_type": "stream",
          "name": "stderr",
          "text": [
            "\r  0%|          | 30/38104 [08:27<159:55:37, 15.12s/it]"
          ]
        },
        {
          "output_type": "stream",
          "name": "stdout",
          "text": [
            "/content/drive/MyDrive/DATASETS/DiffusionForensics/intrinsic/imagenet/train/1_fake/15_albedo_1926.png\n",
            "/content/drive/MyDrive/DATASETS/DiffusionForensics/intrinsic/imagenet/train/1_fake/15_shading_1926.png\n",
            "/content/drive/MyDrive/DATASETS/DiffusionForensics/intrinsic/imagenet/train/1_fake/15_origin_1926.png\n"
          ]
        },
        {
          "output_type": "stream",
          "name": "stderr",
          "text": [
            "\r  0%|          | 31/38104 [08:38<144:50:11, 13.70s/it]"
          ]
        },
        {
          "output_type": "stream",
          "name": "stdout",
          "text": [
            "/content/drive/MyDrive/DATASETS/DiffusionForensics/intrinsic/imagenet/train/1_fake/13_albedo_1927.png\n",
            "/content/drive/MyDrive/DATASETS/DiffusionForensics/intrinsic/imagenet/train/1_fake/13_shading_1927.png\n",
            "/content/drive/MyDrive/DATASETS/DiffusionForensics/intrinsic/imagenet/train/1_fake/13_origin_1927.png\n"
          ]
        },
        {
          "output_type": "stream",
          "name": "stderr",
          "text": [
            "\r  0%|          | 32/38104 [08:56<159:14:36, 15.06s/it]"
          ]
        },
        {
          "output_type": "stream",
          "name": "stdout",
          "text": [
            "/content/drive/MyDrive/DATASETS/DiffusionForensics/intrinsic/imagenet/train/1_fake/5_albedo_1928.png\n",
            "/content/drive/MyDrive/DATASETS/DiffusionForensics/intrinsic/imagenet/train/1_fake/5_shading_1928.png\n",
            "/content/drive/MyDrive/DATASETS/DiffusionForensics/intrinsic/imagenet/train/1_fake/5_origin_1928.png\n"
          ]
        },
        {
          "output_type": "stream",
          "name": "stderr",
          "text": [
            "\r  0%|          | 33/38104 [09:13<164:51:32, 15.59s/it]"
          ]
        },
        {
          "output_type": "stream",
          "name": "stdout",
          "text": [
            "/content/drive/MyDrive/DATASETS/DiffusionForensics/intrinsic/imagenet/train/1_fake/24_albedo_1929.png\n",
            "/content/drive/MyDrive/DATASETS/DiffusionForensics/intrinsic/imagenet/train/1_fake/24_shading_1929.png\n",
            "/content/drive/MyDrive/DATASETS/DiffusionForensics/intrinsic/imagenet/train/1_fake/24_origin_1929.png\n"
          ]
        },
        {
          "output_type": "stream",
          "name": "stderr",
          "text": [
            "\r  0%|          | 34/38104 [09:30<169:30:37, 16.03s/it]"
          ]
        },
        {
          "output_type": "stream",
          "name": "stdout",
          "text": [
            "/content/drive/MyDrive/DATASETS/DiffusionForensics/intrinsic/imagenet/train/1_fake/28_albedo_1930.png\n",
            "/content/drive/MyDrive/DATASETS/DiffusionForensics/intrinsic/imagenet/train/1_fake/28_shading_1930.png\n",
            "/content/drive/MyDrive/DATASETS/DiffusionForensics/intrinsic/imagenet/train/1_fake/28_origin_1930.png\n"
          ]
        },
        {
          "output_type": "stream",
          "name": "stderr",
          "text": [
            "\r  0%|          | 35/38104 [09:54<195:01:32, 18.44s/it]"
          ]
        },
        {
          "output_type": "stream",
          "name": "stdout",
          "text": [
            "/content/drive/MyDrive/DATASETS/DiffusionForensics/intrinsic/imagenet/train/1_fake/27_albedo_1931.png\n",
            "/content/drive/MyDrive/DATASETS/DiffusionForensics/intrinsic/imagenet/train/1_fake/27_shading_1931.png\n",
            "/content/drive/MyDrive/DATASETS/DiffusionForensics/intrinsic/imagenet/train/1_fake/27_origin_1931.png\n"
          ]
        },
        {
          "output_type": "stream",
          "name": "stderr",
          "text": [
            "\r  0%|          | 36/38104 [10:11<191:33:17, 18.11s/it]"
          ]
        },
        {
          "output_type": "stream",
          "name": "stdout",
          "text": [
            "/content/drive/MyDrive/DATASETS/DiffusionForensics/intrinsic/imagenet/train/1_fake/29_albedo_1932.png\n",
            "/content/drive/MyDrive/DATASETS/DiffusionForensics/intrinsic/imagenet/train/1_fake/29_shading_1932.png\n",
            "/content/drive/MyDrive/DATASETS/DiffusionForensics/intrinsic/imagenet/train/1_fake/29_origin_1932.png\n"
          ]
        },
        {
          "output_type": "stream",
          "name": "stderr",
          "text": [
            "\r  0%|          | 37/38104 [10:28<187:07:56, 17.70s/it]"
          ]
        },
        {
          "output_type": "stream",
          "name": "stdout",
          "text": [
            "/content/drive/MyDrive/DATASETS/DiffusionForensics/intrinsic/imagenet/train/1_fake/30_albedo_1933.png\n",
            "/content/drive/MyDrive/DATASETS/DiffusionForensics/intrinsic/imagenet/train/1_fake/30_shading_1933.png\n",
            "/content/drive/MyDrive/DATASETS/DiffusionForensics/intrinsic/imagenet/train/1_fake/30_origin_1933.png\n"
          ]
        },
        {
          "output_type": "stream",
          "name": "stderr",
          "text": [
            "\r  0%|          | 38/38104 [10:39<165:25:00, 15.64s/it]"
          ]
        },
        {
          "output_type": "stream",
          "name": "stdout",
          "text": [
            "/content/drive/MyDrive/DATASETS/DiffusionForensics/intrinsic/imagenet/train/1_fake/11_albedo_1934.png\n",
            "/content/drive/MyDrive/DATASETS/DiffusionForensics/intrinsic/imagenet/train/1_fake/11_shading_1934.png\n",
            "/content/drive/MyDrive/DATASETS/DiffusionForensics/intrinsic/imagenet/train/1_fake/11_origin_1934.png\n"
          ]
        },
        {
          "output_type": "stream",
          "name": "stderr",
          "text": [
            "\r  0%|          | 39/38104 [10:49<147:18:58, 13.93s/it]"
          ]
        },
        {
          "output_type": "stream",
          "name": "stdout",
          "text": [
            "/content/drive/MyDrive/DATASETS/DiffusionForensics/intrinsic/imagenet/train/1_fake/2_albedo_1935.png\n",
            "/content/drive/MyDrive/DATASETS/DiffusionForensics/intrinsic/imagenet/train/1_fake/2_shading_1935.png\n",
            "/content/drive/MyDrive/DATASETS/DiffusionForensics/intrinsic/imagenet/train/1_fake/2_origin_1935.png\n"
          ]
        },
        {
          "output_type": "stream",
          "name": "stderr",
          "text": [
            "\r  0%|          | 40/38104 [11:06<157:12:18, 14.87s/it]"
          ]
        },
        {
          "output_type": "stream",
          "name": "stdout",
          "text": [
            "/content/drive/MyDrive/DATASETS/DiffusionForensics/intrinsic/imagenet/train/1_fake/39_albedo_1936.png\n",
            "/content/drive/MyDrive/DATASETS/DiffusionForensics/intrinsic/imagenet/train/1_fake/39_shading_1936.png\n",
            "/content/drive/MyDrive/DATASETS/DiffusionForensics/intrinsic/imagenet/train/1_fake/39_origin_1936.png\n"
          ]
        },
        {
          "output_type": "stream",
          "name": "stderr",
          "text": [
            "\r  0%|          | 41/38104 [11:22<162:24:23, 15.36s/it]"
          ]
        },
        {
          "output_type": "stream",
          "name": "stdout",
          "text": [
            "/content/drive/MyDrive/DATASETS/DiffusionForensics/intrinsic/imagenet/train/1_fake/17_albedo_1937.png\n",
            "/content/drive/MyDrive/DATASETS/DiffusionForensics/intrinsic/imagenet/train/1_fake/17_shading_1937.png\n",
            "/content/drive/MyDrive/DATASETS/DiffusionForensics/intrinsic/imagenet/train/1_fake/17_origin_1937.png\n"
          ]
        },
        {
          "output_type": "stream",
          "name": "stderr",
          "text": [
            "\r  0%|          | 42/38104 [11:40<170:30:41, 16.13s/it]"
          ]
        },
        {
          "output_type": "stream",
          "name": "stdout",
          "text": [
            "/content/drive/MyDrive/DATASETS/DiffusionForensics/intrinsic/imagenet/train/1_fake/25_albedo_1938.png\n",
            "/content/drive/MyDrive/DATASETS/DiffusionForensics/intrinsic/imagenet/train/1_fake/25_shading_1938.png\n",
            "/content/drive/MyDrive/DATASETS/DiffusionForensics/intrinsic/imagenet/train/1_fake/25_origin_1938.png\n"
          ]
        },
        {
          "output_type": "stream",
          "name": "stderr",
          "text": [
            "\r  0%|          | 43/38104 [11:51<151:57:10, 14.37s/it]"
          ]
        },
        {
          "output_type": "stream",
          "name": "stdout",
          "text": [
            "/content/drive/MyDrive/DATASETS/DiffusionForensics/intrinsic/imagenet/train/1_fake/37_albedo_1939.png\n",
            "/content/drive/MyDrive/DATASETS/DiffusionForensics/intrinsic/imagenet/train/1_fake/37_shading_1939.png\n",
            "/content/drive/MyDrive/DATASETS/DiffusionForensics/intrinsic/imagenet/train/1_fake/37_origin_1939.png\n"
          ]
        },
        {
          "output_type": "stream",
          "name": "stderr",
          "text": [
            "\r  0%|          | 44/38104 [12:07<159:38:27, 15.10s/it]"
          ]
        },
        {
          "output_type": "stream",
          "name": "stdout",
          "text": [
            "/content/drive/MyDrive/DATASETS/DiffusionForensics/intrinsic/imagenet/train/1_fake/20_albedo_1940.png\n",
            "/content/drive/MyDrive/DATASETS/DiffusionForensics/intrinsic/imagenet/train/1_fake/20_shading_1940.png\n",
            "/content/drive/MyDrive/DATASETS/DiffusionForensics/intrinsic/imagenet/train/1_fake/20_origin_1940.png\n"
          ]
        },
        {
          "output_type": "stream",
          "name": "stderr",
          "text": [
            "\r  0%|          | 45/38104 [12:24<165:18:46, 15.64s/it]"
          ]
        },
        {
          "output_type": "stream",
          "name": "stdout",
          "text": [
            "/content/drive/MyDrive/DATASETS/DiffusionForensics/intrinsic/imagenet/train/1_fake/1_albedo_1941.png\n",
            "/content/drive/MyDrive/DATASETS/DiffusionForensics/intrinsic/imagenet/train/1_fake/1_shading_1941.png\n",
            "/content/drive/MyDrive/DATASETS/DiffusionForensics/intrinsic/imagenet/train/1_fake/1_origin_1941.png\n"
          ]
        },
        {
          "output_type": "stream",
          "name": "stderr",
          "text": [
            "\r  0%|          | 46/38104 [12:42<173:26:27, 16.41s/it]"
          ]
        },
        {
          "output_type": "stream",
          "name": "stdout",
          "text": [
            "/content/drive/MyDrive/DATASETS/DiffusionForensics/intrinsic/imagenet/train/1_fake/32_albedo_1942.png\n",
            "/content/drive/MyDrive/DATASETS/DiffusionForensics/intrinsic/imagenet/train/1_fake/32_shading_1942.png\n",
            "/content/drive/MyDrive/DATASETS/DiffusionForensics/intrinsic/imagenet/train/1_fake/32_origin_1942.png\n"
          ]
        },
        {
          "output_type": "stream",
          "name": "stderr",
          "text": [
            "\r  0%|          | 47/38104 [12:59<175:07:15, 16.57s/it]"
          ]
        },
        {
          "output_type": "stream",
          "name": "stdout",
          "text": [
            "/content/drive/MyDrive/DATASETS/DiffusionForensics/intrinsic/imagenet/train/1_fake/9_albedo_1943.png\n",
            "/content/drive/MyDrive/DATASETS/DiffusionForensics/intrinsic/imagenet/train/1_fake/9_shading_1943.png\n",
            "/content/drive/MyDrive/DATASETS/DiffusionForensics/intrinsic/imagenet/train/1_fake/9_origin_1943.png\n"
          ]
        },
        {
          "output_type": "stream",
          "name": "stderr",
          "text": [
            "\r  0%|          | 48/38104 [13:16<174:43:14, 16.53s/it]"
          ]
        },
        {
          "output_type": "stream",
          "name": "stdout",
          "text": [
            "/content/drive/MyDrive/DATASETS/DiffusionForensics/intrinsic/imagenet/train/1_fake/14_albedo_1944.png\n",
            "/content/drive/MyDrive/DATASETS/DiffusionForensics/intrinsic/imagenet/train/1_fake/14_shading_1944.png\n",
            "/content/drive/MyDrive/DATASETS/DiffusionForensics/intrinsic/imagenet/train/1_fake/14_origin_1944.png\n"
          ]
        },
        {
          "output_type": "stream",
          "name": "stderr",
          "text": [
            "\r  0%|          | 49/38104 [13:33<175:39:52, 16.62s/it]"
          ]
        },
        {
          "output_type": "stream",
          "name": "stdout",
          "text": [
            "/content/drive/MyDrive/DATASETS/DiffusionForensics/intrinsic/imagenet/train/1_fake/8_albedo_1945.png\n",
            "/content/drive/MyDrive/DATASETS/DiffusionForensics/intrinsic/imagenet/train/1_fake/8_shading_1945.png\n",
            "/content/drive/MyDrive/DATASETS/DiffusionForensics/intrinsic/imagenet/train/1_fake/8_origin_1945.png\n"
          ]
        },
        {
          "output_type": "stream",
          "name": "stderr",
          "text": [
            "\r  0%|          | 50/38104 [13:50<178:02:16, 16.84s/it]"
          ]
        },
        {
          "output_type": "stream",
          "name": "stdout",
          "text": [
            "/content/drive/MyDrive/DATASETS/DiffusionForensics/intrinsic/imagenet/train/1_fake/19_albedo_1946.png\n",
            "/content/drive/MyDrive/DATASETS/DiffusionForensics/intrinsic/imagenet/train/1_fake/19_shading_1946.png\n",
            "/content/drive/MyDrive/DATASETS/DiffusionForensics/intrinsic/imagenet/train/1_fake/19_origin_1946.png\n"
          ]
        },
        {
          "output_type": "stream",
          "name": "stderr",
          "text": [
            "\r  0%|          | 51/38104 [14:07<179:58:12, 17.03s/it]"
          ]
        },
        {
          "output_type": "stream",
          "name": "stdout",
          "text": [
            "/content/drive/MyDrive/DATASETS/DiffusionForensics/intrinsic/imagenet/train/1_fake/3_albedo_1947.png\n",
            "/content/drive/MyDrive/DATASETS/DiffusionForensics/intrinsic/imagenet/train/1_fake/3_shading_1947.png\n",
            "/content/drive/MyDrive/DATASETS/DiffusionForensics/intrinsic/imagenet/train/1_fake/3_origin_1947.png\n"
          ]
        },
        {
          "output_type": "stream",
          "name": "stderr",
          "text": [
            "\r  0%|          | 52/38104 [14:24<179:22:30, 16.97s/it]"
          ]
        },
        {
          "output_type": "stream",
          "name": "stdout",
          "text": [
            "/content/drive/MyDrive/DATASETS/DiffusionForensics/intrinsic/imagenet/train/1_fake/35_albedo_1948.png\n",
            "/content/drive/MyDrive/DATASETS/DiffusionForensics/intrinsic/imagenet/train/1_fake/35_shading_1948.png\n",
            "/content/drive/MyDrive/DATASETS/DiffusionForensics/intrinsic/imagenet/train/1_fake/35_origin_1948.png\n"
          ]
        },
        {
          "output_type": "stream",
          "name": "stderr",
          "text": [
            "\r  0%|          | 53/38104 [14:42<183:12:47, 17.33s/it]"
          ]
        },
        {
          "output_type": "stream",
          "name": "stdout",
          "text": [
            "/content/drive/MyDrive/DATASETS/DiffusionForensics/intrinsic/imagenet/train/1_fake/10_albedo_1949.png\n",
            "/content/drive/MyDrive/DATASETS/DiffusionForensics/intrinsic/imagenet/train/1_fake/10_shading_1949.png\n",
            "/content/drive/MyDrive/DATASETS/DiffusionForensics/intrinsic/imagenet/train/1_fake/10_origin_1949.png\n"
          ]
        },
        {
          "output_type": "stream",
          "name": "stderr",
          "text": [
            "\r  0%|          | 54/38104 [14:59<181:43:07, 17.19s/it]"
          ]
        },
        {
          "output_type": "stream",
          "name": "stdout",
          "text": [
            "/content/drive/MyDrive/DATASETS/DiffusionForensics/intrinsic/imagenet/train/1_fake/31_albedo_1950.png\n",
            "/content/drive/MyDrive/DATASETS/DiffusionForensics/intrinsic/imagenet/train/1_fake/31_shading_1950.png\n",
            "/content/drive/MyDrive/DATASETS/DiffusionForensics/intrinsic/imagenet/train/1_fake/31_origin_1950.png\n"
          ]
        },
        {
          "output_type": "stream",
          "name": "stderr",
          "text": [
            "\r  0%|          | 55/38104 [15:18<185:10:49, 17.52s/it]"
          ]
        },
        {
          "output_type": "stream",
          "name": "stdout",
          "text": [
            "/content/drive/MyDrive/DATASETS/DiffusionForensics/intrinsic/imagenet/train/1_fake/23_albedo_1951.png\n",
            "/content/drive/MyDrive/DATASETS/DiffusionForensics/intrinsic/imagenet/train/1_fake/23_shading_1951.png\n",
            "/content/drive/MyDrive/DATASETS/DiffusionForensics/intrinsic/imagenet/train/1_fake/23_origin_1951.png\n"
          ]
        },
        {
          "output_type": "stream",
          "name": "stderr",
          "text": [
            "\r  0%|          | 56/38104 [15:27<158:30:32, 15.00s/it]"
          ]
        },
        {
          "output_type": "stream",
          "name": "stdout",
          "text": [
            "/content/drive/MyDrive/DATASETS/DiffusionForensics/intrinsic/imagenet/train/1_fake/0_albedo_1952.png\n",
            "/content/drive/MyDrive/DATASETS/DiffusionForensics/intrinsic/imagenet/train/1_fake/0_shading_1952.png\n",
            "/content/drive/MyDrive/DATASETS/DiffusionForensics/intrinsic/imagenet/train/1_fake/0_origin_1952.png\n"
          ]
        },
        {
          "output_type": "stream",
          "name": "stderr",
          "text": [
            "\r  0%|          | 57/38104 [15:44<167:06:35, 15.81s/it]"
          ]
        },
        {
          "output_type": "stream",
          "name": "stdout",
          "text": [
            "/content/drive/MyDrive/DATASETS/DiffusionForensics/intrinsic/imagenet/train/1_fake/22_albedo_1953.png\n",
            "/content/drive/MyDrive/DATASETS/DiffusionForensics/intrinsic/imagenet/train/1_fake/22_shading_1953.png\n",
            "/content/drive/MyDrive/DATASETS/DiffusionForensics/intrinsic/imagenet/train/1_fake/22_origin_1953.png\n"
          ]
        },
        {
          "output_type": "stream",
          "name": "stderr",
          "text": [
            "\r  0%|          | 58/38104 [16:01<170:09:54, 16.10s/it]"
          ]
        },
        {
          "output_type": "stream",
          "name": "stdout",
          "text": [
            "/content/drive/MyDrive/DATASETS/DiffusionForensics/intrinsic/imagenet/train/1_fake/21_albedo_1954.png\n",
            "/content/drive/MyDrive/DATASETS/DiffusionForensics/intrinsic/imagenet/train/1_fake/21_shading_1954.png\n",
            "/content/drive/MyDrive/DATASETS/DiffusionForensics/intrinsic/imagenet/train/1_fake/21_origin_1954.png\n"
          ]
        },
        {
          "output_type": "stream",
          "name": "stderr",
          "text": [
            "\r  0%|          | 59/38104 [16:18<173:08:13, 16.38s/it]"
          ]
        },
        {
          "output_type": "stream",
          "name": "stdout",
          "text": [
            "/content/drive/MyDrive/DATASETS/DiffusionForensics/intrinsic/imagenet/train/1_fake/12_albedo_1955.png\n",
            "/content/drive/MyDrive/DATASETS/DiffusionForensics/intrinsic/imagenet/train/1_fake/12_shading_1955.png\n",
            "/content/drive/MyDrive/DATASETS/DiffusionForensics/intrinsic/imagenet/train/1_fake/12_origin_1955.png\n"
          ]
        },
        {
          "output_type": "stream",
          "name": "stderr",
          "text": [
            "\r  0%|          | 60/38104 [16:29<154:29:44, 14.62s/it]"
          ]
        },
        {
          "output_type": "stream",
          "name": "stdout",
          "text": [
            "/content/drive/MyDrive/DATASETS/DiffusionForensics/intrinsic/imagenet/train/1_fake/18_albedo_1956.png\n",
            "/content/drive/MyDrive/DATASETS/DiffusionForensics/intrinsic/imagenet/train/1_fake/18_shading_1956.png\n",
            "/content/drive/MyDrive/DATASETS/DiffusionForensics/intrinsic/imagenet/train/1_fake/18_origin_1956.png\n"
          ]
        },
        {
          "output_type": "stream",
          "name": "stderr",
          "text": [
            "\r  0%|          | 61/38104 [16:45<160:29:20, 15.19s/it]"
          ]
        },
        {
          "output_type": "stream",
          "name": "stdout",
          "text": [
            "/content/drive/MyDrive/DATASETS/DiffusionForensics/intrinsic/imagenet/train/1_fake/34_albedo_1957.png\n",
            "/content/drive/MyDrive/DATASETS/DiffusionForensics/intrinsic/imagenet/train/1_fake/34_shading_1957.png\n",
            "/content/drive/MyDrive/DATASETS/DiffusionForensics/intrinsic/imagenet/train/1_fake/34_origin_1957.png\n"
          ]
        },
        {
          "output_type": "stream",
          "name": "stderr",
          "text": [
            "\r  0%|          | 62/38104 [17:03<167:01:24, 15.81s/it]"
          ]
        },
        {
          "output_type": "stream",
          "name": "stdout",
          "text": [
            "/content/drive/MyDrive/DATASETS/DiffusionForensics/intrinsic/imagenet/train/1_fake/26_albedo_1958.png\n",
            "/content/drive/MyDrive/DATASETS/DiffusionForensics/intrinsic/imagenet/train/1_fake/26_shading_1958.png\n",
            "/content/drive/MyDrive/DATASETS/DiffusionForensics/intrinsic/imagenet/train/1_fake/26_origin_1958.png\n"
          ]
        },
        {
          "output_type": "stream",
          "name": "stderr",
          "text": [
            "\r  0%|          | 63/38104 [17:13<150:53:12, 14.28s/it]"
          ]
        },
        {
          "output_type": "stream",
          "name": "stdout",
          "text": [
            "/content/drive/MyDrive/DATASETS/DiffusionForensics/intrinsic/imagenet/train/1_fake/38_albedo_1959.png\n",
            "/content/drive/MyDrive/DATASETS/DiffusionForensics/intrinsic/imagenet/train/1_fake/38_shading_1959.png\n",
            "/content/drive/MyDrive/DATASETS/DiffusionForensics/intrinsic/imagenet/train/1_fake/38_origin_1959.png\n"
          ]
        },
        {
          "output_type": "stream",
          "name": "stderr",
          "text": [
            "\r  0%|          | 64/38104 [17:32<164:08:28, 15.53s/it]"
          ]
        },
        {
          "output_type": "stream",
          "name": "stdout",
          "text": [
            "/content/drive/MyDrive/DATASETS/DiffusionForensics/intrinsic/imagenet/train/1_fake/4_albedo_1960.png\n",
            "/content/drive/MyDrive/DATASETS/DiffusionForensics/intrinsic/imagenet/train/1_fake/4_shading_1960.png\n",
            "/content/drive/MyDrive/DATASETS/DiffusionForensics/intrinsic/imagenet/train/1_fake/4_origin_1960.png\n"
          ]
        },
        {
          "output_type": "stream",
          "name": "stderr",
          "text": [
            "\r  0%|          | 65/38104 [17:50<171:28:57, 16.23s/it]"
          ]
        },
        {
          "output_type": "stream",
          "name": "stdout",
          "text": [
            "/content/drive/MyDrive/DATASETS/DiffusionForensics/intrinsic/imagenet/train/1_fake/16_albedo_1961.png\n",
            "/content/drive/MyDrive/DATASETS/DiffusionForensics/intrinsic/imagenet/train/1_fake/16_shading_1961.png\n",
            "/content/drive/MyDrive/DATASETS/DiffusionForensics/intrinsic/imagenet/train/1_fake/16_origin_1961.png\n"
          ]
        },
        {
          "output_type": "stream",
          "name": "stderr",
          "text": [
            "\r  0%|          | 66/38104 [18:07<175:14:17, 16.58s/it]"
          ]
        },
        {
          "output_type": "stream",
          "name": "stdout",
          "text": [
            "/content/drive/MyDrive/DATASETS/DiffusionForensics/intrinsic/imagenet/train/1_fake/33_albedo_1962.png\n",
            "/content/drive/MyDrive/DATASETS/DiffusionForensics/intrinsic/imagenet/train/1_fake/33_shading_1962.png\n",
            "/content/drive/MyDrive/DATASETS/DiffusionForensics/intrinsic/imagenet/train/1_fake/33_origin_1962.png\n"
          ]
        },
        {
          "output_type": "stream",
          "name": "stderr",
          "text": [
            "\r  0%|          | 67/38104 [18:24<177:51:38, 16.83s/it]"
          ]
        },
        {
          "output_type": "stream",
          "name": "stdout",
          "text": [
            "/content/drive/MyDrive/DATASETS/DiffusionForensics/intrinsic/imagenet/train/1_fake/6_albedo_1963.png\n",
            "/content/drive/MyDrive/DATASETS/DiffusionForensics/intrinsic/imagenet/train/1_fake/6_shading_1963.png\n",
            "/content/drive/MyDrive/DATASETS/DiffusionForensics/intrinsic/imagenet/train/1_fake/6_origin_1963.png\n"
          ]
        },
        {
          "output_type": "stream",
          "name": "stderr",
          "text": [
            "\r  0%|          | 68/38104 [18:41<177:36:09, 16.81s/it]"
          ]
        },
        {
          "output_type": "stream",
          "name": "stdout",
          "text": [
            "/content/drive/MyDrive/DATASETS/DiffusionForensics/intrinsic/imagenet/train/1_fake/7_albedo_1964.png\n",
            "/content/drive/MyDrive/DATASETS/DiffusionForensics/intrinsic/imagenet/train/1_fake/7_shading_1964.png\n",
            "/content/drive/MyDrive/DATASETS/DiffusionForensics/intrinsic/imagenet/train/1_fake/7_origin_1964.png\n"
          ]
        },
        {
          "output_type": "stream",
          "name": "stderr",
          "text": [
            "\r  0%|          | 69/38104 [18:59<180:20:47, 17.07s/it]"
          ]
        },
        {
          "output_type": "stream",
          "name": "stdout",
          "text": [
            "/content/drive/MyDrive/DATASETS/DiffusionForensics/intrinsic/imagenet/train/1_fake/36_albedo_1965.png\n",
            "/content/drive/MyDrive/DATASETS/DiffusionForensics/intrinsic/imagenet/train/1_fake/36_shading_1965.png\n",
            "/content/drive/MyDrive/DATASETS/DiffusionForensics/intrinsic/imagenet/train/1_fake/36_origin_1965.png\n"
          ]
        },
        {
          "output_type": "stream",
          "name": "stderr",
          "text": [
            "\r  0%|          | 70/38104 [19:16<181:38:07, 17.19s/it]"
          ]
        },
        {
          "output_type": "stream",
          "name": "stdout",
          "text": [
            "/content/drive/MyDrive/DATASETS/DiffusionForensics/intrinsic/imagenet/train/1_fake/15_albedo_1966.png\n",
            "/content/drive/MyDrive/DATASETS/DiffusionForensics/intrinsic/imagenet/train/1_fake/15_shading_1966.png\n",
            "/content/drive/MyDrive/DATASETS/DiffusionForensics/intrinsic/imagenet/train/1_fake/15_origin_1966.png\n"
          ]
        },
        {
          "output_type": "stream",
          "name": "stderr",
          "text": [
            "\r  0%|          | 71/38104 [19:33<181:06:52, 17.14s/it]"
          ]
        },
        {
          "output_type": "stream",
          "name": "stdout",
          "text": [
            "/content/drive/MyDrive/DATASETS/DiffusionForensics/intrinsic/imagenet/train/1_fake/13_albedo_1967.png\n",
            "/content/drive/MyDrive/DATASETS/DiffusionForensics/intrinsic/imagenet/train/1_fake/13_shading_1967.png\n",
            "/content/drive/MyDrive/DATASETS/DiffusionForensics/intrinsic/imagenet/train/1_fake/13_origin_1967.png\n"
          ]
        },
        {
          "output_type": "stream",
          "name": "stderr",
          "text": [
            "\r  0%|          | 72/38104 [19:50<181:10:51, 17.15s/it]"
          ]
        },
        {
          "output_type": "stream",
          "name": "stdout",
          "text": [
            "/content/drive/MyDrive/DATASETS/DiffusionForensics/intrinsic/imagenet/train/1_fake/5_albedo_1968.png\n",
            "/content/drive/MyDrive/DATASETS/DiffusionForensics/intrinsic/imagenet/train/1_fake/5_shading_1968.png\n",
            "/content/drive/MyDrive/DATASETS/DiffusionForensics/intrinsic/imagenet/train/1_fake/5_origin_1968.png\n"
          ]
        },
        {
          "output_type": "stream",
          "name": "stderr",
          "text": [
            "\r  0%|          | 73/38104 [20:08<181:10:07, 17.15s/it]"
          ]
        },
        {
          "output_type": "stream",
          "name": "stdout",
          "text": [
            "/content/drive/MyDrive/DATASETS/DiffusionForensics/intrinsic/imagenet/train/1_fake/24_albedo_1969.png\n",
            "/content/drive/MyDrive/DATASETS/DiffusionForensics/intrinsic/imagenet/train/1_fake/24_shading_1969.png\n",
            "/content/drive/MyDrive/DATASETS/DiffusionForensics/intrinsic/imagenet/train/1_fake/24_origin_1969.png\n"
          ]
        },
        {
          "output_type": "stream",
          "name": "stderr",
          "text": [
            "\r  0%|          | 74/38104 [20:27<187:20:42, 17.73s/it]"
          ]
        },
        {
          "output_type": "stream",
          "name": "stdout",
          "text": [
            "/content/drive/MyDrive/DATASETS/DiffusionForensics/intrinsic/imagenet/train/1_fake/28_albedo_1970.png\n",
            "/content/drive/MyDrive/DATASETS/DiffusionForensics/intrinsic/imagenet/train/1_fake/28_shading_1970.png\n",
            "/content/drive/MyDrive/DATASETS/DiffusionForensics/intrinsic/imagenet/train/1_fake/28_origin_1970.png\n"
          ]
        },
        {
          "output_type": "stream",
          "name": "stderr",
          "text": [
            "\r  0%|          | 75/38104 [20:44<186:02:42, 17.61s/it]"
          ]
        },
        {
          "output_type": "stream",
          "name": "stdout",
          "text": [
            "/content/drive/MyDrive/DATASETS/DiffusionForensics/intrinsic/imagenet/train/1_fake/27_albedo_1971.png\n",
            "/content/drive/MyDrive/DATASETS/DiffusionForensics/intrinsic/imagenet/train/1_fake/27_shading_1971.png\n",
            "/content/drive/MyDrive/DATASETS/DiffusionForensics/intrinsic/imagenet/train/1_fake/27_origin_1971.png\n"
          ]
        },
        {
          "output_type": "stream",
          "name": "stderr",
          "text": [
            "\r  0%|          | 76/38104 [21:01<183:22:17, 17.36s/it]"
          ]
        },
        {
          "output_type": "stream",
          "name": "stdout",
          "text": [
            "/content/drive/MyDrive/DATASETS/DiffusionForensics/intrinsic/imagenet/train/1_fake/29_albedo_1972.png\n",
            "/content/drive/MyDrive/DATASETS/DiffusionForensics/intrinsic/imagenet/train/1_fake/29_shading_1972.png\n",
            "/content/drive/MyDrive/DATASETS/DiffusionForensics/intrinsic/imagenet/train/1_fake/29_origin_1972.png\n"
          ]
        },
        {
          "output_type": "stream",
          "name": "stderr",
          "text": [
            "\r  0%|          | 77/38104 [21:18<181:29:27, 17.18s/it]"
          ]
        },
        {
          "output_type": "stream",
          "name": "stdout",
          "text": [
            "/content/drive/MyDrive/DATASETS/DiffusionForensics/intrinsic/imagenet/train/1_fake/30_albedo_1973.png\n",
            "/content/drive/MyDrive/DATASETS/DiffusionForensics/intrinsic/imagenet/train/1_fake/30_shading_1973.png\n",
            "/content/drive/MyDrive/DATASETS/DiffusionForensics/intrinsic/imagenet/train/1_fake/30_origin_1973.png\n"
          ]
        },
        {
          "output_type": "stream",
          "name": "stderr",
          "text": [
            "\r  0%|          | 78/38104 [21:34<180:10:59, 17.06s/it]"
          ]
        },
        {
          "output_type": "stream",
          "name": "stdout",
          "text": [
            "/content/drive/MyDrive/DATASETS/DiffusionForensics/intrinsic/imagenet/train/1_fake/11_albedo_1974.png\n",
            "/content/drive/MyDrive/DATASETS/DiffusionForensics/intrinsic/imagenet/train/1_fake/11_shading_1974.png\n",
            "/content/drive/MyDrive/DATASETS/DiffusionForensics/intrinsic/imagenet/train/1_fake/11_origin_1974.png\n"
          ]
        },
        {
          "output_type": "stream",
          "name": "stderr",
          "text": [
            "\r  0%|          | 79/38104 [21:51<180:25:49, 17.08s/it]"
          ]
        },
        {
          "output_type": "stream",
          "name": "stdout",
          "text": [
            "/content/drive/MyDrive/DATASETS/DiffusionForensics/intrinsic/imagenet/train/1_fake/2_albedo_1975.png\n",
            "/content/drive/MyDrive/DATASETS/DiffusionForensics/intrinsic/imagenet/train/1_fake/2_shading_1975.png\n",
            "/content/drive/MyDrive/DATASETS/DiffusionForensics/intrinsic/imagenet/train/1_fake/2_origin_1975.png\n"
          ]
        },
        {
          "output_type": "stream",
          "name": "stderr",
          "text": [
            "\r  0%|          | 80/38104 [22:08<179:43:08, 17.02s/it]"
          ]
        },
        {
          "output_type": "stream",
          "name": "stdout",
          "text": [
            "/content/drive/MyDrive/DATASETS/DiffusionForensics/intrinsic/imagenet/train/1_fake/39_albedo_1976.png\n",
            "/content/drive/MyDrive/DATASETS/DiffusionForensics/intrinsic/imagenet/train/1_fake/39_shading_1976.png\n",
            "/content/drive/MyDrive/DATASETS/DiffusionForensics/intrinsic/imagenet/train/1_fake/39_origin_1976.png\n"
          ]
        },
        {
          "output_type": "stream",
          "name": "stderr",
          "text": [
            "\r  0%|          | 81/38104 [22:19<158:39:57, 15.02s/it]"
          ]
        },
        {
          "output_type": "stream",
          "name": "stdout",
          "text": [
            "/content/drive/MyDrive/DATASETS/DiffusionForensics/intrinsic/imagenet/train/1_fake/17_albedo_1977.png\n",
            "/content/drive/MyDrive/DATASETS/DiffusionForensics/intrinsic/imagenet/train/1_fake/17_shading_1977.png\n",
            "/content/drive/MyDrive/DATASETS/DiffusionForensics/intrinsic/imagenet/train/1_fake/17_origin_1977.png\n"
          ]
        },
        {
          "output_type": "stream",
          "name": "stderr",
          "text": [
            "\r  0%|          | 82/38104 [22:36<164:37:01, 15.59s/it]"
          ]
        },
        {
          "output_type": "stream",
          "name": "stdout",
          "text": [
            "/content/drive/MyDrive/DATASETS/DiffusionForensics/intrinsic/imagenet/train/1_fake/25_albedo_1978.png\n",
            "/content/drive/MyDrive/DATASETS/DiffusionForensics/intrinsic/imagenet/train/1_fake/25_shading_1978.png\n",
            "/content/drive/MyDrive/DATASETS/DiffusionForensics/intrinsic/imagenet/train/1_fake/25_origin_1978.png\n"
          ]
        },
        {
          "output_type": "stream",
          "name": "stderr",
          "text": [
            "\r  0%|          | 83/38104 [22:53<169:17:38, 16.03s/it]"
          ]
        },
        {
          "output_type": "stream",
          "name": "stdout",
          "text": [
            "/content/drive/MyDrive/DATASETS/DiffusionForensics/intrinsic/imagenet/train/1_fake/37_albedo_1979.png\n",
            "/content/drive/MyDrive/DATASETS/DiffusionForensics/intrinsic/imagenet/train/1_fake/37_shading_1979.png\n",
            "/content/drive/MyDrive/DATASETS/DiffusionForensics/intrinsic/imagenet/train/1_fake/37_origin_1979.png\n"
          ]
        },
        {
          "output_type": "stream",
          "name": "stderr",
          "text": [
            "\r  0%|          | 84/38104 [23:10<171:55:38, 16.28s/it]"
          ]
        },
        {
          "output_type": "stream",
          "name": "stdout",
          "text": [
            "/content/drive/MyDrive/DATASETS/DiffusionForensics/intrinsic/imagenet/train/1_fake/20_albedo_1980.png\n",
            "/content/drive/MyDrive/DATASETS/DiffusionForensics/intrinsic/imagenet/train/1_fake/20_shading_1980.png\n",
            "/content/drive/MyDrive/DATASETS/DiffusionForensics/intrinsic/imagenet/train/1_fake/20_origin_1980.png\n"
          ]
        },
        {
          "output_type": "stream",
          "name": "stderr",
          "text": [
            "\r  0%|          | 85/38104 [23:29<183:29:54, 17.38s/it]"
          ]
        },
        {
          "output_type": "stream",
          "name": "stdout",
          "text": [
            "/content/drive/MyDrive/DATASETS/DiffusionForensics/intrinsic/imagenet/train/1_fake/1_albedo_1981.png\n",
            "/content/drive/MyDrive/DATASETS/DiffusionForensics/intrinsic/imagenet/train/1_fake/1_shading_1981.png\n",
            "/content/drive/MyDrive/DATASETS/DiffusionForensics/intrinsic/imagenet/train/1_fake/1_origin_1981.png\n"
          ]
        },
        {
          "output_type": "stream",
          "name": "stderr",
          "text": [
            "\r  0%|          | 86/38104 [23:47<183:10:34, 17.35s/it]"
          ]
        },
        {
          "output_type": "stream",
          "name": "stdout",
          "text": [
            "/content/drive/MyDrive/DATASETS/DiffusionForensics/intrinsic/imagenet/train/1_fake/32_albedo_1982.png\n",
            "/content/drive/MyDrive/DATASETS/DiffusionForensics/intrinsic/imagenet/train/1_fake/32_shading_1982.png\n",
            "/content/drive/MyDrive/DATASETS/DiffusionForensics/intrinsic/imagenet/train/1_fake/32_origin_1982.png\n"
          ]
        },
        {
          "output_type": "stream",
          "name": "stderr",
          "text": [
            "\r  0%|          | 87/38104 [24:04<181:50:48, 17.22s/it]"
          ]
        },
        {
          "output_type": "stream",
          "name": "stdout",
          "text": [
            "/content/drive/MyDrive/DATASETS/DiffusionForensics/intrinsic/imagenet/train/1_fake/9_albedo_1983.png\n",
            "/content/drive/MyDrive/DATASETS/DiffusionForensics/intrinsic/imagenet/train/1_fake/9_shading_1983.png\n",
            "/content/drive/MyDrive/DATASETS/DiffusionForensics/intrinsic/imagenet/train/1_fake/9_origin_1983.png\n"
          ]
        },
        {
          "output_type": "stream",
          "name": "stderr",
          "text": [
            "\r  0%|          | 88/38104 [24:21<181:23:06, 17.18s/it]"
          ]
        },
        {
          "output_type": "stream",
          "name": "stdout",
          "text": [
            "/content/drive/MyDrive/DATASETS/DiffusionForensics/intrinsic/imagenet/train/1_fake/14_albedo_1984.png\n",
            "/content/drive/MyDrive/DATASETS/DiffusionForensics/intrinsic/imagenet/train/1_fake/14_shading_1984.png\n",
            "/content/drive/MyDrive/DATASETS/DiffusionForensics/intrinsic/imagenet/train/1_fake/14_origin_1984.png\n"
          ]
        },
        {
          "output_type": "stream",
          "name": "stderr",
          "text": [
            "\r  0%|          | 89/38104 [24:39<186:17:06, 17.64s/it]"
          ]
        },
        {
          "output_type": "stream",
          "name": "stdout",
          "text": [
            "/content/drive/MyDrive/DATASETS/DiffusionForensics/intrinsic/imagenet/train/1_fake/8_albedo_1985.png\n",
            "/content/drive/MyDrive/DATASETS/DiffusionForensics/intrinsic/imagenet/train/1_fake/8_shading_1985.png\n",
            "/content/drive/MyDrive/DATASETS/DiffusionForensics/intrinsic/imagenet/train/1_fake/8_origin_1985.png\n"
          ]
        },
        {
          "output_type": "stream",
          "name": "stderr",
          "text": [
            "\r  0%|          | 90/38104 [24:57<184:26:20, 17.47s/it]"
          ]
        },
        {
          "output_type": "stream",
          "name": "stdout",
          "text": [
            "/content/drive/MyDrive/DATASETS/DiffusionForensics/intrinsic/imagenet/train/1_fake/19_albedo_1986.png\n",
            "/content/drive/MyDrive/DATASETS/DiffusionForensics/intrinsic/imagenet/train/1_fake/19_shading_1986.png\n",
            "/content/drive/MyDrive/DATASETS/DiffusionForensics/intrinsic/imagenet/train/1_fake/19_origin_1986.png\n"
          ]
        },
        {
          "output_type": "stream",
          "name": "stderr",
          "text": [
            "\r  0%|          | 91/38104 [25:14<183:37:09, 17.39s/it]"
          ]
        },
        {
          "output_type": "stream",
          "name": "stdout",
          "text": [
            "/content/drive/MyDrive/DATASETS/DiffusionForensics/intrinsic/imagenet/train/1_fake/3_albedo_1987.png\n",
            "/content/drive/MyDrive/DATASETS/DiffusionForensics/intrinsic/imagenet/train/1_fake/3_shading_1987.png\n",
            "/content/drive/MyDrive/DATASETS/DiffusionForensics/intrinsic/imagenet/train/1_fake/3_origin_1987.png\n"
          ]
        },
        {
          "output_type": "stream",
          "name": "stderr",
          "text": [
            "\r  0%|          | 92/38104 [25:30<181:24:17, 17.18s/it]"
          ]
        },
        {
          "output_type": "stream",
          "name": "stdout",
          "text": [
            "/content/drive/MyDrive/DATASETS/DiffusionForensics/intrinsic/imagenet/train/1_fake/35_albedo_1988.png\n",
            "/content/drive/MyDrive/DATASETS/DiffusionForensics/intrinsic/imagenet/train/1_fake/35_shading_1988.png\n",
            "/content/drive/MyDrive/DATASETS/DiffusionForensics/intrinsic/imagenet/train/1_fake/35_origin_1988.png\n"
          ]
        },
        {
          "output_type": "stream",
          "name": "stderr",
          "text": [
            "\r  0%|          | 93/38104 [25:49<184:53:54, 17.51s/it]"
          ]
        },
        {
          "output_type": "stream",
          "name": "stdout",
          "text": [
            "/content/drive/MyDrive/DATASETS/DiffusionForensics/intrinsic/imagenet/train/1_fake/10_albedo_1989.png\n",
            "/content/drive/MyDrive/DATASETS/DiffusionForensics/intrinsic/imagenet/train/1_fake/10_shading_1989.png\n",
            "/content/drive/MyDrive/DATASETS/DiffusionForensics/intrinsic/imagenet/train/1_fake/10_origin_1989.png\n"
          ]
        },
        {
          "output_type": "stream",
          "name": "stderr",
          "text": [
            "\r  0%|          | 94/38104 [26:06<183:00:01, 17.33s/it]"
          ]
        },
        {
          "output_type": "stream",
          "name": "stdout",
          "text": [
            "/content/drive/MyDrive/DATASETS/DiffusionForensics/intrinsic/imagenet/train/1_fake/31_albedo_1990.png\n",
            "/content/drive/MyDrive/DATASETS/DiffusionForensics/intrinsic/imagenet/train/1_fake/31_shading_1990.png\n",
            "/content/drive/MyDrive/DATASETS/DiffusionForensics/intrinsic/imagenet/train/1_fake/31_origin_1990.png\n"
          ]
        },
        {
          "output_type": "stream",
          "name": "stderr",
          "text": [
            "\r  0%|          | 95/38104 [26:24<186:50:57, 17.70s/it]"
          ]
        },
        {
          "output_type": "stream",
          "name": "stdout",
          "text": [
            "/content/drive/MyDrive/DATASETS/DiffusionForensics/intrinsic/imagenet/train/1_fake/23_albedo_1991.png\n",
            "/content/drive/MyDrive/DATASETS/DiffusionForensics/intrinsic/imagenet/train/1_fake/23_shading_1991.png\n",
            "/content/drive/MyDrive/DATASETS/DiffusionForensics/intrinsic/imagenet/train/1_fake/23_origin_1991.png\n"
          ]
        },
        {
          "output_type": "stream",
          "name": "stderr",
          "text": [
            "\r  0%|          | 96/38104 [26:41<183:05:15, 17.34s/it]"
          ]
        },
        {
          "output_type": "stream",
          "name": "stdout",
          "text": [
            "/content/drive/MyDrive/DATASETS/DiffusionForensics/intrinsic/imagenet/train/1_fake/0_albedo_1992.png\n",
            "/content/drive/MyDrive/DATASETS/DiffusionForensics/intrinsic/imagenet/train/1_fake/0_shading_1992.png\n",
            "/content/drive/MyDrive/DATASETS/DiffusionForensics/intrinsic/imagenet/train/1_fake/0_origin_1992.png\n"
          ]
        },
        {
          "output_type": "stream",
          "name": "stderr",
          "text": [
            "\r  0%|          | 97/38104 [26:59<185:37:39, 17.58s/it]"
          ]
        },
        {
          "output_type": "stream",
          "name": "stdout",
          "text": [
            "/content/drive/MyDrive/DATASETS/DiffusionForensics/intrinsic/imagenet/train/1_fake/22_albedo_1993.png\n",
            "/content/drive/MyDrive/DATASETS/DiffusionForensics/intrinsic/imagenet/train/1_fake/22_shading_1993.png\n",
            "/content/drive/MyDrive/DATASETS/DiffusionForensics/intrinsic/imagenet/train/1_fake/22_origin_1993.png\n"
          ]
        },
        {
          "output_type": "stream",
          "name": "stderr",
          "text": [
            "\r  0%|          | 98/38104 [27:16<183:17:13, 17.36s/it]"
          ]
        },
        {
          "output_type": "stream",
          "name": "stdout",
          "text": [
            "/content/drive/MyDrive/DATASETS/DiffusionForensics/intrinsic/imagenet/train/1_fake/21_albedo_1994.png\n",
            "/content/drive/MyDrive/DATASETS/DiffusionForensics/intrinsic/imagenet/train/1_fake/21_shading_1994.png\n",
            "/content/drive/MyDrive/DATASETS/DiffusionForensics/intrinsic/imagenet/train/1_fake/21_origin_1994.png\n"
          ]
        },
        {
          "output_type": "stream",
          "name": "stderr",
          "text": [
            "\r  0%|          | 99/38104 [27:32<181:12:13, 17.16s/it]"
          ]
        },
        {
          "output_type": "stream",
          "name": "stdout",
          "text": [
            "/content/drive/MyDrive/DATASETS/DiffusionForensics/intrinsic/imagenet/train/1_fake/12_albedo_1995.png\n",
            "/content/drive/MyDrive/DATASETS/DiffusionForensics/intrinsic/imagenet/train/1_fake/12_shading_1995.png\n",
            "/content/drive/MyDrive/DATASETS/DiffusionForensics/intrinsic/imagenet/train/1_fake/12_origin_1995.png\n"
          ]
        },
        {
          "output_type": "stream",
          "name": "stderr",
          "text": [
            "\r  0%|          | 100/38104 [27:49<179:35:57, 17.01s/it]"
          ]
        },
        {
          "output_type": "stream",
          "name": "stdout",
          "text": [
            "/content/drive/MyDrive/DATASETS/DiffusionForensics/intrinsic/imagenet/train/1_fake/18_albedo_1996.png\n",
            "/content/drive/MyDrive/DATASETS/DiffusionForensics/intrinsic/imagenet/train/1_fake/18_shading_1996.png\n",
            "/content/drive/MyDrive/DATASETS/DiffusionForensics/intrinsic/imagenet/train/1_fake/18_origin_1996.png\n"
          ]
        },
        {
          "output_type": "stream",
          "name": "stderr",
          "text": [
            "\r  0%|          | 101/38104 [28:06<179:20:24, 16.99s/it]"
          ]
        },
        {
          "output_type": "stream",
          "name": "stdout",
          "text": [
            "/content/drive/MyDrive/DATASETS/DiffusionForensics/intrinsic/imagenet/train/1_fake/34_albedo_1997.png\n",
            "/content/drive/MyDrive/DATASETS/DiffusionForensics/intrinsic/imagenet/train/1_fake/34_shading_1997.png\n",
            "/content/drive/MyDrive/DATASETS/DiffusionForensics/intrinsic/imagenet/train/1_fake/34_origin_1997.png\n"
          ]
        },
        {
          "output_type": "stream",
          "name": "stderr",
          "text": [
            "\r  0%|          | 102/38104 [28:24<182:13:52, 17.26s/it]"
          ]
        },
        {
          "output_type": "stream",
          "name": "stdout",
          "text": [
            "/content/drive/MyDrive/DATASETS/DiffusionForensics/intrinsic/imagenet/train/1_fake/26_albedo_1998.png\n",
            "/content/drive/MyDrive/DATASETS/DiffusionForensics/intrinsic/imagenet/train/1_fake/26_shading_1998.png\n",
            "/content/drive/MyDrive/DATASETS/DiffusionForensics/intrinsic/imagenet/train/1_fake/26_origin_1998.png\n"
          ]
        },
        {
          "output_type": "stream",
          "name": "stderr",
          "text": [
            "\r  0%|          | 103/38104 [28:41<181:14:01, 17.17s/it]"
          ]
        },
        {
          "output_type": "stream",
          "name": "stdout",
          "text": [
            "/content/drive/MyDrive/DATASETS/DiffusionForensics/intrinsic/imagenet/train/1_fake/38_albedo_1999.png\n",
            "/content/drive/MyDrive/DATASETS/DiffusionForensics/intrinsic/imagenet/train/1_fake/38_shading_1999.png\n",
            "/content/drive/MyDrive/DATASETS/DiffusionForensics/intrinsic/imagenet/train/1_fake/38_origin_1999.png\n"
          ]
        },
        {
          "output_type": "stream",
          "name": "stderr",
          "text": [
            "\r  0%|          | 104/38104 [28:57<179:05:28, 16.97s/it]"
          ]
        },
        {
          "output_type": "stream",
          "name": "stdout",
          "text": [
            "/content/drive/MyDrive/DATASETS/DiffusionForensics/intrinsic/imagenet/train/1_fake/4_albedo_2000.png\n",
            "/content/drive/MyDrive/DATASETS/DiffusionForensics/intrinsic/imagenet/train/1_fake/4_shading_2000.png\n",
            "/content/drive/MyDrive/DATASETS/DiffusionForensics/intrinsic/imagenet/train/1_fake/4_origin_2000.png\n"
          ]
        },
        {
          "output_type": "stream",
          "name": "stderr",
          "text": [
            "\r  0%|          | 105/38104 [29:14<178:21:56, 16.90s/it]"
          ]
        },
        {
          "output_type": "stream",
          "name": "stdout",
          "text": [
            "/content/drive/MyDrive/DATASETS/DiffusionForensics/intrinsic/imagenet/train/1_fake/16_albedo_2001.png\n",
            "/content/drive/MyDrive/DATASETS/DiffusionForensics/intrinsic/imagenet/train/1_fake/16_shading_2001.png\n",
            "/content/drive/MyDrive/DATASETS/DiffusionForensics/intrinsic/imagenet/train/1_fake/16_origin_2001.png\n"
          ]
        },
        {
          "output_type": "stream",
          "name": "stderr",
          "text": [
            "\r  0%|          | 106/38104 [29:33<184:23:11, 17.47s/it]"
          ]
        },
        {
          "output_type": "stream",
          "name": "stdout",
          "text": [
            "/content/drive/MyDrive/DATASETS/DiffusionForensics/intrinsic/imagenet/train/1_fake/33_albedo_2002.png\n",
            "/content/drive/MyDrive/DATASETS/DiffusionForensics/intrinsic/imagenet/train/1_fake/33_shading_2002.png\n",
            "/content/drive/MyDrive/DATASETS/DiffusionForensics/intrinsic/imagenet/train/1_fake/33_origin_2002.png\n"
          ]
        },
        {
          "output_type": "stream",
          "name": "stderr",
          "text": [
            "\r  0%|          | 107/38104 [29:51<185:27:23, 17.57s/it]"
          ]
        },
        {
          "output_type": "stream",
          "name": "stdout",
          "text": [
            "/content/drive/MyDrive/DATASETS/DiffusionForensics/intrinsic/imagenet/train/1_fake/6_albedo_2003.png\n",
            "/content/drive/MyDrive/DATASETS/DiffusionForensics/intrinsic/imagenet/train/1_fake/6_shading_2003.png\n",
            "/content/drive/MyDrive/DATASETS/DiffusionForensics/intrinsic/imagenet/train/1_fake/6_origin_2003.png\n"
          ]
        },
        {
          "output_type": "stream",
          "name": "stderr",
          "text": [
            "\r  0%|          | 108/38104 [30:08<183:59:42, 17.43s/it]"
          ]
        },
        {
          "output_type": "stream",
          "name": "stdout",
          "text": [
            "/content/drive/MyDrive/DATASETS/DiffusionForensics/intrinsic/imagenet/train/1_fake/7_albedo_2004.png\n",
            "/content/drive/MyDrive/DATASETS/DiffusionForensics/intrinsic/imagenet/train/1_fake/7_shading_2004.png\n",
            "/content/drive/MyDrive/DATASETS/DiffusionForensics/intrinsic/imagenet/train/1_fake/7_origin_2004.png\n"
          ]
        },
        {
          "output_type": "stream",
          "name": "stderr",
          "text": [
            "\r  0%|          | 109/38104 [30:18<161:55:42, 15.34s/it]"
          ]
        },
        {
          "output_type": "stream",
          "name": "stdout",
          "text": [
            "/content/drive/MyDrive/DATASETS/DiffusionForensics/intrinsic/imagenet/train/1_fake/36_albedo_2005.png\n",
            "/content/drive/MyDrive/DATASETS/DiffusionForensics/intrinsic/imagenet/train/1_fake/36_shading_2005.png\n",
            "/content/drive/MyDrive/DATASETS/DiffusionForensics/intrinsic/imagenet/train/1_fake/36_origin_2005.png\n"
          ]
        },
        {
          "output_type": "stream",
          "name": "stderr",
          "text": [
            "\r  0%|          | 110/38104 [30:35<167:15:20, 15.85s/it]"
          ]
        },
        {
          "output_type": "stream",
          "name": "stdout",
          "text": [
            "/content/drive/MyDrive/DATASETS/DiffusionForensics/intrinsic/imagenet/train/1_fake/15_albedo_2006.png\n",
            "/content/drive/MyDrive/DATASETS/DiffusionForensics/intrinsic/imagenet/train/1_fake/15_shading_2006.png\n",
            "/content/drive/MyDrive/DATASETS/DiffusionForensics/intrinsic/imagenet/train/1_fake/15_origin_2006.png\n"
          ]
        },
        {
          "output_type": "stream",
          "name": "stderr",
          "text": [
            "\r  0%|          | 111/38104 [30:52<169:21:24, 16.05s/it]"
          ]
        },
        {
          "output_type": "stream",
          "name": "stdout",
          "text": [
            "/content/drive/MyDrive/DATASETS/DiffusionForensics/intrinsic/imagenet/train/1_fake/13_albedo_2007.png\n",
            "/content/drive/MyDrive/DATASETS/DiffusionForensics/intrinsic/imagenet/train/1_fake/13_shading_2007.png\n",
            "/content/drive/MyDrive/DATASETS/DiffusionForensics/intrinsic/imagenet/train/1_fake/13_origin_2007.png\n"
          ]
        },
        {
          "output_type": "stream",
          "name": "stderr",
          "text": [
            "\r  0%|          | 112/38104 [31:02<151:46:56, 14.38s/it]"
          ]
        },
        {
          "output_type": "stream",
          "name": "stdout",
          "text": [
            "/content/drive/MyDrive/DATASETS/DiffusionForensics/intrinsic/imagenet/train/1_fake/5_albedo_2008.png\n",
            "/content/drive/MyDrive/DATASETS/DiffusionForensics/intrinsic/imagenet/train/1_fake/5_shading_2008.png\n",
            "/content/drive/MyDrive/DATASETS/DiffusionForensics/intrinsic/imagenet/train/1_fake/5_origin_2008.png\n"
          ]
        },
        {
          "output_type": "stream",
          "name": "stderr",
          "text": [
            "\r  0%|          | 113/38104 [31:12<137:34:32, 13.04s/it]"
          ]
        },
        {
          "output_type": "stream",
          "name": "stdout",
          "text": [
            "/content/drive/MyDrive/DATASETS/DiffusionForensics/intrinsic/imagenet/train/1_fake/24_albedo_2009.png\n",
            "/content/drive/MyDrive/DATASETS/DiffusionForensics/intrinsic/imagenet/train/1_fake/24_shading_2009.png\n",
            "/content/drive/MyDrive/DATASETS/DiffusionForensics/intrinsic/imagenet/train/1_fake/24_origin_2009.png\n"
          ]
        },
        {
          "output_type": "stream",
          "name": "stderr",
          "text": [
            "\r  0%|          | 114/38104 [31:30<151:43:40, 14.38s/it]"
          ]
        },
        {
          "output_type": "stream",
          "name": "stdout",
          "text": [
            "/content/drive/MyDrive/DATASETS/DiffusionForensics/intrinsic/imagenet/train/1_fake/28_albedo_2010.png\n",
            "/content/drive/MyDrive/DATASETS/DiffusionForensics/intrinsic/imagenet/train/1_fake/28_shading_2010.png\n",
            "/content/drive/MyDrive/DATASETS/DiffusionForensics/intrinsic/imagenet/train/1_fake/28_origin_2010.png\n"
          ]
        },
        {
          "output_type": "stream",
          "name": "stderr",
          "text": [
            "\r  0%|          | 115/38104 [31:47<161:07:28, 15.27s/it]"
          ]
        },
        {
          "output_type": "stream",
          "name": "stdout",
          "text": [
            "/content/drive/MyDrive/DATASETS/DiffusionForensics/intrinsic/imagenet/train/1_fake/27_albedo_2011.png\n",
            "/content/drive/MyDrive/DATASETS/DiffusionForensics/intrinsic/imagenet/train/1_fake/27_shading_2011.png\n",
            "/content/drive/MyDrive/DATASETS/DiffusionForensics/intrinsic/imagenet/train/1_fake/27_origin_2011.png\n"
          ]
        },
        {
          "output_type": "stream",
          "name": "stderr",
          "text": [
            "\r  0%|          | 116/38104 [31:58<147:08:35, 13.94s/it]"
          ]
        },
        {
          "output_type": "stream",
          "name": "stdout",
          "text": [
            "/content/drive/MyDrive/DATASETS/DiffusionForensics/intrinsic/imagenet/train/1_fake/29_albedo_2012.png\n",
            "/content/drive/MyDrive/DATASETS/DiffusionForensics/intrinsic/imagenet/train/1_fake/29_shading_2012.png\n",
            "/content/drive/MyDrive/DATASETS/DiffusionForensics/intrinsic/imagenet/train/1_fake/29_origin_2012.png\n"
          ]
        },
        {
          "output_type": "stream",
          "name": "stderr",
          "text": [
            "\r  0%|          | 117/38104 [32:16<161:08:45, 15.27s/it]"
          ]
        },
        {
          "output_type": "stream",
          "name": "stdout",
          "text": [
            "/content/drive/MyDrive/DATASETS/DiffusionForensics/intrinsic/imagenet/train/1_fake/30_albedo_2013.png\n",
            "/content/drive/MyDrive/DATASETS/DiffusionForensics/intrinsic/imagenet/train/1_fake/30_shading_2013.png\n",
            "/content/drive/MyDrive/DATASETS/DiffusionForensics/intrinsic/imagenet/train/1_fake/30_origin_2013.png\n"
          ]
        },
        {
          "output_type": "stream",
          "name": "stderr",
          "text": [
            "\r  0%|          | 118/38104 [32:33<164:35:29, 15.60s/it]"
          ]
        },
        {
          "output_type": "stream",
          "name": "stdout",
          "text": [
            "/content/drive/MyDrive/DATASETS/DiffusionForensics/intrinsic/imagenet/train/1_fake/11_albedo_2014.png\n",
            "/content/drive/MyDrive/DATASETS/DiffusionForensics/intrinsic/imagenet/train/1_fake/11_shading_2014.png\n",
            "/content/drive/MyDrive/DATASETS/DiffusionForensics/intrinsic/imagenet/train/1_fake/11_origin_2014.png\n"
          ]
        },
        {
          "output_type": "stream",
          "name": "stderr",
          "text": [
            "\r  0%|          | 119/38104 [32:43<148:05:13, 14.03s/it]"
          ]
        },
        {
          "output_type": "stream",
          "name": "stdout",
          "text": [
            "/content/drive/MyDrive/DATASETS/DiffusionForensics/intrinsic/imagenet/train/1_fake/2_albedo_2015.png\n",
            "/content/drive/MyDrive/DATASETS/DiffusionForensics/intrinsic/imagenet/train/1_fake/2_shading_2015.png\n",
            "/content/drive/MyDrive/DATASETS/DiffusionForensics/intrinsic/imagenet/train/1_fake/2_origin_2015.png\n"
          ]
        },
        {
          "output_type": "stream",
          "name": "stderr",
          "text": [
            "\r  0%|          | 120/38104 [33:00<157:41:40, 14.95s/it]"
          ]
        },
        {
          "output_type": "stream",
          "name": "stdout",
          "text": [
            "/content/drive/MyDrive/DATASETS/DiffusionForensics/intrinsic/imagenet/train/1_fake/39_albedo_2016.png\n",
            "/content/drive/MyDrive/DATASETS/DiffusionForensics/intrinsic/imagenet/train/1_fake/39_shading_2016.png\n",
            "/content/drive/MyDrive/DATASETS/DiffusionForensics/intrinsic/imagenet/train/1_fake/39_origin_2016.png\n"
          ]
        },
        {
          "output_type": "stream",
          "name": "stderr",
          "text": [
            "\r  0%|          | 121/38104 [33:10<143:12:01, 13.57s/it]"
          ]
        },
        {
          "output_type": "stream",
          "name": "stdout",
          "text": [
            "/content/drive/MyDrive/DATASETS/DiffusionForensics/intrinsic/imagenet/train/1_fake/17_albedo_2017.png\n",
            "/content/drive/MyDrive/DATASETS/DiffusionForensics/intrinsic/imagenet/train/1_fake/17_shading_2017.png\n",
            "/content/drive/MyDrive/DATASETS/DiffusionForensics/intrinsic/imagenet/train/1_fake/17_origin_2017.png\n"
          ]
        },
        {
          "output_type": "stream",
          "name": "stderr",
          "text": [
            "\r  0%|          | 122/38104 [33:21<133:59:09, 12.70s/it]"
          ]
        },
        {
          "output_type": "stream",
          "name": "stdout",
          "text": [
            "/content/drive/MyDrive/DATASETS/DiffusionForensics/intrinsic/imagenet/train/1_fake/25_albedo_2018.png\n",
            "/content/drive/MyDrive/DATASETS/DiffusionForensics/intrinsic/imagenet/train/1_fake/25_shading_2018.png\n",
            "/content/drive/MyDrive/DATASETS/DiffusionForensics/intrinsic/imagenet/train/1_fake/25_origin_2018.png\n"
          ]
        },
        {
          "output_type": "stream",
          "name": "stderr",
          "text": [
            "\r  0%|          | 123/38104 [33:38<147:24:58, 13.97s/it]"
          ]
        },
        {
          "output_type": "stream",
          "name": "stdout",
          "text": [
            "/content/drive/MyDrive/DATASETS/DiffusionForensics/intrinsic/imagenet/train/1_fake/37_albedo_2019.png\n",
            "/content/drive/MyDrive/DATASETS/DiffusionForensics/intrinsic/imagenet/train/1_fake/37_shading_2019.png\n",
            "/content/drive/MyDrive/DATASETS/DiffusionForensics/intrinsic/imagenet/train/1_fake/37_origin_2019.png\n"
          ]
        },
        {
          "output_type": "stream",
          "name": "stderr",
          "text": [
            "\r  0%|          | 124/38104 [33:49<137:04:00, 12.99s/it]"
          ]
        },
        {
          "output_type": "stream",
          "name": "stdout",
          "text": [
            "/content/drive/MyDrive/DATASETS/DiffusionForensics/intrinsic/imagenet/train/1_fake/20_albedo_2020.png\n",
            "/content/drive/MyDrive/DATASETS/DiffusionForensics/intrinsic/imagenet/train/1_fake/20_shading_2020.png\n",
            "/content/drive/MyDrive/DATASETS/DiffusionForensics/intrinsic/imagenet/train/1_fake/20_origin_2020.png\n"
          ]
        },
        {
          "output_type": "stream",
          "name": "stderr",
          "text": [
            "\r  0%|          | 125/38104 [34:06<149:42:00, 14.19s/it]"
          ]
        },
        {
          "output_type": "stream",
          "name": "stdout",
          "text": [
            "/content/drive/MyDrive/DATASETS/DiffusionForensics/intrinsic/imagenet/train/1_fake/1_albedo_2021.png\n",
            "/content/drive/MyDrive/DATASETS/DiffusionForensics/intrinsic/imagenet/train/1_fake/1_shading_2021.png\n",
            "/content/drive/MyDrive/DATASETS/DiffusionForensics/intrinsic/imagenet/train/1_fake/1_origin_2021.png\n"
          ]
        },
        {
          "output_type": "stream",
          "name": "stderr",
          "text": [
            "\r  0%|          | 126/38104 [34:23<158:18:40, 15.01s/it]"
          ]
        },
        {
          "output_type": "stream",
          "name": "stdout",
          "text": [
            "/content/drive/MyDrive/DATASETS/DiffusionForensics/intrinsic/imagenet/train/1_fake/32_albedo_2022.png\n",
            "/content/drive/MyDrive/DATASETS/DiffusionForensics/intrinsic/imagenet/train/1_fake/32_shading_2022.png\n",
            "/content/drive/MyDrive/DATASETS/DiffusionForensics/intrinsic/imagenet/train/1_fake/32_origin_2022.png\n"
          ]
        },
        {
          "output_type": "stream",
          "name": "stderr",
          "text": [
            "\r  0%|          | 127/38104 [34:40<164:34:31, 15.60s/it]"
          ]
        },
        {
          "output_type": "stream",
          "name": "stdout",
          "text": [
            "/content/drive/MyDrive/DATASETS/DiffusionForensics/intrinsic/imagenet/train/1_fake/9_albedo_2023.png\n",
            "/content/drive/MyDrive/DATASETS/DiffusionForensics/intrinsic/imagenet/train/1_fake/9_shading_2023.png\n",
            "/content/drive/MyDrive/DATASETS/DiffusionForensics/intrinsic/imagenet/train/1_fake/9_origin_2023.png\n"
          ]
        },
        {
          "output_type": "stream",
          "name": "stderr",
          "text": [
            "\r  0%|          | 128/38104 [34:50<149:20:51, 14.16s/it]"
          ]
        },
        {
          "output_type": "stream",
          "name": "stdout",
          "text": [
            "/content/drive/MyDrive/DATASETS/DiffusionForensics/intrinsic/imagenet/train/1_fake/14_albedo_2024.png\n",
            "/content/drive/MyDrive/DATASETS/DiffusionForensics/intrinsic/imagenet/train/1_fake/14_shading_2024.png\n",
            "/content/drive/MyDrive/DATASETS/DiffusionForensics/intrinsic/imagenet/train/1_fake/14_origin_2024.png\n"
          ]
        },
        {
          "output_type": "stream",
          "name": "stderr",
          "text": [
            "\r  0%|          | 129/38104 [35:07<158:06:30, 14.99s/it]"
          ]
        },
        {
          "output_type": "stream",
          "name": "stdout",
          "text": [
            "/content/drive/MyDrive/DATASETS/DiffusionForensics/intrinsic/imagenet/train/1_fake/8_albedo_2025.png\n",
            "/content/drive/MyDrive/DATASETS/DiffusionForensics/intrinsic/imagenet/train/1_fake/8_shading_2025.png\n",
            "/content/drive/MyDrive/DATASETS/DiffusionForensics/intrinsic/imagenet/train/1_fake/8_origin_2025.png\n"
          ]
        },
        {
          "output_type": "stream",
          "name": "stderr",
          "text": [
            "\r  0%|          | 130/38104 [35:26<169:25:46, 16.06s/it]"
          ]
        },
        {
          "output_type": "stream",
          "name": "stdout",
          "text": [
            "/content/drive/MyDrive/DATASETS/DiffusionForensics/intrinsic/imagenet/train/1_fake/19_albedo_2026.png\n",
            "/content/drive/MyDrive/DATASETS/DiffusionForensics/intrinsic/imagenet/train/1_fake/19_shading_2026.png\n",
            "/content/drive/MyDrive/DATASETS/DiffusionForensics/intrinsic/imagenet/train/1_fake/19_origin_2026.png\n"
          ]
        },
        {
          "output_type": "stream",
          "name": "stderr",
          "text": [
            "\r  0%|          | 131/38104 [35:37<153:28:03, 14.55s/it]"
          ]
        },
        {
          "output_type": "stream",
          "name": "stdout",
          "text": [
            "/content/drive/MyDrive/DATASETS/DiffusionForensics/intrinsic/imagenet/train/1_fake/3_albedo_2027.png\n",
            "/content/drive/MyDrive/DATASETS/DiffusionForensics/intrinsic/imagenet/train/1_fake/3_shading_2027.png\n",
            "/content/drive/MyDrive/DATASETS/DiffusionForensics/intrinsic/imagenet/train/1_fake/3_origin_2027.png\n"
          ]
        },
        {
          "output_type": "stream",
          "name": "stderr",
          "text": [
            "\r  0%|          | 132/38104 [35:48<143:05:28, 13.57s/it]"
          ]
        },
        {
          "output_type": "stream",
          "name": "stdout",
          "text": [
            "/content/drive/MyDrive/DATASETS/DiffusionForensics/intrinsic/imagenet/train/1_fake/35_albedo_2028.png\n",
            "/content/drive/MyDrive/DATASETS/DiffusionForensics/intrinsic/imagenet/train/1_fake/35_shading_2028.png\n",
            "/content/drive/MyDrive/DATASETS/DiffusionForensics/intrinsic/imagenet/train/1_fake/35_origin_2028.png\n"
          ]
        },
        {
          "output_type": "stream",
          "name": "stderr",
          "text": [
            "\r  0%|          | 133/38104 [36:07<158:29:56, 15.03s/it]"
          ]
        },
        {
          "output_type": "stream",
          "name": "stdout",
          "text": [
            "/content/drive/MyDrive/DATASETS/DiffusionForensics/intrinsic/imagenet/train/1_fake/10_albedo_2029.png\n",
            "/content/drive/MyDrive/DATASETS/DiffusionForensics/intrinsic/imagenet/train/1_fake/10_shading_2029.png\n",
            "/content/drive/MyDrive/DATASETS/DiffusionForensics/intrinsic/imagenet/train/1_fake/10_origin_2029.png\n"
          ]
        },
        {
          "output_type": "stream",
          "name": "stderr",
          "text": [
            "\r  0%|          | 134/38104 [36:18<145:20:29, 13.78s/it]"
          ]
        },
        {
          "output_type": "stream",
          "name": "stdout",
          "text": [
            "/content/drive/MyDrive/DATASETS/DiffusionForensics/intrinsic/imagenet/train/1_fake/31_albedo_2030.png\n",
            "/content/drive/MyDrive/DATASETS/DiffusionForensics/intrinsic/imagenet/train/1_fake/31_shading_2030.png\n",
            "/content/drive/MyDrive/DATASETS/DiffusionForensics/intrinsic/imagenet/train/1_fake/31_origin_2030.png\n"
          ]
        },
        {
          "output_type": "stream",
          "name": "stderr",
          "text": [
            "\r  0%|          | 135/38104 [36:29<137:15:10, 13.01s/it]"
          ]
        },
        {
          "output_type": "stream",
          "name": "stdout",
          "text": [
            "/content/drive/MyDrive/DATASETS/DiffusionForensics/intrinsic/imagenet/train/1_fake/23_albedo_2031.png\n",
            "/content/drive/MyDrive/DATASETS/DiffusionForensics/intrinsic/imagenet/train/1_fake/23_shading_2031.png\n",
            "/content/drive/MyDrive/DATASETS/DiffusionForensics/intrinsic/imagenet/train/1_fake/23_origin_2031.png\n"
          ]
        },
        {
          "output_type": "stream",
          "name": "stderr",
          "text": [
            "\r  0%|          | 136/38104 [36:46<150:17:55, 14.25s/it]"
          ]
        },
        {
          "output_type": "stream",
          "name": "stdout",
          "text": [
            "/content/drive/MyDrive/DATASETS/DiffusionForensics/intrinsic/imagenet/train/1_fake/0_albedo_2032.png\n",
            "/content/drive/MyDrive/DATASETS/DiffusionForensics/intrinsic/imagenet/train/1_fake/0_shading_2032.png\n",
            "/content/drive/MyDrive/DATASETS/DiffusionForensics/intrinsic/imagenet/train/1_fake/0_origin_2032.png\n"
          ]
        },
        {
          "output_type": "stream",
          "name": "stderr",
          "text": [
            "\r  0%|          | 137/38104 [36:57<139:07:05, 13.19s/it]"
          ]
        },
        {
          "output_type": "stream",
          "name": "stdout",
          "text": [
            "/content/drive/MyDrive/DATASETS/DiffusionForensics/intrinsic/imagenet/train/1_fake/22_albedo_2033.png\n",
            "/content/drive/MyDrive/DATASETS/DiffusionForensics/intrinsic/imagenet/train/1_fake/22_shading_2033.png\n",
            "/content/drive/MyDrive/DATASETS/DiffusionForensics/intrinsic/imagenet/train/1_fake/22_origin_2033.png\n"
          ]
        },
        {
          "output_type": "stream",
          "name": "stderr",
          "text": [
            "\r  0%|          | 138/38104 [37:06<126:21:37, 11.98s/it]"
          ]
        },
        {
          "output_type": "stream",
          "name": "stdout",
          "text": [
            "/content/drive/MyDrive/DATASETS/DiffusionForensics/intrinsic/imagenet/train/1_fake/21_albedo_2034.png\n",
            "/content/drive/MyDrive/DATASETS/DiffusionForensics/intrinsic/imagenet/train/1_fake/21_shading_2034.png\n",
            "/content/drive/MyDrive/DATASETS/DiffusionForensics/intrinsic/imagenet/train/1_fake/21_origin_2034.png\n"
          ]
        },
        {
          "output_type": "stream",
          "name": "stderr",
          "text": [
            "\r  0%|          | 139/38104 [37:17<122:25:32, 11.61s/it]"
          ]
        },
        {
          "output_type": "stream",
          "name": "stdout",
          "text": [
            "/content/drive/MyDrive/DATASETS/DiffusionForensics/intrinsic/imagenet/train/1_fake/12_albedo_2035.png\n",
            "/content/drive/MyDrive/DATASETS/DiffusionForensics/intrinsic/imagenet/train/1_fake/12_shading_2035.png\n",
            "/content/drive/MyDrive/DATASETS/DiffusionForensics/intrinsic/imagenet/train/1_fake/12_origin_2035.png\n"
          ]
        },
        {
          "output_type": "stream",
          "name": "stderr",
          "text": [
            "\r  0%|          | 140/38104 [37:33<138:56:19, 13.18s/it]"
          ]
        },
        {
          "output_type": "stream",
          "name": "stdout",
          "text": [
            "/content/drive/MyDrive/DATASETS/DiffusionForensics/intrinsic/imagenet/train/1_fake/18_albedo_2036.png\n",
            "/content/drive/MyDrive/DATASETS/DiffusionForensics/intrinsic/imagenet/train/1_fake/18_shading_2036.png\n",
            "/content/drive/MyDrive/DATASETS/DiffusionForensics/intrinsic/imagenet/train/1_fake/18_origin_2036.png\n"
          ]
        },
        {
          "output_type": "stream",
          "name": "stderr",
          "text": [
            "\r  0%|          | 141/38104 [37:44<130:38:31, 12.39s/it]"
          ]
        },
        {
          "output_type": "stream",
          "name": "stdout",
          "text": [
            "/content/drive/MyDrive/DATASETS/DiffusionForensics/intrinsic/imagenet/train/1_fake/34_albedo_2037.png\n",
            "/content/drive/MyDrive/DATASETS/DiffusionForensics/intrinsic/imagenet/train/1_fake/34_shading_2037.png\n",
            "/content/drive/MyDrive/DATASETS/DiffusionForensics/intrinsic/imagenet/train/1_fake/34_origin_2037.png\n"
          ]
        },
        {
          "output_type": "stream",
          "name": "stderr",
          "text": [
            "\r  0%|          | 142/38104 [38:01<145:39:57, 13.81s/it]"
          ]
        },
        {
          "output_type": "stream",
          "name": "stdout",
          "text": [
            "/content/drive/MyDrive/DATASETS/DiffusionForensics/intrinsic/imagenet/train/1_fake/26_albedo_2038.png\n",
            "/content/drive/MyDrive/DATASETS/DiffusionForensics/intrinsic/imagenet/train/1_fake/26_shading_2038.png\n",
            "/content/drive/MyDrive/DATASETS/DiffusionForensics/intrinsic/imagenet/train/1_fake/26_origin_2038.png\n"
          ]
        },
        {
          "output_type": "stream",
          "name": "stderr",
          "text": [
            "\r  0%|          | 143/38104 [38:21<163:42:41, 15.53s/it]"
          ]
        },
        {
          "output_type": "stream",
          "name": "stdout",
          "text": [
            "/content/drive/MyDrive/DATASETS/DiffusionForensics/intrinsic/imagenet/train/1_fake/38_albedo_2039.png\n",
            "/content/drive/MyDrive/DATASETS/DiffusionForensics/intrinsic/imagenet/train/1_fake/38_shading_2039.png\n",
            "/content/drive/MyDrive/DATASETS/DiffusionForensics/intrinsic/imagenet/train/1_fake/38_origin_2039.png\n"
          ]
        },
        {
          "output_type": "stream",
          "name": "stderr",
          "text": [
            "\r  0%|          | 144/38104 [38:38<168:22:38, 15.97s/it]"
          ]
        },
        {
          "output_type": "stream",
          "name": "stdout",
          "text": [
            "/content/drive/MyDrive/DATASETS/DiffusionForensics/intrinsic/imagenet/train/1_fake/4_albedo_2040.png\n",
            "/content/drive/MyDrive/DATASETS/DiffusionForensics/intrinsic/imagenet/train/1_fake/4_shading_2040.png\n",
            "/content/drive/MyDrive/DATASETS/DiffusionForensics/intrinsic/imagenet/train/1_fake/4_origin_2040.png\n"
          ]
        },
        {
          "output_type": "stream",
          "name": "stderr",
          "text": [
            "\r  0%|          | 145/38104 [38:55<171:32:43, 16.27s/it]"
          ]
        },
        {
          "output_type": "stream",
          "name": "stdout",
          "text": [
            "/content/drive/MyDrive/DATASETS/DiffusionForensics/intrinsic/imagenet/train/1_fake/16_albedo_2041.png\n",
            "/content/drive/MyDrive/DATASETS/DiffusionForensics/intrinsic/imagenet/train/1_fake/16_shading_2041.png\n",
            "/content/drive/MyDrive/DATASETS/DiffusionForensics/intrinsic/imagenet/train/1_fake/16_origin_2041.png\n"
          ]
        },
        {
          "output_type": "stream",
          "name": "stderr",
          "text": [
            "\r  0%|          | 146/38104 [39:12<174:30:44, 16.55s/it]"
          ]
        },
        {
          "output_type": "stream",
          "name": "stdout",
          "text": [
            "/content/drive/MyDrive/DATASETS/DiffusionForensics/intrinsic/imagenet/train/1_fake/33_albedo_2042.png\n",
            "/content/drive/MyDrive/DATASETS/DiffusionForensics/intrinsic/imagenet/train/1_fake/33_shading_2042.png\n",
            "/content/drive/MyDrive/DATASETS/DiffusionForensics/intrinsic/imagenet/train/1_fake/33_origin_2042.png\n"
          ]
        },
        {
          "output_type": "stream",
          "name": "stderr",
          "text": [
            "\r  0%|          | 147/38104 [39:29<177:24:49, 16.83s/it]"
          ]
        },
        {
          "output_type": "stream",
          "name": "stdout",
          "text": [
            "/content/drive/MyDrive/DATASETS/DiffusionForensics/intrinsic/imagenet/train/1_fake/6_albedo_2043.png\n",
            "/content/drive/MyDrive/DATASETS/DiffusionForensics/intrinsic/imagenet/train/1_fake/6_shading_2043.png\n",
            "/content/drive/MyDrive/DATASETS/DiffusionForensics/intrinsic/imagenet/train/1_fake/6_origin_2043.png\n"
          ]
        },
        {
          "output_type": "stream",
          "name": "stderr",
          "text": [
            "\r  0%|          | 148/38104 [39:47<178:55:20, 16.97s/it]"
          ]
        },
        {
          "output_type": "stream",
          "name": "stdout",
          "text": [
            "/content/drive/MyDrive/DATASETS/DiffusionForensics/intrinsic/imagenet/train/1_fake/7_albedo_2044.png\n",
            "/content/drive/MyDrive/DATASETS/DiffusionForensics/intrinsic/imagenet/train/1_fake/7_shading_2044.png\n",
            "/content/drive/MyDrive/DATASETS/DiffusionForensics/intrinsic/imagenet/train/1_fake/7_origin_2044.png\n"
          ]
        },
        {
          "output_type": "stream",
          "name": "stderr",
          "text": [
            "\r  0%|          | 149/38104 [40:04<178:59:16, 16.98s/it]"
          ]
        },
        {
          "output_type": "stream",
          "name": "stdout",
          "text": [
            "/content/drive/MyDrive/DATASETS/DiffusionForensics/intrinsic/imagenet/train/1_fake/36_albedo_2045.png\n",
            "/content/drive/MyDrive/DATASETS/DiffusionForensics/intrinsic/imagenet/train/1_fake/36_shading_2045.png\n",
            "/content/drive/MyDrive/DATASETS/DiffusionForensics/intrinsic/imagenet/train/1_fake/36_origin_2045.png\n"
          ]
        },
        {
          "output_type": "stream",
          "name": "stderr",
          "text": [
            "\r  0%|          | 150/38104 [40:20<178:57:29, 16.97s/it]"
          ]
        },
        {
          "output_type": "stream",
          "name": "stdout",
          "text": [
            "/content/drive/MyDrive/DATASETS/DiffusionForensics/intrinsic/imagenet/train/1_fake/15_albedo_2046.png\n",
            "/content/drive/MyDrive/DATASETS/DiffusionForensics/intrinsic/imagenet/train/1_fake/15_shading_2046.png\n",
            "/content/drive/MyDrive/DATASETS/DiffusionForensics/intrinsic/imagenet/train/1_fake/15_origin_2046.png\n"
          ]
        },
        {
          "output_type": "stream",
          "name": "stderr",
          "text": [
            "\r  0%|          | 151/38104 [40:38<179:41:46, 17.04s/it]"
          ]
        },
        {
          "output_type": "stream",
          "name": "stdout",
          "text": [
            "/content/drive/MyDrive/DATASETS/DiffusionForensics/intrinsic/imagenet/train/1_fake/13_albedo_2047.png\n",
            "/content/drive/MyDrive/DATASETS/DiffusionForensics/intrinsic/imagenet/train/1_fake/13_shading_2047.png\n",
            "/content/drive/MyDrive/DATASETS/DiffusionForensics/intrinsic/imagenet/train/1_fake/13_origin_2047.png\n"
          ]
        },
        {
          "output_type": "stream",
          "name": "stderr",
          "text": [
            "\r  0%|          | 152/38104 [40:56<183:11:09, 17.38s/it]"
          ]
        },
        {
          "output_type": "stream",
          "name": "stdout",
          "text": [
            "/content/drive/MyDrive/DATASETS/DiffusionForensics/intrinsic/imagenet/train/1_fake/5_albedo_2048.png\n",
            "/content/drive/MyDrive/DATASETS/DiffusionForensics/intrinsic/imagenet/train/1_fake/5_shading_2048.png\n",
            "/content/drive/MyDrive/DATASETS/DiffusionForensics/intrinsic/imagenet/train/1_fake/5_origin_2048.png\n"
          ]
        },
        {
          "output_type": "stream",
          "name": "stderr",
          "text": [
            "\r  0%|          | 153/38104 [41:15<187:21:52, 17.77s/it]"
          ]
        },
        {
          "output_type": "stream",
          "name": "stdout",
          "text": [
            "/content/drive/MyDrive/DATASETS/DiffusionForensics/intrinsic/imagenet/train/1_fake/24_albedo_2049.png\n",
            "/content/drive/MyDrive/DATASETS/DiffusionForensics/intrinsic/imagenet/train/1_fake/24_shading_2049.png\n",
            "/content/drive/MyDrive/DATASETS/DiffusionForensics/intrinsic/imagenet/train/1_fake/24_origin_2049.png\n"
          ]
        },
        {
          "output_type": "stream",
          "name": "stderr",
          "text": [
            "\r  0%|          | 154/38104 [41:31<184:29:31, 17.50s/it]"
          ]
        },
        {
          "output_type": "stream",
          "name": "stdout",
          "text": [
            "/content/drive/MyDrive/DATASETS/DiffusionForensics/intrinsic/imagenet/train/1_fake/28_albedo_2050.png\n",
            "/content/drive/MyDrive/DATASETS/DiffusionForensics/intrinsic/imagenet/train/1_fake/28_shading_2050.png\n",
            "/content/drive/MyDrive/DATASETS/DiffusionForensics/intrinsic/imagenet/train/1_fake/28_origin_2050.png\n"
          ]
        },
        {
          "output_type": "stream",
          "name": "stderr",
          "text": [
            "\r  0%|          | 155/38104 [41:49<184:00:11, 17.46s/it]"
          ]
        },
        {
          "output_type": "stream",
          "name": "stdout",
          "text": [
            "/content/drive/MyDrive/DATASETS/DiffusionForensics/intrinsic/imagenet/train/1_fake/27_albedo_2051.png\n",
            "/content/drive/MyDrive/DATASETS/DiffusionForensics/intrinsic/imagenet/train/1_fake/27_shading_2051.png\n",
            "/content/drive/MyDrive/DATASETS/DiffusionForensics/intrinsic/imagenet/train/1_fake/27_origin_2051.png\n"
          ]
        },
        {
          "output_type": "stream",
          "name": "stderr",
          "text": [
            "\r  0%|          | 156/38104 [42:06<184:46:17, 17.53s/it]"
          ]
        },
        {
          "output_type": "stream",
          "name": "stdout",
          "text": [
            "/content/drive/MyDrive/DATASETS/DiffusionForensics/intrinsic/imagenet/train/1_fake/29_albedo_2052.png\n",
            "/content/drive/MyDrive/DATASETS/DiffusionForensics/intrinsic/imagenet/train/1_fake/29_shading_2052.png\n",
            "/content/drive/MyDrive/DATASETS/DiffusionForensics/intrinsic/imagenet/train/1_fake/29_origin_2052.png\n"
          ]
        },
        {
          "output_type": "stream",
          "name": "stderr",
          "text": [
            "\r  0%|          | 157/38104 [42:24<184:23:38, 17.49s/it]"
          ]
        },
        {
          "output_type": "stream",
          "name": "stdout",
          "text": [
            "/content/drive/MyDrive/DATASETS/DiffusionForensics/intrinsic/imagenet/train/1_fake/30_albedo_2053.png\n",
            "/content/drive/MyDrive/DATASETS/DiffusionForensics/intrinsic/imagenet/train/1_fake/30_shading_2053.png\n",
            "/content/drive/MyDrive/DATASETS/DiffusionForensics/intrinsic/imagenet/train/1_fake/30_origin_2053.png\n"
          ]
        },
        {
          "output_type": "stream",
          "name": "stderr",
          "text": [
            "\r  0%|          | 158/38104 [42:41<182:59:29, 17.36s/it]"
          ]
        },
        {
          "output_type": "stream",
          "name": "stdout",
          "text": [
            "/content/drive/MyDrive/DATASETS/DiffusionForensics/intrinsic/imagenet/train/1_fake/11_albedo_2054.png\n",
            "/content/drive/MyDrive/DATASETS/DiffusionForensics/intrinsic/imagenet/train/1_fake/11_shading_2054.png\n",
            "/content/drive/MyDrive/DATASETS/DiffusionForensics/intrinsic/imagenet/train/1_fake/11_origin_2054.png\n"
          ]
        },
        {
          "output_type": "stream",
          "name": "stderr",
          "text": [
            "\r  0%|          | 159/38104 [42:58<182:28:59, 17.31s/it]"
          ]
        },
        {
          "output_type": "stream",
          "name": "stdout",
          "text": [
            "/content/drive/MyDrive/DATASETS/DiffusionForensics/intrinsic/imagenet/train/1_fake/2_albedo_2055.png\n",
            "/content/drive/MyDrive/DATASETS/DiffusionForensics/intrinsic/imagenet/train/1_fake/2_shading_2055.png\n",
            "/content/drive/MyDrive/DATASETS/DiffusionForensics/intrinsic/imagenet/train/1_fake/2_origin_2055.png\n"
          ]
        },
        {
          "output_type": "stream",
          "name": "stderr",
          "text": [
            "\r  0%|          | 160/38104 [43:16<184:56:30, 17.55s/it]"
          ]
        },
        {
          "output_type": "stream",
          "name": "stdout",
          "text": [
            "/content/drive/MyDrive/DATASETS/DiffusionForensics/intrinsic/imagenet/train/1_fake/39_albedo_2056.png\n",
            "/content/drive/MyDrive/DATASETS/DiffusionForensics/intrinsic/imagenet/train/1_fake/39_shading_2056.png\n",
            "/content/drive/MyDrive/DATASETS/DiffusionForensics/intrinsic/imagenet/train/1_fake/39_origin_2056.png\n"
          ]
        },
        {
          "output_type": "stream",
          "name": "stderr",
          "text": [
            "\r  0%|          | 161/38104 [43:33<183:15:44, 17.39s/it]"
          ]
        },
        {
          "output_type": "stream",
          "name": "stdout",
          "text": [
            "/content/drive/MyDrive/DATASETS/DiffusionForensics/intrinsic/imagenet/train/1_fake/17_albedo_2057.png\n",
            "/content/drive/MyDrive/DATASETS/DiffusionForensics/intrinsic/imagenet/train/1_fake/17_shading_2057.png\n",
            "/content/drive/MyDrive/DATASETS/DiffusionForensics/intrinsic/imagenet/train/1_fake/17_origin_2057.png\n"
          ]
        },
        {
          "output_type": "stream",
          "name": "stderr",
          "text": [
            "\r  0%|          | 162/38104 [43:50<181:47:52, 17.25s/it]"
          ]
        },
        {
          "output_type": "stream",
          "name": "stdout",
          "text": [
            "/content/drive/MyDrive/DATASETS/DiffusionForensics/intrinsic/imagenet/train/1_fake/25_albedo_2058.png\n",
            "/content/drive/MyDrive/DATASETS/DiffusionForensics/intrinsic/imagenet/train/1_fake/25_shading_2058.png\n",
            "/content/drive/MyDrive/DATASETS/DiffusionForensics/intrinsic/imagenet/train/1_fake/25_origin_2058.png\n"
          ]
        },
        {
          "output_type": "stream",
          "name": "stderr",
          "text": [
            "\r  0%|          | 163/38104 [44:09<186:45:25, 17.72s/it]"
          ]
        },
        {
          "output_type": "stream",
          "name": "stdout",
          "text": [
            "/content/drive/MyDrive/DATASETS/DiffusionForensics/intrinsic/imagenet/train/1_fake/37_albedo_2059.png\n",
            "/content/drive/MyDrive/DATASETS/DiffusionForensics/intrinsic/imagenet/train/1_fake/37_shading_2059.png\n",
            "/content/drive/MyDrive/DATASETS/DiffusionForensics/intrinsic/imagenet/train/1_fake/37_origin_2059.png\n"
          ]
        },
        {
          "output_type": "stream",
          "name": "stderr",
          "text": [
            "\r  0%|          | 164/38104 [44:27<187:00:47, 17.75s/it]"
          ]
        },
        {
          "output_type": "stream",
          "name": "stdout",
          "text": [
            "/content/drive/MyDrive/DATASETS/DiffusionForensics/intrinsic/imagenet/train/1_fake/20_albedo_2060.png\n",
            "/content/drive/MyDrive/DATASETS/DiffusionForensics/intrinsic/imagenet/train/1_fake/20_shading_2060.png\n",
            "/content/drive/MyDrive/DATASETS/DiffusionForensics/intrinsic/imagenet/train/1_fake/20_origin_2060.png\n"
          ]
        },
        {
          "output_type": "stream",
          "name": "stderr",
          "text": [
            "\r  0%|          | 165/38104 [44:44<184:35:19, 17.52s/it]"
          ]
        },
        {
          "output_type": "stream",
          "name": "stdout",
          "text": [
            "/content/drive/MyDrive/DATASETS/DiffusionForensics/intrinsic/imagenet/train/1_fake/1_albedo_2061.png\n",
            "/content/drive/MyDrive/DATASETS/DiffusionForensics/intrinsic/imagenet/train/1_fake/1_shading_2061.png\n",
            "/content/drive/MyDrive/DATASETS/DiffusionForensics/intrinsic/imagenet/train/1_fake/1_origin_2061.png\n"
          ]
        },
        {
          "output_type": "stream",
          "name": "stderr",
          "text": [
            "\r  0%|          | 166/38104 [45:00<181:42:18, 17.24s/it]"
          ]
        },
        {
          "output_type": "stream",
          "name": "stdout",
          "text": [
            "/content/drive/MyDrive/DATASETS/DiffusionForensics/intrinsic/imagenet/train/1_fake/32_albedo_2062.png\n",
            "/content/drive/MyDrive/DATASETS/DiffusionForensics/intrinsic/imagenet/train/1_fake/32_shading_2062.png\n",
            "/content/drive/MyDrive/DATASETS/DiffusionForensics/intrinsic/imagenet/train/1_fake/32_origin_2062.png\n"
          ]
        },
        {
          "output_type": "stream",
          "name": "stderr",
          "text": [
            "\r  0%|          | 167/38104 [45:17<180:19:36, 17.11s/it]"
          ]
        },
        {
          "output_type": "stream",
          "name": "stdout",
          "text": [
            "/content/drive/MyDrive/DATASETS/DiffusionForensics/intrinsic/imagenet/train/1_fake/9_albedo_2063.png\n",
            "/content/drive/MyDrive/DATASETS/DiffusionForensics/intrinsic/imagenet/train/1_fake/9_shading_2063.png\n",
            "/content/drive/MyDrive/DATASETS/DiffusionForensics/intrinsic/imagenet/train/1_fake/9_origin_2063.png\n"
          ]
        },
        {
          "output_type": "stream",
          "name": "stderr",
          "text": [
            "\r  0%|          | 168/38104 [45:36<184:20:28, 17.49s/it]"
          ]
        },
        {
          "output_type": "stream",
          "name": "stdout",
          "text": [
            "/content/drive/MyDrive/DATASETS/DiffusionForensics/intrinsic/imagenet/train/1_fake/14_albedo_2064.png\n",
            "/content/drive/MyDrive/DATASETS/DiffusionForensics/intrinsic/imagenet/train/1_fake/14_shading_2064.png\n",
            "/content/drive/MyDrive/DATASETS/DiffusionForensics/intrinsic/imagenet/train/1_fake/14_origin_2064.png\n"
          ]
        },
        {
          "output_type": "stream",
          "name": "stderr",
          "text": [
            "\r  0%|          | 169/38104 [45:53<183:25:02, 17.41s/it]"
          ]
        },
        {
          "output_type": "stream",
          "name": "stdout",
          "text": [
            "/content/drive/MyDrive/DATASETS/DiffusionForensics/intrinsic/imagenet/train/1_fake/8_albedo_2065.png\n",
            "/content/drive/MyDrive/DATASETS/DiffusionForensics/intrinsic/imagenet/train/1_fake/8_shading_2065.png\n",
            "/content/drive/MyDrive/DATASETS/DiffusionForensics/intrinsic/imagenet/train/1_fake/8_origin_2065.png\n"
          ]
        },
        {
          "output_type": "stream",
          "name": "stderr",
          "text": [
            "\r  0%|          | 170/38104 [46:10<181:50:16, 17.26s/it]"
          ]
        },
        {
          "output_type": "stream",
          "name": "stdout",
          "text": [
            "/content/drive/MyDrive/DATASETS/DiffusionForensics/intrinsic/imagenet/train/1_fake/19_albedo_2066.png\n",
            "/content/drive/MyDrive/DATASETS/DiffusionForensics/intrinsic/imagenet/train/1_fake/19_shading_2066.png\n",
            "/content/drive/MyDrive/DATASETS/DiffusionForensics/intrinsic/imagenet/train/1_fake/19_origin_2066.png\n"
          ]
        },
        {
          "output_type": "stream",
          "name": "stderr",
          "text": [
            "\r  0%|          | 171/38104 [46:20<160:16:43, 15.21s/it]"
          ]
        },
        {
          "output_type": "stream",
          "name": "stdout",
          "text": [
            "/content/drive/MyDrive/DATASETS/DiffusionForensics/intrinsic/imagenet/train/1_fake/3_albedo_2067.png\n",
            "/content/drive/MyDrive/DATASETS/DiffusionForensics/intrinsic/imagenet/train/1_fake/3_shading_2067.png\n",
            "/content/drive/MyDrive/DATASETS/DiffusionForensics/intrinsic/imagenet/train/1_fake/3_origin_2067.png\n"
          ]
        },
        {
          "output_type": "stream",
          "name": "stderr",
          "text": [
            "\r  0%|          | 172/38104 [46:37<164:40:19, 15.63s/it]"
          ]
        },
        {
          "output_type": "stream",
          "name": "stdout",
          "text": [
            "/content/drive/MyDrive/DATASETS/DiffusionForensics/intrinsic/imagenet/train/1_fake/35_albedo_2068.png\n",
            "/content/drive/MyDrive/DATASETS/DiffusionForensics/intrinsic/imagenet/train/1_fake/35_shading_2068.png\n",
            "/content/drive/MyDrive/DATASETS/DiffusionForensics/intrinsic/imagenet/train/1_fake/35_origin_2068.png\n"
          ]
        },
        {
          "output_type": "stream",
          "name": "stderr",
          "text": [
            "\r  0%|          | 173/38104 [46:53<167:31:52, 15.90s/it]"
          ]
        },
        {
          "output_type": "stream",
          "name": "stdout",
          "text": [
            "/content/drive/MyDrive/DATASETS/DiffusionForensics/intrinsic/imagenet/train/1_fake/10_albedo_2069.png\n",
            "/content/drive/MyDrive/DATASETS/DiffusionForensics/intrinsic/imagenet/train/1_fake/10_shading_2069.png\n",
            "/content/drive/MyDrive/DATASETS/DiffusionForensics/intrinsic/imagenet/train/1_fake/10_origin_2069.png\n"
          ]
        },
        {
          "output_type": "stream",
          "name": "stderr",
          "text": [
            "\r  0%|          | 174/38104 [47:12<176:59:40, 16.80s/it]"
          ]
        },
        {
          "output_type": "stream",
          "name": "stdout",
          "text": [
            "/content/drive/MyDrive/DATASETS/DiffusionForensics/intrinsic/imagenet/train/1_fake/31_albedo_2070.png\n",
            "/content/drive/MyDrive/DATASETS/DiffusionForensics/intrinsic/imagenet/train/1_fake/31_shading_2070.png\n",
            "/content/drive/MyDrive/DATASETS/DiffusionForensics/intrinsic/imagenet/train/1_fake/31_origin_2070.png\n"
          ]
        },
        {
          "output_type": "stream",
          "name": "stderr",
          "text": [
            "\r  0%|          | 175/38104 [47:30<179:16:56, 17.02s/it]"
          ]
        },
        {
          "output_type": "stream",
          "name": "stdout",
          "text": [
            "/content/drive/MyDrive/DATASETS/DiffusionForensics/intrinsic/imagenet/train/1_fake/23_albedo_2071.png\n",
            "/content/drive/MyDrive/DATASETS/DiffusionForensics/intrinsic/imagenet/train/1_fake/23_shading_2071.png\n",
            "/content/drive/MyDrive/DATASETS/DiffusionForensics/intrinsic/imagenet/train/1_fake/23_origin_2071.png\n"
          ]
        },
        {
          "output_type": "stream",
          "name": "stderr",
          "text": [
            "\r  0%|          | 176/38104 [47:47<180:03:31, 17.09s/it]"
          ]
        },
        {
          "output_type": "stream",
          "name": "stdout",
          "text": [
            "/content/drive/MyDrive/DATASETS/DiffusionForensics/intrinsic/imagenet/train/1_fake/0_albedo_2072.png\n",
            "/content/drive/MyDrive/DATASETS/DiffusionForensics/intrinsic/imagenet/train/1_fake/0_shading_2072.png\n",
            "/content/drive/MyDrive/DATASETS/DiffusionForensics/intrinsic/imagenet/train/1_fake/0_origin_2072.png\n"
          ]
        },
        {
          "output_type": "stream",
          "name": "stderr",
          "text": [
            "\r  0%|          | 177/38104 [48:04<179:29:06, 17.04s/it]"
          ]
        },
        {
          "output_type": "stream",
          "name": "stdout",
          "text": [
            "/content/drive/MyDrive/DATASETS/DiffusionForensics/intrinsic/imagenet/train/1_fake/22_albedo_2073.png\n",
            "/content/drive/MyDrive/DATASETS/DiffusionForensics/intrinsic/imagenet/train/1_fake/22_shading_2073.png\n",
            "/content/drive/MyDrive/DATASETS/DiffusionForensics/intrinsic/imagenet/train/1_fake/22_origin_2073.png\n"
          ]
        },
        {
          "output_type": "stream",
          "name": "stderr",
          "text": [
            "\r  0%|          | 178/38104 [48:14<159:16:53, 15.12s/it]"
          ]
        },
        {
          "output_type": "stream",
          "name": "stdout",
          "text": [
            "/content/drive/MyDrive/DATASETS/DiffusionForensics/intrinsic/imagenet/train/1_fake/21_albedo_2074.png\n",
            "/content/drive/MyDrive/DATASETS/DiffusionForensics/intrinsic/imagenet/train/1_fake/21_shading_2074.png\n",
            "/content/drive/MyDrive/DATASETS/DiffusionForensics/intrinsic/imagenet/train/1_fake/21_origin_2074.png\n"
          ]
        },
        {
          "output_type": "stream",
          "name": "stderr",
          "text": [
            "\r  0%|          | 179/38104 [48:32<165:19:28, 15.69s/it]"
          ]
        },
        {
          "output_type": "stream",
          "name": "stdout",
          "text": [
            "/content/drive/MyDrive/DATASETS/DiffusionForensics/intrinsic/imagenet/train/1_fake/12_albedo_2075.png\n",
            "/content/drive/MyDrive/DATASETS/DiffusionForensics/intrinsic/imagenet/train/1_fake/12_shading_2075.png\n",
            "/content/drive/MyDrive/DATASETS/DiffusionForensics/intrinsic/imagenet/train/1_fake/12_origin_2075.png\n"
          ]
        },
        {
          "output_type": "stream",
          "name": "stderr",
          "text": [
            "\r  0%|          | 180/38104 [48:48<169:24:31, 16.08s/it]"
          ]
        },
        {
          "output_type": "stream",
          "name": "stdout",
          "text": [
            "/content/drive/MyDrive/DATASETS/DiffusionForensics/intrinsic/imagenet/train/1_fake/18_albedo_2076.png\n",
            "/content/drive/MyDrive/DATASETS/DiffusionForensics/intrinsic/imagenet/train/1_fake/18_shading_2076.png\n",
            "/content/drive/MyDrive/DATASETS/DiffusionForensics/intrinsic/imagenet/train/1_fake/18_origin_2076.png\n"
          ]
        },
        {
          "output_type": "stream",
          "name": "stderr",
          "text": [
            "\r  0%|          | 181/38104 [49:07<176:42:29, 16.77s/it]"
          ]
        },
        {
          "output_type": "stream",
          "name": "stdout",
          "text": [
            "/content/drive/MyDrive/DATASETS/DiffusionForensics/intrinsic/imagenet/train/1_fake/34_albedo_2077.png\n",
            "/content/drive/MyDrive/DATASETS/DiffusionForensics/intrinsic/imagenet/train/1_fake/34_shading_2077.png\n",
            "/content/drive/MyDrive/DATASETS/DiffusionForensics/intrinsic/imagenet/train/1_fake/34_origin_2077.png\n"
          ]
        },
        {
          "output_type": "stream",
          "name": "stderr",
          "text": [
            "\r  0%|          | 182/38104 [49:24<177:17:45, 16.83s/it]"
          ]
        },
        {
          "output_type": "stream",
          "name": "stdout",
          "text": [
            "/content/drive/MyDrive/DATASETS/DiffusionForensics/intrinsic/imagenet/train/1_fake/26_albedo_2078.png\n",
            "/content/drive/MyDrive/DATASETS/DiffusionForensics/intrinsic/imagenet/train/1_fake/26_shading_2078.png\n",
            "/content/drive/MyDrive/DATASETS/DiffusionForensics/intrinsic/imagenet/train/1_fake/26_origin_2078.png\n"
          ]
        },
        {
          "output_type": "stream",
          "name": "stderr",
          "text": [
            "\r  0%|          | 183/38104 [49:41<178:28:07, 16.94s/it]"
          ]
        },
        {
          "output_type": "stream",
          "name": "stdout",
          "text": [
            "/content/drive/MyDrive/DATASETS/DiffusionForensics/intrinsic/imagenet/train/1_fake/38_albedo_2079.png\n",
            "/content/drive/MyDrive/DATASETS/DiffusionForensics/intrinsic/imagenet/train/1_fake/38_shading_2079.png\n",
            "/content/drive/MyDrive/DATASETS/DiffusionForensics/intrinsic/imagenet/train/1_fake/38_origin_2079.png\n"
          ]
        },
        {
          "output_type": "stream",
          "name": "stderr",
          "text": [
            "\r  0%|          | 184/38104 [50:00<185:26:34, 17.61s/it]"
          ]
        },
        {
          "output_type": "stream",
          "name": "stdout",
          "text": [
            "/content/drive/MyDrive/DATASETS/DiffusionForensics/intrinsic/imagenet/train/1_fake/4_albedo_2080.png\n",
            "/content/drive/MyDrive/DATASETS/DiffusionForensics/intrinsic/imagenet/train/1_fake/4_shading_2080.png\n",
            "/content/drive/MyDrive/DATASETS/DiffusionForensics/intrinsic/imagenet/train/1_fake/4_origin_2080.png\n"
          ]
        },
        {
          "output_type": "stream",
          "name": "stderr",
          "text": [
            "\r  0%|          | 185/38104 [50:18<187:33:47, 17.81s/it]"
          ]
        },
        {
          "output_type": "stream",
          "name": "stdout",
          "text": [
            "/content/drive/MyDrive/DATASETS/DiffusionForensics/intrinsic/imagenet/train/1_fake/16_albedo_2081.png\n",
            "/content/drive/MyDrive/DATASETS/DiffusionForensics/intrinsic/imagenet/train/1_fake/16_shading_2081.png\n",
            "/content/drive/MyDrive/DATASETS/DiffusionForensics/intrinsic/imagenet/train/1_fake/16_origin_2081.png\n"
          ]
        },
        {
          "output_type": "stream",
          "name": "stderr",
          "text": [
            "\r  0%|          | 186/38104 [50:28<162:18:39, 15.41s/it]"
          ]
        },
        {
          "output_type": "stream",
          "name": "stdout",
          "text": [
            "/content/drive/MyDrive/DATASETS/DiffusionForensics/intrinsic/imagenet/train/1_fake/33_albedo_2082.png\n",
            "/content/drive/MyDrive/DATASETS/DiffusionForensics/intrinsic/imagenet/train/1_fake/33_shading_2082.png\n",
            "/content/drive/MyDrive/DATASETS/DiffusionForensics/intrinsic/imagenet/train/1_fake/33_origin_2082.png\n"
          ]
        },
        {
          "output_type": "stream",
          "name": "stderr",
          "text": [
            "\r  0%|          | 187/38104 [50:46<169:32:48, 16.10s/it]"
          ]
        },
        {
          "output_type": "stream",
          "name": "stdout",
          "text": [
            "/content/drive/MyDrive/DATASETS/DiffusionForensics/intrinsic/imagenet/train/1_fake/6_albedo_2083.png\n",
            "/content/drive/MyDrive/DATASETS/DiffusionForensics/intrinsic/imagenet/train/1_fake/6_shading_2083.png\n",
            "/content/drive/MyDrive/DATASETS/DiffusionForensics/intrinsic/imagenet/train/1_fake/6_origin_2083.png\n"
          ]
        },
        {
          "output_type": "stream",
          "name": "stderr",
          "text": [
            "\r  0%|          | 188/38104 [51:03<173:27:20, 16.47s/it]"
          ]
        },
        {
          "output_type": "stream",
          "name": "stdout",
          "text": [
            "/content/drive/MyDrive/DATASETS/DiffusionForensics/intrinsic/imagenet/train/1_fake/7_albedo_2084.png\n",
            "/content/drive/MyDrive/DATASETS/DiffusionForensics/intrinsic/imagenet/train/1_fake/7_shading_2084.png\n",
            "/content/drive/MyDrive/DATASETS/DiffusionForensics/intrinsic/imagenet/train/1_fake/7_origin_2084.png\n"
          ]
        },
        {
          "output_type": "stream",
          "name": "stderr",
          "text": [
            "\r  0%|          | 189/38104 [51:20<175:25:27, 16.66s/it]"
          ]
        },
        {
          "output_type": "stream",
          "name": "stdout",
          "text": [
            "/content/drive/MyDrive/DATASETS/DiffusionForensics/intrinsic/imagenet/train/1_fake/36_albedo_2085.png\n",
            "/content/drive/MyDrive/DATASETS/DiffusionForensics/intrinsic/imagenet/train/1_fake/36_shading_2085.png\n",
            "/content/drive/MyDrive/DATASETS/DiffusionForensics/intrinsic/imagenet/train/1_fake/36_origin_2085.png\n"
          ]
        },
        {
          "output_type": "stream",
          "name": "stderr",
          "text": [
            "\r  0%|          | 190/38104 [51:37<176:42:21, 16.78s/it]"
          ]
        },
        {
          "output_type": "stream",
          "name": "stdout",
          "text": [
            "/content/drive/MyDrive/DATASETS/DiffusionForensics/intrinsic/imagenet/train/1_fake/15_albedo_2086.png\n",
            "/content/drive/MyDrive/DATASETS/DiffusionForensics/intrinsic/imagenet/train/1_fake/15_shading_2086.png\n",
            "/content/drive/MyDrive/DATASETS/DiffusionForensics/intrinsic/imagenet/train/1_fake/15_origin_2086.png\n"
          ]
        },
        {
          "output_type": "stream",
          "name": "stderr",
          "text": [
            "\r  1%|          | 191/38104 [51:56<180:58:32, 17.18s/it]"
          ]
        },
        {
          "output_type": "stream",
          "name": "stdout",
          "text": [
            "/content/drive/MyDrive/DATASETS/DiffusionForensics/intrinsic/imagenet/train/1_fake/13_albedo_2087.png\n",
            "/content/drive/MyDrive/DATASETS/DiffusionForensics/intrinsic/imagenet/train/1_fake/13_shading_2087.png\n",
            "/content/drive/MyDrive/DATASETS/DiffusionForensics/intrinsic/imagenet/train/1_fake/13_origin_2087.png\n"
          ]
        },
        {
          "output_type": "stream",
          "name": "stderr",
          "text": [
            "\r  1%|          | 192/38104 [52:13<180:44:28, 17.16s/it]"
          ]
        },
        {
          "output_type": "stream",
          "name": "stdout",
          "text": [
            "/content/drive/MyDrive/DATASETS/DiffusionForensics/intrinsic/imagenet/train/1_fake/5_albedo_2088.png\n",
            "/content/drive/MyDrive/DATASETS/DiffusionForensics/intrinsic/imagenet/train/1_fake/5_shading_2088.png\n",
            "/content/drive/MyDrive/DATASETS/DiffusionForensics/intrinsic/imagenet/train/1_fake/5_origin_2088.png\n"
          ]
        },
        {
          "output_type": "stream",
          "name": "stderr",
          "text": [
            "\r  1%|          | 193/38104 [52:30<179:41:29, 17.06s/it]"
          ]
        },
        {
          "output_type": "stream",
          "name": "stdout",
          "text": [
            "/content/drive/MyDrive/DATASETS/DiffusionForensics/intrinsic/imagenet/train/1_fake/24_albedo_2089.png\n",
            "/content/drive/MyDrive/DATASETS/DiffusionForensics/intrinsic/imagenet/train/1_fake/24_shading_2089.png\n",
            "/content/drive/MyDrive/DATASETS/DiffusionForensics/intrinsic/imagenet/train/1_fake/24_origin_2089.png\n"
          ]
        },
        {
          "output_type": "stream",
          "name": "stderr",
          "text": [
            "\r  1%|          | 194/38104 [52:46<178:11:15, 16.92s/it]"
          ]
        },
        {
          "output_type": "stream",
          "name": "stdout",
          "text": [
            "/content/drive/MyDrive/DATASETS/DiffusionForensics/intrinsic/imagenet/train/1_fake/28_albedo_2090.png\n",
            "/content/drive/MyDrive/DATASETS/DiffusionForensics/intrinsic/imagenet/train/1_fake/28_shading_2090.png\n",
            "/content/drive/MyDrive/DATASETS/DiffusionForensics/intrinsic/imagenet/train/1_fake/28_origin_2090.png\n"
          ]
        },
        {
          "output_type": "stream",
          "name": "stderr",
          "text": [
            "\r  1%|          | 195/38104 [53:06<186:43:22, 17.73s/it]"
          ]
        },
        {
          "output_type": "stream",
          "name": "stdout",
          "text": [
            "/content/drive/MyDrive/DATASETS/DiffusionForensics/intrinsic/imagenet/train/1_fake/27_albedo_2091.png\n",
            "/content/drive/MyDrive/DATASETS/DiffusionForensics/intrinsic/imagenet/train/1_fake/27_shading_2091.png\n",
            "/content/drive/MyDrive/DATASETS/DiffusionForensics/intrinsic/imagenet/train/1_fake/27_origin_2091.png\n"
          ]
        },
        {
          "output_type": "stream",
          "name": "stderr",
          "text": [
            "\r  1%|          | 196/38104 [53:23<185:03:16, 17.57s/it]"
          ]
        },
        {
          "output_type": "stream",
          "name": "stdout",
          "text": [
            "/content/drive/MyDrive/DATASETS/DiffusionForensics/intrinsic/imagenet/train/1_fake/29_albedo_2092.png\n",
            "/content/drive/MyDrive/DATASETS/DiffusionForensics/intrinsic/imagenet/train/1_fake/29_shading_2092.png\n",
            "/content/drive/MyDrive/DATASETS/DiffusionForensics/intrinsic/imagenet/train/1_fake/29_origin_2092.png\n"
          ]
        },
        {
          "output_type": "stream",
          "name": "stderr",
          "text": [
            "\r  1%|          | 197/38104 [53:34<162:58:01, 15.48s/it]"
          ]
        },
        {
          "output_type": "stream",
          "name": "stdout",
          "text": [
            "/content/drive/MyDrive/DATASETS/DiffusionForensics/intrinsic/imagenet/train/1_fake/30_albedo_2093.png\n",
            "/content/drive/MyDrive/DATASETS/DiffusionForensics/intrinsic/imagenet/train/1_fake/30_shading_2093.png\n",
            "/content/drive/MyDrive/DATASETS/DiffusionForensics/intrinsic/imagenet/train/1_fake/30_origin_2093.png\n"
          ]
        },
        {
          "output_type": "stream",
          "name": "stderr",
          "text": [
            "\r  1%|          | 198/38104 [53:50<166:46:18, 15.84s/it]"
          ]
        },
        {
          "output_type": "stream",
          "name": "stdout",
          "text": [
            "/content/drive/MyDrive/DATASETS/DiffusionForensics/intrinsic/imagenet/train/1_fake/11_albedo_2094.png\n",
            "/content/drive/MyDrive/DATASETS/DiffusionForensics/intrinsic/imagenet/train/1_fake/11_shading_2094.png\n",
            "/content/drive/MyDrive/DATASETS/DiffusionForensics/intrinsic/imagenet/train/1_fake/11_origin_2094.png\n"
          ]
        },
        {
          "output_type": "stream",
          "name": "stderr",
          "text": [
            "\r  1%|          | 199/38104 [54:07<170:18:53, 16.18s/it]"
          ]
        },
        {
          "output_type": "stream",
          "name": "stdout",
          "text": [
            "/content/drive/MyDrive/DATASETS/DiffusionForensics/intrinsic/imagenet/train/1_fake/2_albedo_2095.png\n",
            "/content/drive/MyDrive/DATASETS/DiffusionForensics/intrinsic/imagenet/train/1_fake/2_shading_2095.png\n",
            "/content/drive/MyDrive/DATASETS/DiffusionForensics/intrinsic/imagenet/train/1_fake/2_origin_2095.png\n"
          ]
        },
        {
          "output_type": "stream",
          "name": "stderr",
          "text": [
            "\r  1%|          | 200/38104 [54:24<172:50:29, 16.42s/it]"
          ]
        },
        {
          "output_type": "stream",
          "name": "stdout",
          "text": [
            "/content/drive/MyDrive/DATASETS/DiffusionForensics/intrinsic/imagenet/train/1_fake/39_albedo_2096.png\n",
            "/content/drive/MyDrive/DATASETS/DiffusionForensics/intrinsic/imagenet/train/1_fake/39_shading_2096.png\n",
            "/content/drive/MyDrive/DATASETS/DiffusionForensics/intrinsic/imagenet/train/1_fake/39_origin_2096.png\n"
          ]
        },
        {
          "output_type": "stream",
          "name": "stderr",
          "text": [
            "\r  1%|          | 201/38104 [54:42<175:56:23, 16.71s/it]"
          ]
        },
        {
          "output_type": "stream",
          "name": "stdout",
          "text": [
            "/content/drive/MyDrive/DATASETS/DiffusionForensics/intrinsic/imagenet/train/1_fake/17_albedo_2097.png\n",
            "/content/drive/MyDrive/DATASETS/DiffusionForensics/intrinsic/imagenet/train/1_fake/17_shading_2097.png\n",
            "/content/drive/MyDrive/DATASETS/DiffusionForensics/intrinsic/imagenet/train/1_fake/17_origin_2097.png\n"
          ]
        },
        {
          "output_type": "stream",
          "name": "stderr",
          "text": [
            "\r  1%|          | 202/38104 [54:59<177:34:00, 16.87s/it]"
          ]
        },
        {
          "output_type": "stream",
          "name": "stdout",
          "text": [
            "/content/drive/MyDrive/DATASETS/DiffusionForensics/intrinsic/imagenet/train/1_fake/25_albedo_2098.png\n",
            "/content/drive/MyDrive/DATASETS/DiffusionForensics/intrinsic/imagenet/train/1_fake/25_shading_2098.png\n",
            "/content/drive/MyDrive/DATASETS/DiffusionForensics/intrinsic/imagenet/train/1_fake/25_origin_2098.png\n"
          ]
        },
        {
          "output_type": "stream",
          "name": "stderr",
          "text": [
            "\r  1%|          | 203/38104 [55:16<177:57:36, 16.90s/it]"
          ]
        },
        {
          "output_type": "stream",
          "name": "stdout",
          "text": [
            "/content/drive/MyDrive/DATASETS/DiffusionForensics/intrinsic/imagenet/train/1_fake/37_albedo_2099.png\n",
            "/content/drive/MyDrive/DATASETS/DiffusionForensics/intrinsic/imagenet/train/1_fake/37_shading_2099.png\n",
            "/content/drive/MyDrive/DATASETS/DiffusionForensics/intrinsic/imagenet/train/1_fake/37_origin_2099.png\n"
          ]
        },
        {
          "output_type": "stream",
          "name": "stderr",
          "text": [
            "\r  1%|          | 204/38104 [55:33<177:40:19, 16.88s/it]"
          ]
        },
        {
          "output_type": "stream",
          "name": "stdout",
          "text": [
            "/content/drive/MyDrive/DATASETS/DiffusionForensics/intrinsic/imagenet/train/1_fake/20_albedo_2100.png\n",
            "/content/drive/MyDrive/DATASETS/DiffusionForensics/intrinsic/imagenet/train/1_fake/20_shading_2100.png\n",
            "/content/drive/MyDrive/DATASETS/DiffusionForensics/intrinsic/imagenet/train/1_fake/20_origin_2100.png\n"
          ]
        },
        {
          "output_type": "stream",
          "name": "stderr",
          "text": [
            "\r  1%|          | 205/38104 [55:50<178:46:35, 16.98s/it]"
          ]
        },
        {
          "output_type": "stream",
          "name": "stdout",
          "text": [
            "/content/drive/MyDrive/DATASETS/DiffusionForensics/intrinsic/imagenet/train/1_fake/1_albedo_2101.png\n",
            "/content/drive/MyDrive/DATASETS/DiffusionForensics/intrinsic/imagenet/train/1_fake/1_shading_2101.png\n",
            "/content/drive/MyDrive/DATASETS/DiffusionForensics/intrinsic/imagenet/train/1_fake/1_origin_2101.png\n"
          ]
        },
        {
          "output_type": "stream",
          "name": "stderr",
          "text": [
            "\r  1%|          | 206/38104 [56:09<186:11:58, 17.69s/it]"
          ]
        },
        {
          "output_type": "stream",
          "name": "stdout",
          "text": [
            "/content/drive/MyDrive/DATASETS/DiffusionForensics/intrinsic/imagenet/train/1_fake/32_albedo_2102.png\n",
            "/content/drive/MyDrive/DATASETS/DiffusionForensics/intrinsic/imagenet/train/1_fake/32_shading_2102.png\n",
            "/content/drive/MyDrive/DATASETS/DiffusionForensics/intrinsic/imagenet/train/1_fake/32_origin_2102.png\n"
          ]
        },
        {
          "output_type": "stream",
          "name": "stderr",
          "text": [
            "\r  1%|          | 207/38104 [56:26<182:41:53, 17.36s/it]"
          ]
        },
        {
          "output_type": "stream",
          "name": "stdout",
          "text": [
            "/content/drive/MyDrive/DATASETS/DiffusionForensics/intrinsic/imagenet/train/1_fake/9_albedo_2103.png\n",
            "/content/drive/MyDrive/DATASETS/DiffusionForensics/intrinsic/imagenet/train/1_fake/9_shading_2103.png\n",
            "/content/drive/MyDrive/DATASETS/DiffusionForensics/intrinsic/imagenet/train/1_fake/9_origin_2103.png\n"
          ]
        },
        {
          "output_type": "stream",
          "name": "stderr",
          "text": [
            "\r  1%|          | 208/38104 [56:48<197:47:19, 18.79s/it]"
          ]
        },
        {
          "output_type": "stream",
          "name": "stdout",
          "text": [
            "/content/drive/MyDrive/DATASETS/DiffusionForensics/intrinsic/imagenet/train/1_fake/14_albedo_2104.png\n",
            "/content/drive/MyDrive/DATASETS/DiffusionForensics/intrinsic/imagenet/train/1_fake/14_shading_2104.png\n",
            "/content/drive/MyDrive/DATASETS/DiffusionForensics/intrinsic/imagenet/train/1_fake/14_origin_2104.png\n"
          ]
        },
        {
          "output_type": "stream",
          "name": "stderr",
          "text": [
            "\r  1%|          | 209/38104 [57:06<196:08:03, 18.63s/it]"
          ]
        },
        {
          "output_type": "stream",
          "name": "stdout",
          "text": [
            "/content/drive/MyDrive/DATASETS/DiffusionForensics/intrinsic/imagenet/train/1_fake/8_albedo_2105.png\n",
            "/content/drive/MyDrive/DATASETS/DiffusionForensics/intrinsic/imagenet/train/1_fake/8_shading_2105.png\n",
            "/content/drive/MyDrive/DATASETS/DiffusionForensics/intrinsic/imagenet/train/1_fake/8_origin_2105.png\n"
          ]
        },
        {
          "output_type": "stream",
          "name": "stderr",
          "text": [
            "\r  1%|          | 210/38104 [57:24<192:12:33, 18.26s/it]"
          ]
        },
        {
          "output_type": "stream",
          "name": "stdout",
          "text": [
            "/content/drive/MyDrive/DATASETS/DiffusionForensics/intrinsic/imagenet/train/1_fake/19_albedo_2106.png\n",
            "/content/drive/MyDrive/DATASETS/DiffusionForensics/intrinsic/imagenet/train/1_fake/19_shading_2106.png\n",
            "/content/drive/MyDrive/DATASETS/DiffusionForensics/intrinsic/imagenet/train/1_fake/19_origin_2106.png\n"
          ]
        },
        {
          "output_type": "stream",
          "name": "stderr",
          "text": [
            "\r  1%|          | 211/38104 [57:41<189:43:42, 18.03s/it]"
          ]
        },
        {
          "output_type": "stream",
          "name": "stdout",
          "text": [
            "/content/drive/MyDrive/DATASETS/DiffusionForensics/intrinsic/imagenet/train/1_fake/3_albedo_2107.png\n",
            "/content/drive/MyDrive/DATASETS/DiffusionForensics/intrinsic/imagenet/train/1_fake/3_shading_2107.png\n",
            "/content/drive/MyDrive/DATASETS/DiffusionForensics/intrinsic/imagenet/train/1_fake/3_origin_2107.png\n"
          ]
        },
        {
          "output_type": "stream",
          "name": "stderr",
          "text": [
            "\r  1%|          | 212/38104 [57:58<186:15:07, 17.70s/it]"
          ]
        },
        {
          "output_type": "stream",
          "name": "stdout",
          "text": [
            "/content/drive/MyDrive/DATASETS/DiffusionForensics/intrinsic/imagenet/train/1_fake/35_albedo_2108.png\n",
            "/content/drive/MyDrive/DATASETS/DiffusionForensics/intrinsic/imagenet/train/1_fake/35_shading_2108.png\n",
            "/content/drive/MyDrive/DATASETS/DiffusionForensics/intrinsic/imagenet/train/1_fake/35_origin_2108.png\n"
          ]
        },
        {
          "output_type": "stream",
          "name": "stderr",
          "text": [
            "\r  1%|          | 213/38104 [58:15<185:33:13, 17.63s/it]"
          ]
        },
        {
          "output_type": "stream",
          "name": "stdout",
          "text": [
            "/content/drive/MyDrive/DATASETS/DiffusionForensics/intrinsic/imagenet/train/1_fake/10_albedo_2109.png\n",
            "/content/drive/MyDrive/DATASETS/DiffusionForensics/intrinsic/imagenet/train/1_fake/10_shading_2109.png\n",
            "/content/drive/MyDrive/DATASETS/DiffusionForensics/intrinsic/imagenet/train/1_fake/10_origin_2109.png\n"
          ]
        },
        {
          "output_type": "stream",
          "name": "stderr",
          "text": [
            "\r  1%|          | 214/38104 [58:33<186:22:49, 17.71s/it]"
          ]
        },
        {
          "output_type": "stream",
          "name": "stdout",
          "text": [
            "/content/drive/MyDrive/DATASETS/DiffusionForensics/intrinsic/imagenet/train/1_fake/31_albedo_2110.png\n",
            "/content/drive/MyDrive/DATASETS/DiffusionForensics/intrinsic/imagenet/train/1_fake/31_shading_2110.png\n",
            "/content/drive/MyDrive/DATASETS/DiffusionForensics/intrinsic/imagenet/train/1_fake/31_origin_2110.png\n"
          ]
        },
        {
          "output_type": "stream",
          "name": "stderr",
          "text": [
            "\r  1%|          | 215/38104 [58:52<188:07:50, 17.88s/it]"
          ]
        },
        {
          "output_type": "stream",
          "name": "stdout",
          "text": [
            "/content/drive/MyDrive/DATASETS/DiffusionForensics/intrinsic/imagenet/train/1_fake/23_albedo_2111.png\n",
            "/content/drive/MyDrive/DATASETS/DiffusionForensics/intrinsic/imagenet/train/1_fake/23_shading_2111.png\n",
            "/content/drive/MyDrive/DATASETS/DiffusionForensics/intrinsic/imagenet/train/1_fake/23_origin_2111.png\n"
          ]
        },
        {
          "output_type": "stream",
          "name": "stderr",
          "text": [
            "\r  1%|          | 216/38104 [59:09<185:48:17, 17.65s/it]"
          ]
        },
        {
          "output_type": "stream",
          "name": "stdout",
          "text": [
            "/content/drive/MyDrive/DATASETS/DiffusionForensics/intrinsic/imagenet/train/1_fake/0_albedo_2112.png\n",
            "/content/drive/MyDrive/DATASETS/DiffusionForensics/intrinsic/imagenet/train/1_fake/0_shading_2112.png\n",
            "/content/drive/MyDrive/DATASETS/DiffusionForensics/intrinsic/imagenet/train/1_fake/0_origin_2112.png\n"
          ]
        },
        {
          "output_type": "stream",
          "name": "stderr",
          "text": [
            "\r  1%|          | 217/38104 [59:27<186:51:37, 17.76s/it]"
          ]
        },
        {
          "output_type": "stream",
          "name": "stdout",
          "text": [
            "/content/drive/MyDrive/DATASETS/DiffusionForensics/intrinsic/imagenet/train/1_fake/22_albedo_2113.png\n",
            "/content/drive/MyDrive/DATASETS/DiffusionForensics/intrinsic/imagenet/train/1_fake/22_shading_2113.png\n",
            "/content/drive/MyDrive/DATASETS/DiffusionForensics/intrinsic/imagenet/train/1_fake/22_origin_2113.png\n"
          ]
        },
        {
          "output_type": "stream",
          "name": "stderr",
          "text": [
            "\r  1%|          | 218/38104 [59:44<185:31:58, 17.63s/it]"
          ]
        },
        {
          "output_type": "stream",
          "name": "stdout",
          "text": [
            "/content/drive/MyDrive/DATASETS/DiffusionForensics/intrinsic/imagenet/train/1_fake/21_albedo_2114.png\n",
            "/content/drive/MyDrive/DATASETS/DiffusionForensics/intrinsic/imagenet/train/1_fake/21_shading_2114.png\n",
            "/content/drive/MyDrive/DATASETS/DiffusionForensics/intrinsic/imagenet/train/1_fake/21_origin_2114.png\n"
          ]
        },
        {
          "output_type": "stream",
          "name": "stderr",
          "text": [
            "\r  1%|          | 219/38104 [1:00:01<183:12:02, 17.41s/it]"
          ]
        },
        {
          "output_type": "stream",
          "name": "stdout",
          "text": [
            "/content/drive/MyDrive/DATASETS/DiffusionForensics/intrinsic/imagenet/train/1_fake/12_albedo_2115.png\n",
            "/content/drive/MyDrive/DATASETS/DiffusionForensics/intrinsic/imagenet/train/1_fake/12_shading_2115.png\n",
            "/content/drive/MyDrive/DATASETS/DiffusionForensics/intrinsic/imagenet/train/1_fake/12_origin_2115.png\n"
          ]
        },
        {
          "output_type": "stream",
          "name": "stderr",
          "text": [
            "\r  1%|          | 220/38104 [1:00:18<182:06:30, 17.31s/it]"
          ]
        },
        {
          "output_type": "stream",
          "name": "stdout",
          "text": [
            "/content/drive/MyDrive/DATASETS/DiffusionForensics/intrinsic/imagenet/train/1_fake/18_albedo_2116.png\n",
            "/content/drive/MyDrive/DATASETS/DiffusionForensics/intrinsic/imagenet/train/1_fake/18_shading_2116.png\n",
            "/content/drive/MyDrive/DATASETS/DiffusionForensics/intrinsic/imagenet/train/1_fake/18_origin_2116.png\n"
          ]
        },
        {
          "output_type": "stream",
          "name": "stderr",
          "text": [
            "\r  1%|          | 221/38104 [1:00:36<183:54:31, 17.48s/it]"
          ]
        },
        {
          "output_type": "stream",
          "name": "stdout",
          "text": [
            "/content/drive/MyDrive/DATASETS/DiffusionForensics/intrinsic/imagenet/train/1_fake/34_albedo_2117.png\n",
            "/content/drive/MyDrive/DATASETS/DiffusionForensics/intrinsic/imagenet/train/1_fake/34_shading_2117.png\n",
            "/content/drive/MyDrive/DATASETS/DiffusionForensics/intrinsic/imagenet/train/1_fake/34_origin_2117.png\n"
          ]
        },
        {
          "output_type": "stream",
          "name": "stderr",
          "text": [
            "\r  1%|          | 222/38104 [1:00:54<186:06:15, 17.69s/it]"
          ]
        },
        {
          "output_type": "stream",
          "name": "stdout",
          "text": [
            "/content/drive/MyDrive/DATASETS/DiffusionForensics/intrinsic/imagenet/train/1_fake/26_albedo_2118.png\n",
            "/content/drive/MyDrive/DATASETS/DiffusionForensics/intrinsic/imagenet/train/1_fake/26_shading_2118.png\n",
            "/content/drive/MyDrive/DATASETS/DiffusionForensics/intrinsic/imagenet/train/1_fake/26_origin_2118.png\n"
          ]
        },
        {
          "output_type": "stream",
          "name": "stderr",
          "text": [
            "\r  1%|          | 223/38104 [1:01:12<185:30:59, 17.63s/it]"
          ]
        },
        {
          "output_type": "stream",
          "name": "stdout",
          "text": [
            "/content/drive/MyDrive/DATASETS/DiffusionForensics/intrinsic/imagenet/train/1_fake/38_albedo_2119.png\n",
            "/content/drive/MyDrive/DATASETS/DiffusionForensics/intrinsic/imagenet/train/1_fake/38_shading_2119.png\n",
            "/content/drive/MyDrive/DATASETS/DiffusionForensics/intrinsic/imagenet/train/1_fake/38_origin_2119.png\n"
          ]
        },
        {
          "output_type": "stream",
          "name": "stderr",
          "text": [
            "\r  1%|          | 224/38104 [1:01:28<182:44:08, 17.37s/it]"
          ]
        },
        {
          "output_type": "stream",
          "name": "stdout",
          "text": [
            "/content/drive/MyDrive/DATASETS/DiffusionForensics/intrinsic/imagenet/train/1_fake/4_albedo_2120.png\n",
            "/content/drive/MyDrive/DATASETS/DiffusionForensics/intrinsic/imagenet/train/1_fake/4_shading_2120.png\n",
            "/content/drive/MyDrive/DATASETS/DiffusionForensics/intrinsic/imagenet/train/1_fake/4_origin_2120.png\n"
          ]
        },
        {
          "output_type": "stream",
          "name": "stderr",
          "text": [
            "\r  1%|          | 225/38104 [1:01:47<185:22:05, 17.62s/it]"
          ]
        },
        {
          "output_type": "stream",
          "name": "stdout",
          "text": [
            "/content/drive/MyDrive/DATASETS/DiffusionForensics/intrinsic/imagenet/train/1_fake/16_albedo_2121.png\n",
            "/content/drive/MyDrive/DATASETS/DiffusionForensics/intrinsic/imagenet/train/1_fake/16_shading_2121.png\n",
            "/content/drive/MyDrive/DATASETS/DiffusionForensics/intrinsic/imagenet/train/1_fake/16_origin_2121.png\n"
          ]
        },
        {
          "output_type": "stream",
          "name": "stderr",
          "text": [
            "\r  1%|          | 226/38104 [1:02:06<190:07:57, 18.07s/it]"
          ]
        },
        {
          "output_type": "stream",
          "name": "stdout",
          "text": [
            "/content/drive/MyDrive/DATASETS/DiffusionForensics/intrinsic/imagenet/train/1_fake/33_albedo_2122.png\n",
            "/content/drive/MyDrive/DATASETS/DiffusionForensics/intrinsic/imagenet/train/1_fake/33_shading_2122.png\n",
            "/content/drive/MyDrive/DATASETS/DiffusionForensics/intrinsic/imagenet/train/1_fake/33_origin_2122.png\n"
          ]
        },
        {
          "output_type": "stream",
          "name": "stderr",
          "text": [
            "\r  1%|          | 227/38104 [1:02:23<187:38:18, 17.83s/it]"
          ]
        },
        {
          "output_type": "stream",
          "name": "stdout",
          "text": [
            "/content/drive/MyDrive/DATASETS/DiffusionForensics/intrinsic/imagenet/train/1_fake/6_albedo_2123.png\n",
            "/content/drive/MyDrive/DATASETS/DiffusionForensics/intrinsic/imagenet/train/1_fake/6_shading_2123.png\n",
            "/content/drive/MyDrive/DATASETS/DiffusionForensics/intrinsic/imagenet/train/1_fake/6_origin_2123.png\n"
          ]
        },
        {
          "output_type": "stream",
          "name": "stderr",
          "text": [
            "\r  1%|          | 228/38104 [1:02:33<164:37:23, 15.65s/it]"
          ]
        },
        {
          "output_type": "stream",
          "name": "stdout",
          "text": [
            "/content/drive/MyDrive/DATASETS/DiffusionForensics/intrinsic/imagenet/train/1_fake/7_albedo_2124.png\n",
            "/content/drive/MyDrive/DATASETS/DiffusionForensics/intrinsic/imagenet/train/1_fake/7_shading_2124.png\n",
            "/content/drive/MyDrive/DATASETS/DiffusionForensics/intrinsic/imagenet/train/1_fake/7_origin_2124.png\n"
          ]
        },
        {
          "output_type": "stream",
          "name": "stderr",
          "text": [
            "\r  1%|          | 229/38104 [1:02:51<169:39:53, 16.13s/it]"
          ]
        },
        {
          "output_type": "stream",
          "name": "stdout",
          "text": [
            "/content/drive/MyDrive/DATASETS/DiffusionForensics/intrinsic/imagenet/train/1_fake/36_albedo_2125.png\n",
            "/content/drive/MyDrive/DATASETS/DiffusionForensics/intrinsic/imagenet/train/1_fake/36_shading_2125.png\n",
            "/content/drive/MyDrive/DATASETS/DiffusionForensics/intrinsic/imagenet/train/1_fake/36_origin_2125.png\n"
          ]
        },
        {
          "output_type": "stream",
          "name": "stderr",
          "text": [
            "\r  1%|          | 230/38104 [1:03:08<171:43:53, 16.32s/it]"
          ]
        },
        {
          "output_type": "stream",
          "name": "stdout",
          "text": [
            "/content/drive/MyDrive/DATASETS/DiffusionForensics/intrinsic/imagenet/train/1_fake/15_albedo_2126.png\n",
            "/content/drive/MyDrive/DATASETS/DiffusionForensics/intrinsic/imagenet/train/1_fake/15_shading_2126.png\n",
            "/content/drive/MyDrive/DATASETS/DiffusionForensics/intrinsic/imagenet/train/1_fake/15_origin_2126.png\n"
          ]
        },
        {
          "output_type": "stream",
          "name": "stderr",
          "text": [
            "\r  1%|          | 231/38104 [1:03:26<178:52:55, 17.00s/it]"
          ]
        },
        {
          "output_type": "stream",
          "name": "stdout",
          "text": [
            "/content/drive/MyDrive/DATASETS/DiffusionForensics/intrinsic/imagenet/train/1_fake/13_albedo_2127.png\n",
            "/content/drive/MyDrive/DATASETS/DiffusionForensics/intrinsic/imagenet/train/1_fake/13_shading_2127.png\n",
            "/content/drive/MyDrive/DATASETS/DiffusionForensics/intrinsic/imagenet/train/1_fake/13_origin_2127.png\n"
          ]
        },
        {
          "output_type": "stream",
          "name": "stderr",
          "text": [
            "\r  1%|          | 232/38104 [1:03:35<154:22:10, 14.67s/it]"
          ]
        },
        {
          "output_type": "stream",
          "name": "stdout",
          "text": [
            "/content/drive/MyDrive/DATASETS/DiffusionForensics/intrinsic/imagenet/train/1_fake/5_albedo_2128.png\n",
            "/content/drive/MyDrive/DATASETS/DiffusionForensics/intrinsic/imagenet/train/1_fake/5_shading_2128.png\n",
            "/content/drive/MyDrive/DATASETS/DiffusionForensics/intrinsic/imagenet/train/1_fake/5_origin_2128.png\n"
          ]
        },
        {
          "output_type": "stream",
          "name": "stderr",
          "text": [
            "\r  1%|          | 233/38104 [1:03:46<142:27:32, 13.54s/it]"
          ]
        },
        {
          "output_type": "stream",
          "name": "stdout",
          "text": [
            "/content/drive/MyDrive/DATASETS/DiffusionForensics/intrinsic/imagenet/train/1_fake/24_albedo_2129.png\n",
            "/content/drive/MyDrive/DATASETS/DiffusionForensics/intrinsic/imagenet/train/1_fake/24_shading_2129.png\n",
            "/content/drive/MyDrive/DATASETS/DiffusionForensics/intrinsic/imagenet/train/1_fake/24_origin_2129.png\n"
          ]
        },
        {
          "output_type": "stream",
          "name": "stderr",
          "text": [
            "\r  1%|          | 234/38104 [1:04:03<153:03:08, 14.55s/it]"
          ]
        },
        {
          "output_type": "stream",
          "name": "stdout",
          "text": [
            "/content/drive/MyDrive/DATASETS/DiffusionForensics/intrinsic/imagenet/train/1_fake/28_albedo_2130.png\n",
            "/content/drive/MyDrive/DATASETS/DiffusionForensics/intrinsic/imagenet/train/1_fake/28_shading_2130.png\n",
            "/content/drive/MyDrive/DATASETS/DiffusionForensics/intrinsic/imagenet/train/1_fake/28_origin_2130.png\n"
          ]
        },
        {
          "output_type": "stream",
          "name": "stderr",
          "text": [
            "\r  1%|          | 235/38104 [1:04:14<140:53:35, 13.39s/it]"
          ]
        },
        {
          "output_type": "stream",
          "name": "stdout",
          "text": [
            "/content/drive/MyDrive/DATASETS/DiffusionForensics/intrinsic/imagenet/train/1_fake/27_albedo_2131.png\n",
            "/content/drive/MyDrive/DATASETS/DiffusionForensics/intrinsic/imagenet/train/1_fake/27_shading_2131.png\n",
            "/content/drive/MyDrive/DATASETS/DiffusionForensics/intrinsic/imagenet/train/1_fake/27_origin_2131.png\n"
          ]
        },
        {
          "output_type": "stream",
          "name": "stderr",
          "text": [
            "\r  1%|          | 236/38104 [1:04:31<151:48:30, 14.43s/it]"
          ]
        },
        {
          "output_type": "stream",
          "name": "stdout",
          "text": [
            "/content/drive/MyDrive/DATASETS/DiffusionForensics/intrinsic/imagenet/train/1_fake/29_albedo_2132.png\n",
            "/content/drive/MyDrive/DATASETS/DiffusionForensics/intrinsic/imagenet/train/1_fake/29_shading_2132.png\n",
            "/content/drive/MyDrive/DATASETS/DiffusionForensics/intrinsic/imagenet/train/1_fake/29_origin_2132.png\n"
          ]
        },
        {
          "output_type": "stream",
          "name": "stderr",
          "text": [
            "\r  1%|          | 237/38104 [1:04:41<140:23:12, 13.35s/it]"
          ]
        },
        {
          "output_type": "stream",
          "name": "stdout",
          "text": [
            "/content/drive/MyDrive/DATASETS/DiffusionForensics/intrinsic/imagenet/train/1_fake/30_albedo_2133.png\n",
            "/content/drive/MyDrive/DATASETS/DiffusionForensics/intrinsic/imagenet/train/1_fake/30_shading_2133.png\n",
            "/content/drive/MyDrive/DATASETS/DiffusionForensics/intrinsic/imagenet/train/1_fake/30_origin_2133.png\n"
          ]
        },
        {
          "output_type": "stream",
          "name": "stderr",
          "text": [
            "\r  1%|          | 238/38104 [1:05:00<157:22:23, 14.96s/it]"
          ]
        },
        {
          "output_type": "stream",
          "name": "stdout",
          "text": [
            "/content/drive/MyDrive/DATASETS/DiffusionForensics/intrinsic/imagenet/train/1_fake/11_albedo_2134.png\n",
            "/content/drive/MyDrive/DATASETS/DiffusionForensics/intrinsic/imagenet/train/1_fake/11_shading_2134.png\n",
            "/content/drive/MyDrive/DATASETS/DiffusionForensics/intrinsic/imagenet/train/1_fake/11_origin_2134.png\n"
          ]
        },
        {
          "output_type": "stream",
          "name": "stderr",
          "text": [
            "\r  1%|          | 239/38104 [1:05:18<167:21:47, 15.91s/it]"
          ]
        },
        {
          "output_type": "stream",
          "name": "stdout",
          "text": [
            "/content/drive/MyDrive/DATASETS/DiffusionForensics/intrinsic/imagenet/train/1_fake/2_albedo_2135.png\n",
            "/content/drive/MyDrive/DATASETS/DiffusionForensics/intrinsic/imagenet/train/1_fake/2_shading_2135.png\n",
            "/content/drive/MyDrive/DATASETS/DiffusionForensics/intrinsic/imagenet/train/1_fake/2_origin_2135.png\n"
          ]
        },
        {
          "output_type": "stream",
          "name": "stderr",
          "text": [
            "\r  1%|          | 240/38104 [1:05:36<171:45:25, 16.33s/it]"
          ]
        },
        {
          "output_type": "stream",
          "name": "stdout",
          "text": [
            "/content/drive/MyDrive/DATASETS/DiffusionForensics/intrinsic/imagenet/train/1_fake/39_albedo_2136.png\n",
            "/content/drive/MyDrive/DATASETS/DiffusionForensics/intrinsic/imagenet/train/1_fake/39_shading_2136.png\n",
            "/content/drive/MyDrive/DATASETS/DiffusionForensics/intrinsic/imagenet/train/1_fake/39_origin_2136.png\n"
          ]
        },
        {
          "output_type": "stream",
          "name": "stderr",
          "text": [
            "\r  1%|          | 241/38104 [1:05:52<172:23:03, 16.39s/it]"
          ]
        },
        {
          "output_type": "stream",
          "name": "stdout",
          "text": [
            "/content/drive/MyDrive/DATASETS/DiffusionForensics/intrinsic/imagenet/train/1_fake/17_albedo_2137.png\n",
            "/content/drive/MyDrive/DATASETS/DiffusionForensics/intrinsic/imagenet/train/1_fake/17_shading_2137.png\n",
            "/content/drive/MyDrive/DATASETS/DiffusionForensics/intrinsic/imagenet/train/1_fake/17_origin_2137.png\n"
          ]
        },
        {
          "output_type": "stream",
          "name": "stderr",
          "text": [
            "\r  1%|          | 242/38104 [1:06:03<154:10:41, 14.66s/it]"
          ]
        },
        {
          "output_type": "stream",
          "name": "stdout",
          "text": [
            "/content/drive/MyDrive/DATASETS/DiffusionForensics/intrinsic/imagenet/train/1_fake/25_albedo_2138.png\n",
            "/content/drive/MyDrive/DATASETS/DiffusionForensics/intrinsic/imagenet/train/1_fake/25_shading_2138.png\n",
            "/content/drive/MyDrive/DATASETS/DiffusionForensics/intrinsic/imagenet/train/1_fake/25_origin_2138.png\n"
          ]
        },
        {
          "output_type": "stream",
          "name": "stderr",
          "text": [
            "\r  1%|          | 243/38104 [1:06:20<162:33:56, 15.46s/it]"
          ]
        },
        {
          "output_type": "stream",
          "name": "stdout",
          "text": [
            "/content/drive/MyDrive/DATASETS/DiffusionForensics/intrinsic/imagenet/train/1_fake/37_albedo_2139.png\n",
            "/content/drive/MyDrive/DATASETS/DiffusionForensics/intrinsic/imagenet/train/1_fake/37_shading_2139.png\n",
            "/content/drive/MyDrive/DATASETS/DiffusionForensics/intrinsic/imagenet/train/1_fake/37_origin_2139.png\n"
          ]
        },
        {
          "output_type": "stream",
          "name": "stderr",
          "text": [
            "\r  1%|          | 244/38104 [1:06:31<148:08:31, 14.09s/it]"
          ]
        },
        {
          "output_type": "stream",
          "name": "stdout",
          "text": [
            "/content/drive/MyDrive/DATASETS/DiffusionForensics/intrinsic/imagenet/train/1_fake/20_albedo_2140.png\n",
            "/content/drive/MyDrive/DATASETS/DiffusionForensics/intrinsic/imagenet/train/1_fake/20_shading_2140.png\n",
            "/content/drive/MyDrive/DATASETS/DiffusionForensics/intrinsic/imagenet/train/1_fake/20_origin_2140.png\n"
          ]
        },
        {
          "output_type": "stream",
          "name": "stderr",
          "text": [
            "\r  1%|          | 245/38104 [1:06:41<134:52:08, 12.82s/it]"
          ]
        },
        {
          "output_type": "stream",
          "name": "stdout",
          "text": [
            "/content/drive/MyDrive/DATASETS/DiffusionForensics/intrinsic/imagenet/train/1_fake/1_albedo_2141.png\n",
            "/content/drive/MyDrive/DATASETS/DiffusionForensics/intrinsic/imagenet/train/1_fake/1_shading_2141.png\n",
            "/content/drive/MyDrive/DATASETS/DiffusionForensics/intrinsic/imagenet/train/1_fake/1_origin_2141.png\n"
          ]
        },
        {
          "output_type": "stream",
          "name": "stderr",
          "text": [
            "\r  1%|          | 246/38104 [1:06:59<150:43:52, 14.33s/it]"
          ]
        },
        {
          "output_type": "stream",
          "name": "stdout",
          "text": [
            "/content/drive/MyDrive/DATASETS/DiffusionForensics/intrinsic/imagenet/train/1_fake/32_albedo_2142.png\n",
            "/content/drive/MyDrive/DATASETS/DiffusionForensics/intrinsic/imagenet/train/1_fake/32_shading_2142.png\n",
            "/content/drive/MyDrive/DATASETS/DiffusionForensics/intrinsic/imagenet/train/1_fake/32_origin_2142.png\n"
          ]
        },
        {
          "output_type": "stream",
          "name": "stderr",
          "text": [
            "\r  1%|          | 247/38104 [1:07:17<163:14:42, 15.52s/it]"
          ]
        },
        {
          "output_type": "stream",
          "name": "stdout",
          "text": [
            "/content/drive/MyDrive/DATASETS/DiffusionForensics/intrinsic/imagenet/train/1_fake/9_albedo_2143.png\n",
            "/content/drive/MyDrive/DATASETS/DiffusionForensics/intrinsic/imagenet/train/1_fake/9_shading_2143.png\n",
            "/content/drive/MyDrive/DATASETS/DiffusionForensics/intrinsic/imagenet/train/1_fake/9_origin_2143.png\n"
          ]
        },
        {
          "output_type": "stream",
          "name": "stderr",
          "text": [
            "\r  1%|          | 248/38104 [1:07:36<174:48:00, 16.62s/it]"
          ]
        },
        {
          "output_type": "stream",
          "name": "stdout",
          "text": [
            "/content/drive/MyDrive/DATASETS/DiffusionForensics/intrinsic/imagenet/train/1_fake/14_albedo_2144.png\n",
            "/content/drive/MyDrive/DATASETS/DiffusionForensics/intrinsic/imagenet/train/1_fake/14_shading_2144.png\n",
            "/content/drive/MyDrive/DATASETS/DiffusionForensics/intrinsic/imagenet/train/1_fake/14_origin_2144.png\n"
          ]
        },
        {
          "output_type": "stream",
          "name": "stderr",
          "text": [
            "\r  1%|          | 249/38104 [1:07:47<156:11:42, 14.85s/it]"
          ]
        },
        {
          "output_type": "stream",
          "name": "stdout",
          "text": [
            "/content/drive/MyDrive/DATASETS/DiffusionForensics/intrinsic/imagenet/train/1_fake/8_albedo_2145.png\n",
            "/content/drive/MyDrive/DATASETS/DiffusionForensics/intrinsic/imagenet/train/1_fake/8_shading_2145.png\n",
            "/content/drive/MyDrive/DATASETS/DiffusionForensics/intrinsic/imagenet/train/1_fake/8_origin_2145.png\n"
          ]
        },
        {
          "output_type": "stream",
          "name": "stderr",
          "text": [
            "\r  1%|          | 250/38104 [1:07:59<148:12:07, 14.09s/it]"
          ]
        },
        {
          "output_type": "stream",
          "name": "stdout",
          "text": [
            "/content/drive/MyDrive/DATASETS/DiffusionForensics/intrinsic/imagenet/train/1_fake/19_albedo_2146.png\n",
            "/content/drive/MyDrive/DATASETS/DiffusionForensics/intrinsic/imagenet/train/1_fake/19_shading_2146.png\n",
            "/content/drive/MyDrive/DATASETS/DiffusionForensics/intrinsic/imagenet/train/1_fake/19_origin_2146.png\n"
          ]
        },
        {
          "output_type": "stream",
          "name": "stderr",
          "text": [
            "\r  1%|          | 251/38104 [1:08:09<132:56:51, 12.64s/it]"
          ]
        },
        {
          "output_type": "stream",
          "name": "stdout",
          "text": [
            "/content/drive/MyDrive/DATASETS/DiffusionForensics/intrinsic/imagenet/train/1_fake/3_albedo_2147.png\n",
            "/content/drive/MyDrive/DATASETS/DiffusionForensics/intrinsic/imagenet/train/1_fake/3_shading_2147.png\n",
            "/content/drive/MyDrive/DATASETS/DiffusionForensics/intrinsic/imagenet/train/1_fake/3_origin_2147.png\n"
          ]
        },
        {
          "output_type": "stream",
          "name": "stderr",
          "text": [
            "\r  1%|          | 252/38104 [1:08:27<151:26:40, 14.40s/it]"
          ]
        },
        {
          "output_type": "stream",
          "name": "stdout",
          "text": [
            "/content/drive/MyDrive/DATASETS/DiffusionForensics/intrinsic/imagenet/train/1_fake/35_albedo_2148.png\n",
            "/content/drive/MyDrive/DATASETS/DiffusionForensics/intrinsic/imagenet/train/1_fake/35_shading_2148.png\n",
            "/content/drive/MyDrive/DATASETS/DiffusionForensics/intrinsic/imagenet/train/1_fake/35_origin_2148.png\n"
          ]
        },
        {
          "output_type": "stream",
          "name": "stderr",
          "text": [
            "\r  1%|          | 253/38104 [1:08:44<159:34:26, 15.18s/it]"
          ]
        },
        {
          "output_type": "stream",
          "name": "stdout",
          "text": [
            "/content/drive/MyDrive/DATASETS/DiffusionForensics/intrinsic/imagenet/train/1_fake/10_albedo_2149.png\n",
            "/content/drive/MyDrive/DATASETS/DiffusionForensics/intrinsic/imagenet/train/1_fake/10_shading_2149.png\n",
            "/content/drive/MyDrive/DATASETS/DiffusionForensics/intrinsic/imagenet/train/1_fake/10_origin_2149.png\n"
          ]
        },
        {
          "output_type": "stream",
          "name": "stderr",
          "text": [
            "\r  1%|          | 254/38104 [1:09:01<165:49:51, 15.77s/it]"
          ]
        },
        {
          "output_type": "stream",
          "name": "stdout",
          "text": [
            "/content/drive/MyDrive/DATASETS/DiffusionForensics/intrinsic/imagenet/train/1_fake/31_albedo_2150.png\n",
            "/content/drive/MyDrive/DATASETS/DiffusionForensics/intrinsic/imagenet/train/1_fake/31_shading_2150.png\n",
            "/content/drive/MyDrive/DATASETS/DiffusionForensics/intrinsic/imagenet/train/1_fake/31_origin_2150.png\n"
          ]
        },
        {
          "output_type": "stream",
          "name": "stderr",
          "text": [
            "\r  1%|          | 255/38104 [1:09:12<149:26:02, 14.21s/it]"
          ]
        },
        {
          "output_type": "stream",
          "name": "stdout",
          "text": [
            "/content/drive/MyDrive/DATASETS/DiffusionForensics/intrinsic/imagenet/train/1_fake/23_albedo_2151.png\n",
            "/content/drive/MyDrive/DATASETS/DiffusionForensics/intrinsic/imagenet/train/1_fake/23_shading_2151.png\n",
            "/content/drive/MyDrive/DATASETS/DiffusionForensics/intrinsic/imagenet/train/1_fake/23_origin_2151.png\n"
          ]
        },
        {
          "output_type": "stream",
          "name": "stderr",
          "text": [
            "\r  1%|          | 256/38104 [1:09:29<157:56:31, 15.02s/it]"
          ]
        },
        {
          "output_type": "stream",
          "name": "stdout",
          "text": [
            "/content/drive/MyDrive/DATASETS/DiffusionForensics/intrinsic/imagenet/train/1_fake/0_albedo_2152.png\n",
            "/content/drive/MyDrive/DATASETS/DiffusionForensics/intrinsic/imagenet/train/1_fake/0_shading_2152.png\n",
            "/content/drive/MyDrive/DATASETS/DiffusionForensics/intrinsic/imagenet/train/1_fake/0_origin_2152.png\n"
          ]
        },
        {
          "output_type": "stream",
          "name": "stderr",
          "text": [
            "\r  1%|          | 257/38104 [1:09:46<164:02:25, 15.60s/it]"
          ]
        },
        {
          "output_type": "stream",
          "name": "stdout",
          "text": [
            "/content/drive/MyDrive/DATASETS/DiffusionForensics/intrinsic/imagenet/train/1_fake/22_albedo_2153.png\n",
            "/content/drive/MyDrive/DATASETS/DiffusionForensics/intrinsic/imagenet/train/1_fake/22_shading_2153.png\n",
            "/content/drive/MyDrive/DATASETS/DiffusionForensics/intrinsic/imagenet/train/1_fake/22_origin_2153.png\n"
          ]
        },
        {
          "output_type": "stream",
          "name": "stderr",
          "text": [
            "\r  1%|          | 258/38104 [1:09:56<148:19:18, 14.11s/it]"
          ]
        },
        {
          "output_type": "stream",
          "name": "stdout",
          "text": [
            "/content/drive/MyDrive/DATASETS/DiffusionForensics/intrinsic/imagenet/train/1_fake/21_albedo_2154.png\n",
            "/content/drive/MyDrive/DATASETS/DiffusionForensics/intrinsic/imagenet/train/1_fake/21_shading_2154.png\n",
            "/content/drive/MyDrive/DATASETS/DiffusionForensics/intrinsic/imagenet/train/1_fake/21_origin_2154.png\n"
          ]
        },
        {
          "output_type": "stream",
          "name": "stderr",
          "text": [
            "\r  1%|          | 259/38104 [1:10:08<139:15:38, 13.25s/it]"
          ]
        },
        {
          "output_type": "stream",
          "name": "stdout",
          "text": [
            "/content/drive/MyDrive/DATASETS/DiffusionForensics/intrinsic/imagenet/train/1_fake/12_albedo_2155.png\n",
            "/content/drive/MyDrive/DATASETS/DiffusionForensics/intrinsic/imagenet/train/1_fake/12_shading_2155.png\n",
            "/content/drive/MyDrive/DATASETS/DiffusionForensics/intrinsic/imagenet/train/1_fake/12_origin_2155.png\n"
          ]
        },
        {
          "output_type": "stream",
          "name": "stderr",
          "text": [
            "\r  1%|          | 260/38104 [1:10:24<150:44:18, 14.34s/it]"
          ]
        },
        {
          "output_type": "stream",
          "name": "stdout",
          "text": [
            "/content/drive/MyDrive/DATASETS/DiffusionForensics/intrinsic/imagenet/train/1_fake/18_albedo_2156.png\n",
            "/content/drive/MyDrive/DATASETS/DiffusionForensics/intrinsic/imagenet/train/1_fake/18_shading_2156.png\n",
            "/content/drive/MyDrive/DATASETS/DiffusionForensics/intrinsic/imagenet/train/1_fake/18_origin_2156.png\n"
          ]
        },
        {
          "output_type": "stream",
          "name": "stderr",
          "text": [
            "\r  1%|          | 261/38104 [1:10:41<158:09:13, 15.05s/it]"
          ]
        },
        {
          "output_type": "stream",
          "name": "stdout",
          "text": [
            "/content/drive/MyDrive/DATASETS/DiffusionForensics/intrinsic/imagenet/train/1_fake/34_albedo_2157.png\n",
            "/content/drive/MyDrive/DATASETS/DiffusionForensics/intrinsic/imagenet/train/1_fake/34_shading_2157.png\n",
            "/content/drive/MyDrive/DATASETS/DiffusionForensics/intrinsic/imagenet/train/1_fake/34_origin_2157.png\n"
          ]
        },
        {
          "output_type": "stream",
          "name": "stderr",
          "text": [
            "\r  1%|          | 262/38104 [1:11:01<174:44:57, 16.62s/it]"
          ]
        },
        {
          "output_type": "stream",
          "name": "stdout",
          "text": [
            "/content/drive/MyDrive/DATASETS/DiffusionForensics/intrinsic/imagenet/train/1_fake/26_albedo_2158.png\n",
            "/content/drive/MyDrive/DATASETS/DiffusionForensics/intrinsic/imagenet/train/1_fake/26_shading_2158.png\n",
            "/content/drive/MyDrive/DATASETS/DiffusionForensics/intrinsic/imagenet/train/1_fake/26_origin_2158.png\n"
          ]
        },
        {
          "output_type": "stream",
          "name": "stderr",
          "text": [
            "\r  1%|          | 263/38104 [1:11:11<151:33:00, 14.42s/it]"
          ]
        },
        {
          "output_type": "stream",
          "name": "stdout",
          "text": [
            "/content/drive/MyDrive/DATASETS/DiffusionForensics/intrinsic/imagenet/train/1_fake/38_albedo_2159.png\n",
            "/content/drive/MyDrive/DATASETS/DiffusionForensics/intrinsic/imagenet/train/1_fake/38_shading_2159.png\n",
            "/content/drive/MyDrive/DATASETS/DiffusionForensics/intrinsic/imagenet/train/1_fake/38_origin_2159.png\n"
          ]
        },
        {
          "output_type": "stream",
          "name": "stderr",
          "text": [
            "\r  1%|          | 264/38104 [1:11:21<140:05:45, 13.33s/it]"
          ]
        },
        {
          "output_type": "stream",
          "name": "stdout",
          "text": [
            "/content/drive/MyDrive/DATASETS/DiffusionForensics/intrinsic/imagenet/train/1_fake/4_albedo_2160.png\n",
            "/content/drive/MyDrive/DATASETS/DiffusionForensics/intrinsic/imagenet/train/1_fake/4_shading_2160.png\n",
            "/content/drive/MyDrive/DATASETS/DiffusionForensics/intrinsic/imagenet/train/1_fake/4_origin_2160.png\n"
          ]
        },
        {
          "output_type": "stream",
          "name": "stderr",
          "text": [
            "\r  1%|          | 265/38104 [1:11:32<132:09:27, 12.57s/it]"
          ]
        },
        {
          "output_type": "stream",
          "name": "stdout",
          "text": [
            "/content/drive/MyDrive/DATASETS/DiffusionForensics/intrinsic/imagenet/train/1_fake/16_albedo_2161.png\n",
            "/content/drive/MyDrive/DATASETS/DiffusionForensics/intrinsic/imagenet/train/1_fake/16_shading_2161.png\n",
            "/content/drive/MyDrive/DATASETS/DiffusionForensics/intrinsic/imagenet/train/1_fake/16_origin_2161.png\n"
          ]
        },
        {
          "output_type": "stream",
          "name": "stderr",
          "text": [
            "\r  1%|          | 266/38104 [1:11:42<124:35:49, 11.85s/it]"
          ]
        },
        {
          "output_type": "stream",
          "name": "stdout",
          "text": [
            "/content/drive/MyDrive/DATASETS/DiffusionForensics/intrinsic/imagenet/train/1_fake/33_albedo_2162.png\n",
            "/content/drive/MyDrive/DATASETS/DiffusionForensics/intrinsic/imagenet/train/1_fake/33_shading_2162.png\n",
            "/content/drive/MyDrive/DATASETS/DiffusionForensics/intrinsic/imagenet/train/1_fake/33_origin_2162.png\n"
          ]
        },
        {
          "output_type": "stream",
          "name": "stderr",
          "text": [
            "\r  1%|          | 267/38104 [1:12:00<141:19:24, 13.45s/it]"
          ]
        },
        {
          "output_type": "stream",
          "name": "stdout",
          "text": [
            "/content/drive/MyDrive/DATASETS/DiffusionForensics/intrinsic/imagenet/train/1_fake/6_albedo_2163.png\n",
            "/content/drive/MyDrive/DATASETS/DiffusionForensics/intrinsic/imagenet/train/1_fake/6_shading_2163.png\n",
            "/content/drive/MyDrive/DATASETS/DiffusionForensics/intrinsic/imagenet/train/1_fake/6_origin_2163.png\n"
          ]
        },
        {
          "output_type": "stream",
          "name": "stderr",
          "text": [
            "\r  1%|          | 268/38104 [1:12:17<152:24:29, 14.50s/it]"
          ]
        },
        {
          "output_type": "stream",
          "name": "stdout",
          "text": [
            "/content/drive/MyDrive/DATASETS/DiffusionForensics/intrinsic/imagenet/train/1_fake/7_albedo_2164.png\n",
            "/content/drive/MyDrive/DATASETS/DiffusionForensics/intrinsic/imagenet/train/1_fake/7_shading_2164.png\n",
            "/content/drive/MyDrive/DATASETS/DiffusionForensics/intrinsic/imagenet/train/1_fake/7_origin_2164.png\n"
          ]
        },
        {
          "output_type": "stream",
          "name": "stderr",
          "text": [
            "\r  1%|          | 269/38104 [1:12:34<160:05:39, 15.23s/it]"
          ]
        },
        {
          "output_type": "stream",
          "name": "stdout",
          "text": [
            "/content/drive/MyDrive/DATASETS/DiffusionForensics/intrinsic/imagenet/train/1_fake/36_albedo_2165.png\n",
            "/content/drive/MyDrive/DATASETS/DiffusionForensics/intrinsic/imagenet/train/1_fake/36_shading_2165.png\n",
            "/content/drive/MyDrive/DATASETS/DiffusionForensics/intrinsic/imagenet/train/1_fake/36_origin_2165.png\n"
          ]
        },
        {
          "output_type": "stream",
          "name": "stderr",
          "text": [
            "\r  1%|          | 270/38104 [1:12:51<167:44:56, 15.96s/it]"
          ]
        },
        {
          "output_type": "stream",
          "name": "stdout",
          "text": [
            "/content/drive/MyDrive/DATASETS/DiffusionForensics/intrinsic/imagenet/train/1_fake/15_albedo_2166.png\n",
            "/content/drive/MyDrive/DATASETS/DiffusionForensics/intrinsic/imagenet/train/1_fake/15_shading_2166.png\n",
            "/content/drive/MyDrive/DATASETS/DiffusionForensics/intrinsic/imagenet/train/1_fake/15_origin_2166.png\n"
          ]
        },
        {
          "output_type": "stream",
          "name": "stderr",
          "text": [
            "\r  1%|          | 271/38104 [1:13:01<148:54:52, 14.17s/it]"
          ]
        },
        {
          "output_type": "stream",
          "name": "stdout",
          "text": [
            "/content/drive/MyDrive/DATASETS/DiffusionForensics/intrinsic/imagenet/train/1_fake/13_albedo_2167.png\n",
            "/content/drive/MyDrive/DATASETS/DiffusionForensics/intrinsic/imagenet/train/1_fake/13_shading_2167.png\n",
            "/content/drive/MyDrive/DATASETS/DiffusionForensics/intrinsic/imagenet/train/1_fake/13_origin_2167.png\n"
          ]
        },
        {
          "output_type": "stream",
          "name": "stderr",
          "text": [
            "\r  1%|          | 272/38104 [1:13:18<158:25:24, 15.08s/it]"
          ]
        },
        {
          "output_type": "stream",
          "name": "stdout",
          "text": [
            "/content/drive/MyDrive/DATASETS/DiffusionForensics/intrinsic/imagenet/train/1_fake/5_albedo_2168.png\n",
            "/content/drive/MyDrive/DATASETS/DiffusionForensics/intrinsic/imagenet/train/1_fake/5_shading_2168.png\n",
            "/content/drive/MyDrive/DATASETS/DiffusionForensics/intrinsic/imagenet/train/1_fake/5_origin_2168.png\n"
          ]
        },
        {
          "output_type": "stream",
          "name": "stderr",
          "text": [
            "\r  1%|          | 273/38104 [1:13:36<167:27:35, 15.94s/it]"
          ]
        },
        {
          "output_type": "stream",
          "name": "stdout",
          "text": [
            "/content/drive/MyDrive/DATASETS/DiffusionForensics/intrinsic/imagenet/train/1_fake/24_albedo_2169.png\n",
            "/content/drive/MyDrive/DATASETS/DiffusionForensics/intrinsic/imagenet/train/1_fake/24_shading_2169.png\n",
            "/content/drive/MyDrive/DATASETS/DiffusionForensics/intrinsic/imagenet/train/1_fake/24_origin_2169.png\n"
          ]
        },
        {
          "output_type": "stream",
          "name": "stderr",
          "text": [
            "\r  1%|          | 274/38104 [1:13:53<170:35:12, 16.23s/it]"
          ]
        },
        {
          "output_type": "stream",
          "name": "stdout",
          "text": [
            "/content/drive/MyDrive/DATASETS/DiffusionForensics/intrinsic/imagenet/train/1_fake/28_albedo_2170.png\n",
            "/content/drive/MyDrive/DATASETS/DiffusionForensics/intrinsic/imagenet/train/1_fake/28_shading_2170.png\n",
            "/content/drive/MyDrive/DATASETS/DiffusionForensics/intrinsic/imagenet/train/1_fake/28_origin_2170.png\n"
          ]
        },
        {
          "output_type": "stream",
          "name": "stderr",
          "text": [
            "\r  1%|          | 275/38104 [1:14:12<177:10:24, 16.86s/it]"
          ]
        },
        {
          "output_type": "stream",
          "name": "stdout",
          "text": [
            "/content/drive/MyDrive/DATASETS/DiffusionForensics/intrinsic/imagenet/train/1_fake/27_albedo_2171.png\n",
            "/content/drive/MyDrive/DATASETS/DiffusionForensics/intrinsic/imagenet/train/1_fake/27_shading_2171.png\n",
            "/content/drive/MyDrive/DATASETS/DiffusionForensics/intrinsic/imagenet/train/1_fake/27_origin_2171.png\n"
          ]
        },
        {
          "output_type": "stream",
          "name": "stderr",
          "text": [
            "\r  1%|          | 276/38104 [1:14:29<179:43:16, 17.10s/it]"
          ]
        },
        {
          "output_type": "stream",
          "name": "stdout",
          "text": [
            "/content/drive/MyDrive/DATASETS/DiffusionForensics/intrinsic/imagenet/train/1_fake/29_albedo_2172.png\n",
            "/content/drive/MyDrive/DATASETS/DiffusionForensics/intrinsic/imagenet/train/1_fake/29_shading_2172.png\n",
            "/content/drive/MyDrive/DATASETS/DiffusionForensics/intrinsic/imagenet/train/1_fake/29_origin_2172.png\n"
          ]
        },
        {
          "output_type": "stream",
          "name": "stderr",
          "text": [
            "\r  1%|          | 277/38104 [1:14:47<180:45:08, 17.20s/it]"
          ]
        },
        {
          "output_type": "stream",
          "name": "stdout",
          "text": [
            "/content/drive/MyDrive/DATASETS/DiffusionForensics/intrinsic/imagenet/train/1_fake/30_albedo_2173.png\n",
            "/content/drive/MyDrive/DATASETS/DiffusionForensics/intrinsic/imagenet/train/1_fake/30_shading_2173.png\n",
            "/content/drive/MyDrive/DATASETS/DiffusionForensics/intrinsic/imagenet/train/1_fake/30_origin_2173.png\n"
          ]
        },
        {
          "output_type": "stream",
          "name": "stderr",
          "text": [
            "\r  1%|          | 278/38104 [1:15:04<180:31:00, 17.18s/it]"
          ]
        },
        {
          "output_type": "stream",
          "name": "stdout",
          "text": [
            "/content/drive/MyDrive/DATASETS/DiffusionForensics/intrinsic/imagenet/train/1_fake/11_albedo_2174.png\n",
            "/content/drive/MyDrive/DATASETS/DiffusionForensics/intrinsic/imagenet/train/1_fake/11_shading_2174.png\n",
            "/content/drive/MyDrive/DATASETS/DiffusionForensics/intrinsic/imagenet/train/1_fake/11_origin_2174.png\n"
          ]
        },
        {
          "output_type": "stream",
          "name": "stderr",
          "text": [
            "\r  1%|          | 279/38104 [1:15:21<180:09:46, 17.15s/it]"
          ]
        },
        {
          "output_type": "stream",
          "name": "stdout",
          "text": [
            "/content/drive/MyDrive/DATASETS/DiffusionForensics/intrinsic/imagenet/train/1_fake/2_albedo_2175.png\n",
            "/content/drive/MyDrive/DATASETS/DiffusionForensics/intrinsic/imagenet/train/1_fake/2_shading_2175.png\n",
            "/content/drive/MyDrive/DATASETS/DiffusionForensics/intrinsic/imagenet/train/1_fake/2_origin_2175.png\n"
          ]
        },
        {
          "output_type": "stream",
          "name": "stderr",
          "text": [
            "\r  1%|          | 280/38104 [1:15:31<159:30:45, 15.18s/it]"
          ]
        },
        {
          "output_type": "stream",
          "name": "stdout",
          "text": [
            "/content/drive/MyDrive/DATASETS/DiffusionForensics/intrinsic/imagenet/train/1_fake/39_albedo_2176.png\n",
            "/content/drive/MyDrive/DATASETS/DiffusionForensics/intrinsic/imagenet/train/1_fake/39_shading_2176.png\n",
            "/content/drive/MyDrive/DATASETS/DiffusionForensics/intrinsic/imagenet/train/1_fake/39_origin_2176.png\n"
          ]
        },
        {
          "output_type": "stream",
          "name": "stderr",
          "text": [
            "\r  1%|          | 281/38104 [1:15:48<165:00:22, 15.71s/it]"
          ]
        },
        {
          "output_type": "stream",
          "name": "stdout",
          "text": [
            "/content/drive/MyDrive/DATASETS/DiffusionForensics/intrinsic/imagenet/train/1_fake/17_albedo_2177.png\n",
            "/content/drive/MyDrive/DATASETS/DiffusionForensics/intrinsic/imagenet/train/1_fake/17_shading_2177.png\n",
            "/content/drive/MyDrive/DATASETS/DiffusionForensics/intrinsic/imagenet/train/1_fake/17_origin_2177.png\n"
          ]
        },
        {
          "output_type": "stream",
          "name": "stderr",
          "text": [
            "\r  1%|          | 282/38104 [1:16:05<169:24:44, 16.13s/it]"
          ]
        },
        {
          "output_type": "stream",
          "name": "stdout",
          "text": [
            "/content/drive/MyDrive/DATASETS/DiffusionForensics/intrinsic/imagenet/train/1_fake/25_albedo_2178.png\n",
            "/content/drive/MyDrive/DATASETS/DiffusionForensics/intrinsic/imagenet/train/1_fake/25_shading_2178.png\n",
            "/content/drive/MyDrive/DATASETS/DiffusionForensics/intrinsic/imagenet/train/1_fake/25_origin_2178.png\n"
          ]
        },
        {
          "output_type": "stream",
          "name": "stderr",
          "text": [
            "\r  1%|          | 283/38104 [1:16:24<176:24:07, 16.79s/it]"
          ]
        },
        {
          "output_type": "stream",
          "name": "stdout",
          "text": [
            "/content/drive/MyDrive/DATASETS/DiffusionForensics/intrinsic/imagenet/train/1_fake/37_albedo_2179.png\n",
            "/content/drive/MyDrive/DATASETS/DiffusionForensics/intrinsic/imagenet/train/1_fake/37_shading_2179.png\n",
            "/content/drive/MyDrive/DATASETS/DiffusionForensics/intrinsic/imagenet/train/1_fake/37_origin_2179.png\n"
          ]
        },
        {
          "output_type": "stream",
          "name": "stderr",
          "text": [
            "\r  1%|          | 284/38104 [1:16:41<176:58:05, 16.85s/it]"
          ]
        },
        {
          "output_type": "stream",
          "name": "stdout",
          "text": [
            "/content/drive/MyDrive/DATASETS/DiffusionForensics/intrinsic/imagenet/train/1_fake/20_albedo_2180.png\n",
            "/content/drive/MyDrive/DATASETS/DiffusionForensics/intrinsic/imagenet/train/1_fake/20_shading_2180.png\n",
            "/content/drive/MyDrive/DATASETS/DiffusionForensics/intrinsic/imagenet/train/1_fake/20_origin_2180.png\n"
          ]
        },
        {
          "output_type": "stream",
          "name": "stderr",
          "text": [
            "\r  1%|          | 285/38104 [1:16:51<155:53:42, 14.84s/it]"
          ]
        },
        {
          "output_type": "stream",
          "name": "stdout",
          "text": [
            "/content/drive/MyDrive/DATASETS/DiffusionForensics/intrinsic/imagenet/train/1_fake/1_albedo_2181.png\n",
            "/content/drive/MyDrive/DATASETS/DiffusionForensics/intrinsic/imagenet/train/1_fake/1_shading_2181.png\n",
            "/content/drive/MyDrive/DATASETS/DiffusionForensics/intrinsic/imagenet/train/1_fake/1_origin_2181.png\n"
          ]
        },
        {
          "output_type": "stream",
          "name": "stderr",
          "text": [
            "\r  1%|          | 286/38104 [1:17:10<168:35:57, 16.05s/it]"
          ]
        },
        {
          "output_type": "stream",
          "name": "stdout",
          "text": [
            "/content/drive/MyDrive/DATASETS/DiffusionForensics/intrinsic/imagenet/train/1_fake/32_albedo_2182.png\n",
            "/content/drive/MyDrive/DATASETS/DiffusionForensics/intrinsic/imagenet/train/1_fake/32_shading_2182.png\n",
            "/content/drive/MyDrive/DATASETS/DiffusionForensics/intrinsic/imagenet/train/1_fake/32_origin_2182.png\n"
          ]
        },
        {
          "output_type": "stream",
          "name": "stderr",
          "text": [
            "\r  1%|          | 287/38104 [1:17:20<150:54:39, 14.37s/it]"
          ]
        },
        {
          "output_type": "stream",
          "name": "stdout",
          "text": [
            "/content/drive/MyDrive/DATASETS/DiffusionForensics/intrinsic/imagenet/train/1_fake/9_albedo_2183.png\n",
            "/content/drive/MyDrive/DATASETS/DiffusionForensics/intrinsic/imagenet/train/1_fake/9_shading_2183.png\n",
            "/content/drive/MyDrive/DATASETS/DiffusionForensics/intrinsic/imagenet/train/1_fake/9_origin_2183.png\n"
          ]
        },
        {
          "output_type": "stream",
          "name": "stderr",
          "text": [
            "\r  1%|          | 288/38104 [1:17:29<134:02:52, 12.76s/it]"
          ]
        },
        {
          "output_type": "stream",
          "name": "stdout",
          "text": [
            "/content/drive/MyDrive/DATASETS/DiffusionForensics/intrinsic/imagenet/train/1_fake/14_albedo_2184.png\n",
            "/content/drive/MyDrive/DATASETS/DiffusionForensics/intrinsic/imagenet/train/1_fake/14_shading_2184.png\n",
            "/content/drive/MyDrive/DATASETS/DiffusionForensics/intrinsic/imagenet/train/1_fake/14_origin_2184.png\n"
          ]
        },
        {
          "output_type": "stream",
          "name": "stderr",
          "text": [
            "\r  1%|          | 289/38104 [1:17:40<127:31:52, 12.14s/it]"
          ]
        },
        {
          "output_type": "stream",
          "name": "stdout",
          "text": [
            "/content/drive/MyDrive/DATASETS/DiffusionForensics/intrinsic/imagenet/train/1_fake/8_albedo_2185.png\n",
            "/content/drive/MyDrive/DATASETS/DiffusionForensics/intrinsic/imagenet/train/1_fake/8_shading_2185.png\n",
            "/content/drive/MyDrive/DATASETS/DiffusionForensics/intrinsic/imagenet/train/1_fake/8_origin_2185.png\n"
          ]
        },
        {
          "output_type": "stream",
          "name": "stderr",
          "text": [
            "\r  1%|          | 290/38104 [1:17:50<122:25:30, 11.66s/it]"
          ]
        },
        {
          "output_type": "stream",
          "name": "stdout",
          "text": [
            "/content/drive/MyDrive/DATASETS/DiffusionForensics/intrinsic/imagenet/train/1_fake/19_albedo_2186.png\n",
            "/content/drive/MyDrive/DATASETS/DiffusionForensics/intrinsic/imagenet/train/1_fake/19_shading_2186.png\n",
            "/content/drive/MyDrive/DATASETS/DiffusionForensics/intrinsic/imagenet/train/1_fake/19_origin_2186.png\n"
          ]
        },
        {
          "output_type": "stream",
          "name": "stderr",
          "text": [
            "\r  1%|          | 291/38104 [1:18:01<117:33:20, 11.19s/it]"
          ]
        },
        {
          "output_type": "stream",
          "name": "stdout",
          "text": [
            "/content/drive/MyDrive/DATASETS/DiffusionForensics/intrinsic/imagenet/train/1_fake/3_albedo_2187.png\n",
            "/content/drive/MyDrive/DATASETS/DiffusionForensics/intrinsic/imagenet/train/1_fake/3_shading_2187.png\n",
            "/content/drive/MyDrive/DATASETS/DiffusionForensics/intrinsic/imagenet/train/1_fake/3_origin_2187.png\n"
          ]
        },
        {
          "output_type": "stream",
          "name": "stderr",
          "text": [
            "\r  1%|          | 292/38104 [1:18:18<136:59:10, 13.04s/it]"
          ]
        },
        {
          "output_type": "stream",
          "name": "stdout",
          "text": [
            "/content/drive/MyDrive/DATASETS/DiffusionForensics/intrinsic/imagenet/train/1_fake/35_albedo_2188.png\n",
            "/content/drive/MyDrive/DATASETS/DiffusionForensics/intrinsic/imagenet/train/1_fake/35_shading_2188.png\n",
            "/content/drive/MyDrive/DATASETS/DiffusionForensics/intrinsic/imagenet/train/1_fake/35_origin_2188.png\n"
          ]
        },
        {
          "output_type": "stream",
          "name": "stderr",
          "text": [
            "\r  1%|          | 293/38104 [1:18:35<148:46:00, 14.16s/it]"
          ]
        },
        {
          "output_type": "stream",
          "name": "stdout",
          "text": [
            "/content/drive/MyDrive/DATASETS/DiffusionForensics/intrinsic/imagenet/train/1_fake/10_albedo_2189.png\n",
            "/content/drive/MyDrive/DATASETS/DiffusionForensics/intrinsic/imagenet/train/1_fake/10_shading_2189.png\n",
            "/content/drive/MyDrive/DATASETS/DiffusionForensics/intrinsic/imagenet/train/1_fake/10_origin_2189.png\n"
          ]
        },
        {
          "output_type": "stream",
          "name": "stderr",
          "text": [
            "\r  1%|          | 294/38104 [1:18:45<137:29:15, 13.09s/it]"
          ]
        },
        {
          "output_type": "stream",
          "name": "stdout",
          "text": [
            "/content/drive/MyDrive/DATASETS/DiffusionForensics/intrinsic/imagenet/train/1_fake/31_albedo_2190.png\n",
            "/content/drive/MyDrive/DATASETS/DiffusionForensics/intrinsic/imagenet/train/1_fake/31_shading_2190.png\n",
            "/content/drive/MyDrive/DATASETS/DiffusionForensics/intrinsic/imagenet/train/1_fake/31_origin_2190.png\n"
          ]
        },
        {
          "output_type": "stream",
          "name": "stderr",
          "text": [
            "\r  1%|          | 295/38104 [1:19:02<149:29:30, 14.23s/it]"
          ]
        },
        {
          "output_type": "stream",
          "name": "stdout",
          "text": [
            "/content/drive/MyDrive/DATASETS/DiffusionForensics/intrinsic/imagenet/train/1_fake/23_albedo_2191.png\n",
            "/content/drive/MyDrive/DATASETS/DiffusionForensics/intrinsic/imagenet/train/1_fake/23_shading_2191.png\n",
            "/content/drive/MyDrive/DATASETS/DiffusionForensics/intrinsic/imagenet/train/1_fake/23_origin_2191.png\n"
          ]
        },
        {
          "output_type": "stream",
          "name": "stderr",
          "text": [
            "\r  1%|          | 296/38104 [1:19:19<158:44:21, 15.11s/it]"
          ]
        },
        {
          "output_type": "stream",
          "name": "stdout",
          "text": [
            "/content/drive/MyDrive/DATASETS/DiffusionForensics/intrinsic/imagenet/train/1_fake/0_albedo_2192.png\n",
            "/content/drive/MyDrive/DATASETS/DiffusionForensics/intrinsic/imagenet/train/1_fake/0_shading_2192.png\n",
            "/content/drive/MyDrive/DATASETS/DiffusionForensics/intrinsic/imagenet/train/1_fake/0_origin_2192.png\n"
          ]
        },
        {
          "output_type": "stream",
          "name": "stderr",
          "text": [
            "\r  1%|          | 297/38104 [1:19:30<144:29:19, 13.76s/it]"
          ]
        },
        {
          "output_type": "stream",
          "name": "stdout",
          "text": [
            "/content/drive/MyDrive/DATASETS/DiffusionForensics/intrinsic/imagenet/train/1_fake/22_albedo_2193.png\n",
            "/content/drive/MyDrive/DATASETS/DiffusionForensics/intrinsic/imagenet/train/1_fake/22_shading_2193.png\n",
            "/content/drive/MyDrive/DATASETS/DiffusionForensics/intrinsic/imagenet/train/1_fake/22_origin_2193.png\n"
          ]
        },
        {
          "output_type": "stream",
          "name": "stderr",
          "text": [
            "\r  1%|          | 298/38104 [1:19:47<154:32:03, 14.72s/it]"
          ]
        },
        {
          "output_type": "stream",
          "name": "stdout",
          "text": [
            "/content/drive/MyDrive/DATASETS/DiffusionForensics/intrinsic/imagenet/train/1_fake/21_albedo_2194.png\n",
            "/content/drive/MyDrive/DATASETS/DiffusionForensics/intrinsic/imagenet/train/1_fake/21_shading_2194.png\n",
            "/content/drive/MyDrive/DATASETS/DiffusionForensics/intrinsic/imagenet/train/1_fake/21_origin_2194.png\n"
          ]
        },
        {
          "output_type": "stream",
          "name": "stderr",
          "text": [
            "\r  1%|          | 299/38104 [1:20:06<166:58:31, 15.90s/it]"
          ]
        },
        {
          "output_type": "stream",
          "name": "stdout",
          "text": [
            "/content/drive/MyDrive/DATASETS/DiffusionForensics/intrinsic/imagenet/train/1_fake/12_albedo_2195.png\n",
            "/content/drive/MyDrive/DATASETS/DiffusionForensics/intrinsic/imagenet/train/1_fake/12_shading_2195.png\n",
            "/content/drive/MyDrive/DATASETS/DiffusionForensics/intrinsic/imagenet/train/1_fake/12_origin_2195.png\n"
          ]
        },
        {
          "output_type": "stream",
          "name": "stderr",
          "text": [
            "\r  1%|          | 300/38104 [1:20:16<148:30:06, 14.14s/it]"
          ]
        },
        {
          "output_type": "stream",
          "name": "stdout",
          "text": [
            "/content/drive/MyDrive/DATASETS/DiffusionForensics/intrinsic/imagenet/train/1_fake/18_albedo_2196.png\n",
            "/content/drive/MyDrive/DATASETS/DiffusionForensics/intrinsic/imagenet/train/1_fake/18_shading_2196.png\n",
            "/content/drive/MyDrive/DATASETS/DiffusionForensics/intrinsic/imagenet/train/1_fake/18_origin_2196.png\n"
          ]
        },
        {
          "output_type": "stream",
          "name": "stderr",
          "text": [
            "\r  1%|          | 301/38104 [1:20:32<156:57:39, 14.95s/it]"
          ]
        },
        {
          "output_type": "stream",
          "name": "stdout",
          "text": [
            "/content/drive/MyDrive/DATASETS/DiffusionForensics/intrinsic/imagenet/train/1_fake/34_albedo_2197.png\n",
            "/content/drive/MyDrive/DATASETS/DiffusionForensics/intrinsic/imagenet/train/1_fake/34_shading_2197.png\n",
            "/content/drive/MyDrive/DATASETS/DiffusionForensics/intrinsic/imagenet/train/1_fake/34_origin_2197.png\n"
          ]
        },
        {
          "output_type": "stream",
          "name": "stderr",
          "text": [
            "\r  1%|          | 302/38104 [1:20:51<168:00:44, 16.00s/it]"
          ]
        },
        {
          "output_type": "stream",
          "name": "stdout",
          "text": [
            "/content/drive/MyDrive/DATASETS/DiffusionForensics/intrinsic/imagenet/train/1_fake/26_albedo_2198.png\n",
            "/content/drive/MyDrive/DATASETS/DiffusionForensics/intrinsic/imagenet/train/1_fake/26_shading_2198.png\n",
            "/content/drive/MyDrive/DATASETS/DiffusionForensics/intrinsic/imagenet/train/1_fake/26_origin_2198.png\n"
          ]
        },
        {
          "output_type": "stream",
          "name": "stderr",
          "text": [
            "\r  1%|          | 303/38104 [1:21:08<171:33:47, 16.34s/it]"
          ]
        },
        {
          "output_type": "stream",
          "name": "stdout",
          "text": [
            "/content/drive/MyDrive/DATASETS/DiffusionForensics/intrinsic/imagenet/train/1_fake/38_albedo_2199.png\n",
            "/content/drive/MyDrive/DATASETS/DiffusionForensics/intrinsic/imagenet/train/1_fake/38_shading_2199.png\n",
            "/content/drive/MyDrive/DATASETS/DiffusionForensics/intrinsic/imagenet/train/1_fake/38_origin_2199.png\n"
          ]
        },
        {
          "output_type": "stream",
          "name": "stderr",
          "text": [
            "\r  1%|          | 304/38104 [1:21:25<173:32:46, 16.53s/it]"
          ]
        },
        {
          "output_type": "stream",
          "name": "stdout",
          "text": [
            "/content/drive/MyDrive/DATASETS/DiffusionForensics/intrinsic/imagenet/train/1_fake/4_albedo_2200.png\n",
            "/content/drive/MyDrive/DATASETS/DiffusionForensics/intrinsic/imagenet/train/1_fake/4_shading_2200.png\n",
            "/content/drive/MyDrive/DATASETS/DiffusionForensics/intrinsic/imagenet/train/1_fake/4_origin_2200.png\n"
          ]
        },
        {
          "output_type": "stream",
          "name": "stderr",
          "text": [
            "\r  1%|          | 305/38104 [1:21:42<174:15:25, 16.60s/it]"
          ]
        },
        {
          "output_type": "stream",
          "name": "stdout",
          "text": [
            "/content/drive/MyDrive/DATASETS/DiffusionForensics/intrinsic/imagenet/train/1_fake/16_albedo_2201.png\n",
            "/content/drive/MyDrive/DATASETS/DiffusionForensics/intrinsic/imagenet/train/1_fake/16_shading_2201.png\n",
            "/content/drive/MyDrive/DATASETS/DiffusionForensics/intrinsic/imagenet/train/1_fake/16_origin_2201.png\n"
          ]
        },
        {
          "output_type": "stream",
          "name": "stderr",
          "text": [
            "\r  1%|          | 306/38104 [1:22:00<180:42:36, 17.21s/it]"
          ]
        },
        {
          "output_type": "stream",
          "name": "stdout",
          "text": [
            "/content/drive/MyDrive/DATASETS/DiffusionForensics/intrinsic/imagenet/train/1_fake/33_albedo_2202.png\n",
            "/content/drive/MyDrive/DATASETS/DiffusionForensics/intrinsic/imagenet/train/1_fake/33_shading_2202.png\n",
            "/content/drive/MyDrive/DATASETS/DiffusionForensics/intrinsic/imagenet/train/1_fake/33_origin_2202.png\n"
          ]
        },
        {
          "output_type": "stream",
          "name": "stderr",
          "text": [
            "\r  1%|          | 307/38104 [1:22:18<180:15:56, 17.17s/it]"
          ]
        },
        {
          "output_type": "stream",
          "name": "stdout",
          "text": [
            "/content/drive/MyDrive/DATASETS/DiffusionForensics/intrinsic/imagenet/train/1_fake/6_albedo_2203.png\n",
            "/content/drive/MyDrive/DATASETS/DiffusionForensics/intrinsic/imagenet/train/1_fake/6_shading_2203.png\n",
            "/content/drive/MyDrive/DATASETS/DiffusionForensics/intrinsic/imagenet/train/1_fake/6_origin_2203.png\n"
          ]
        },
        {
          "output_type": "stream",
          "name": "stderr",
          "text": [
            "\r  1%|          | 308/38104 [1:22:34<178:37:34, 17.01s/it]"
          ]
        },
        {
          "output_type": "stream",
          "name": "stdout",
          "text": [
            "/content/drive/MyDrive/DATASETS/DiffusionForensics/intrinsic/imagenet/train/1_fake/7_albedo_2204.png\n",
            "/content/drive/MyDrive/DATASETS/DiffusionForensics/intrinsic/imagenet/train/1_fake/7_shading_2204.png\n",
            "/content/drive/MyDrive/DATASETS/DiffusionForensics/intrinsic/imagenet/train/1_fake/7_origin_2204.png\n"
          ]
        },
        {
          "output_type": "stream",
          "name": "stderr",
          "text": [
            "\r  1%|          | 309/38104 [1:22:51<178:46:33, 17.03s/it]"
          ]
        },
        {
          "output_type": "stream",
          "name": "stdout",
          "text": [
            "/content/drive/MyDrive/DATASETS/DiffusionForensics/intrinsic/imagenet/train/1_fake/36_albedo_2205.png\n",
            "/content/drive/MyDrive/DATASETS/DiffusionForensics/intrinsic/imagenet/train/1_fake/36_shading_2205.png\n",
            "/content/drive/MyDrive/DATASETS/DiffusionForensics/intrinsic/imagenet/train/1_fake/36_origin_2205.png\n"
          ]
        },
        {
          "output_type": "stream",
          "name": "stderr",
          "text": [
            "\r  1%|          | 310/38104 [1:23:11<188:41:30, 17.97s/it]"
          ]
        },
        {
          "output_type": "stream",
          "name": "stdout",
          "text": [
            "/content/drive/MyDrive/DATASETS/DiffusionForensics/intrinsic/imagenet/train/1_fake/15_albedo_2206.png\n",
            "/content/drive/MyDrive/DATASETS/DiffusionForensics/intrinsic/imagenet/train/1_fake/15_shading_2206.png\n",
            "/content/drive/MyDrive/DATASETS/DiffusionForensics/intrinsic/imagenet/train/1_fake/15_origin_2206.png\n"
          ]
        },
        {
          "output_type": "stream",
          "name": "stderr",
          "text": [
            "\r  1%|          | 311/38104 [1:23:28<185:55:24, 17.71s/it]"
          ]
        },
        {
          "output_type": "stream",
          "name": "stdout",
          "text": [
            "/content/drive/MyDrive/DATASETS/DiffusionForensics/intrinsic/imagenet/train/1_fake/13_albedo_2207.png\n",
            "/content/drive/MyDrive/DATASETS/DiffusionForensics/intrinsic/imagenet/train/1_fake/13_shading_2207.png\n",
            "/content/drive/MyDrive/DATASETS/DiffusionForensics/intrinsic/imagenet/train/1_fake/13_origin_2207.png\n"
          ]
        },
        {
          "output_type": "stream",
          "name": "stderr",
          "text": [
            "\r  1%|          | 312/38104 [1:23:45<182:34:38, 17.39s/it]"
          ]
        },
        {
          "output_type": "stream",
          "name": "stdout",
          "text": [
            "/content/drive/MyDrive/DATASETS/DiffusionForensics/intrinsic/imagenet/train/1_fake/5_albedo_2208.png\n",
            "/content/drive/MyDrive/DATASETS/DiffusionForensics/intrinsic/imagenet/train/1_fake/5_shading_2208.png\n",
            "/content/drive/MyDrive/DATASETS/DiffusionForensics/intrinsic/imagenet/train/1_fake/5_origin_2208.png\n"
          ]
        },
        {
          "output_type": "stream",
          "name": "stderr",
          "text": [
            "\r  1%|          | 313/38104 [1:23:56<161:19:35, 15.37s/it]"
          ]
        },
        {
          "output_type": "stream",
          "name": "stdout",
          "text": [
            "/content/drive/MyDrive/DATASETS/DiffusionForensics/intrinsic/imagenet/train/1_fake/24_albedo_2209.png\n",
            "/content/drive/MyDrive/DATASETS/DiffusionForensics/intrinsic/imagenet/train/1_fake/24_shading_2209.png\n",
            "/content/drive/MyDrive/DATASETS/DiffusionForensics/intrinsic/imagenet/train/1_fake/24_origin_2209.png\n"
          ]
        },
        {
          "output_type": "stream",
          "name": "stderr",
          "text": [
            "\r  1%|          | 314/38104 [1:24:06<146:04:59, 13.92s/it]"
          ]
        },
        {
          "output_type": "stream",
          "name": "stdout",
          "text": [
            "/content/drive/MyDrive/DATASETS/DiffusionForensics/intrinsic/imagenet/train/1_fake/28_albedo_2210.png\n",
            "/content/drive/MyDrive/DATASETS/DiffusionForensics/intrinsic/imagenet/train/1_fake/28_shading_2210.png\n",
            "/content/drive/MyDrive/DATASETS/DiffusionForensics/intrinsic/imagenet/train/1_fake/28_origin_2210.png\n"
          ]
        },
        {
          "output_type": "stream",
          "name": "stderr",
          "text": [
            "\r  1%|          | 315/38104 [1:24:15<130:28:27, 12.43s/it]"
          ]
        },
        {
          "output_type": "stream",
          "name": "stdout",
          "text": [
            "/content/drive/MyDrive/DATASETS/DiffusionForensics/intrinsic/imagenet/train/1_fake/27_albedo_2211.png\n",
            "/content/drive/MyDrive/DATASETS/DiffusionForensics/intrinsic/imagenet/train/1_fake/27_shading_2211.png\n",
            "/content/drive/MyDrive/DATASETS/DiffusionForensics/intrinsic/imagenet/train/1_fake/27_origin_2211.png\n"
          ]
        },
        {
          "output_type": "stream",
          "name": "stderr",
          "text": [
            "\r  1%|          | 316/38104 [1:24:33<148:26:56, 14.14s/it]"
          ]
        },
        {
          "output_type": "stream",
          "name": "stdout",
          "text": [
            "/content/drive/MyDrive/DATASETS/DiffusionForensics/intrinsic/imagenet/train/1_fake/29_albedo_2212.png\n",
            "/content/drive/MyDrive/DATASETS/DiffusionForensics/intrinsic/imagenet/train/1_fake/29_shading_2212.png\n",
            "/content/drive/MyDrive/DATASETS/DiffusionForensics/intrinsic/imagenet/train/1_fake/29_origin_2212.png\n"
          ]
        },
        {
          "output_type": "stream",
          "name": "stderr",
          "text": [
            "\r  1%|          | 317/38104 [1:24:50<157:35:02, 15.01s/it]"
          ]
        },
        {
          "output_type": "stream",
          "name": "stdout",
          "text": [
            "/content/drive/MyDrive/DATASETS/DiffusionForensics/intrinsic/imagenet/train/1_fake/30_albedo_2213.png\n",
            "/content/drive/MyDrive/DATASETS/DiffusionForensics/intrinsic/imagenet/train/1_fake/30_shading_2213.png\n",
            "/content/drive/MyDrive/DATASETS/DiffusionForensics/intrinsic/imagenet/train/1_fake/30_origin_2213.png\n"
          ]
        },
        {
          "output_type": "stream",
          "name": "stderr",
          "text": [
            "\r  1%|          | 318/38104 [1:25:01<142:01:26, 13.53s/it]"
          ]
        },
        {
          "output_type": "stream",
          "name": "stdout",
          "text": [
            "/content/drive/MyDrive/DATASETS/DiffusionForensics/intrinsic/imagenet/train/1_fake/11_albedo_2214.png\n",
            "/content/drive/MyDrive/DATASETS/DiffusionForensics/intrinsic/imagenet/train/1_fake/11_shading_2214.png\n",
            "/content/drive/MyDrive/DATASETS/DiffusionForensics/intrinsic/imagenet/train/1_fake/11_origin_2214.png\n"
          ]
        },
        {
          "output_type": "stream",
          "name": "stderr",
          "text": [
            "\r  1%|          | 319/38104 [1:25:18<153:11:28, 14.60s/it]"
          ]
        },
        {
          "output_type": "stream",
          "name": "stdout",
          "text": [
            "/content/drive/MyDrive/DATASETS/DiffusionForensics/intrinsic/imagenet/train/1_fake/2_albedo_2215.png\n",
            "/content/drive/MyDrive/DATASETS/DiffusionForensics/intrinsic/imagenet/train/1_fake/2_shading_2215.png\n",
            "/content/drive/MyDrive/DATASETS/DiffusionForensics/intrinsic/imagenet/train/1_fake/2_origin_2215.png\n"
          ]
        },
        {
          "output_type": "stream",
          "name": "stderr",
          "text": [
            "\r  1%|          | 320/38104 [1:25:35<161:06:40, 15.35s/it]"
          ]
        },
        {
          "output_type": "stream",
          "name": "stdout",
          "text": [
            "/content/drive/MyDrive/DATASETS/DiffusionForensics/intrinsic/imagenet/train/1_fake/39_albedo_2216.png\n",
            "/content/drive/MyDrive/DATASETS/DiffusionForensics/intrinsic/imagenet/train/1_fake/39_shading_2216.png\n",
            "/content/drive/MyDrive/DATASETS/DiffusionForensics/intrinsic/imagenet/train/1_fake/39_origin_2216.png\n"
          ]
        },
        {
          "output_type": "stream",
          "name": "stderr",
          "text": [
            "\r  1%|          | 321/38104 [1:25:52<165:59:26, 15.82s/it]"
          ]
        },
        {
          "output_type": "stream",
          "name": "stdout",
          "text": [
            "/content/drive/MyDrive/DATASETS/DiffusionForensics/intrinsic/imagenet/train/1_fake/17_albedo_2217.png\n",
            "/content/drive/MyDrive/DATASETS/DiffusionForensics/intrinsic/imagenet/train/1_fake/17_shading_2217.png\n",
            "/content/drive/MyDrive/DATASETS/DiffusionForensics/intrinsic/imagenet/train/1_fake/17_origin_2217.png\n"
          ]
        },
        {
          "output_type": "stream",
          "name": "stderr",
          "text": [
            "\r  1%|          | 322/38104 [1:26:02<149:10:52, 14.21s/it]"
          ]
        },
        {
          "output_type": "stream",
          "name": "stdout",
          "text": [
            "/content/drive/MyDrive/DATASETS/DiffusionForensics/intrinsic/imagenet/train/1_fake/25_albedo_2218.png\n",
            "/content/drive/MyDrive/DATASETS/DiffusionForensics/intrinsic/imagenet/train/1_fake/25_shading_2218.png\n",
            "/content/drive/MyDrive/DATASETS/DiffusionForensics/intrinsic/imagenet/train/1_fake/25_origin_2218.png\n"
          ]
        },
        {
          "output_type": "stream",
          "name": "stderr",
          "text": [
            "\r  1%|          | 323/38104 [1:26:21<164:23:00, 15.66s/it]"
          ]
        },
        {
          "output_type": "stream",
          "name": "stdout",
          "text": [
            "/content/drive/MyDrive/DATASETS/DiffusionForensics/intrinsic/imagenet/train/1_fake/37_albedo_2219.png\n",
            "/content/drive/MyDrive/DATASETS/DiffusionForensics/intrinsic/imagenet/train/1_fake/37_shading_2219.png\n",
            "/content/drive/MyDrive/DATASETS/DiffusionForensics/intrinsic/imagenet/train/1_fake/37_origin_2219.png\n"
          ]
        },
        {
          "output_type": "stream",
          "name": "stderr",
          "text": [
            "\r  1%|          | 324/38104 [1:26:39<170:01:23, 16.20s/it]"
          ]
        },
        {
          "output_type": "stream",
          "name": "stdout",
          "text": [
            "/content/drive/MyDrive/DATASETS/DiffusionForensics/intrinsic/imagenet/train/1_fake/20_albedo_2220.png\n",
            "/content/drive/MyDrive/DATASETS/DiffusionForensics/intrinsic/imagenet/train/1_fake/20_shading_2220.png\n",
            "/content/drive/MyDrive/DATASETS/DiffusionForensics/intrinsic/imagenet/train/1_fake/20_origin_2220.png\n"
          ]
        },
        {
          "output_type": "stream",
          "name": "stderr",
          "text": [
            "\r  1%|          | 325/38104 [1:26:49<151:02:08, 14.39s/it]"
          ]
        },
        {
          "output_type": "stream",
          "name": "stdout",
          "text": [
            "/content/drive/MyDrive/DATASETS/DiffusionForensics/intrinsic/imagenet/train/1_fake/1_albedo_2221.png\n",
            "/content/drive/MyDrive/DATASETS/DiffusionForensics/intrinsic/imagenet/train/1_fake/1_shading_2221.png\n",
            "/content/drive/MyDrive/DATASETS/DiffusionForensics/intrinsic/imagenet/train/1_fake/1_origin_2221.png\n"
          ]
        },
        {
          "output_type": "stream",
          "name": "stderr",
          "text": [
            "\r  1%|          | 326/38104 [1:26:59<138:59:46, 13.25s/it]"
          ]
        },
        {
          "output_type": "stream",
          "name": "stdout",
          "text": [
            "/content/drive/MyDrive/DATASETS/DiffusionForensics/intrinsic/imagenet/train/1_fake/32_albedo_2222.png\n",
            "/content/drive/MyDrive/DATASETS/DiffusionForensics/intrinsic/imagenet/train/1_fake/32_shading_2222.png\n",
            "/content/drive/MyDrive/DATASETS/DiffusionForensics/intrinsic/imagenet/train/1_fake/32_origin_2222.png\n"
          ]
        },
        {
          "output_type": "stream",
          "name": "stderr",
          "text": [
            "\r  1%|          | 327/38104 [1:27:16<150:23:42, 14.33s/it]"
          ]
        },
        {
          "output_type": "stream",
          "name": "stdout",
          "text": [
            "/content/drive/MyDrive/DATASETS/DiffusionForensics/intrinsic/imagenet/train/1_fake/9_albedo_2223.png\n",
            "/content/drive/MyDrive/DATASETS/DiffusionForensics/intrinsic/imagenet/train/1_fake/9_shading_2223.png\n",
            "/content/drive/MyDrive/DATASETS/DiffusionForensics/intrinsic/imagenet/train/1_fake/9_origin_2223.png\n"
          ]
        },
        {
          "output_type": "stream",
          "name": "stderr",
          "text": [
            "\r  1%|          | 328/38104 [1:27:33<158:44:59, 15.13s/it]"
          ]
        },
        {
          "output_type": "stream",
          "name": "stdout",
          "text": [
            "/content/drive/MyDrive/DATASETS/DiffusionForensics/intrinsic/imagenet/train/1_fake/14_albedo_2224.png\n",
            "/content/drive/MyDrive/DATASETS/DiffusionForensics/intrinsic/imagenet/train/1_fake/14_shading_2224.png\n",
            "/content/drive/MyDrive/DATASETS/DiffusionForensics/intrinsic/imagenet/train/1_fake/14_origin_2224.png\n"
          ]
        },
        {
          "output_type": "stream",
          "name": "stderr",
          "text": [
            "\r  1%|          | 329/38104 [1:27:51<166:28:16, 15.86s/it]"
          ]
        },
        {
          "output_type": "stream",
          "name": "stdout",
          "text": [
            "/content/drive/MyDrive/DATASETS/DiffusionForensics/intrinsic/imagenet/train/1_fake/8_albedo_2225.png\n",
            "/content/drive/MyDrive/DATASETS/DiffusionForensics/intrinsic/imagenet/train/1_fake/8_shading_2225.png\n",
            "/content/drive/MyDrive/DATASETS/DiffusionForensics/intrinsic/imagenet/train/1_fake/8_origin_2225.png\n"
          ]
        },
        {
          "output_type": "stream",
          "name": "stderr",
          "text": [
            "\r  1%|          | 330/38104 [1:28:07<168:37:23, 16.07s/it]"
          ]
        },
        {
          "output_type": "stream",
          "name": "stdout",
          "text": [
            "/content/drive/MyDrive/DATASETS/DiffusionForensics/intrinsic/imagenet/train/1_fake/19_albedo_2226.png\n",
            "/content/drive/MyDrive/DATASETS/DiffusionForensics/intrinsic/imagenet/train/1_fake/19_shading_2226.png\n",
            "/content/drive/MyDrive/DATASETS/DiffusionForensics/intrinsic/imagenet/train/1_fake/19_origin_2226.png\n"
          ]
        },
        {
          "output_type": "stream",
          "name": "stderr",
          "text": [
            "\r  1%|          | 331/38104 [1:28:24<171:49:03, 16.38s/it]"
          ]
        },
        {
          "output_type": "stream",
          "name": "stdout",
          "text": [
            "/content/drive/MyDrive/DATASETS/DiffusionForensics/intrinsic/imagenet/train/1_fake/3_albedo_2227.png\n",
            "/content/drive/MyDrive/DATASETS/DiffusionForensics/intrinsic/imagenet/train/1_fake/3_shading_2227.png\n",
            "/content/drive/MyDrive/DATASETS/DiffusionForensics/intrinsic/imagenet/train/1_fake/3_origin_2227.png\n"
          ]
        },
        {
          "output_type": "stream",
          "name": "stderr",
          "text": [
            "\r  1%|          | 332/38104 [1:28:41<173:49:12, 16.57s/it]"
          ]
        },
        {
          "output_type": "stream",
          "name": "stdout",
          "text": [
            "/content/drive/MyDrive/DATASETS/DiffusionForensics/intrinsic/imagenet/train/1_fake/35_albedo_2228.png\n",
            "/content/drive/MyDrive/DATASETS/DiffusionForensics/intrinsic/imagenet/train/1_fake/35_shading_2228.png\n",
            "/content/drive/MyDrive/DATASETS/DiffusionForensics/intrinsic/imagenet/train/1_fake/35_origin_2228.png\n"
          ]
        },
        {
          "output_type": "stream",
          "name": "stderr",
          "text": [
            "\r  1%|          | 333/38104 [1:28:59<176:38:03, 16.84s/it]"
          ]
        },
        {
          "output_type": "stream",
          "name": "stdout",
          "text": [
            "/content/drive/MyDrive/DATASETS/DiffusionForensics/intrinsic/imagenet/train/1_fake/10_albedo_2229.png\n",
            "/content/drive/MyDrive/DATASETS/DiffusionForensics/intrinsic/imagenet/train/1_fake/10_shading_2229.png\n",
            "/content/drive/MyDrive/DATASETS/DiffusionForensics/intrinsic/imagenet/train/1_fake/10_origin_2229.png\n"
          ]
        },
        {
          "output_type": "stream",
          "name": "stderr",
          "text": [
            "\r  1%|          | 334/38104 [1:29:18<184:35:36, 17.59s/it]"
          ]
        },
        {
          "output_type": "stream",
          "name": "stdout",
          "text": [
            "/content/drive/MyDrive/DATASETS/DiffusionForensics/intrinsic/imagenet/train/1_fake/31_albedo_2230.png\n",
            "/content/drive/MyDrive/DATASETS/DiffusionForensics/intrinsic/imagenet/train/1_fake/31_shading_2230.png\n",
            "/content/drive/MyDrive/DATASETS/DiffusionForensics/intrinsic/imagenet/train/1_fake/31_origin_2230.png\n"
          ]
        },
        {
          "output_type": "stream",
          "name": "stderr",
          "text": [
            "\r  1%|          | 335/38104 [1:29:35<182:59:14, 17.44s/it]"
          ]
        },
        {
          "output_type": "stream",
          "name": "stdout",
          "text": [
            "/content/drive/MyDrive/DATASETS/DiffusionForensics/intrinsic/imagenet/train/1_fake/23_albedo_2231.png\n",
            "/content/drive/MyDrive/DATASETS/DiffusionForensics/intrinsic/imagenet/train/1_fake/23_shading_2231.png\n",
            "/content/drive/MyDrive/DATASETS/DiffusionForensics/intrinsic/imagenet/train/1_fake/23_origin_2231.png\n"
          ]
        },
        {
          "output_type": "stream",
          "name": "stderr",
          "text": [
            "\r  1%|          | 336/38104 [1:29:52<180:30:03, 17.21s/it]"
          ]
        },
        {
          "output_type": "stream",
          "name": "stdout",
          "text": [
            "/content/drive/MyDrive/DATASETS/DiffusionForensics/intrinsic/imagenet/train/1_fake/0_albedo_2232.png\n",
            "/content/drive/MyDrive/DATASETS/DiffusionForensics/intrinsic/imagenet/train/1_fake/0_shading_2232.png\n",
            "/content/drive/MyDrive/DATASETS/DiffusionForensics/intrinsic/imagenet/train/1_fake/0_origin_2232.png\n"
          ]
        },
        {
          "output_type": "stream",
          "name": "stderr",
          "text": [
            "\r  1%|          | 337/38104 [1:30:10<181:46:07, 17.33s/it]"
          ]
        },
        {
          "output_type": "stream",
          "name": "stdout",
          "text": [
            "/content/drive/MyDrive/DATASETS/DiffusionForensics/intrinsic/imagenet/train/1_fake/22_albedo_2233.png\n",
            "/content/drive/MyDrive/DATASETS/DiffusionForensics/intrinsic/imagenet/train/1_fake/22_shading_2233.png\n",
            "/content/drive/MyDrive/DATASETS/DiffusionForensics/intrinsic/imagenet/train/1_fake/22_origin_2233.png\n"
          ]
        },
        {
          "output_type": "stream",
          "name": "stderr",
          "text": [
            "\r  1%|          | 338/38104 [1:30:27<181:19:06, 17.28s/it]"
          ]
        },
        {
          "output_type": "stream",
          "name": "stdout",
          "text": [
            "/content/drive/MyDrive/DATASETS/DiffusionForensics/intrinsic/imagenet/train/1_fake/21_albedo_2234.png\n",
            "/content/drive/MyDrive/DATASETS/DiffusionForensics/intrinsic/imagenet/train/1_fake/21_shading_2234.png\n",
            "/content/drive/MyDrive/DATASETS/DiffusionForensics/intrinsic/imagenet/train/1_fake/21_origin_2234.png\n"
          ]
        },
        {
          "output_type": "stream",
          "name": "stderr",
          "text": [
            "\r  1%|          | 339/38104 [1:30:44<180:57:52, 17.25s/it]"
          ]
        },
        {
          "output_type": "stream",
          "name": "stdout",
          "text": [
            "/content/drive/MyDrive/DATASETS/DiffusionForensics/intrinsic/imagenet/train/1_fake/12_albedo_2235.png\n",
            "/content/drive/MyDrive/DATASETS/DiffusionForensics/intrinsic/imagenet/train/1_fake/12_shading_2235.png\n",
            "/content/drive/MyDrive/DATASETS/DiffusionForensics/intrinsic/imagenet/train/1_fake/12_origin_2235.png\n"
          ]
        },
        {
          "output_type": "stream",
          "name": "stderr",
          "text": [
            "\r  1%|          | 340/38104 [1:31:01<180:22:05, 17.19s/it]"
          ]
        },
        {
          "output_type": "stream",
          "name": "stdout",
          "text": [
            "/content/drive/MyDrive/DATASETS/DiffusionForensics/intrinsic/imagenet/train/1_fake/18_albedo_2236.png\n",
            "/content/drive/MyDrive/DATASETS/DiffusionForensics/intrinsic/imagenet/train/1_fake/18_shading_2236.png\n",
            "/content/drive/MyDrive/DATASETS/DiffusionForensics/intrinsic/imagenet/train/1_fake/18_origin_2236.png\n"
          ]
        },
        {
          "output_type": "stream",
          "name": "stderr",
          "text": [
            "\r  1%|          | 341/38104 [1:31:11<159:03:47, 15.16s/it]"
          ]
        },
        {
          "output_type": "stream",
          "name": "stdout",
          "text": [
            "/content/drive/MyDrive/DATASETS/DiffusionForensics/intrinsic/imagenet/train/1_fake/34_albedo_2237.png\n",
            "/content/drive/MyDrive/DATASETS/DiffusionForensics/intrinsic/imagenet/train/1_fake/34_shading_2237.png\n",
            "/content/drive/MyDrive/DATASETS/DiffusionForensics/intrinsic/imagenet/train/1_fake/34_origin_2237.png\n"
          ]
        },
        {
          "output_type": "stream",
          "name": "stderr",
          "text": [
            "\r  1%|          | 342/38104 [1:31:22<144:32:10, 13.78s/it]"
          ]
        },
        {
          "output_type": "stream",
          "name": "stdout",
          "text": [
            "/content/drive/MyDrive/DATASETS/DiffusionForensics/intrinsic/imagenet/train/1_fake/26_albedo_2238.png\n",
            "/content/drive/MyDrive/DATASETS/DiffusionForensics/intrinsic/imagenet/train/1_fake/26_shading_2238.png\n",
            "/content/drive/MyDrive/DATASETS/DiffusionForensics/intrinsic/imagenet/train/1_fake/26_origin_2238.png\n"
          ]
        },
        {
          "output_type": "stream",
          "name": "stderr",
          "text": [
            "\r  1%|          | 343/38104 [1:31:39<154:12:10, 14.70s/it]"
          ]
        },
        {
          "output_type": "stream",
          "name": "stdout",
          "text": [
            "/content/drive/MyDrive/DATASETS/DiffusionForensics/intrinsic/imagenet/train/1_fake/38_albedo_2239.png\n",
            "/content/drive/MyDrive/DATASETS/DiffusionForensics/intrinsic/imagenet/train/1_fake/38_shading_2239.png\n",
            "/content/drive/MyDrive/DATASETS/DiffusionForensics/intrinsic/imagenet/train/1_fake/38_origin_2239.png\n"
          ]
        },
        {
          "output_type": "stream",
          "name": "stderr",
          "text": [
            "\r  1%|          | 344/38104 [1:31:56<160:57:28, 15.35s/it]"
          ]
        },
        {
          "output_type": "stream",
          "name": "stdout",
          "text": [
            "/content/drive/MyDrive/DATASETS/DiffusionForensics/intrinsic/imagenet/train/1_fake/4_albedo_2240.png\n",
            "/content/drive/MyDrive/DATASETS/DiffusionForensics/intrinsic/imagenet/train/1_fake/4_shading_2240.png\n",
            "/content/drive/MyDrive/DATASETS/DiffusionForensics/intrinsic/imagenet/train/1_fake/4_origin_2240.png\n"
          ]
        },
        {
          "output_type": "stream",
          "name": "stderr",
          "text": [
            "\r  1%|          | 345/38104 [1:32:13<168:31:44, 16.07s/it]"
          ]
        },
        {
          "output_type": "stream",
          "name": "stdout",
          "text": [
            "/content/drive/MyDrive/DATASETS/DiffusionForensics/intrinsic/imagenet/train/1_fake/16_albedo_2241.png\n",
            "/content/drive/MyDrive/DATASETS/DiffusionForensics/intrinsic/imagenet/train/1_fake/16_shading_2241.png\n",
            "/content/drive/MyDrive/DATASETS/DiffusionForensics/intrinsic/imagenet/train/1_fake/16_origin_2241.png\n"
          ]
        },
        {
          "output_type": "stream",
          "name": "stderr",
          "text": [
            "\r  1%|          | 346/38104 [1:32:32<175:35:36, 16.74s/it]"
          ]
        },
        {
          "output_type": "stream",
          "name": "stdout",
          "text": [
            "/content/drive/MyDrive/DATASETS/DiffusionForensics/intrinsic/imagenet/train/1_fake/33_albedo_2242.png\n",
            "/content/drive/MyDrive/DATASETS/DiffusionForensics/intrinsic/imagenet/train/1_fake/33_shading_2242.png\n",
            "/content/drive/MyDrive/DATASETS/DiffusionForensics/intrinsic/imagenet/train/1_fake/33_origin_2242.png\n"
          ]
        },
        {
          "output_type": "stream",
          "name": "stderr",
          "text": [
            "\r  1%|          | 347/38104 [1:32:49<176:02:19, 16.78s/it]"
          ]
        },
        {
          "output_type": "stream",
          "name": "stdout",
          "text": [
            "/content/drive/MyDrive/DATASETS/DiffusionForensics/intrinsic/imagenet/train/1_fake/6_albedo_2243.png\n",
            "/content/drive/MyDrive/DATASETS/DiffusionForensics/intrinsic/imagenet/train/1_fake/6_shading_2243.png\n",
            "/content/drive/MyDrive/DATASETS/DiffusionForensics/intrinsic/imagenet/train/1_fake/6_origin_2243.png\n"
          ]
        },
        {
          "output_type": "stream",
          "name": "stderr",
          "text": [
            "\r  1%|          | 348/38104 [1:33:06<177:15:20, 16.90s/it]"
          ]
        },
        {
          "output_type": "stream",
          "name": "stdout",
          "text": [
            "/content/drive/MyDrive/DATASETS/DiffusionForensics/intrinsic/imagenet/train/1_fake/7_albedo_2244.png\n",
            "/content/drive/MyDrive/DATASETS/DiffusionForensics/intrinsic/imagenet/train/1_fake/7_shading_2244.png\n",
            "/content/drive/MyDrive/DATASETS/DiffusionForensics/intrinsic/imagenet/train/1_fake/7_origin_2244.png\n"
          ]
        },
        {
          "output_type": "stream",
          "name": "stderr",
          "text": [
            "\r  1%|          | 349/38104 [1:33:23<176:38:33, 16.84s/it]"
          ]
        },
        {
          "output_type": "stream",
          "name": "stdout",
          "text": [
            "/content/drive/MyDrive/DATASETS/DiffusionForensics/intrinsic/imagenet/train/1_fake/36_albedo_2245.png\n",
            "/content/drive/MyDrive/DATASETS/DiffusionForensics/intrinsic/imagenet/train/1_fake/36_shading_2245.png\n",
            "/content/drive/MyDrive/DATASETS/DiffusionForensics/intrinsic/imagenet/train/1_fake/36_origin_2245.png\n"
          ]
        },
        {
          "output_type": "stream",
          "name": "stderr",
          "text": [
            "\r  1%|          | 350/38104 [1:33:41<181:27:13, 17.30s/it]"
          ]
        },
        {
          "output_type": "stream",
          "name": "stdout",
          "text": [
            "/content/drive/MyDrive/DATASETS/DiffusionForensics/intrinsic/imagenet/train/1_fake/15_albedo_2246.png\n",
            "/content/drive/MyDrive/DATASETS/DiffusionForensics/intrinsic/imagenet/train/1_fake/15_shading_2246.png\n",
            "/content/drive/MyDrive/DATASETS/DiffusionForensics/intrinsic/imagenet/train/1_fake/15_origin_2246.png\n"
          ]
        },
        {
          "output_type": "stream",
          "name": "stderr",
          "text": [
            "\r  1%|          | 351/38104 [1:33:58<181:17:21, 17.29s/it]"
          ]
        },
        {
          "output_type": "stream",
          "name": "stdout",
          "text": [
            "/content/drive/MyDrive/DATASETS/DiffusionForensics/intrinsic/imagenet/train/1_fake/13_albedo_2247.png\n",
            "/content/drive/MyDrive/DATASETS/DiffusionForensics/intrinsic/imagenet/train/1_fake/13_shading_2247.png\n",
            "/content/drive/MyDrive/DATASETS/DiffusionForensics/intrinsic/imagenet/train/1_fake/13_origin_2247.png\n"
          ]
        },
        {
          "output_type": "stream",
          "name": "stderr",
          "text": [
            "\r  1%|          | 352/38104 [1:34:15<180:26:26, 17.21s/it]"
          ]
        },
        {
          "output_type": "stream",
          "name": "stdout",
          "text": [
            "/content/drive/MyDrive/DATASETS/DiffusionForensics/intrinsic/imagenet/train/1_fake/5_albedo_2248.png\n",
            "/content/drive/MyDrive/DATASETS/DiffusionForensics/intrinsic/imagenet/train/1_fake/5_shading_2248.png\n",
            "/content/drive/MyDrive/DATASETS/DiffusionForensics/intrinsic/imagenet/train/1_fake/5_origin_2248.png\n"
          ]
        },
        {
          "output_type": "stream",
          "name": "stderr",
          "text": [
            "\r  1%|          | 353/38104 [1:34:26<160:18:44, 15.29s/it]"
          ]
        },
        {
          "output_type": "stream",
          "name": "stdout",
          "text": [
            "/content/drive/MyDrive/DATASETS/DiffusionForensics/intrinsic/imagenet/train/1_fake/24_albedo_2249.png\n",
            "/content/drive/MyDrive/DATASETS/DiffusionForensics/intrinsic/imagenet/train/1_fake/24_shading_2249.png\n",
            "/content/drive/MyDrive/DATASETS/DiffusionForensics/intrinsic/imagenet/train/1_fake/24_origin_2249.png\n"
          ]
        },
        {
          "output_type": "stream",
          "name": "stderr",
          "text": [
            "\r  1%|          | 354/38104 [1:34:43<165:21:46, 15.77s/it]"
          ]
        },
        {
          "output_type": "stream",
          "name": "stdout",
          "text": [
            "/content/drive/MyDrive/DATASETS/DiffusionForensics/intrinsic/imagenet/train/1_fake/28_albedo_2250.png\n",
            "/content/drive/MyDrive/DATASETS/DiffusionForensics/intrinsic/imagenet/train/1_fake/28_shading_2250.png\n",
            "/content/drive/MyDrive/DATASETS/DiffusionForensics/intrinsic/imagenet/train/1_fake/28_origin_2250.png\n"
          ]
        },
        {
          "output_type": "stream",
          "name": "stderr",
          "text": [
            "\r  1%|          | 355/38104 [1:35:00<170:17:22, 16.24s/it]"
          ]
        },
        {
          "output_type": "stream",
          "name": "stdout",
          "text": [
            "/content/drive/MyDrive/DATASETS/DiffusionForensics/intrinsic/imagenet/train/1_fake/27_albedo_2251.png\n",
            "/content/drive/MyDrive/DATASETS/DiffusionForensics/intrinsic/imagenet/train/1_fake/27_shading_2251.png\n",
            "/content/drive/MyDrive/DATASETS/DiffusionForensics/intrinsic/imagenet/train/1_fake/27_origin_2251.png\n"
          ]
        },
        {
          "output_type": "stream",
          "name": "stderr",
          "text": [
            "\r  1%|          | 356/38104 [1:35:18<176:34:08, 16.84s/it]"
          ]
        },
        {
          "output_type": "stream",
          "name": "stdout",
          "text": [
            "/content/drive/MyDrive/DATASETS/DiffusionForensics/intrinsic/imagenet/train/1_fake/29_albedo_2252.png\n",
            "/content/drive/MyDrive/DATASETS/DiffusionForensics/intrinsic/imagenet/train/1_fake/29_shading_2252.png\n",
            "/content/drive/MyDrive/DATASETS/DiffusionForensics/intrinsic/imagenet/train/1_fake/29_origin_2252.png\n"
          ]
        },
        {
          "output_type": "stream",
          "name": "stderr",
          "text": [
            "\r  1%|          | 357/38104 [1:35:29<156:08:14, 14.89s/it]"
          ]
        },
        {
          "output_type": "stream",
          "name": "stdout",
          "text": [
            "/content/drive/MyDrive/DATASETS/DiffusionForensics/intrinsic/imagenet/train/1_fake/30_albedo_2253.png\n",
            "/content/drive/MyDrive/DATASETS/DiffusionForensics/intrinsic/imagenet/train/1_fake/30_shading_2253.png\n",
            "/content/drive/MyDrive/DATASETS/DiffusionForensics/intrinsic/imagenet/train/1_fake/30_origin_2253.png\n"
          ]
        },
        {
          "output_type": "stream",
          "name": "stderr",
          "text": [
            "\r  1%|          | 358/38104 [1:35:45<161:46:44, 15.43s/it]"
          ]
        },
        {
          "output_type": "stream",
          "name": "stdout",
          "text": [
            "/content/drive/MyDrive/DATASETS/DiffusionForensics/intrinsic/imagenet/train/1_fake/11_albedo_2254.png\n",
            "/content/drive/MyDrive/DATASETS/DiffusionForensics/intrinsic/imagenet/train/1_fake/11_shading_2254.png\n",
            "/content/drive/MyDrive/DATASETS/DiffusionForensics/intrinsic/imagenet/train/1_fake/11_origin_2254.png\n"
          ]
        },
        {
          "output_type": "stream",
          "name": "stderr",
          "text": [
            "\r  1%|          | 359/38104 [1:36:04<171:29:18, 16.36s/it]"
          ]
        },
        {
          "output_type": "stream",
          "name": "stdout",
          "text": [
            "/content/drive/MyDrive/DATASETS/DiffusionForensics/intrinsic/imagenet/train/1_fake/2_albedo_2255.png\n",
            "/content/drive/MyDrive/DATASETS/DiffusionForensics/intrinsic/imagenet/train/1_fake/2_shading_2255.png\n",
            "/content/drive/MyDrive/DATASETS/DiffusionForensics/intrinsic/imagenet/train/1_fake/2_origin_2255.png\n"
          ]
        },
        {
          "output_type": "stream",
          "name": "stderr",
          "text": [
            "\r  1%|          | 360/38104 [1:36:21<173:24:24, 16.54s/it]"
          ]
        },
        {
          "output_type": "stream",
          "name": "stdout",
          "text": [
            "/content/drive/MyDrive/DATASETS/DiffusionForensics/intrinsic/imagenet/train/1_fake/39_albedo_2256.png\n",
            "/content/drive/MyDrive/DATASETS/DiffusionForensics/intrinsic/imagenet/train/1_fake/39_shading_2256.png\n",
            "/content/drive/MyDrive/DATASETS/DiffusionForensics/intrinsic/imagenet/train/1_fake/39_origin_2256.png\n"
          ]
        },
        {
          "output_type": "stream",
          "name": "stderr",
          "text": [
            "\r  1%|          | 361/38104 [1:36:38<173:23:05, 16.54s/it]"
          ]
        },
        {
          "output_type": "stream",
          "name": "stdout",
          "text": [
            "/content/drive/MyDrive/DATASETS/DiffusionForensics/intrinsic/imagenet/train/1_fake/17_albedo_2257.png\n",
            "/content/drive/MyDrive/DATASETS/DiffusionForensics/intrinsic/imagenet/train/1_fake/17_shading_2257.png\n",
            "/content/drive/MyDrive/DATASETS/DiffusionForensics/intrinsic/imagenet/train/1_fake/17_origin_2257.png\n"
          ]
        },
        {
          "output_type": "stream",
          "name": "stderr",
          "text": [
            "\r  1%|          | 362/38104 [1:36:48<155:00:35, 14.79s/it]"
          ]
        },
        {
          "output_type": "stream",
          "name": "stdout",
          "text": [
            "/content/drive/MyDrive/DATASETS/DiffusionForensics/intrinsic/imagenet/train/1_fake/25_albedo_2258.png\n",
            "/content/drive/MyDrive/DATASETS/DiffusionForensics/intrinsic/imagenet/train/1_fake/25_shading_2258.png\n",
            "/content/drive/MyDrive/DATASETS/DiffusionForensics/intrinsic/imagenet/train/1_fake/25_origin_2258.png\n"
          ]
        },
        {
          "output_type": "stream",
          "name": "stderr",
          "text": [
            "\r  1%|          | 363/38104 [1:37:05<160:38:47, 15.32s/it]"
          ]
        },
        {
          "output_type": "stream",
          "name": "stdout",
          "text": [
            "/content/drive/MyDrive/DATASETS/DiffusionForensics/intrinsic/imagenet/train/1_fake/37_albedo_2259.png\n",
            "/content/drive/MyDrive/DATASETS/DiffusionForensics/intrinsic/imagenet/train/1_fake/37_shading_2259.png\n",
            "/content/drive/MyDrive/DATASETS/DiffusionForensics/intrinsic/imagenet/train/1_fake/37_origin_2259.png\n"
          ]
        },
        {
          "output_type": "stream",
          "name": "stderr",
          "text": [
            "\r  1%|          | 364/38104 [1:37:22<165:43:38, 15.81s/it]"
          ]
        },
        {
          "output_type": "stream",
          "name": "stdout",
          "text": [
            "/content/drive/MyDrive/DATASETS/DiffusionForensics/intrinsic/imagenet/train/1_fake/20_albedo_2260.png\n",
            "/content/drive/MyDrive/DATASETS/DiffusionForensics/intrinsic/imagenet/train/1_fake/20_shading_2260.png\n",
            "/content/drive/MyDrive/DATASETS/DiffusionForensics/intrinsic/imagenet/train/1_fake/20_origin_2260.png\n"
          ]
        },
        {
          "output_type": "stream",
          "name": "stderr",
          "text": [
            "\r  1%|          | 365/38104 [1:37:39<170:16:02, 16.24s/it]"
          ]
        },
        {
          "output_type": "stream",
          "name": "stdout",
          "text": [
            "/content/drive/MyDrive/DATASETS/DiffusionForensics/intrinsic/imagenet/train/1_fake/1_albedo_2261.png\n",
            "/content/drive/MyDrive/DATASETS/DiffusionForensics/intrinsic/imagenet/train/1_fake/1_shading_2261.png\n",
            "/content/drive/MyDrive/DATASETS/DiffusionForensics/intrinsic/imagenet/train/1_fake/1_origin_2261.png\n"
          ]
        },
        {
          "output_type": "stream",
          "name": "stderr",
          "text": [
            "\r  1%|          | 366/38104 [1:37:57<176:07:59, 16.80s/it]"
          ]
        },
        {
          "output_type": "stream",
          "name": "stdout",
          "text": [
            "/content/drive/MyDrive/DATASETS/DiffusionForensics/intrinsic/imagenet/train/1_fake/32_albedo_2262.png\n",
            "/content/drive/MyDrive/DATASETS/DiffusionForensics/intrinsic/imagenet/train/1_fake/32_shading_2262.png\n",
            "/content/drive/MyDrive/DATASETS/DiffusionForensics/intrinsic/imagenet/train/1_fake/32_origin_2262.png\n"
          ]
        },
        {
          "output_type": "stream",
          "name": "stderr",
          "text": [
            "\r  1%|          | 367/38104 [1:38:14<176:12:48, 16.81s/it]"
          ]
        },
        {
          "output_type": "stream",
          "name": "stdout",
          "text": [
            "/content/drive/MyDrive/DATASETS/DiffusionForensics/intrinsic/imagenet/train/1_fake/9_albedo_2263.png\n",
            "/content/drive/MyDrive/DATASETS/DiffusionForensics/intrinsic/imagenet/train/1_fake/9_shading_2263.png\n",
            "/content/drive/MyDrive/DATASETS/DiffusionForensics/intrinsic/imagenet/train/1_fake/9_origin_2263.png\n"
          ]
        },
        {
          "output_type": "stream",
          "name": "stderr",
          "text": [
            "\r  1%|          | 368/38104 [1:38:33<182:49:50, 17.44s/it]"
          ]
        },
        {
          "output_type": "stream",
          "name": "stdout",
          "text": [
            "/content/drive/MyDrive/DATASETS/DiffusionForensics/intrinsic/imagenet/train/1_fake/14_albedo_2264.png\n",
            "/content/drive/MyDrive/DATASETS/DiffusionForensics/intrinsic/imagenet/train/1_fake/14_shading_2264.png\n",
            "/content/drive/MyDrive/DATASETS/DiffusionForensics/intrinsic/imagenet/train/1_fake/14_origin_2264.png\n"
          ]
        },
        {
          "output_type": "stream",
          "name": "stderr",
          "text": [
            "\r  1%|          | 369/38104 [1:38:50<180:27:54, 17.22s/it]"
          ]
        },
        {
          "output_type": "stream",
          "name": "stdout",
          "text": [
            "/content/drive/MyDrive/DATASETS/DiffusionForensics/intrinsic/imagenet/train/1_fake/8_albedo_2265.png\n",
            "/content/drive/MyDrive/DATASETS/DiffusionForensics/intrinsic/imagenet/train/1_fake/8_shading_2265.png\n",
            "/content/drive/MyDrive/DATASETS/DiffusionForensics/intrinsic/imagenet/train/1_fake/8_origin_2265.png\n"
          ]
        },
        {
          "output_type": "stream",
          "name": "stderr",
          "text": [
            "\r  1%|          | 370/38104 [1:39:07<182:41:10, 17.43s/it]"
          ]
        },
        {
          "output_type": "stream",
          "name": "stdout",
          "text": [
            "/content/drive/MyDrive/DATASETS/DiffusionForensics/intrinsic/imagenet/train/1_fake/19_albedo_2266.png\n",
            "/content/drive/MyDrive/DATASETS/DiffusionForensics/intrinsic/imagenet/train/1_fake/19_shading_2266.png\n",
            "/content/drive/MyDrive/DATASETS/DiffusionForensics/intrinsic/imagenet/train/1_fake/19_origin_2266.png\n"
          ]
        },
        {
          "output_type": "stream",
          "name": "stderr",
          "text": [
            "\r  1%|          | 371/38104 [1:39:17<158:23:36, 15.11s/it]"
          ]
        },
        {
          "output_type": "stream",
          "name": "stdout",
          "text": [
            "/content/drive/MyDrive/DATASETS/DiffusionForensics/intrinsic/imagenet/train/1_fake/3_albedo_2267.png\n",
            "/content/drive/MyDrive/DATASETS/DiffusionForensics/intrinsic/imagenet/train/1_fake/3_shading_2267.png\n",
            "/content/drive/MyDrive/DATASETS/DiffusionForensics/intrinsic/imagenet/train/1_fake/3_origin_2267.png\n"
          ]
        },
        {
          "output_type": "stream",
          "name": "stderr",
          "text": [
            "\r  1%|          | 372/38104 [1:39:34<164:48:11, 15.72s/it]"
          ]
        },
        {
          "output_type": "stream",
          "name": "stdout",
          "text": [
            "/content/drive/MyDrive/DATASETS/DiffusionForensics/intrinsic/imagenet/train/1_fake/35_albedo_2268.png\n",
            "/content/drive/MyDrive/DATASETS/DiffusionForensics/intrinsic/imagenet/train/1_fake/35_shading_2268.png\n",
            "/content/drive/MyDrive/DATASETS/DiffusionForensics/intrinsic/imagenet/train/1_fake/35_origin_2268.png\n"
          ]
        },
        {
          "output_type": "stream",
          "name": "stderr",
          "text": [
            "\r  1%|          | 373/38104 [1:39:52<170:38:00, 16.28s/it]"
          ]
        },
        {
          "output_type": "stream",
          "name": "stdout",
          "text": [
            "/content/drive/MyDrive/DATASETS/DiffusionForensics/intrinsic/imagenet/train/1_fake/10_albedo_2269.png\n",
            "/content/drive/MyDrive/DATASETS/DiffusionForensics/intrinsic/imagenet/train/1_fake/10_shading_2269.png\n",
            "/content/drive/MyDrive/DATASETS/DiffusionForensics/intrinsic/imagenet/train/1_fake/10_origin_2269.png\n"
          ]
        },
        {
          "output_type": "stream",
          "name": "stderr",
          "text": [
            "\r  1%|          | 374/38104 [1:40:09<173:01:55, 16.51s/it]"
          ]
        },
        {
          "output_type": "stream",
          "name": "stdout",
          "text": [
            "/content/drive/MyDrive/DATASETS/DiffusionForensics/intrinsic/imagenet/train/1_fake/31_albedo_2270.png\n",
            "/content/drive/MyDrive/DATASETS/DiffusionForensics/intrinsic/imagenet/train/1_fake/31_shading_2270.png\n",
            "/content/drive/MyDrive/DATASETS/DiffusionForensics/intrinsic/imagenet/train/1_fake/31_origin_2270.png\n"
          ]
        },
        {
          "output_type": "stream",
          "name": "stderr",
          "text": [
            "\r  1%|          | 375/38104 [1:40:26<174:20:56, 16.64s/it]"
          ]
        },
        {
          "output_type": "stream",
          "name": "stdout",
          "text": [
            "/content/drive/MyDrive/DATASETS/DiffusionForensics/intrinsic/imagenet/train/1_fake/23_albedo_2271.png\n",
            "/content/drive/MyDrive/DATASETS/DiffusionForensics/intrinsic/imagenet/train/1_fake/23_shading_2271.png\n",
            "/content/drive/MyDrive/DATASETS/DiffusionForensics/intrinsic/imagenet/train/1_fake/23_origin_2271.png\n"
          ]
        },
        {
          "output_type": "stream",
          "name": "stderr",
          "text": [
            "\r  1%|          | 376/38104 [1:40:42<173:12:41, 16.53s/it]"
          ]
        },
        {
          "output_type": "stream",
          "name": "stdout",
          "text": [
            "/content/drive/MyDrive/DATASETS/DiffusionForensics/intrinsic/imagenet/train/1_fake/0_albedo_2272.png\n",
            "/content/drive/MyDrive/DATASETS/DiffusionForensics/intrinsic/imagenet/train/1_fake/0_shading_2272.png\n",
            "/content/drive/MyDrive/DATASETS/DiffusionForensics/intrinsic/imagenet/train/1_fake/0_origin_2272.png\n"
          ]
        },
        {
          "output_type": "stream",
          "name": "stderr",
          "text": [
            "\r  1%|          | 377/38104 [1:41:00<176:34:28, 16.85s/it]"
          ]
        },
        {
          "output_type": "stream",
          "name": "stdout",
          "text": [
            "/content/drive/MyDrive/DATASETS/DiffusionForensics/intrinsic/imagenet/train/1_fake/22_albedo_2273.png\n",
            "/content/drive/MyDrive/DATASETS/DiffusionForensics/intrinsic/imagenet/train/1_fake/22_shading_2273.png\n",
            "/content/drive/MyDrive/DATASETS/DiffusionForensics/intrinsic/imagenet/train/1_fake/22_origin_2273.png\n"
          ]
        },
        {
          "output_type": "stream",
          "name": "stderr",
          "text": [
            "\r  1%|          | 378/38104 [1:41:17<177:47:11, 16.97s/it]"
          ]
        },
        {
          "output_type": "stream",
          "name": "stdout",
          "text": [
            "/content/drive/MyDrive/DATASETS/DiffusionForensics/intrinsic/imagenet/train/1_fake/21_albedo_2274.png\n",
            "/content/drive/MyDrive/DATASETS/DiffusionForensics/intrinsic/imagenet/train/1_fake/21_shading_2274.png\n",
            "/content/drive/MyDrive/DATASETS/DiffusionForensics/intrinsic/imagenet/train/1_fake/21_origin_2274.png\n"
          ]
        },
        {
          "output_type": "stream",
          "name": "stderr",
          "text": [
            "\r  1%|          | 379/38104 [1:41:36<183:46:20, 17.54s/it]"
          ]
        },
        {
          "output_type": "stream",
          "name": "stdout",
          "text": [
            "/content/drive/MyDrive/DATASETS/DiffusionForensics/intrinsic/imagenet/train/1_fake/12_albedo_2275.png\n",
            "/content/drive/MyDrive/DATASETS/DiffusionForensics/intrinsic/imagenet/train/1_fake/12_shading_2275.png\n",
            "/content/drive/MyDrive/DATASETS/DiffusionForensics/intrinsic/imagenet/train/1_fake/12_origin_2275.png\n"
          ]
        },
        {
          "output_type": "stream",
          "name": "stderr",
          "text": [
            "\r  1%|          | 380/38104 [1:41:53<181:33:46, 17.33s/it]"
          ]
        },
        {
          "output_type": "stream",
          "name": "stdout",
          "text": [
            "/content/drive/MyDrive/DATASETS/DiffusionForensics/intrinsic/imagenet/train/1_fake/18_albedo_2276.png\n",
            "/content/drive/MyDrive/DATASETS/DiffusionForensics/intrinsic/imagenet/train/1_fake/18_shading_2276.png\n",
            "/content/drive/MyDrive/DATASETS/DiffusionForensics/intrinsic/imagenet/train/1_fake/18_origin_2276.png\n"
          ]
        },
        {
          "output_type": "stream",
          "name": "stderr",
          "text": [
            "\r  1%|          | 381/38104 [1:42:09<178:37:40, 17.05s/it]"
          ]
        },
        {
          "output_type": "stream",
          "name": "stdout",
          "text": [
            "/content/drive/MyDrive/DATASETS/DiffusionForensics/intrinsic/imagenet/train/1_fake/34_albedo_2277.png\n",
            "/content/drive/MyDrive/DATASETS/DiffusionForensics/intrinsic/imagenet/train/1_fake/34_shading_2277.png\n",
            "/content/drive/MyDrive/DATASETS/DiffusionForensics/intrinsic/imagenet/train/1_fake/34_origin_2277.png\n"
          ]
        },
        {
          "output_type": "stream",
          "name": "stderr",
          "text": [
            "\r  1%|          | 382/38104 [1:42:27<181:42:16, 17.34s/it]"
          ]
        },
        {
          "output_type": "stream",
          "name": "stdout",
          "text": [
            "/content/drive/MyDrive/DATASETS/DiffusionForensics/intrinsic/imagenet/train/1_fake/26_albedo_2278.png\n",
            "/content/drive/MyDrive/DATASETS/DiffusionForensics/intrinsic/imagenet/train/1_fake/26_shading_2278.png\n",
            "/content/drive/MyDrive/DATASETS/DiffusionForensics/intrinsic/imagenet/train/1_fake/26_origin_2278.png\n"
          ]
        },
        {
          "output_type": "stream",
          "name": "stderr",
          "text": [
            "\r  1%|          | 383/38104 [1:42:45<182:56:02, 17.46s/it]"
          ]
        },
        {
          "output_type": "stream",
          "name": "stdout",
          "text": [
            "/content/drive/MyDrive/DATASETS/DiffusionForensics/intrinsic/imagenet/train/1_fake/38_albedo_2279.png\n",
            "/content/drive/MyDrive/DATASETS/DiffusionForensics/intrinsic/imagenet/train/1_fake/38_shading_2279.png\n",
            "/content/drive/MyDrive/DATASETS/DiffusionForensics/intrinsic/imagenet/train/1_fake/38_origin_2279.png\n"
          ]
        },
        {
          "output_type": "stream",
          "name": "stderr",
          "text": [
            "\r  1%|          | 384/38104 [1:43:02<180:56:44, 17.27s/it]"
          ]
        },
        {
          "output_type": "stream",
          "name": "stdout",
          "text": [
            "/content/drive/MyDrive/DATASETS/DiffusionForensics/intrinsic/imagenet/train/1_fake/4_albedo_2280.png\n",
            "/content/drive/MyDrive/DATASETS/DiffusionForensics/intrinsic/imagenet/train/1_fake/4_shading_2280.png\n",
            "/content/drive/MyDrive/DATASETS/DiffusionForensics/intrinsic/imagenet/train/1_fake/4_origin_2280.png\n"
          ]
        },
        {
          "output_type": "stream",
          "name": "stderr",
          "text": [
            "\r  1%|          | 385/38104 [1:43:19<180:11:00, 17.20s/it]"
          ]
        },
        {
          "output_type": "stream",
          "name": "stdout",
          "text": [
            "/content/drive/MyDrive/DATASETS/DiffusionForensics/intrinsic/imagenet/train/1_fake/16_albedo_2281.png\n",
            "/content/drive/MyDrive/DATASETS/DiffusionForensics/intrinsic/imagenet/train/1_fake/16_shading_2281.png\n",
            "/content/drive/MyDrive/DATASETS/DiffusionForensics/intrinsic/imagenet/train/1_fake/16_origin_2281.png\n"
          ]
        },
        {
          "output_type": "stream",
          "name": "stderr",
          "text": [
            "\r  1%|          | 386/38104 [1:43:35<176:55:15, 16.89s/it]"
          ]
        },
        {
          "output_type": "stream",
          "name": "stdout",
          "text": [
            "/content/drive/MyDrive/DATASETS/DiffusionForensics/intrinsic/imagenet/train/1_fake/33_albedo_2282.png\n",
            "/content/drive/MyDrive/DATASETS/DiffusionForensics/intrinsic/imagenet/train/1_fake/33_shading_2282.png\n",
            "/content/drive/MyDrive/DATASETS/DiffusionForensics/intrinsic/imagenet/train/1_fake/33_origin_2282.png\n"
          ]
        },
        {
          "output_type": "stream",
          "name": "stderr",
          "text": [
            "\r  1%|          | 387/38104 [1:43:46<157:48:36, 15.06s/it]"
          ]
        },
        {
          "output_type": "stream",
          "name": "stdout",
          "text": [
            "/content/drive/MyDrive/DATASETS/DiffusionForensics/intrinsic/imagenet/train/1_fake/6_albedo_2283.png\n",
            "/content/drive/MyDrive/DATASETS/DiffusionForensics/intrinsic/imagenet/train/1_fake/6_shading_2283.png\n",
            "/content/drive/MyDrive/DATASETS/DiffusionForensics/intrinsic/imagenet/train/1_fake/6_origin_2283.png\n"
          ]
        },
        {
          "output_type": "stream",
          "name": "stderr",
          "text": [
            "\r  1%|          | 388/38104 [1:43:56<143:40:20, 13.71s/it]"
          ]
        },
        {
          "output_type": "stream",
          "name": "stdout",
          "text": [
            "/content/drive/MyDrive/DATASETS/DiffusionForensics/intrinsic/imagenet/train/1_fake/7_albedo_2284.png\n",
            "/content/drive/MyDrive/DATASETS/DiffusionForensics/intrinsic/imagenet/train/1_fake/7_shading_2284.png\n",
            "/content/drive/MyDrive/DATASETS/DiffusionForensics/intrinsic/imagenet/train/1_fake/7_origin_2284.png\n"
          ]
        },
        {
          "output_type": "stream",
          "name": "stderr",
          "text": [
            "\r  1%|          | 389/38104 [1:44:13<154:30:21, 14.75s/it]"
          ]
        },
        {
          "output_type": "stream",
          "name": "stdout",
          "text": [
            "/content/drive/MyDrive/DATASETS/DiffusionForensics/intrinsic/imagenet/train/1_fake/36_albedo_2285.png\n",
            "/content/drive/MyDrive/DATASETS/DiffusionForensics/intrinsic/imagenet/train/1_fake/36_shading_2285.png\n",
            "/content/drive/MyDrive/DATASETS/DiffusionForensics/intrinsic/imagenet/train/1_fake/36_origin_2285.png\n"
          ]
        },
        {
          "output_type": "stream",
          "name": "stderr",
          "text": [
            "\r  1%|          | 390/38104 [1:44:31<162:20:20, 15.50s/it]"
          ]
        },
        {
          "output_type": "stream",
          "name": "stdout",
          "text": [
            "/content/drive/MyDrive/DATASETS/DiffusionForensics/intrinsic/imagenet/train/1_fake/15_albedo_2286.png\n",
            "/content/drive/MyDrive/DATASETS/DiffusionForensics/intrinsic/imagenet/train/1_fake/15_shading_2286.png\n",
            "/content/drive/MyDrive/DATASETS/DiffusionForensics/intrinsic/imagenet/train/1_fake/15_origin_2286.png\n"
          ]
        },
        {
          "output_type": "stream",
          "name": "stderr",
          "text": [
            "\r  1%|          | 391/38104 [1:44:42<150:56:25, 14.41s/it]"
          ]
        },
        {
          "output_type": "stream",
          "name": "stdout",
          "text": [
            "/content/drive/MyDrive/DATASETS/DiffusionForensics/intrinsic/imagenet/train/1_fake/13_albedo_2287.png\n",
            "/content/drive/MyDrive/DATASETS/DiffusionForensics/intrinsic/imagenet/train/1_fake/13_shading_2287.png\n",
            "/content/drive/MyDrive/DATASETS/DiffusionForensics/intrinsic/imagenet/train/1_fake/13_origin_2287.png\n"
          ]
        },
        {
          "output_type": "stream",
          "name": "stderr",
          "text": [
            "\r  1%|          | 392/38104 [1:44:59<158:53:15, 15.17s/it]"
          ]
        },
        {
          "output_type": "stream",
          "name": "stdout",
          "text": [
            "/content/drive/MyDrive/DATASETS/DiffusionForensics/intrinsic/imagenet/train/1_fake/5_albedo_2288.png\n",
            "/content/drive/MyDrive/DATASETS/DiffusionForensics/intrinsic/imagenet/train/1_fake/5_shading_2288.png\n",
            "/content/drive/MyDrive/DATASETS/DiffusionForensics/intrinsic/imagenet/train/1_fake/5_origin_2288.png\n"
          ]
        },
        {
          "output_type": "stream",
          "name": "stderr",
          "text": [
            "\r  1%|          | 393/38104 [1:45:10<144:30:30, 13.80s/it]"
          ]
        },
        {
          "output_type": "stream",
          "name": "stdout",
          "text": [
            "/content/drive/MyDrive/DATASETS/DiffusionForensics/intrinsic/imagenet/train/1_fake/24_albedo_2289.png\n",
            "/content/drive/MyDrive/DATASETS/DiffusionForensics/intrinsic/imagenet/train/1_fake/24_shading_2289.png\n",
            "/content/drive/MyDrive/DATASETS/DiffusionForensics/intrinsic/imagenet/train/1_fake/24_origin_2289.png\n"
          ]
        },
        {
          "output_type": "stream",
          "name": "stderr",
          "text": [
            "\r  1%|          | 394/38104 [1:45:21<134:36:54, 12.85s/it]"
          ]
        },
        {
          "output_type": "stream",
          "name": "stdout",
          "text": [
            "/content/drive/MyDrive/DATASETS/DiffusionForensics/intrinsic/imagenet/train/1_fake/28_albedo_2290.png\n",
            "/content/drive/MyDrive/DATASETS/DiffusionForensics/intrinsic/imagenet/train/1_fake/28_shading_2290.png\n",
            "/content/drive/MyDrive/DATASETS/DiffusionForensics/intrinsic/imagenet/train/1_fake/28_origin_2290.png\n"
          ]
        },
        {
          "output_type": "stream",
          "name": "stderr",
          "text": [
            "\r  1%|          | 395/38104 [1:45:37<146:50:56, 14.02s/it]"
          ]
        },
        {
          "output_type": "stream",
          "name": "stdout",
          "text": [
            "/content/drive/MyDrive/DATASETS/DiffusionForensics/intrinsic/imagenet/train/1_fake/27_albedo_2291.png\n",
            "/content/drive/MyDrive/DATASETS/DiffusionForensics/intrinsic/imagenet/train/1_fake/27_shading_2291.png\n",
            "/content/drive/MyDrive/DATASETS/DiffusionForensics/intrinsic/imagenet/train/1_fake/27_origin_2291.png\n"
          ]
        },
        {
          "output_type": "stream",
          "name": "stderr",
          "text": [
            "\r  1%|          | 396/38104 [1:45:54<155:14:34, 14.82s/it]"
          ]
        },
        {
          "output_type": "stream",
          "name": "stdout",
          "text": [
            "/content/drive/MyDrive/DATASETS/DiffusionForensics/intrinsic/imagenet/train/1_fake/29_albedo_2292.png\n",
            "/content/drive/MyDrive/DATASETS/DiffusionForensics/intrinsic/imagenet/train/1_fake/29_shading_2292.png\n",
            "/content/drive/MyDrive/DATASETS/DiffusionForensics/intrinsic/imagenet/train/1_fake/29_origin_2292.png\n"
          ]
        },
        {
          "output_type": "stream",
          "name": "stderr",
          "text": [
            "\r  1%|          | 397/38104 [1:46:05<141:40:46, 13.53s/it]"
          ]
        },
        {
          "output_type": "stream",
          "name": "stdout",
          "text": [
            "/content/drive/MyDrive/DATASETS/DiffusionForensics/intrinsic/imagenet/train/1_fake/30_albedo_2293.png\n",
            "/content/drive/MyDrive/DATASETS/DiffusionForensics/intrinsic/imagenet/train/1_fake/30_shading_2293.png\n",
            "/content/drive/MyDrive/DATASETS/DiffusionForensics/intrinsic/imagenet/train/1_fake/30_origin_2293.png\n"
          ]
        },
        {
          "output_type": "stream",
          "name": "stderr",
          "text": [
            "\r  1%|          | 398/38104 [1:46:22<152:39:03, 14.57s/it]"
          ]
        },
        {
          "output_type": "stream",
          "name": "stdout",
          "text": [
            "/content/drive/MyDrive/DATASETS/DiffusionForensics/intrinsic/imagenet/train/1_fake/11_albedo_2294.png\n",
            "/content/drive/MyDrive/DATASETS/DiffusionForensics/intrinsic/imagenet/train/1_fake/11_shading_2294.png\n",
            "/content/drive/MyDrive/DATASETS/DiffusionForensics/intrinsic/imagenet/train/1_fake/11_origin_2294.png\n"
          ]
        },
        {
          "output_type": "stream",
          "name": "stderr",
          "text": [
            "\r  1%|          | 399/38104 [1:46:32<139:53:23, 13.36s/it]"
          ]
        },
        {
          "output_type": "stream",
          "name": "stdout",
          "text": [
            "/content/drive/MyDrive/DATASETS/DiffusionForensics/intrinsic/imagenet/train/1_fake/2_albedo_2295.png\n",
            "/content/drive/MyDrive/DATASETS/DiffusionForensics/intrinsic/imagenet/train/1_fake/2_shading_2295.png\n",
            "/content/drive/MyDrive/DATASETS/DiffusionForensics/intrinsic/imagenet/train/1_fake/2_origin_2295.png\n"
          ]
        },
        {
          "output_type": "stream",
          "name": "stderr",
          "text": [
            "\r  1%|          | 400/38104 [1:46:49<151:11:38, 14.44s/it]"
          ]
        },
        {
          "output_type": "stream",
          "name": "stdout",
          "text": [
            "/content/drive/MyDrive/DATASETS/DiffusionForensics/intrinsic/imagenet/train/1_fake/39_albedo_2296.png\n",
            "/content/drive/MyDrive/DATASETS/DiffusionForensics/intrinsic/imagenet/train/1_fake/39_shading_2296.png\n",
            "/content/drive/MyDrive/DATASETS/DiffusionForensics/intrinsic/imagenet/train/1_fake/39_origin_2296.png\n"
          ]
        },
        {
          "output_type": "stream",
          "name": "stderr",
          "text": [
            "\r  1%|          | 401/38104 [1:47:00<138:45:02, 13.25s/it]"
          ]
        },
        {
          "output_type": "stream",
          "name": "stdout",
          "text": [
            "/content/drive/MyDrive/DATASETS/DiffusionForensics/intrinsic/imagenet/train/1_fake/17_albedo_2297.png\n",
            "/content/drive/MyDrive/DATASETS/DiffusionForensics/intrinsic/imagenet/train/1_fake/17_shading_2297.png\n",
            "/content/drive/MyDrive/DATASETS/DiffusionForensics/intrinsic/imagenet/train/1_fake/17_origin_2297.png\n"
          ]
        },
        {
          "output_type": "stream",
          "name": "stderr",
          "text": [
            "\r  1%|          | 402/38104 [1:47:17<151:28:34, 14.46s/it]"
          ]
        },
        {
          "output_type": "stream",
          "name": "stdout",
          "text": [
            "/content/drive/MyDrive/DATASETS/DiffusionForensics/intrinsic/imagenet/train/1_fake/25_albedo_2298.png\n",
            "/content/drive/MyDrive/DATASETS/DiffusionForensics/intrinsic/imagenet/train/1_fake/25_shading_2298.png\n",
            "/content/drive/MyDrive/DATASETS/DiffusionForensics/intrinsic/imagenet/train/1_fake/25_origin_2298.png\n"
          ]
        },
        {
          "output_type": "stream",
          "name": "stderr",
          "text": [
            "\r  1%|          | 403/38104 [1:47:34<159:15:53, 15.21s/it]"
          ]
        },
        {
          "output_type": "stream",
          "name": "stdout",
          "text": [
            "/content/drive/MyDrive/DATASETS/DiffusionForensics/intrinsic/imagenet/train/1_fake/37_albedo_2299.png\n",
            "/content/drive/MyDrive/DATASETS/DiffusionForensics/intrinsic/imagenet/train/1_fake/37_shading_2299.png\n",
            "/content/drive/MyDrive/DATASETS/DiffusionForensics/intrinsic/imagenet/train/1_fake/37_origin_2299.png\n"
          ]
        },
        {
          "output_type": "stream",
          "name": "stderr",
          "text": [
            "\r  1%|          | 404/38104 [1:47:52<167:59:50, 16.04s/it]"
          ]
        },
        {
          "output_type": "stream",
          "name": "stdout",
          "text": [
            "/content/drive/MyDrive/DATASETS/DiffusionForensics/intrinsic/imagenet/train/1_fake/20_albedo_2300.png\n",
            "/content/drive/MyDrive/DATASETS/DiffusionForensics/intrinsic/imagenet/train/1_fake/20_shading_2300.png\n",
            "/content/drive/MyDrive/DATASETS/DiffusionForensics/intrinsic/imagenet/train/1_fake/20_origin_2300.png\n"
          ]
        },
        {
          "output_type": "stream",
          "name": "stderr",
          "text": [
            "\r  1%|          | 405/38104 [1:48:10<173:19:40, 16.55s/it]"
          ]
        },
        {
          "output_type": "stream",
          "name": "stdout",
          "text": [
            "/content/drive/MyDrive/DATASETS/DiffusionForensics/intrinsic/imagenet/train/1_fake/1_albedo_2301.png\n",
            "/content/drive/MyDrive/DATASETS/DiffusionForensics/intrinsic/imagenet/train/1_fake/1_shading_2301.png\n",
            "/content/drive/MyDrive/DATASETS/DiffusionForensics/intrinsic/imagenet/train/1_fake/1_origin_2301.png\n"
          ]
        },
        {
          "output_type": "stream",
          "name": "stderr",
          "text": [
            "\r  1%|          | 406/38104 [1:48:27<177:05:13, 16.91s/it]"
          ]
        },
        {
          "output_type": "stream",
          "name": "stdout",
          "text": [
            "/content/drive/MyDrive/DATASETS/DiffusionForensics/intrinsic/imagenet/train/1_fake/32_albedo_2302.png\n",
            "/content/drive/MyDrive/DATASETS/DiffusionForensics/intrinsic/imagenet/train/1_fake/32_shading_2302.png\n",
            "/content/drive/MyDrive/DATASETS/DiffusionForensics/intrinsic/imagenet/train/1_fake/32_origin_2302.png\n"
          ]
        },
        {
          "output_type": "stream",
          "name": "stderr",
          "text": [
            "\r  1%|          | 407/38104 [1:48:37<154:56:22, 14.80s/it]"
          ]
        },
        {
          "output_type": "stream",
          "name": "stdout",
          "text": [
            "/content/drive/MyDrive/DATASETS/DiffusionForensics/intrinsic/imagenet/train/1_fake/9_albedo_2303.png\n",
            "/content/drive/MyDrive/DATASETS/DiffusionForensics/intrinsic/imagenet/train/1_fake/9_shading_2303.png\n",
            "/content/drive/MyDrive/DATASETS/DiffusionForensics/intrinsic/imagenet/train/1_fake/9_origin_2303.png\n"
          ]
        },
        {
          "output_type": "stream",
          "name": "stderr",
          "text": [
            "\r  1%|          | 408/38104 [1:48:47<139:29:53, 13.32s/it]"
          ]
        },
        {
          "output_type": "stream",
          "name": "stdout",
          "text": [
            "/content/drive/MyDrive/DATASETS/DiffusionForensics/intrinsic/imagenet/train/1_fake/14_albedo_2304.png\n",
            "/content/drive/MyDrive/DATASETS/DiffusionForensics/intrinsic/imagenet/train/1_fake/14_shading_2304.png\n",
            "/content/drive/MyDrive/DATASETS/DiffusionForensics/intrinsic/imagenet/train/1_fake/14_origin_2304.png\n"
          ]
        },
        {
          "output_type": "stream",
          "name": "stderr",
          "text": [
            "\r  1%|          | 409/38104 [1:49:05<153:03:58, 14.62s/it]"
          ]
        },
        {
          "output_type": "stream",
          "name": "stdout",
          "text": [
            "/content/drive/MyDrive/DATASETS/DiffusionForensics/intrinsic/imagenet/train/1_fake/8_albedo_2305.png\n",
            "/content/drive/MyDrive/DATASETS/DiffusionForensics/intrinsic/imagenet/train/1_fake/8_shading_2305.png\n",
            "/content/drive/MyDrive/DATASETS/DiffusionForensics/intrinsic/imagenet/train/1_fake/8_origin_2305.png\n"
          ]
        },
        {
          "output_type": "stream",
          "name": "stderr",
          "text": [
            "\r  1%|          | 410/38104 [1:49:23<164:02:16, 15.67s/it]"
          ]
        },
        {
          "output_type": "stream",
          "name": "stdout",
          "text": [
            "/content/drive/MyDrive/DATASETS/DiffusionForensics/intrinsic/imagenet/train/1_fake/19_albedo_2306.png\n",
            "/content/drive/MyDrive/DATASETS/DiffusionForensics/intrinsic/imagenet/train/1_fake/19_shading_2306.png\n",
            "/content/drive/MyDrive/DATASETS/DiffusionForensics/intrinsic/imagenet/train/1_fake/19_origin_2306.png\n"
          ]
        },
        {
          "output_type": "stream",
          "name": "stderr",
          "text": [
            "\r  1%|          | 411/38104 [1:49:32<143:56:10, 13.75s/it]"
          ]
        },
        {
          "output_type": "stream",
          "name": "stdout",
          "text": [
            "/content/drive/MyDrive/DATASETS/DiffusionForensics/intrinsic/imagenet/train/1_fake/3_albedo_2307.png\n",
            "/content/drive/MyDrive/DATASETS/DiffusionForensics/intrinsic/imagenet/train/1_fake/3_shading_2307.png\n",
            "/content/drive/MyDrive/DATASETS/DiffusionForensics/intrinsic/imagenet/train/1_fake/3_origin_2307.png\n"
          ]
        },
        {
          "output_type": "stream",
          "name": "stderr",
          "text": [
            "\r  1%|          | 412/38104 [1:49:50<156:13:26, 14.92s/it]"
          ]
        },
        {
          "output_type": "stream",
          "name": "stdout",
          "text": [
            "/content/drive/MyDrive/DATASETS/DiffusionForensics/intrinsic/imagenet/train/1_fake/35_albedo_2308.png\n",
            "/content/drive/MyDrive/DATASETS/DiffusionForensics/intrinsic/imagenet/train/1_fake/35_shading_2308.png\n",
            "/content/drive/MyDrive/DATASETS/DiffusionForensics/intrinsic/imagenet/train/1_fake/35_origin_2308.png\n"
          ]
        },
        {
          "output_type": "stream",
          "name": "stderr",
          "text": [
            "\r  1%|          | 413/38104 [1:49:59<137:25:35, 13.13s/it]"
          ]
        },
        {
          "output_type": "stream",
          "name": "stdout",
          "text": [
            "/content/drive/MyDrive/DATASETS/DiffusionForensics/intrinsic/imagenet/train/1_fake/10_albedo_2309.png\n",
            "/content/drive/MyDrive/DATASETS/DiffusionForensics/intrinsic/imagenet/train/1_fake/10_shading_2309.png\n",
            "/content/drive/MyDrive/DATASETS/DiffusionForensics/intrinsic/imagenet/train/1_fake/10_origin_2309.png\n"
          ]
        },
        {
          "output_type": "stream",
          "name": "stderr",
          "text": [
            "\r  1%|          | 414/38104 [1:50:09<129:58:36, 12.41s/it]"
          ]
        },
        {
          "output_type": "stream",
          "name": "stdout",
          "text": [
            "/content/drive/MyDrive/DATASETS/DiffusionForensics/intrinsic/imagenet/train/1_fake/31_albedo_2310.png\n",
            "/content/drive/MyDrive/DATASETS/DiffusionForensics/intrinsic/imagenet/train/1_fake/31_shading_2310.png\n",
            "/content/drive/MyDrive/DATASETS/DiffusionForensics/intrinsic/imagenet/train/1_fake/31_origin_2310.png\n"
          ]
        },
        {
          "output_type": "stream",
          "name": "stderr",
          "text": [
            "\r  1%|          | 415/38104 [1:50:26<143:35:51, 13.72s/it]"
          ]
        },
        {
          "output_type": "stream",
          "name": "stdout",
          "text": [
            "/content/drive/MyDrive/DATASETS/DiffusionForensics/intrinsic/imagenet/train/1_fake/23_albedo_2311.png\n",
            "/content/drive/MyDrive/DATASETS/DiffusionForensics/intrinsic/imagenet/train/1_fake/23_shading_2311.png\n",
            "/content/drive/MyDrive/DATASETS/DiffusionForensics/intrinsic/imagenet/train/1_fake/23_origin_2311.png\n"
          ]
        },
        {
          "output_type": "stream",
          "name": "stderr",
          "text": [
            "\r  1%|          | 416/38104 [1:50:37<134:46:02, 12.87s/it]"
          ]
        },
        {
          "output_type": "stream",
          "name": "stdout",
          "text": [
            "/content/drive/MyDrive/DATASETS/DiffusionForensics/intrinsic/imagenet/train/1_fake/0_albedo_2312.png\n",
            "/content/drive/MyDrive/DATASETS/DiffusionForensics/intrinsic/imagenet/train/1_fake/0_shading_2312.png\n",
            "/content/drive/MyDrive/DATASETS/DiffusionForensics/intrinsic/imagenet/train/1_fake/0_origin_2312.png\n"
          ]
        },
        {
          "output_type": "stream",
          "name": "stderr",
          "text": [
            "\r  1%|          | 417/38104 [1:50:50<135:05:57, 12.91s/it]"
          ]
        },
        {
          "output_type": "stream",
          "name": "stdout",
          "text": [
            "/content/drive/MyDrive/DATASETS/DiffusionForensics/intrinsic/imagenet/train/1_fake/22_albedo_2313.png\n",
            "/content/drive/MyDrive/DATASETS/DiffusionForensics/intrinsic/imagenet/train/1_fake/22_shading_2313.png\n",
            "/content/drive/MyDrive/DATASETS/DiffusionForensics/intrinsic/imagenet/train/1_fake/22_origin_2313.png\n"
          ]
        },
        {
          "output_type": "stream",
          "name": "stderr",
          "text": [
            "\r  1%|          | 418/38104 [1:51:07<148:37:02, 14.20s/it]"
          ]
        },
        {
          "output_type": "stream",
          "name": "stdout",
          "text": [
            "/content/drive/MyDrive/DATASETS/DiffusionForensics/intrinsic/imagenet/train/1_fake/21_albedo_2314.png\n",
            "/content/drive/MyDrive/DATASETS/DiffusionForensics/intrinsic/imagenet/train/1_fake/21_shading_2314.png\n",
            "/content/drive/MyDrive/DATASETS/DiffusionForensics/intrinsic/imagenet/train/1_fake/21_origin_2314.png\n"
          ]
        },
        {
          "output_type": "stream",
          "name": "stderr",
          "text": [
            "\r  1%|          | 419/38104 [1:51:25<158:18:17, 15.12s/it]"
          ]
        },
        {
          "output_type": "stream",
          "name": "stdout",
          "text": [
            "/content/drive/MyDrive/DATASETS/DiffusionForensics/intrinsic/imagenet/train/1_fake/12_albedo_2315.png\n",
            "/content/drive/MyDrive/DATASETS/DiffusionForensics/intrinsic/imagenet/train/1_fake/12_shading_2315.png\n",
            "/content/drive/MyDrive/DATASETS/DiffusionForensics/intrinsic/imagenet/train/1_fake/12_origin_2315.png\n",
            "/content/drive/MyDrive/DATASETS/DiffusionForensics/intrinsic/imagenet/train/1_fake/18_albedo_2316.png\n",
            "/content/drive/MyDrive/DATASETS/DiffusionForensics/intrinsic/imagenet/train/1_fake/18_shading_2316.png\n",
            "/content/drive/MyDrive/DATASETS/DiffusionForensics/intrinsic/imagenet/train/1_fake/18_origin_2316.png\n"
          ]
        },
        {
          "output_type": "stream",
          "name": "stderr",
          "text": [
            "  1%|          | 421/38104 [1:51:52<146:58:57, 14.04s/it]"
          ]
        },
        {
          "output_type": "stream",
          "name": "stdout",
          "text": [
            "/content/drive/MyDrive/DATASETS/DiffusionForensics/intrinsic/imagenet/train/1_fake/34_albedo_2317.png\n",
            "/content/drive/MyDrive/DATASETS/DiffusionForensics/intrinsic/imagenet/train/1_fake/34_shading_2317.png\n",
            "/content/drive/MyDrive/DATASETS/DiffusionForensics/intrinsic/imagenet/train/1_fake/34_origin_2317.png\n"
          ]
        },
        {
          "output_type": "stream",
          "name": "stderr",
          "text": [
            "\r  1%|          | 422/38104 [1:52:02<136:02:58, 13.00s/it]"
          ]
        },
        {
          "output_type": "stream",
          "name": "stdout",
          "text": [
            "/content/drive/MyDrive/DATASETS/DiffusionForensics/intrinsic/imagenet/train/1_fake/26_albedo_2318.png\n",
            "/content/drive/MyDrive/DATASETS/DiffusionForensics/intrinsic/imagenet/train/1_fake/26_shading_2318.png\n",
            "/content/drive/MyDrive/DATASETS/DiffusionForensics/intrinsic/imagenet/train/1_fake/26_origin_2318.png\n"
          ]
        },
        {
          "output_type": "stream",
          "name": "stderr",
          "text": [
            "\r  1%|          | 423/38104 [1:52:13<128:02:14, 12.23s/it]"
          ]
        },
        {
          "output_type": "stream",
          "name": "stdout",
          "text": [
            "/content/drive/MyDrive/DATASETS/DiffusionForensics/intrinsic/imagenet/train/1_fake/38_albedo_2319.png\n",
            "/content/drive/MyDrive/DATASETS/DiffusionForensics/intrinsic/imagenet/train/1_fake/38_shading_2319.png\n",
            "/content/drive/MyDrive/DATASETS/DiffusionForensics/intrinsic/imagenet/train/1_fake/38_origin_2319.png\n"
          ]
        },
        {
          "output_type": "stream",
          "name": "stderr",
          "text": [
            "\r  1%|          | 424/38104 [1:52:30<142:28:25, 13.61s/it]"
          ]
        },
        {
          "output_type": "stream",
          "name": "stdout",
          "text": [
            "/content/drive/MyDrive/DATASETS/DiffusionForensics/intrinsic/imagenet/train/1_fake/4_albedo_2320.png\n",
            "/content/drive/MyDrive/DATASETS/DiffusionForensics/intrinsic/imagenet/train/1_fake/4_shading_2320.png\n",
            "/content/drive/MyDrive/DATASETS/DiffusionForensics/intrinsic/imagenet/train/1_fake/4_origin_2320.png\n"
          ]
        },
        {
          "output_type": "stream",
          "name": "stderr",
          "text": [
            "\r  1%|          | 425/38104 [1:52:40<132:18:01, 12.64s/it]"
          ]
        },
        {
          "output_type": "stream",
          "name": "stdout",
          "text": [
            "/content/drive/MyDrive/DATASETS/DiffusionForensics/intrinsic/imagenet/train/1_fake/16_albedo_2321.png\n",
            "/content/drive/MyDrive/DATASETS/DiffusionForensics/intrinsic/imagenet/train/1_fake/16_shading_2321.png\n",
            "/content/drive/MyDrive/DATASETS/DiffusionForensics/intrinsic/imagenet/train/1_fake/16_origin_2321.png\n"
          ]
        },
        {
          "output_type": "stream",
          "name": "stderr",
          "text": [
            "\r  1%|          | 426/38104 [1:52:49<121:55:41, 11.65s/it]"
          ]
        },
        {
          "output_type": "stream",
          "name": "stdout",
          "text": [
            "/content/drive/MyDrive/DATASETS/DiffusionForensics/intrinsic/imagenet/train/1_fake/33_albedo_2322.png\n",
            "/content/drive/MyDrive/DATASETS/DiffusionForensics/intrinsic/imagenet/train/1_fake/33_shading_2322.png\n",
            "/content/drive/MyDrive/DATASETS/DiffusionForensics/intrinsic/imagenet/train/1_fake/33_origin_2322.png\n"
          ]
        },
        {
          "output_type": "stream",
          "name": "stderr",
          "text": [
            "\r  1%|          | 427/38104 [1:53:06<137:49:35, 13.17s/it]"
          ]
        },
        {
          "output_type": "stream",
          "name": "stdout",
          "text": [
            "/content/drive/MyDrive/DATASETS/DiffusionForensics/intrinsic/imagenet/train/1_fake/6_albedo_2323.png\n",
            "/content/drive/MyDrive/DATASETS/DiffusionForensics/intrinsic/imagenet/train/1_fake/6_shading_2323.png\n",
            "/content/drive/MyDrive/DATASETS/DiffusionForensics/intrinsic/imagenet/train/1_fake/6_origin_2323.png\n"
          ]
        },
        {
          "output_type": "stream",
          "name": "stderr",
          "text": [
            "\r  1%|          | 428/38104 [1:53:24<151:33:33, 14.48s/it]"
          ]
        },
        {
          "output_type": "stream",
          "name": "stdout",
          "text": [
            "/content/drive/MyDrive/DATASETS/DiffusionForensics/intrinsic/imagenet/train/1_fake/7_albedo_2324.png\n",
            "/content/drive/MyDrive/DATASETS/DiffusionForensics/intrinsic/imagenet/train/1_fake/7_shading_2324.png\n",
            "/content/drive/MyDrive/DATASETS/DiffusionForensics/intrinsic/imagenet/train/1_fake/7_origin_2324.png\n"
          ]
        },
        {
          "output_type": "stream",
          "name": "stderr",
          "text": [
            "\r  1%|          | 429/38104 [1:53:33<134:14:41, 12.83s/it]"
          ]
        },
        {
          "output_type": "stream",
          "name": "stdout",
          "text": [
            "/content/drive/MyDrive/DATASETS/DiffusionForensics/intrinsic/imagenet/train/1_fake/36_albedo_2325.png\n",
            "/content/drive/MyDrive/DATASETS/DiffusionForensics/intrinsic/imagenet/train/1_fake/36_shading_2325.png\n",
            "/content/drive/MyDrive/DATASETS/DiffusionForensics/intrinsic/imagenet/train/1_fake/36_origin_2325.png\n"
          ]
        },
        {
          "output_type": "stream",
          "name": "stderr",
          "text": [
            "\r  1%|          | 430/38104 [1:53:51<152:25:52, 14.57s/it]"
          ]
        },
        {
          "output_type": "stream",
          "name": "stdout",
          "text": [
            "/content/drive/MyDrive/DATASETS/DiffusionForensics/intrinsic/imagenet/train/1_fake/15_albedo_2326.png\n",
            "/content/drive/MyDrive/DATASETS/DiffusionForensics/intrinsic/imagenet/train/1_fake/15_shading_2326.png\n",
            "/content/drive/MyDrive/DATASETS/DiffusionForensics/intrinsic/imagenet/train/1_fake/15_origin_2326.png\n"
          ]
        },
        {
          "output_type": "stream",
          "name": "stderr",
          "text": [
            "\r  1%|          | 431/38104 [1:54:09<162:00:39, 15.48s/it]"
          ]
        },
        {
          "output_type": "stream",
          "name": "stdout",
          "text": [
            "/content/drive/MyDrive/DATASETS/DiffusionForensics/intrinsic/imagenet/train/1_fake/13_albedo_2327.png\n",
            "/content/drive/MyDrive/DATASETS/DiffusionForensics/intrinsic/imagenet/train/1_fake/13_shading_2327.png\n",
            "/content/drive/MyDrive/DATASETS/DiffusionForensics/intrinsic/imagenet/train/1_fake/13_origin_2327.png\n"
          ]
        },
        {
          "output_type": "stream",
          "name": "stderr",
          "text": [
            "\r  1%|          | 432/38104 [1:54:26<166:33:11, 15.92s/it]"
          ]
        },
        {
          "output_type": "stream",
          "name": "stdout",
          "text": [
            "/content/drive/MyDrive/DATASETS/DiffusionForensics/intrinsic/imagenet/train/1_fake/5_albedo_2328.png\n",
            "/content/drive/MyDrive/DATASETS/DiffusionForensics/intrinsic/imagenet/train/1_fake/5_shading_2328.png\n",
            "/content/drive/MyDrive/DATASETS/DiffusionForensics/intrinsic/imagenet/train/1_fake/5_origin_2328.png\n"
          ]
        },
        {
          "output_type": "stream",
          "name": "stderr",
          "text": [
            "\r  1%|          | 433/38104 [1:54:43<169:52:26, 16.23s/it]"
          ]
        },
        {
          "output_type": "stream",
          "name": "stdout",
          "text": [
            "/content/drive/MyDrive/DATASETS/DiffusionForensics/intrinsic/imagenet/train/1_fake/24_albedo_2329.png\n",
            "/content/drive/MyDrive/DATASETS/DiffusionForensics/intrinsic/imagenet/train/1_fake/24_shading_2329.png\n",
            "/content/drive/MyDrive/DATASETS/DiffusionForensics/intrinsic/imagenet/train/1_fake/24_origin_2329.png\n"
          ]
        },
        {
          "output_type": "stream",
          "name": "stderr",
          "text": [
            "\r  1%|          | 434/38104 [1:55:00<171:34:18, 16.40s/it]"
          ]
        },
        {
          "output_type": "stream",
          "name": "stdout",
          "text": [
            "/content/drive/MyDrive/DATASETS/DiffusionForensics/intrinsic/imagenet/train/1_fake/28_albedo_2330.png\n",
            "/content/drive/MyDrive/DATASETS/DiffusionForensics/intrinsic/imagenet/train/1_fake/28_shading_2330.png\n",
            "/content/drive/MyDrive/DATASETS/DiffusionForensics/intrinsic/imagenet/train/1_fake/28_origin_2330.png\n"
          ]
        },
        {
          "output_type": "stream",
          "name": "stderr",
          "text": [
            "\r  1%|          | 435/38104 [1:55:10<153:23:55, 14.66s/it]"
          ]
        },
        {
          "output_type": "stream",
          "name": "stdout",
          "text": [
            "/content/drive/MyDrive/DATASETS/DiffusionForensics/intrinsic/imagenet/train/1_fake/27_albedo_2331.png\n",
            "/content/drive/MyDrive/DATASETS/DiffusionForensics/intrinsic/imagenet/train/1_fake/27_shading_2331.png\n",
            "/content/drive/MyDrive/DATASETS/DiffusionForensics/intrinsic/imagenet/train/1_fake/27_origin_2331.png\n"
          ]
        },
        {
          "output_type": "stream",
          "name": "stderr",
          "text": [
            "\r  1%|          | 436/38104 [1:55:27<159:45:01, 15.27s/it]"
          ]
        },
        {
          "output_type": "stream",
          "name": "stdout",
          "text": [
            "/content/drive/MyDrive/DATASETS/DiffusionForensics/intrinsic/imagenet/train/1_fake/29_albedo_2332.png\n",
            "/content/drive/MyDrive/DATASETS/DiffusionForensics/intrinsic/imagenet/train/1_fake/29_shading_2332.png\n",
            "/content/drive/MyDrive/DATASETS/DiffusionForensics/intrinsic/imagenet/train/1_fake/29_origin_2332.png\n"
          ]
        },
        {
          "output_type": "stream",
          "name": "stderr",
          "text": [
            "\r  1%|          | 436/38104 [1:55:34<166:24:31, 15.90s/it]\n"
          ]
        },
        {
          "output_type": "error",
          "ename": "KeyboardInterrupt",
          "evalue": "",
          "traceback": [
            "\u001b[0;31m---------------------------------------------------------------------------\u001b[0m",
            "\u001b[0;31mKeyboardInterrupt\u001b[0m                         Traceback (most recent call last)",
            "\u001b[0;32m<ipython-input-14-5ca2f73ee316>\u001b[0m in \u001b[0;36m<cell line: 9>\u001b[0;34m()\u001b[0m\n\u001b[1;32m     11\u001b[0m \u001b[0;34m\u001b[0m\u001b[0m\n\u001b[1;32m     12\u001b[0m     \u001b[0;32mif\u001b[0m \u001b[0mimg\u001b[0m\u001b[0;34m.\u001b[0m\u001b[0mshape\u001b[0m\u001b[0;34m[\u001b[0m\u001b[0;34m-\u001b[0m\u001b[0;36m1\u001b[0m\u001b[0;34m]\u001b[0m \u001b[0;34m==\u001b[0m \u001b[0;36m3\u001b[0m\u001b[0;34m:\u001b[0m\u001b[0;34m\u001b[0m\u001b[0;34m\u001b[0m\u001b[0m\n\u001b[0;32m---> 13\u001b[0;31m         result = run_pipeline(\n\u001b[0m\u001b[1;32m     14\u001b[0m           \u001b[0mintrinsic_model\u001b[0m\u001b[0;34m,\u001b[0m\u001b[0;34m\u001b[0m\u001b[0;34m\u001b[0m\u001b[0m\n\u001b[1;32m     15\u001b[0m           \u001b[0mimg\u001b[0m\u001b[0;34m,\u001b[0m\u001b[0;34m\u001b[0m\u001b[0;34m\u001b[0m\u001b[0m\n",
            "\u001b[0;32m/content/Intrinsic/intrinsic/pipeline.py\u001b[0m in \u001b[0;36mrun_pipeline\u001b[0;34m(models, img_arr, output_ordinal, resize_conf, base_size, maintain_size, linear, device, lstsq_p, inputs)\u001b[0m\n\u001b[1;32m     82\u001b[0m \u001b[0;34m\u001b[0m\u001b[0m\n\u001b[1;32m     83\u001b[0m         \u001b[0mbase_out\u001b[0m \u001b[0;34m=\u001b[0m \u001b[0mmodels\u001b[0m\u001b[0;34m[\u001b[0m\u001b[0;34m'ordinal_model'\u001b[0m\u001b[0;34m]\u001b[0m\u001b[0;34m(\u001b[0m\u001b[0mbase_input\u001b[0m\u001b[0;34m.\u001b[0m\u001b[0munsqueeze\u001b[0m\u001b[0;34m(\u001b[0m\u001b[0;36m0\u001b[0m\u001b[0;34m)\u001b[0m\u001b[0;34m)\u001b[0m\u001b[0;34m.\u001b[0m\u001b[0msqueeze\u001b[0m\u001b[0;34m(\u001b[0m\u001b[0;36m0\u001b[0m\u001b[0;34m)\u001b[0m\u001b[0;34m\u001b[0m\u001b[0;34m\u001b[0m\u001b[0m\n\u001b[0;32m---> 84\u001b[0;31m         \u001b[0mfull_out\u001b[0m \u001b[0;34m=\u001b[0m \u001b[0mmodels\u001b[0m\u001b[0;34m[\u001b[0m\u001b[0;34m'ordinal_model'\u001b[0m\u001b[0;34m]\u001b[0m\u001b[0;34m(\u001b[0m\u001b[0mfull_input\u001b[0m\u001b[0;34m.\u001b[0m\u001b[0munsqueeze\u001b[0m\u001b[0;34m(\u001b[0m\u001b[0;36m0\u001b[0m\u001b[0;34m)\u001b[0m\u001b[0;34m)\u001b[0m\u001b[0;34m.\u001b[0m\u001b[0msqueeze\u001b[0m\u001b[0;34m(\u001b[0m\u001b[0;36m0\u001b[0m\u001b[0;34m)\u001b[0m\u001b[0;34m\u001b[0m\u001b[0;34m\u001b[0m\u001b[0m\n\u001b[0m\u001b[1;32m     85\u001b[0m \u001b[0;34m\u001b[0m\u001b[0m\n\u001b[1;32m     86\u001b[0m         \u001b[0;31m# the ordinal estimations come out of the model with a channel dim\u001b[0m\u001b[0;34m\u001b[0m\u001b[0;34m\u001b[0m\u001b[0m\n",
            "\u001b[0;32m/usr/local/lib/python3.10/dist-packages/torch/nn/modules/module.py\u001b[0m in \u001b[0;36m_wrapped_call_impl\u001b[0;34m(self, *args, **kwargs)\u001b[0m\n\u001b[1;32m   1509\u001b[0m             \u001b[0;32mreturn\u001b[0m \u001b[0mself\u001b[0m\u001b[0;34m.\u001b[0m\u001b[0m_compiled_call_impl\u001b[0m\u001b[0;34m(\u001b[0m\u001b[0;34m*\u001b[0m\u001b[0margs\u001b[0m\u001b[0;34m,\u001b[0m \u001b[0;34m**\u001b[0m\u001b[0mkwargs\u001b[0m\u001b[0;34m)\u001b[0m  \u001b[0;31m# type: ignore[misc]\u001b[0m\u001b[0;34m\u001b[0m\u001b[0;34m\u001b[0m\u001b[0m\n\u001b[1;32m   1510\u001b[0m         \u001b[0;32melse\u001b[0m\u001b[0;34m:\u001b[0m\u001b[0;34m\u001b[0m\u001b[0;34m\u001b[0m\u001b[0m\n\u001b[0;32m-> 1511\u001b[0;31m             \u001b[0;32mreturn\u001b[0m \u001b[0mself\u001b[0m\u001b[0;34m.\u001b[0m\u001b[0m_call_impl\u001b[0m\u001b[0;34m(\u001b[0m\u001b[0;34m*\u001b[0m\u001b[0margs\u001b[0m\u001b[0;34m,\u001b[0m \u001b[0;34m**\u001b[0m\u001b[0mkwargs\u001b[0m\u001b[0;34m)\u001b[0m\u001b[0;34m\u001b[0m\u001b[0;34m\u001b[0m\u001b[0m\n\u001b[0m\u001b[1;32m   1512\u001b[0m \u001b[0;34m\u001b[0m\u001b[0m\n\u001b[1;32m   1513\u001b[0m     \u001b[0;32mdef\u001b[0m \u001b[0m_call_impl\u001b[0m\u001b[0;34m(\u001b[0m\u001b[0mself\u001b[0m\u001b[0;34m,\u001b[0m \u001b[0;34m*\u001b[0m\u001b[0margs\u001b[0m\u001b[0;34m,\u001b[0m \u001b[0;34m**\u001b[0m\u001b[0mkwargs\u001b[0m\u001b[0;34m)\u001b[0m\u001b[0;34m:\u001b[0m\u001b[0;34m\u001b[0m\u001b[0;34m\u001b[0m\u001b[0m\n",
            "\u001b[0;32m/usr/local/lib/python3.10/dist-packages/torch/nn/modules/module.py\u001b[0m in \u001b[0;36m_call_impl\u001b[0;34m(self, *args, **kwargs)\u001b[0m\n\u001b[1;32m   1518\u001b[0m                 \u001b[0;32mor\u001b[0m \u001b[0m_global_backward_pre_hooks\u001b[0m \u001b[0;32mor\u001b[0m \u001b[0m_global_backward_hooks\u001b[0m\u001b[0;34m\u001b[0m\u001b[0;34m\u001b[0m\u001b[0m\n\u001b[1;32m   1519\u001b[0m                 or _global_forward_hooks or _global_forward_pre_hooks):\n\u001b[0;32m-> 1520\u001b[0;31m             \u001b[0;32mreturn\u001b[0m \u001b[0mforward_call\u001b[0m\u001b[0;34m(\u001b[0m\u001b[0;34m*\u001b[0m\u001b[0margs\u001b[0m\u001b[0;34m,\u001b[0m \u001b[0;34m**\u001b[0m\u001b[0mkwargs\u001b[0m\u001b[0;34m)\u001b[0m\u001b[0;34m\u001b[0m\u001b[0;34m\u001b[0m\u001b[0m\n\u001b[0m\u001b[1;32m   1521\u001b[0m \u001b[0;34m\u001b[0m\u001b[0m\n\u001b[1;32m   1522\u001b[0m         \u001b[0;32mtry\u001b[0m\u001b[0;34m:\u001b[0m\u001b[0;34m\u001b[0m\u001b[0;34m\u001b[0m\u001b[0m\n",
            "\u001b[0;32m/usr/local/lib/python3.10/dist-packages/altered_midas/midas_net.py\u001b[0m in \u001b[0;36mforward\u001b[0;34m(self, x)\u001b[0m\n\u001b[1;32m     62\u001b[0m \u001b[0;34m\u001b[0m\u001b[0m\n\u001b[1;32m     63\u001b[0m         \u001b[0mlayer_1\u001b[0m \u001b[0;34m=\u001b[0m \u001b[0mself\u001b[0m\u001b[0;34m.\u001b[0m\u001b[0mpretrained\u001b[0m\u001b[0;34m.\u001b[0m\u001b[0mlayer1\u001b[0m\u001b[0;34m(\u001b[0m\u001b[0mx\u001b[0m\u001b[0;34m)\u001b[0m\u001b[0;34m\u001b[0m\u001b[0;34m\u001b[0m\u001b[0m\n\u001b[0;32m---> 64\u001b[0;31m         \u001b[0mlayer_2\u001b[0m \u001b[0;34m=\u001b[0m \u001b[0mself\u001b[0m\u001b[0;34m.\u001b[0m\u001b[0mpretrained\u001b[0m\u001b[0;34m.\u001b[0m\u001b[0mlayer2\u001b[0m\u001b[0;34m(\u001b[0m\u001b[0mlayer_1\u001b[0m\u001b[0;34m)\u001b[0m\u001b[0;34m\u001b[0m\u001b[0;34m\u001b[0m\u001b[0m\n\u001b[0m\u001b[1;32m     65\u001b[0m         \u001b[0mlayer_3\u001b[0m \u001b[0;34m=\u001b[0m \u001b[0mself\u001b[0m\u001b[0;34m.\u001b[0m\u001b[0mpretrained\u001b[0m\u001b[0;34m.\u001b[0m\u001b[0mlayer3\u001b[0m\u001b[0;34m(\u001b[0m\u001b[0mlayer_2\u001b[0m\u001b[0;34m)\u001b[0m\u001b[0;34m\u001b[0m\u001b[0;34m\u001b[0m\u001b[0m\n\u001b[1;32m     66\u001b[0m         \u001b[0mlayer_4\u001b[0m \u001b[0;34m=\u001b[0m \u001b[0mself\u001b[0m\u001b[0;34m.\u001b[0m\u001b[0mpretrained\u001b[0m\u001b[0;34m.\u001b[0m\u001b[0mlayer4\u001b[0m\u001b[0;34m(\u001b[0m\u001b[0mlayer_3\u001b[0m\u001b[0;34m)\u001b[0m\u001b[0;34m\u001b[0m\u001b[0;34m\u001b[0m\u001b[0m\n",
            "\u001b[0;32m/usr/local/lib/python3.10/dist-packages/torch/nn/modules/module.py\u001b[0m in \u001b[0;36m_wrapped_call_impl\u001b[0;34m(self, *args, **kwargs)\u001b[0m\n\u001b[1;32m   1509\u001b[0m             \u001b[0;32mreturn\u001b[0m \u001b[0mself\u001b[0m\u001b[0;34m.\u001b[0m\u001b[0m_compiled_call_impl\u001b[0m\u001b[0;34m(\u001b[0m\u001b[0;34m*\u001b[0m\u001b[0margs\u001b[0m\u001b[0;34m,\u001b[0m \u001b[0;34m**\u001b[0m\u001b[0mkwargs\u001b[0m\u001b[0;34m)\u001b[0m  \u001b[0;31m# type: ignore[misc]\u001b[0m\u001b[0;34m\u001b[0m\u001b[0;34m\u001b[0m\u001b[0m\n\u001b[1;32m   1510\u001b[0m         \u001b[0;32melse\u001b[0m\u001b[0;34m:\u001b[0m\u001b[0;34m\u001b[0m\u001b[0;34m\u001b[0m\u001b[0m\n\u001b[0;32m-> 1511\u001b[0;31m             \u001b[0;32mreturn\u001b[0m \u001b[0mself\u001b[0m\u001b[0;34m.\u001b[0m\u001b[0m_call_impl\u001b[0m\u001b[0;34m(\u001b[0m\u001b[0;34m*\u001b[0m\u001b[0margs\u001b[0m\u001b[0;34m,\u001b[0m \u001b[0;34m**\u001b[0m\u001b[0mkwargs\u001b[0m\u001b[0;34m)\u001b[0m\u001b[0;34m\u001b[0m\u001b[0;34m\u001b[0m\u001b[0m\n\u001b[0m\u001b[1;32m   1512\u001b[0m \u001b[0;34m\u001b[0m\u001b[0m\n\u001b[1;32m   1513\u001b[0m     \u001b[0;32mdef\u001b[0m \u001b[0m_call_impl\u001b[0m\u001b[0;34m(\u001b[0m\u001b[0mself\u001b[0m\u001b[0;34m,\u001b[0m \u001b[0;34m*\u001b[0m\u001b[0margs\u001b[0m\u001b[0;34m,\u001b[0m \u001b[0;34m**\u001b[0m\u001b[0mkwargs\u001b[0m\u001b[0;34m)\u001b[0m\u001b[0;34m:\u001b[0m\u001b[0;34m\u001b[0m\u001b[0;34m\u001b[0m\u001b[0m\n",
            "\u001b[0;32m/usr/local/lib/python3.10/dist-packages/torch/nn/modules/module.py\u001b[0m in \u001b[0;36m_call_impl\u001b[0;34m(self, *args, **kwargs)\u001b[0m\n\u001b[1;32m   1518\u001b[0m                 \u001b[0;32mor\u001b[0m \u001b[0m_global_backward_pre_hooks\u001b[0m \u001b[0;32mor\u001b[0m \u001b[0m_global_backward_hooks\u001b[0m\u001b[0;34m\u001b[0m\u001b[0;34m\u001b[0m\u001b[0m\n\u001b[1;32m   1519\u001b[0m                 or _global_forward_hooks or _global_forward_pre_hooks):\n\u001b[0;32m-> 1520\u001b[0;31m             \u001b[0;32mreturn\u001b[0m \u001b[0mforward_call\u001b[0m\u001b[0;34m(\u001b[0m\u001b[0;34m*\u001b[0m\u001b[0margs\u001b[0m\u001b[0;34m,\u001b[0m \u001b[0;34m**\u001b[0m\u001b[0mkwargs\u001b[0m\u001b[0;34m)\u001b[0m\u001b[0;34m\u001b[0m\u001b[0;34m\u001b[0m\u001b[0m\n\u001b[0m\u001b[1;32m   1521\u001b[0m \u001b[0;34m\u001b[0m\u001b[0m\n\u001b[1;32m   1522\u001b[0m         \u001b[0;32mtry\u001b[0m\u001b[0;34m:\u001b[0m\u001b[0;34m\u001b[0m\u001b[0;34m\u001b[0m\u001b[0m\n",
            "\u001b[0;32m/usr/local/lib/python3.10/dist-packages/torch/nn/modules/container.py\u001b[0m in \u001b[0;36mforward\u001b[0;34m(self, input)\u001b[0m\n\u001b[1;32m    215\u001b[0m     \u001b[0;32mdef\u001b[0m \u001b[0mforward\u001b[0m\u001b[0;34m(\u001b[0m\u001b[0mself\u001b[0m\u001b[0;34m,\u001b[0m \u001b[0minput\u001b[0m\u001b[0;34m)\u001b[0m\u001b[0;34m:\u001b[0m\u001b[0;34m\u001b[0m\u001b[0;34m\u001b[0m\u001b[0m\n\u001b[1;32m    216\u001b[0m         \u001b[0;32mfor\u001b[0m \u001b[0mmodule\u001b[0m \u001b[0;32min\u001b[0m \u001b[0mself\u001b[0m\u001b[0;34m:\u001b[0m\u001b[0;34m\u001b[0m\u001b[0;34m\u001b[0m\u001b[0m\n\u001b[0;32m--> 217\u001b[0;31m             \u001b[0minput\u001b[0m \u001b[0;34m=\u001b[0m \u001b[0mmodule\u001b[0m\u001b[0;34m(\u001b[0m\u001b[0minput\u001b[0m\u001b[0;34m)\u001b[0m\u001b[0;34m\u001b[0m\u001b[0;34m\u001b[0m\u001b[0m\n\u001b[0m\u001b[1;32m    218\u001b[0m         \u001b[0;32mreturn\u001b[0m \u001b[0minput\u001b[0m\u001b[0;34m\u001b[0m\u001b[0;34m\u001b[0m\u001b[0m\n\u001b[1;32m    219\u001b[0m \u001b[0;34m\u001b[0m\u001b[0m\n",
            "\u001b[0;32m/usr/local/lib/python3.10/dist-packages/torch/nn/modules/module.py\u001b[0m in \u001b[0;36m_wrapped_call_impl\u001b[0;34m(self, *args, **kwargs)\u001b[0m\n\u001b[1;32m   1509\u001b[0m             \u001b[0;32mreturn\u001b[0m \u001b[0mself\u001b[0m\u001b[0;34m.\u001b[0m\u001b[0m_compiled_call_impl\u001b[0m\u001b[0;34m(\u001b[0m\u001b[0;34m*\u001b[0m\u001b[0margs\u001b[0m\u001b[0;34m,\u001b[0m \u001b[0;34m**\u001b[0m\u001b[0mkwargs\u001b[0m\u001b[0;34m)\u001b[0m  \u001b[0;31m# type: ignore[misc]\u001b[0m\u001b[0;34m\u001b[0m\u001b[0;34m\u001b[0m\u001b[0m\n\u001b[1;32m   1510\u001b[0m         \u001b[0;32melse\u001b[0m\u001b[0;34m:\u001b[0m\u001b[0;34m\u001b[0m\u001b[0;34m\u001b[0m\u001b[0m\n\u001b[0;32m-> 1511\u001b[0;31m             \u001b[0;32mreturn\u001b[0m \u001b[0mself\u001b[0m\u001b[0;34m.\u001b[0m\u001b[0m_call_impl\u001b[0m\u001b[0;34m(\u001b[0m\u001b[0;34m*\u001b[0m\u001b[0margs\u001b[0m\u001b[0;34m,\u001b[0m \u001b[0;34m**\u001b[0m\u001b[0mkwargs\u001b[0m\u001b[0;34m)\u001b[0m\u001b[0;34m\u001b[0m\u001b[0;34m\u001b[0m\u001b[0m\n\u001b[0m\u001b[1;32m   1512\u001b[0m \u001b[0;34m\u001b[0m\u001b[0m\n\u001b[1;32m   1513\u001b[0m     \u001b[0;32mdef\u001b[0m \u001b[0m_call_impl\u001b[0m\u001b[0;34m(\u001b[0m\u001b[0mself\u001b[0m\u001b[0;34m,\u001b[0m \u001b[0;34m*\u001b[0m\u001b[0margs\u001b[0m\u001b[0;34m,\u001b[0m \u001b[0;34m**\u001b[0m\u001b[0mkwargs\u001b[0m\u001b[0;34m)\u001b[0m\u001b[0;34m:\u001b[0m\u001b[0;34m\u001b[0m\u001b[0;34m\u001b[0m\u001b[0m\n",
            "\u001b[0;32m/usr/local/lib/python3.10/dist-packages/torch/nn/modules/module.py\u001b[0m in \u001b[0;36m_call_impl\u001b[0;34m(self, *args, **kwargs)\u001b[0m\n\u001b[1;32m   1518\u001b[0m                 \u001b[0;32mor\u001b[0m \u001b[0m_global_backward_pre_hooks\u001b[0m \u001b[0;32mor\u001b[0m \u001b[0m_global_backward_hooks\u001b[0m\u001b[0;34m\u001b[0m\u001b[0;34m\u001b[0m\u001b[0m\n\u001b[1;32m   1519\u001b[0m                 or _global_forward_hooks or _global_forward_pre_hooks):\n\u001b[0;32m-> 1520\u001b[0;31m             \u001b[0;32mreturn\u001b[0m \u001b[0mforward_call\u001b[0m\u001b[0;34m(\u001b[0m\u001b[0;34m*\u001b[0m\u001b[0margs\u001b[0m\u001b[0;34m,\u001b[0m \u001b[0;34m**\u001b[0m\u001b[0mkwargs\u001b[0m\u001b[0;34m)\u001b[0m\u001b[0;34m\u001b[0m\u001b[0;34m\u001b[0m\u001b[0m\n\u001b[0m\u001b[1;32m   1521\u001b[0m \u001b[0;34m\u001b[0m\u001b[0m\n\u001b[1;32m   1522\u001b[0m         \u001b[0;32mtry\u001b[0m\u001b[0;34m:\u001b[0m\u001b[0;34m\u001b[0m\u001b[0;34m\u001b[0m\u001b[0m\n",
            "\u001b[0;32m/usr/local/lib/python3.10/dist-packages/torchvision/models/resnet.py\u001b[0m in \u001b[0;36mforward\u001b[0;34m(self, x)\u001b[0m\n\u001b[1;32m    156\u001b[0m \u001b[0;34m\u001b[0m\u001b[0m\n\u001b[1;32m    157\u001b[0m         \u001b[0;32mif\u001b[0m \u001b[0mself\u001b[0m\u001b[0;34m.\u001b[0m\u001b[0mdownsample\u001b[0m \u001b[0;32mis\u001b[0m \u001b[0;32mnot\u001b[0m \u001b[0;32mNone\u001b[0m\u001b[0;34m:\u001b[0m\u001b[0;34m\u001b[0m\u001b[0;34m\u001b[0m\u001b[0m\n\u001b[0;32m--> 158\u001b[0;31m             \u001b[0midentity\u001b[0m \u001b[0;34m=\u001b[0m \u001b[0mself\u001b[0m\u001b[0;34m.\u001b[0m\u001b[0mdownsample\u001b[0m\u001b[0;34m(\u001b[0m\u001b[0mx\u001b[0m\u001b[0;34m)\u001b[0m\u001b[0;34m\u001b[0m\u001b[0;34m\u001b[0m\u001b[0m\n\u001b[0m\u001b[1;32m    159\u001b[0m \u001b[0;34m\u001b[0m\u001b[0m\n\u001b[1;32m    160\u001b[0m         \u001b[0mout\u001b[0m \u001b[0;34m+=\u001b[0m \u001b[0midentity\u001b[0m\u001b[0;34m\u001b[0m\u001b[0;34m\u001b[0m\u001b[0m\n",
            "\u001b[0;32m/usr/local/lib/python3.10/dist-packages/torch/nn/modules/module.py\u001b[0m in \u001b[0;36m_wrapped_call_impl\u001b[0;34m(self, *args, **kwargs)\u001b[0m\n\u001b[1;32m   1509\u001b[0m             \u001b[0;32mreturn\u001b[0m \u001b[0mself\u001b[0m\u001b[0;34m.\u001b[0m\u001b[0m_compiled_call_impl\u001b[0m\u001b[0;34m(\u001b[0m\u001b[0;34m*\u001b[0m\u001b[0margs\u001b[0m\u001b[0;34m,\u001b[0m \u001b[0;34m**\u001b[0m\u001b[0mkwargs\u001b[0m\u001b[0;34m)\u001b[0m  \u001b[0;31m# type: ignore[misc]\u001b[0m\u001b[0;34m\u001b[0m\u001b[0;34m\u001b[0m\u001b[0m\n\u001b[1;32m   1510\u001b[0m         \u001b[0;32melse\u001b[0m\u001b[0;34m:\u001b[0m\u001b[0;34m\u001b[0m\u001b[0;34m\u001b[0m\u001b[0m\n\u001b[0;32m-> 1511\u001b[0;31m             \u001b[0;32mreturn\u001b[0m \u001b[0mself\u001b[0m\u001b[0;34m.\u001b[0m\u001b[0m_call_impl\u001b[0m\u001b[0;34m(\u001b[0m\u001b[0;34m*\u001b[0m\u001b[0margs\u001b[0m\u001b[0;34m,\u001b[0m \u001b[0;34m**\u001b[0m\u001b[0mkwargs\u001b[0m\u001b[0;34m)\u001b[0m\u001b[0;34m\u001b[0m\u001b[0;34m\u001b[0m\u001b[0m\n\u001b[0m\u001b[1;32m   1512\u001b[0m \u001b[0;34m\u001b[0m\u001b[0m\n\u001b[1;32m   1513\u001b[0m     \u001b[0;32mdef\u001b[0m \u001b[0m_call_impl\u001b[0m\u001b[0;34m(\u001b[0m\u001b[0mself\u001b[0m\u001b[0;34m,\u001b[0m \u001b[0;34m*\u001b[0m\u001b[0margs\u001b[0m\u001b[0;34m,\u001b[0m \u001b[0;34m**\u001b[0m\u001b[0mkwargs\u001b[0m\u001b[0;34m)\u001b[0m\u001b[0;34m:\u001b[0m\u001b[0;34m\u001b[0m\u001b[0;34m\u001b[0m\u001b[0m\n",
            "\u001b[0;32m/usr/local/lib/python3.10/dist-packages/torch/nn/modules/module.py\u001b[0m in \u001b[0;36m_call_impl\u001b[0;34m(self, *args, **kwargs)\u001b[0m\n\u001b[1;32m   1518\u001b[0m                 \u001b[0;32mor\u001b[0m \u001b[0m_global_backward_pre_hooks\u001b[0m \u001b[0;32mor\u001b[0m \u001b[0m_global_backward_hooks\u001b[0m\u001b[0;34m\u001b[0m\u001b[0;34m\u001b[0m\u001b[0m\n\u001b[1;32m   1519\u001b[0m                 or _global_forward_hooks or _global_forward_pre_hooks):\n\u001b[0;32m-> 1520\u001b[0;31m             \u001b[0;32mreturn\u001b[0m \u001b[0mforward_call\u001b[0m\u001b[0;34m(\u001b[0m\u001b[0;34m*\u001b[0m\u001b[0margs\u001b[0m\u001b[0;34m,\u001b[0m \u001b[0;34m**\u001b[0m\u001b[0mkwargs\u001b[0m\u001b[0;34m)\u001b[0m\u001b[0;34m\u001b[0m\u001b[0;34m\u001b[0m\u001b[0m\n\u001b[0m\u001b[1;32m   1521\u001b[0m \u001b[0;34m\u001b[0m\u001b[0m\n\u001b[1;32m   1522\u001b[0m         \u001b[0;32mtry\u001b[0m\u001b[0;34m:\u001b[0m\u001b[0;34m\u001b[0m\u001b[0;34m\u001b[0m\u001b[0m\n",
            "\u001b[0;32m/usr/local/lib/python3.10/dist-packages/torch/nn/modules/container.py\u001b[0m in \u001b[0;36mforward\u001b[0;34m(self, input)\u001b[0m\n\u001b[1;32m    215\u001b[0m     \u001b[0;32mdef\u001b[0m \u001b[0mforward\u001b[0m\u001b[0;34m(\u001b[0m\u001b[0mself\u001b[0m\u001b[0;34m,\u001b[0m \u001b[0minput\u001b[0m\u001b[0;34m)\u001b[0m\u001b[0;34m:\u001b[0m\u001b[0;34m\u001b[0m\u001b[0;34m\u001b[0m\u001b[0m\n\u001b[1;32m    216\u001b[0m         \u001b[0;32mfor\u001b[0m \u001b[0mmodule\u001b[0m \u001b[0;32min\u001b[0m \u001b[0mself\u001b[0m\u001b[0;34m:\u001b[0m\u001b[0;34m\u001b[0m\u001b[0;34m\u001b[0m\u001b[0m\n\u001b[0;32m--> 217\u001b[0;31m             \u001b[0minput\u001b[0m \u001b[0;34m=\u001b[0m \u001b[0mmodule\u001b[0m\u001b[0;34m(\u001b[0m\u001b[0minput\u001b[0m\u001b[0;34m)\u001b[0m\u001b[0;34m\u001b[0m\u001b[0;34m\u001b[0m\u001b[0m\n\u001b[0m\u001b[1;32m    218\u001b[0m         \u001b[0;32mreturn\u001b[0m \u001b[0minput\u001b[0m\u001b[0;34m\u001b[0m\u001b[0;34m\u001b[0m\u001b[0m\n\u001b[1;32m    219\u001b[0m \u001b[0;34m\u001b[0m\u001b[0m\n",
            "\u001b[0;32m/usr/local/lib/python3.10/dist-packages/torch/nn/modules/module.py\u001b[0m in \u001b[0;36m_wrapped_call_impl\u001b[0;34m(self, *args, **kwargs)\u001b[0m\n\u001b[1;32m   1509\u001b[0m             \u001b[0;32mreturn\u001b[0m \u001b[0mself\u001b[0m\u001b[0;34m.\u001b[0m\u001b[0m_compiled_call_impl\u001b[0m\u001b[0;34m(\u001b[0m\u001b[0;34m*\u001b[0m\u001b[0margs\u001b[0m\u001b[0;34m,\u001b[0m \u001b[0;34m**\u001b[0m\u001b[0mkwargs\u001b[0m\u001b[0;34m)\u001b[0m  \u001b[0;31m# type: ignore[misc]\u001b[0m\u001b[0;34m\u001b[0m\u001b[0;34m\u001b[0m\u001b[0m\n\u001b[1;32m   1510\u001b[0m         \u001b[0;32melse\u001b[0m\u001b[0;34m:\u001b[0m\u001b[0;34m\u001b[0m\u001b[0;34m\u001b[0m\u001b[0m\n\u001b[0;32m-> 1511\u001b[0;31m             \u001b[0;32mreturn\u001b[0m \u001b[0mself\u001b[0m\u001b[0;34m.\u001b[0m\u001b[0m_call_impl\u001b[0m\u001b[0;34m(\u001b[0m\u001b[0;34m*\u001b[0m\u001b[0margs\u001b[0m\u001b[0;34m,\u001b[0m \u001b[0;34m**\u001b[0m\u001b[0mkwargs\u001b[0m\u001b[0;34m)\u001b[0m\u001b[0;34m\u001b[0m\u001b[0;34m\u001b[0m\u001b[0m\n\u001b[0m\u001b[1;32m   1512\u001b[0m \u001b[0;34m\u001b[0m\u001b[0m\n\u001b[1;32m   1513\u001b[0m     \u001b[0;32mdef\u001b[0m \u001b[0m_call_impl\u001b[0m\u001b[0;34m(\u001b[0m\u001b[0mself\u001b[0m\u001b[0;34m,\u001b[0m \u001b[0;34m*\u001b[0m\u001b[0margs\u001b[0m\u001b[0;34m,\u001b[0m \u001b[0;34m**\u001b[0m\u001b[0mkwargs\u001b[0m\u001b[0;34m)\u001b[0m\u001b[0;34m:\u001b[0m\u001b[0;34m\u001b[0m\u001b[0;34m\u001b[0m\u001b[0m\n",
            "\u001b[0;32m/usr/local/lib/python3.10/dist-packages/torch/nn/modules/module.py\u001b[0m in \u001b[0;36m_call_impl\u001b[0;34m(self, *args, **kwargs)\u001b[0m\n\u001b[1;32m   1518\u001b[0m                 \u001b[0;32mor\u001b[0m \u001b[0m_global_backward_pre_hooks\u001b[0m \u001b[0;32mor\u001b[0m \u001b[0m_global_backward_hooks\u001b[0m\u001b[0;34m\u001b[0m\u001b[0;34m\u001b[0m\u001b[0m\n\u001b[1;32m   1519\u001b[0m                 or _global_forward_hooks or _global_forward_pre_hooks):\n\u001b[0;32m-> 1520\u001b[0;31m             \u001b[0;32mreturn\u001b[0m \u001b[0mforward_call\u001b[0m\u001b[0;34m(\u001b[0m\u001b[0;34m*\u001b[0m\u001b[0margs\u001b[0m\u001b[0;34m,\u001b[0m \u001b[0;34m**\u001b[0m\u001b[0mkwargs\u001b[0m\u001b[0;34m)\u001b[0m\u001b[0;34m\u001b[0m\u001b[0;34m\u001b[0m\u001b[0m\n\u001b[0m\u001b[1;32m   1521\u001b[0m \u001b[0;34m\u001b[0m\u001b[0m\n\u001b[1;32m   1522\u001b[0m         \u001b[0;32mtry\u001b[0m\u001b[0;34m:\u001b[0m\u001b[0;34m\u001b[0m\u001b[0;34m\u001b[0m\u001b[0m\n",
            "\u001b[0;32m/usr/local/lib/python3.10/dist-packages/torch/nn/modules/conv.py\u001b[0m in \u001b[0;36mforward\u001b[0;34m(self, input)\u001b[0m\n\u001b[1;32m    458\u001b[0m \u001b[0;34m\u001b[0m\u001b[0m\n\u001b[1;32m    459\u001b[0m     \u001b[0;32mdef\u001b[0m \u001b[0mforward\u001b[0m\u001b[0;34m(\u001b[0m\u001b[0mself\u001b[0m\u001b[0;34m,\u001b[0m \u001b[0minput\u001b[0m\u001b[0;34m:\u001b[0m \u001b[0mTensor\u001b[0m\u001b[0;34m)\u001b[0m \u001b[0;34m->\u001b[0m \u001b[0mTensor\u001b[0m\u001b[0;34m:\u001b[0m\u001b[0;34m\u001b[0m\u001b[0;34m\u001b[0m\u001b[0m\n\u001b[0;32m--> 460\u001b[0;31m         \u001b[0;32mreturn\u001b[0m \u001b[0mself\u001b[0m\u001b[0;34m.\u001b[0m\u001b[0m_conv_forward\u001b[0m\u001b[0;34m(\u001b[0m\u001b[0minput\u001b[0m\u001b[0;34m,\u001b[0m \u001b[0mself\u001b[0m\u001b[0;34m.\u001b[0m\u001b[0mweight\u001b[0m\u001b[0;34m,\u001b[0m \u001b[0mself\u001b[0m\u001b[0;34m.\u001b[0m\u001b[0mbias\u001b[0m\u001b[0;34m)\u001b[0m\u001b[0;34m\u001b[0m\u001b[0;34m\u001b[0m\u001b[0m\n\u001b[0m\u001b[1;32m    461\u001b[0m \u001b[0;34m\u001b[0m\u001b[0m\n\u001b[1;32m    462\u001b[0m \u001b[0;32mclass\u001b[0m \u001b[0mConv3d\u001b[0m\u001b[0;34m(\u001b[0m\u001b[0m_ConvNd\u001b[0m\u001b[0;34m)\u001b[0m\u001b[0;34m:\u001b[0m\u001b[0;34m\u001b[0m\u001b[0;34m\u001b[0m\u001b[0m\n",
            "\u001b[0;32m/usr/local/lib/python3.10/dist-packages/torch/nn/modules/conv.py\u001b[0m in \u001b[0;36m_conv_forward\u001b[0;34m(self, input, weight, bias)\u001b[0m\n\u001b[1;32m    454\u001b[0m                             \u001b[0mweight\u001b[0m\u001b[0;34m,\u001b[0m \u001b[0mbias\u001b[0m\u001b[0;34m,\u001b[0m \u001b[0mself\u001b[0m\u001b[0;34m.\u001b[0m\u001b[0mstride\u001b[0m\u001b[0;34m,\u001b[0m\u001b[0;34m\u001b[0m\u001b[0;34m\u001b[0m\u001b[0m\n\u001b[1;32m    455\u001b[0m                             _pair(0), self.dilation, self.groups)\n\u001b[0;32m--> 456\u001b[0;31m         return F.conv2d(input, weight, bias, self.stride,\n\u001b[0m\u001b[1;32m    457\u001b[0m                         self.padding, self.dilation, self.groups)\n\u001b[1;32m    458\u001b[0m \u001b[0;34m\u001b[0m\u001b[0m\n",
            "\u001b[0;31mKeyboardInterrupt\u001b[0m: "
          ]
        }
      ]
    }
  ]
}