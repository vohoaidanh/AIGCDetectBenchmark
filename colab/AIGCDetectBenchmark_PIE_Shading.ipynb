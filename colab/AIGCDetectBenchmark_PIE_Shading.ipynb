{
  "nbformat": 4,
  "nbformat_minor": 0,
  "metadata": {
    "colab": {
      "provenance": [],
      "gpuType": "T4",
      "name": "AIGCDetectBenchmark_PIE_Shading.ipynb",
      "include_colab_link": true
    },
    "kernelspec": {
      "name": "python3",
      "display_name": "Python 3"
    },
    "language_info": {
      "name": "python"
    },
    "accelerator": "GPU"
  },
  "cells": [
    {
      "cell_type": "markdown",
      "metadata": {
        "id": "view-in-github",
        "colab_type": "text"
      },
      "source": [
        "<a href=\"https://colab.research.google.com/github/vohoaidanh/AIGCDetectBenchmark/blob/main/colab/AIGCDetectBenchmark_PIE_Shading.ipynb\" target=\"_parent\"><img src=\"https://colab.research.google.com/assets/colab-badge.svg\" alt=\"Open In Colab\"/></a>"
      ]
    },
    {
      "cell_type": "markdown",
      "source": [
        "## AIGCDetectBenchmark\n"
      ],
      "metadata": {
        "id": "4bsPZQKgE3tX"
      }
    },
    {
      "cell_type": "code",
      "source": [
        "from google.colab import drive\n",
        "drive.mount('/content/drive')\n"
      ],
      "metadata": {
        "colab": {
          "base_uri": "https://localhost:8080/"
        },
        "id": "AR7UgjyUfRcg",
        "outputId": "0f0cb7e5-e2dc-4682-d925-7c135592f09d"
      },
      "execution_count": 1,
      "outputs": [
        {
          "output_type": "stream",
          "name": "stdout",
          "text": [
            "Mounted at /content/drive\n"
          ]
        }
      ]
    },
    {
      "cell_type": "code",
      "source": [
        "!pip install ftfy -q\n",
        "!pip install natsort -q\n",
        "!pip install tensorboardX -q\n",
        "!pip install blobfile -q\n",
        "!pip install mpi4py -q\n",
        "!pip install comet_ml -q"
      ],
      "metadata": {
        "id": "yZtRWDeMing8",
        "outputId": "d97aef91-2eb1-47d9-f1dc-56ef1b2595a1",
        "colab": {
          "base_uri": "https://localhost:8080/"
        }
      },
      "execution_count": 2,
      "outputs": [
        {
          "output_type": "stream",
          "name": "stdout",
          "text": [
            "\u001b[2K     \u001b[90m━━━━━━━━━━━━━━━━━━━━━━━━━━━━━━━━━━━━━━━━\u001b[0m \u001b[32m54.4/54.4 kB\u001b[0m \u001b[31m2.2 MB/s\u001b[0m eta \u001b[36m0:00:00\u001b[0m\n",
            "\u001b[2K     \u001b[90m━━━━━━━━━━━━━━━━━━━━━━━━━━━━━━━━━━━━━━━━\u001b[0m \u001b[32m101.7/101.7 kB\u001b[0m \u001b[31m2.5 MB/s\u001b[0m eta \u001b[36m0:00:00\u001b[0m\n",
            "\u001b[2K     \u001b[90m━━━━━━━━━━━━━━━━━━━━━━━━━━━━━━━━━━━━━━━━\u001b[0m \u001b[32m73.7/73.7 kB\u001b[0m \u001b[31m2.8 MB/s\u001b[0m eta \u001b[36m0:00:00\u001b[0m\n",
            "\u001b[2K     \u001b[90m━━━━━━━━━━━━━━━━━━━━━━━━━━━━━━━━━━━━━━━━\u001b[0m \u001b[32m2.1/2.1 MB\u001b[0m \u001b[31m13.7 MB/s\u001b[0m eta \u001b[36m0:00:00\u001b[0m\n",
            "\u001b[2K     \u001b[90m━━━━━━━━━━━━━━━━━━━━━━━━━━━━━━━━━━━━━━━━\u001b[0m \u001b[32m2.5/2.5 MB\u001b[0m \u001b[31m11.6 MB/s\u001b[0m eta \u001b[36m0:00:00\u001b[0m\n",
            "\u001b[?25h  Installing build dependencies ... \u001b[?25l\u001b[?25hdone\n",
            "  Getting requirements to build wheel ... \u001b[?25l\u001b[?25hdone\n",
            "  Preparing metadata (pyproject.toml) ... \u001b[?25l\u001b[?25hdone\n",
            "  Building wheel for mpi4py (pyproject.toml) ... \u001b[?25l\u001b[?25hdone\n",
            "\u001b[2K     \u001b[90m━━━━━━━━━━━━━━━━━━━━━━━━━━━━━━━━━━━━━━━━\u001b[0m \u001b[32m632.9/632.9 kB\u001b[0m \u001b[31m9.9 MB/s\u001b[0m eta \u001b[36m0:00:00\u001b[0m\n",
            "\u001b[2K     \u001b[90m━━━━━━━━━━━━━━━━━━━━━━━━━━━━━━━━━━━━━━━━\u001b[0m \u001b[32m3.3/3.3 MB\u001b[0m \u001b[31m24.0 MB/s\u001b[0m eta \u001b[36m0:00:00\u001b[0m\n",
            "\u001b[2K     \u001b[90m━━━━━━━━━━━━━━━━━━━━━━━━━━━━━━━━━━━━━━━━\u001b[0m \u001b[32m54.5/54.5 kB\u001b[0m \u001b[31m7.6 MB/s\u001b[0m eta \u001b[36m0:00:00\u001b[0m\n",
            "\u001b[2K     \u001b[90m━━━━━━━━━━━━━━━━━━━━━━━━━━━━━━━━━━━━━━━━\u001b[0m \u001b[32m266.1/266.1 kB\u001b[0m \u001b[31m29.2 MB/s\u001b[0m eta \u001b[36m0:00:00\u001b[0m\n",
            "\u001b[2K     \u001b[90m━━━━━━━━━━━━━━━━━━━━━━━━━━━━━━━━━━━━━━━━\u001b[0m \u001b[32m137.9/137.9 kB\u001b[0m \u001b[31m18.8 MB/s\u001b[0m eta \u001b[36m0:00:00\u001b[0m\n",
            "\u001b[2K     \u001b[90m━━━━━━━━━━━━━━━━━━━━━━━━━━━━━━━━━━━━━━━━\u001b[0m \u001b[32m54.3/54.3 kB\u001b[0m \u001b[31m7.8 MB/s\u001b[0m eta \u001b[36m0:00:00\u001b[0m\n",
            "\u001b[2K     \u001b[90m━━━━━━━━━━━━━━━━━━━━━━━━━━━━━━━━━━━━━━━━\u001b[0m \u001b[32m514.7/514.7 kB\u001b[0m \u001b[31m32.1 MB/s\u001b[0m eta \u001b[36m0:00:00\u001b[0m\n",
            "\u001b[?25h"
          ]
        }
      ]
    },
    {
      "cell_type": "code",
      "execution_count": 3,
      "metadata": {
        "id": "Q4Tiyb4jExor",
        "outputId": "7b3f08f4-146f-4173-ac2e-53f361ff6c01",
        "colab": {
          "base_uri": "https://localhost:8080/"
        }
      },
      "outputs": [
        {
          "output_type": "stream",
          "name": "stdout",
          "text": [
            "Cloning into 'AIGCDetectBenchmark'...\n",
            "remote: Enumerating objects: 724, done.\u001b[K\n",
            "remote: Counting objects: 100% (16/16), done.\u001b[K\n",
            "remote: Compressing objects: 100% (16/16), done.\u001b[K\n",
            "remote: Total 724 (delta 8), reused 0 (delta 0), pack-reused 708\u001b[K\n",
            "Receiving objects: 100% (724/724), 7.18 MiB | 13.93 MiB/s, done.\n",
            "Resolving deltas: 100% (346/346), done.\n"
          ]
        }
      ],
      "source": [
        "!git clone https://github.com/vohoaidanh/AIGCDetectBenchmark.git"
      ]
    },
    {
      "cell_type": "code",
      "source": [
        "%cd /content/AIGCDetectBenchmark"
      ],
      "metadata": {
        "colab": {
          "base_uri": "https://localhost:8080/"
        },
        "id": "n9HXSjhchADX",
        "outputId": "09d63498-92a1-43ba-a463-08c6a7d4b84f"
      },
      "execution_count": 4,
      "outputs": [
        {
          "output_type": "stream",
          "name": "stdout",
          "text": [
            "/content/AIGCDetectBenchmark\n"
          ]
        }
      ]
    },
    {
      "cell_type": "code",
      "source": [
        "!unzip -q /content/drive/MyDrive/DATASETS/T2I/PIE_T2I_origin.zip -d PIE_T2I_origin"
      ],
      "metadata": {
        "id": "n9TNSLEkB29f"
      },
      "execution_count": null,
      "outputs": []
    },
    {
      "cell_type": "code",
      "source": [
        "!python train.py --name train_PIE_T2I --dataroot PIE_T2I_origin \\\n",
        "--checkpoints_dir /content/drive/MyDrive/WEIGHTS/PIE_T2I \\\n",
        "--detect_method CNNSpot --blur_prob 0.1 --blur_sig 0.0,3.0 --jpg_prob 0.1 --jpg_method cv2,pil --jpg_qual 30,100"
      ],
      "metadata": {
        "colab": {
          "base_uri": "https://localhost:8080/"
        },
        "id": "J17Cg4xCuKob",
        "outputId": "5a7b7a48-2856-4e18-85e7-fc482d8fa469"
      },
      "execution_count": 6,
      "outputs": [
        {
          "output_type": "stream",
          "name": "stdout",
          "text": [
            "\u001b[1;38;5;39mCOMET INFO:\u001b[0m Valid Comet API Key saved in /root/.comet.config (set COMET_CONFIG to change where it is saved).\n",
            "----------------- Options ---------------\n",
            "                 CropSize: 224                           \n",
            "               batch_size: 64                            \n",
            "                    beta1: 0.9                           \n",
            "                blur_prob: 0.1                           \n",
            "                 blur_sig: 0.0,3.0                       \n",
            "          checkpoints_dir: /content/drive/MyDrive/WEIGHTS/PIE_T2I\t[default: ./checkpoints]\n",
            "                  classes: ['airplane', 'bird', 'bicycle', 'boat', 'bottle', 'bus', 'car', 'cat', 'cow', 'chair', 'diningtable', 'dog', 'person', 'pottedplant', 'motorbike', 'tvmonitor', 'train', 'sheep', 'sofa', 'horse']\t[default: airplane,bird,bicycle,boat,bottle,bus,car,cat,cow,chair,diningtable,dog,person,pottedplant,motorbike,tvmonitor,train,sheep,sofa,horse]\n",
            "           continue_train: False                         \n",
            "                 data_aug: False                         \n",
            "                 dataroot: PIE_T2I_origin                \t[default: /hotdata/share/AIGCDetect]\n",
            "            detect_method: CNNSpot                       \n",
            "          earlystop_epoch: 5                             \n",
            "              epoch_count: 1                             \n",
            "             fix_backbone: False                         \n",
            "                init_gain: 0.02                          \n",
            "                init_type: normal                        \n",
            "                  isTrain: True                          \t[default: None]\n",
            "                    isVal: False                         \t[default: None]\n",
            "               jpg_method: cv2,pil                       \n",
            "                 jpg_prob: 0.1                           \n",
            "                 jpg_qual: 30,100                        \n",
            "               last_epoch: -1                            \n",
            "                 loadSize: 256                           \n",
            "                loss_freq: 400                           \n",
            "                       lr: 0.0001                        \n",
            "                     mode: binary                        \n",
            "                     name: train_PIE_T2I                 \t[default: experiment_name]\n",
            "                new_optim: False                         \n",
            "                    niter: 1000                          \n",
            "                  no_crop: False                         \n",
            "                  no_flip: False                         \n",
            "                no_resize: False                         \n",
            "                    optim: adam                          \n",
            "              results_dir: ./results/CNNSpot             \t[default: None]\n",
            "                rz_interp: bilinear                      \n",
            "          save_epoch_freq: 5                             \n",
            "         save_latest_freq: 2000                          \n",
            "              train_split: train                         \n",
            "                val_split: val                           \n",
            "             weight_decay: 0.0                           \n",
            "----------------- End -------------------\n",
            "\u001b[1;38;5;214mCOMET WARNING:\u001b[0m To get all data logged automatically, import comet_ml before the following modules: torch.\n",
            "/usr/lib/python3.10/multiprocessing/popen_fork.py:66: RuntimeWarning: os.fork() was called. os.fork() is incompatible with multithreaded code, and JAX is multithreaded, so this will likely lead to a deadlock.\n",
            "  self.pid = os.fork()\n",
            "\u001b[1;38;5;39mCOMET INFO:\u001b[0m Experiment is live on comet.com \u001b[38;5;39mhttps://www.comet.com/danhvohoai2-gmail-com/ai-generated-image-detection/96fc994a776140e7aa3ae51ee3b4a665\u001b[0m\n",
            "\n",
            "#training images = 375\n",
            "Downloading: \"https://download.pytorch.org/models/resnet50-19c8e357.pth\" to /root/.cache/torch/hub/checkpoints/resnet50-19c8e357.pth\n",
            "100%|██████████| 97.8M/97.8M [00:00<00:00, 234MB/s]\n",
            "saving the model at the end of epoch 0, iters 375\n",
            "(Val @ epoch 0) acc: 0.9263333333333333; ap: 0.9790683001622703\n",
            "Validation accuracy increased (-inf --> 0.926333).  Saving model ...\n",
            "Train loss: 0.11737900972366333 at step: 400\n",
            "(Val @ epoch 1) acc: 0.9363333333333334; ap: 0.985319592884054\n",
            "Validation accuracy increased (0.926333 --> 0.936333).  Saving model ...\n",
            "Train loss: 0.12859083712100983 at step: 800\n",
            "(Val @ epoch 2) acc: 0.9405; ap: 0.9872626369262717\n",
            "Validation accuracy increased (0.936333 --> 0.940500).  Saving model ...\n",
            "Train loss: 0.09611596167087555 at step: 1200\n",
            "(Val @ epoch 3) acc: 0.9456666666666667; ap: 0.9880605340734612\n",
            "Validation accuracy increased (0.940500 --> 0.945667).  Saving model ...\n",
            "Train loss: 0.041196588426828384 at step: 1600\n",
            "(Val @ epoch 4) acc: 0.9488333333333333; ap: 0.9890860699789065\n",
            "Validation accuracy increased (0.945667 --> 0.948833).  Saving model ...\n",
            "Train loss: 0.08904226869344711 at step: 2000\n",
            "saving the latest model train_PIE_T2I (epoch 5, model.total_steps 2000)\n",
            "saving the model at the end of epoch 5, iters 2250\n",
            "(Val @ epoch 5) acc: 0.9475; ap: 0.9897494448595746\n",
            "EarlyStopping counter: 1 out of 5\n",
            "Train loss: 0.10177800059318542 at step: 2400\n",
            "(Val @ epoch 6) acc: 0.944; ap: 0.9872778464349999\n",
            "EarlyStopping counter: 2 out of 5\n",
            "Train loss: 0.1761816442012787 at step: 2800\n",
            "(Val @ epoch 7) acc: 0.9478333333333333; ap: 0.9891099786891038\n",
            "EarlyStopping counter: 3 out of 5\n",
            "Train loss: 0.060608748346567154 at step: 3200\n",
            "(Val @ epoch 8) acc: 0.9485; ap: 0.9882251825051283\n",
            "EarlyStopping counter: 4 out of 5\n",
            "Train loss: 0.18718743324279785 at step: 3600\n",
            "(Val @ epoch 9) acc: 0.943; ap: 0.9863588591130253\n",
            "EarlyStopping counter: 5 out of 5\n",
            "Learning rate dropped by 10, continue training...\n",
            "Train loss: 0.04149465635418892 at step: 4000\n",
            "saving the latest model train_PIE_T2I (epoch 10, model.total_steps 4000)\n",
            "saving the model at the end of epoch 10, iters 4125\n",
            "(Val @ epoch 10) acc: 0.9573333333333334; ap: 0.9925184037530963\n",
            "Validation accuracy increased (-inf --> 0.957333).  Saving model ...\n",
            "Train loss: 0.10531625896692276 at step: 4400\n",
            "(Val @ epoch 11) acc: 0.9593333333333334; ap: 0.9929877388442333\n",
            "Validation accuracy increased (0.957333 --> 0.959333).  Saving model ...\n",
            "Train loss: 0.025666967034339905 at step: 4800\n",
            "(Val @ epoch 12) acc: 0.9581666666666667; ap: 0.9930174176957816\n",
            "EarlyStopping counter: 1 out of 5\n",
            "Train loss: 0.0055389404296875 at step: 5200\n",
            "(Val @ epoch 13) acc: 0.9605; ap: 0.9931464422007923\n",
            "EarlyStopping counter: 2 out of 5\n",
            "Train loss: 0.05945677310228348 at step: 5600\n",
            "(Val @ epoch 14) acc: 0.9598333333333333; ap: 0.9927740912642427\n",
            "EarlyStopping counter: 3 out of 5\n",
            "Train loss: 0.00374299637041986 at step: 6000\n",
            "saving the latest model train_PIE_T2I (epoch 15, model.total_steps 6000)\n",
            "saving the model at the end of epoch 15, iters 6000\n",
            "(Val @ epoch 15) acc: 0.9588333333333333; ap: 0.9930173276700321\n",
            "EarlyStopping counter: 4 out of 5\n",
            "(Val @ epoch 16) acc: 0.9591666666666666; ap: 0.9930566631094029\n",
            "EarlyStopping counter: 5 out of 5\n",
            "Learning rate dropped by 10, continue training...\n",
            "Train loss: 0.005833636503666639 at step: 6400\n",
            "(Val @ epoch 17) acc: 0.9596666666666667; ap: 0.9931997075149883\n",
            "Validation accuracy increased (-inf --> 0.959667).  Saving model ...\n",
            "Train loss: 0.02385287545621395 at step: 6800\n",
            "(Val @ epoch 18) acc: 0.9593333333333334; ap: 0.9932438031733798\n",
            "EarlyStopping counter: 1 out of 5\n",
            "Train loss: 0.05730229616165161 at step: 7200\n",
            "(Val @ epoch 19) acc: 0.9605; ap: 0.9933333012263024\n",
            "EarlyStopping counter: 2 out of 5\n",
            "Train loss: 0.0011327775428071618 at step: 7600\n",
            "saving the model at the end of epoch 20, iters 7875\n",
            "(Val @ epoch 20) acc: 0.9605; ap: 0.9934148270324141\n",
            "EarlyStopping counter: 3 out of 5\n",
            "Train loss: 0.001479108352214098 at step: 8000\n",
            "saving the latest model train_PIE_T2I (epoch 21, model.total_steps 8000)\n",
            "(Val @ epoch 21) acc: 0.9591666666666666; ap: 0.9934286578665109\n",
            "EarlyStopping counter: 4 out of 5\n",
            "Train loss: 0.0037414971739053726 at step: 8400\n",
            "(Val @ epoch 22) acc: 0.9606666666666667; ap: 0.9934702263509353\n",
            "EarlyStopping counter: 5 out of 5\n",
            "Early stopping.\n",
            "\u001b[1;38;5;39mCOMET INFO:\u001b[0m ---------------------------------------------------------------------------------------\n",
            "\u001b[1;38;5;39mCOMET INFO:\u001b[0m Comet.ml Experiment Summary\n",
            "\u001b[1;38;5;39mCOMET INFO:\u001b[0m ---------------------------------------------------------------------------------------\n",
            "\u001b[1;38;5;39mCOMET INFO:\u001b[0m   Data:\n",
            "\u001b[1;38;5;39mCOMET INFO:\u001b[0m     display_summary_level : 1\n",
            "\u001b[1;38;5;39mCOMET INFO:\u001b[0m     url                   : \u001b[38;5;39mhttps://www.comet.com/danhvohoai2-gmail-com/ai-generated-image-detection/96fc994a776140e7aa3ae51ee3b4a665\u001b[0m\n",
            "\u001b[1;38;5;39mCOMET INFO:\u001b[0m   Metrics [count] (min, max):\n",
            "\u001b[1;38;5;39mCOMET INFO:\u001b[0m     train/epoch_acc [23]  : (0.9010833333333333, 0.9955416666666667)\n",
            "\u001b[1;38;5;39mCOMET INFO:\u001b[0m     train/epoch_loss [23] : (0.014115413650870323, 0.2408757507801056)\n",
            "\u001b[1;38;5;39mCOMET INFO:\u001b[0m     val/epoch_acc [23]    : (0.9263333333333333, 0.9606666666666667)\n",
            "\u001b[1;38;5;39mCOMET INFO:\u001b[0m   Parameters:\n",
            "\u001b[1;38;5;39mCOMET INFO:\u001b[0m     Train params : {\"CropSize\": 224, \"batch_size\": 64, \"detect_method\": \"CNNSpot\", \"earlystop_epoch\": 5, \"epoch_count\": 1, \"fix_backbone\": false, \"last_epoch\": -1, \"loadSize\": 256, \"loss_freq\": 400, \"lr\": 0.0001, \"mode\": \"binary\", \"name\": \"train_PIE_T2I\", \"niter\": 1000, \"optim\": \"adam\", \"save_epoch_freq\": 5, \"save_latest_freq\": 2000, \"train_split\": \"train\", \"val_split\": \"val\", \"weight_decay\": 0.0}\n",
            "\u001b[1;38;5;39mCOMET INFO:\u001b[0m   Uploads:\n",
            "\u001b[1;38;5;39mCOMET INFO:\u001b[0m     confusion-matrix         : 46\n",
            "\u001b[1;38;5;39mCOMET INFO:\u001b[0m     environment details      : 1\n",
            "\u001b[1;38;5;39mCOMET INFO:\u001b[0m     filename                 : 1\n",
            "\u001b[1;38;5;39mCOMET INFO:\u001b[0m     git metadata             : 1\n",
            "\u001b[1;38;5;39mCOMET INFO:\u001b[0m     git-patch (uncompressed) : 1 (9.18 KB)\n",
            "\u001b[1;38;5;39mCOMET INFO:\u001b[0m     installed packages       : 1\n",
            "\u001b[1;38;5;39mCOMET INFO:\u001b[0m     os packages              : 1\n",
            "\u001b[1;38;5;39mCOMET INFO:\u001b[0m     source_code              : 1 (6.36 KB)\n",
            "\u001b[1;38;5;39mCOMET INFO:\u001b[0m \n",
            "\u001b[1;38;5;214mCOMET WARNING:\u001b[0m To get all data logged automatically, import comet_ml before the following modules: torch.\n"
          ]
        }
      ]
    },
    {
      "cell_type": "code",
      "source": [
        "!python eval_all.py --detect_method CNNSpot --model_path /content/drive/MyDrive/WEIGHTS/PIE_T2I/train_PIE_T2I/model_epoch_5.pth"
      ],
      "metadata": {
        "id": "19VIBcPsI5lX",
        "outputId": "e68a705f-0bf0-43b2-947f-109ed4896051",
        "colab": {
          "base_uri": "https://localhost:8080/"
        }
      },
      "execution_count": 11,
      "outputs": [
        {
          "output_type": "stream",
          "name": "stdout",
          "text": [
            "PIE_Net_RealFakeDB_tiny_shading\n",
            "----------------- Options ---------------\n",
            "                 CropSize: 224                           \n",
            "           DIRE_modelpath: /data_19/AIGCDetect/AIGCDetect/weights/preprocessing/lsun_bedroom.pt\n",
            "          LGrad_modelpath: ./weights/preprocessing/karras2019stylegan-bedrooms-256x256_discriminator.pth\n",
            "            LNP_modelpath: ./weights/preprocessing/sidd_rgb.pth\n",
            "               batch_size: 64                            \n",
            "                 blur_sig: 1.0                           \n",
            "             dataset_name:                               \n",
            "            detect_method: CNNSpot                       \n",
            "                  isTrain: False                         \t[default: None]\n",
            "                    isVal: False                         \t[default: None]\n",
            "               jpg_method: pil                           \n",
            "                 jpg_qual: 95                            \n",
            "                 loadSize: 256                           \n",
            "               model_path: /content/drive/MyDrive/WEIGHTS/PIE_T2I/train_PIE_T2I/model_epoch_5.pth\t[default: ./weights/classifier/CNNSpot.pth]\n",
            "                  no_crop: False                         \n",
            "                  no_flip: False                         \n",
            "                no_resize: False                         \n",
            "               noise_type: None                          \n",
            "              results_dir: ./results/CNNSpot             \t[default: None]\n",
            "                rz_interp: bilinear                      \n",
            "----------------- End -------------------\n",
            "\u001b[1;38;5;39mCOMET INFO:\u001b[0m Valid Comet API Key saved in /root/.comet.config (set COMET_CONFIG to change where it is saved).\n",
            "\u001b[1;38;5;214mCOMET WARNING:\u001b[0m To get all data logged automatically, import comet_ml before the following modules: torch, sklearn.\n",
            "/usr/lib/python3.10/multiprocessing/popen_fork.py:66: RuntimeWarning: os.fork() was called. os.fork() is incompatible with multithreaded code, and JAX is multithreaded, so this will likely lead to a deadlock.\n",
            "  self.pid = os.fork()\n",
            "\u001b[1;38;5;39mCOMET INFO:\u001b[0m Experiment is live on comet.com \u001b[38;5;39mhttps://www.comet.com/danhvohoai2-gmail-com/ai-generated-image-detection/c483448c94434f3ca57418a7744fc21a\u001b[0m\n",
            "\n",
            "model_epoch_5 model testing on...\n",
            "(test) acc: 0.5707070707070707; ap: 0.6491360079463093\n",
            "(train) acc: 0.5493890020366599; ap: 0.6183702064261497\n",
            "\u001b[1;38;5;39mCOMET INFO:\u001b[0m ---------------------------------------------------------------------------------------\n",
            "\u001b[1;38;5;39mCOMET INFO:\u001b[0m Comet.ml Experiment Summary\n",
            "\u001b[1;38;5;39mCOMET INFO:\u001b[0m ---------------------------------------------------------------------------------------\n",
            "\u001b[1;38;5;39mCOMET INFO:\u001b[0m   Data:\n",
            "\u001b[1;38;5;39mCOMET INFO:\u001b[0m     display_summary_level : 1\n",
            "\u001b[1;38;5;39mCOMET INFO:\u001b[0m     url                   : \u001b[38;5;39mhttps://www.comet.com/danhvohoai2-gmail-com/ai-generated-image-detection/c483448c94434f3ca57418a7744fc21a\u001b[0m\n",
            "\u001b[1;38;5;39mCOMET INFO:\u001b[0m   Metrics [count] (min, max):\n",
            "\u001b[1;38;5;39mCOMET INFO:\u001b[0m     corsstest/acc [2] : (0.5493890020366599, 0.5707070707070707)\n",
            "\u001b[1;38;5;39mCOMET INFO:\u001b[0m   Parameters:\n",
            "\u001b[1;38;5;39mCOMET INFO:\u001b[0m     Cross_test params : {\"CropSize\": 224, \"batch_size\": 64, \"detect_method\": \"CNNSpot\", \"jpg_qual\": [95], \"model_path\": \"/content/drive/MyDrive/WEIGHTS/PIE_T2I/train_PIE_T2I/model_epoch_5.pth\", \"name\": \"Test on PIE_Net_RealFakeDB_tiny_shading 10/4/2024\", \"noise_type\": null}\n",
            "\u001b[1;38;5;39mCOMET INFO:\u001b[0m   Uploads:\n",
            "\u001b[1;38;5;39mCOMET INFO:\u001b[0m     confusion-matrix         : 2\n",
            "\u001b[1;38;5;39mCOMET INFO:\u001b[0m     environment details      : 1\n",
            "\u001b[1;38;5;39mCOMET INFO:\u001b[0m     filename                 : 1\n",
            "\u001b[1;38;5;39mCOMET INFO:\u001b[0m     git metadata             : 1\n",
            "\u001b[1;38;5;39mCOMET INFO:\u001b[0m     git-patch (uncompressed) : 1 (10.42 KB)\n",
            "\u001b[1;38;5;39mCOMET INFO:\u001b[0m     installed packages       : 1\n",
            "\u001b[1;38;5;39mCOMET INFO:\u001b[0m     os packages              : 1\n",
            "\u001b[1;38;5;39mCOMET INFO:\u001b[0m     source_code              : 1 (2.58 KB)\n",
            "\u001b[1;38;5;39mCOMET INFO:\u001b[0m \n",
            "\u001b[1;38;5;214mCOMET WARNING:\u001b[0m To get all data logged automatically, import comet_ml before the following modules: torch, sklearn.\n"
          ]
        }
      ]
    },
    {
      "cell_type": "code",
      "source": [
        "!unzip /content/drive/MyDrive/DATASETS/Common/PIE_Net_RealFakeDB_tiny_shading.zip -d /content/PIE_Net_RealFakeDB_tiny_shading"
      ],
      "metadata": {
        "id": "VrM07NzDiyUZ"
      },
      "execution_count": null,
      "outputs": []
    }
  ]
}