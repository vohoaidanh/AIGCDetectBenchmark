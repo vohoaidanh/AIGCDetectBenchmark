{
  "nbformat": 4,
  "nbformat_minor": 0,
  "metadata": {
    "colab": {
      "provenance": [],
      "gpuType": "T4",
      "include_colab_link": true
    },
    "kernelspec": {
      "name": "python3",
      "display_name": "Python 3"
    },
    "language_info": {
      "name": "python"
    },
    "accelerator": "GPU"
  },
  "cells": [
    {
      "cell_type": "markdown",
      "metadata": {
        "id": "view-in-github",
        "colab_type": "text"
      },
      "source": [
        "<a href=\"https://colab.research.google.com/github/vohoaidanh/AIGCDetectBenchmark/blob/main/colab/AIGCDetectBenchmark_train_val.ipynb\" target=\"_parent\"><img src=\"https://colab.research.google.com/assets/colab-badge.svg\" alt=\"Open In Colab\"/></a>"
      ]
    },
    {
      "cell_type": "markdown",
      "source": [
        "## AIGCDetectBenchmark\n"
      ],
      "metadata": {
        "id": "4bsPZQKgE3tX"
      }
    },
    {
      "cell_type": "code",
      "source": [
        "from google.colab import drive\n",
        "drive.mount('/content/drive')\n"
      ],
      "metadata": {
        "colab": {
          "base_uri": "https://localhost:8080/"
        },
        "id": "AR7UgjyUfRcg",
        "outputId": "057c1d32-7e3f-471a-8488-b73033baa2ff"
      },
      "execution_count": 1,
      "outputs": [
        {
          "output_type": "stream",
          "name": "stdout",
          "text": [
            "Mounted at /content/drive\n"
          ]
        }
      ]
    },
    {
      "cell_type": "code",
      "source": [
        "!pip install ftfy\n",
        "!pip install natsort\n",
        "!pip install tensorboardX\n",
        "!pip install blobfile\n",
        "!pip install mpi4py\n"
      ],
      "metadata": {
        "id": "yZtRWDeMing8",
        "outputId": "29b5e2b5-d16e-4080-fe5e-afb5a9f40b62",
        "colab": {
          "base_uri": "https://localhost:8080/"
        }
      },
      "execution_count": 3,
      "outputs": [
        {
          "output_type": "stream",
          "name": "stdout",
          "text": [
            "Collecting ftfy\n",
            "  Downloading ftfy-6.2.0-py3-none-any.whl (54 kB)\n",
            "\u001b[?25l     \u001b[90m━━━━━━━━━━━━━━━━━━━━━━━━━━━━━━━━━━━━━━━━\u001b[0m \u001b[32m0.0/54.4 kB\u001b[0m \u001b[31m?\u001b[0m eta \u001b[36m-:--:--\u001b[0m\r\u001b[2K     \u001b[90m━━━━━━━━━━━━━━━━━━━━━━━━━━━━━━━━━━━━━━━━\u001b[0m \u001b[32m54.4/54.4 kB\u001b[0m \u001b[31m2.1 MB/s\u001b[0m eta \u001b[36m0:00:00\u001b[0m\n",
            "\u001b[?25hRequirement already satisfied: wcwidth<0.3.0,>=0.2.12 in /usr/local/lib/python3.10/dist-packages (from ftfy) (0.2.13)\n",
            "Installing collected packages: ftfy\n",
            "Successfully installed ftfy-6.2.0\n",
            "Requirement already satisfied: natsort in /usr/local/lib/python3.10/dist-packages (8.4.0)\n",
            "Collecting tensorboardX\n",
            "  Downloading tensorboardX-2.6.2.2-py2.py3-none-any.whl (101 kB)\n",
            "\u001b[2K     \u001b[90m━━━━━━━━━━━━━━━━━━━━━━━━━━━━━━━━━━━━━━━━\u001b[0m \u001b[32m101.7/101.7 kB\u001b[0m \u001b[31m3.1 MB/s\u001b[0m eta \u001b[36m0:00:00\u001b[0m\n",
            "\u001b[?25hRequirement already satisfied: numpy in /usr/local/lib/python3.10/dist-packages (from tensorboardX) (1.25.2)\n",
            "Requirement already satisfied: packaging in /usr/local/lib/python3.10/dist-packages (from tensorboardX) (24.0)\n",
            "Requirement already satisfied: protobuf>=3.20 in /usr/local/lib/python3.10/dist-packages (from tensorboardX) (3.20.3)\n",
            "Installing collected packages: tensorboardX\n",
            "Successfully installed tensorboardX-2.6.2.2\n",
            "Collecting blobfile\n",
            "  Downloading blobfile-2.1.1-py3-none-any.whl (73 kB)\n",
            "\u001b[2K     \u001b[90m━━━━━━━━━━━━━━━━━━━━━━━━━━━━━━━━━━━━━━━━\u001b[0m \u001b[32m73.7/73.7 kB\u001b[0m \u001b[31m2.4 MB/s\u001b[0m eta \u001b[36m0:00:00\u001b[0m\n",
            "\u001b[?25hCollecting pycryptodomex~=3.8 (from blobfile)\n",
            "  Downloading pycryptodomex-3.20.0-cp35-abi3-manylinux_2_17_x86_64.manylinux2014_x86_64.whl (2.1 MB)\n",
            "\u001b[2K     \u001b[90m━━━━━━━━━━━━━━━━━━━━━━━━━━━━━━━━━━━━━━━━\u001b[0m \u001b[32m2.1/2.1 MB\u001b[0m \u001b[31m13.3 MB/s\u001b[0m eta \u001b[36m0:00:00\u001b[0m\n",
            "\u001b[?25hRequirement already satisfied: urllib3<3,>=1.25.3 in /usr/local/lib/python3.10/dist-packages (from blobfile) (2.0.7)\n",
            "Requirement already satisfied: lxml~=4.9 in /usr/local/lib/python3.10/dist-packages (from blobfile) (4.9.4)\n",
            "Requirement already satisfied: filelock~=3.0 in /usr/local/lib/python3.10/dist-packages (from blobfile) (3.13.1)\n",
            "Installing collected packages: pycryptodomex, blobfile\n",
            "Successfully installed blobfile-2.1.1 pycryptodomex-3.20.0\n",
            "Collecting mpi4py\n",
            "  Downloading mpi4py-3.1.5.tar.gz (2.5 MB)\n",
            "\u001b[2K     \u001b[90m━━━━━━━━━━━━━━━━━━━━━━━━━━━━━━━━━━━━━━━━\u001b[0m \u001b[32m2.5/2.5 MB\u001b[0m \u001b[31m11.5 MB/s\u001b[0m eta \u001b[36m0:00:00\u001b[0m\n",
            "\u001b[?25h  Installing build dependencies ... \u001b[?25l\u001b[?25hdone\n",
            "  Getting requirements to build wheel ... \u001b[?25l\u001b[?25hdone\n",
            "  Preparing metadata (pyproject.toml) ... \u001b[?25l\u001b[?25hdone\n",
            "Building wheels for collected packages: mpi4py\n",
            "  Building wheel for mpi4py (pyproject.toml) ... \u001b[?25l\u001b[?25hdone\n",
            "  Created wheel for mpi4py: filename=mpi4py-3.1.5-cp310-cp310-linux_x86_64.whl size=2746512 sha256=4a199717c1044e2ae8f8597f581ccbfbd72e3969adb07f66223118a628cce118\n",
            "  Stored in directory: /root/.cache/pip/wheels/18/2b/7f/c852523089e9182b45fca50ff56f49a51eeb6284fd25a66713\n",
            "Successfully built mpi4py\n",
            "Installing collected packages: mpi4py\n",
            "Successfully installed mpi4py-3.1.5\n"
          ]
        }
      ]
    },
    {
      "cell_type": "code",
      "execution_count": 2,
      "metadata": {
        "id": "Q4Tiyb4jExor",
        "outputId": "460f61ca-d31b-43ab-f0a0-5fe1121c3b2e",
        "colab": {
          "base_uri": "https://localhost:8080/"
        }
      },
      "outputs": [
        {
          "output_type": "stream",
          "name": "stdout",
          "text": [
            "Cloning into 'AIGCDetectBenchmark'...\n",
            "remote: Enumerating objects: 618, done.\u001b[K\n",
            "remote: Counting objects: 100% (618/618), done.\u001b[K\n",
            "remote: Compressing objects: 100% (439/439), done.\u001b[K\n",
            "remote: Total 618 (delta 252), reused 494 (delta 160), pack-reused 0\u001b[K\n",
            "Receiving objects: 100% (618/618), 7.18 MiB | 16.68 MiB/s, done.\n",
            "Resolving deltas: 100% (252/252), done.\n"
          ]
        }
      ],
      "source": [
        "!git clone https://github.com/vohoaidanh/AIGCDetectBenchmark.git"
      ]
    },
    {
      "cell_type": "code",
      "source": [
        "!cp /content/drive/MyDrive/DATASETS/real_gen_dataset.zip -d /content\n",
        "!cp /content/drive/MyDrive/DATASETS/RealFakeDB_tiny_test.zip -d /content"
      ],
      "metadata": {
        "id": "iXBZH3TkfdiU"
      },
      "execution_count": 4,
      "outputs": []
    },
    {
      "cell_type": "code",
      "source": [
        "!unzip /content/real_gen_dataset.zip -d /content/real_gen_dataset"
      ],
      "metadata": {
        "id": "P8eEOPZ6qFjz"
      },
      "execution_count": null,
      "outputs": []
    },
    {
      "cell_type": "code",
      "source": [
        "!unzip /content/RealFakeDB_tiny_test.zip -d /content/dataset"
      ],
      "metadata": {
        "id": "fKNkdswkqSPr"
      },
      "execution_count": null,
      "outputs": []
    },
    {
      "cell_type": "code",
      "source": [
        "!rm -r /content/real_gen_dataset/real_gen_dataset/test"
      ],
      "metadata": {
        "id": "frqCSugNqwlH"
      },
      "execution_count": 8,
      "outputs": []
    },
    {
      "cell_type": "code",
      "source": [
        "%cd /content/AIGCDetectBenchmark"
      ],
      "metadata": {
        "colab": {
          "base_uri": "https://localhost:8080/"
        },
        "id": "n9HXSjhchADX",
        "outputId": "8b7f6798-bc9a-4a96-a79b-a159f9cac6ad"
      },
      "execution_count": 10,
      "outputs": [
        {
          "output_type": "stream",
          "name": "stdout",
          "text": [
            "/content/AIGCDetectBenchmark\n"
          ]
        }
      ]
    },
    {
      "cell_type": "code",
      "source": [
        "!python train.py --name test_with_origin --dataroot /content/AIGCDetectBenchmark/dataset \\\n",
        "--checkpoints_dir /content/drive/MyDrive/WEIGHTS/Intrinsic_detector \\\n",
        "--detect_method CNNSpot --blur_prob 0.1 --blur_sig 0.0,3.0 --jpg_prob 0.1 --jpg_method cv2,pil --jpg_qual 30,100"
      ],
      "metadata": {
        "colab": {
          "base_uri": "https://localhost:8080/"
        },
        "id": "J17Cg4xCuKob",
        "outputId": "c8004fef-3bde-4d02-a68a-aed5eaa2493c"
      },
      "execution_count": null,
      "outputs": [
        {
          "output_type": "stream",
          "name": "stdout",
          "text": [
            "----------------- Options ---------------\n",
            "                 CropSize: 224                           \n",
            "               batch_size: 64                            \n",
            "                    beta1: 0.9                           \n",
            "                blur_prob: 0.1                           \n",
            "                 blur_sig: 0.0,3.0                       \n",
            "          checkpoints_dir: /content/drive/MyDrive/WEIGHTS/Intrinsic_detector\t[default: ./checkpoints]\n",
            "                  classes: ['airplane', 'bird', 'bicycle', 'boat', 'bottle', 'bus', 'car', 'cat', 'cow', 'chair', 'diningtable', 'dog', 'person', 'pottedplant', 'motorbike', 'tvmonitor', 'train', 'sheep', 'sofa', 'horse']\t[default: airplane,bird,bicycle,boat,bottle,bus,car,cat,cow,chair,diningtable,dog,person,pottedplant,motorbike,tvmonitor,train,sheep,sofa,horse]\n",
            "           continue_train: False                         \n",
            "                 data_aug: False                         \n",
            "                 dataroot: /content/AIGCDetectBenchmark/dataset\t[default: /hotdata/share/AIGCDetect]\n",
            "            detect_method: CNNSpot                       \n",
            "          earlystop_epoch: 5                             \n",
            "              epoch_count: 1                             \n",
            "             fix_backbone: False                         \n",
            "                init_gain: 0.02                          \n",
            "                init_type: normal                        \n",
            "                  isTrain: True                          \t[default: None]\n",
            "                    isVal: False                         \t[default: None]\n",
            "               jpg_method: cv2,pil                       \n",
            "                 jpg_prob: 0.1                           \n",
            "                 jpg_qual: 30,100                        \n",
            "               last_epoch: -1                            \n",
            "                 loadSize: 256                           \n",
            "                loss_freq: 400                           \n",
            "                       lr: 0.0001                        \n",
            "                     mode: binary                        \n",
            "                     name: test_with_origin              \t[default: experiment_name]\n",
            "                new_optim: False                         \n",
            "                    niter: 1000                          \n",
            "                  no_crop: False                         \n",
            "                  no_flip: False                         \n",
            "                no_resize: False                         \n",
            "                    optim: adam                          \n",
            "              results_dir: ./results/CNNSpot             \t[default: None]\n",
            "                rz_interp: bilinear                      \n",
            "          save_epoch_freq: 5                             \n",
            "         save_latest_freq: 2000                          \n",
            "              train_split: train                         \n",
            "                val_split: val                           \n",
            "             weight_decay: 0.0                           \n",
            "----------------- End -------------------\n",
            "#training images = 56\n",
            "Downloading: \"https://download.pytorch.org/models/resnet50-19c8e357.pth\" to /root/.cache/torch/hub/checkpoints/resnet50-19c8e357.pth\n",
            "100% 97.8M/97.8M [00:00<00:00, 135MB/s]\n"
          ]
        }
      ]
    },
    {
      "cell_type": "code",
      "source": [
        "!cp /content/drive/MyDrive/WEIGHTS/Intrinsic_detector/test_with_intrinsic/model_epoch_best.pth /content/AIGCDetectBenchmark/checkpoints"
      ],
      "metadata": {
        "id": "_4Tve_Xkzom0"
      },
      "execution_count": null,
      "outputs": []
    },
    {
      "cell_type": "code",
      "source": [
        "import tensorflow as tf\n",
        "import matplotlib.pyplot as plt\n",
        "\n",
        "# Đường dẫn đến event file được tạo bởi SummaryWriter\n",
        "event_file_path = 'checkpoints/test_with_PIE_Net/val/events.out.tfevents.1709110494.4cc1337ca71b'\n",
        "\n",
        "# Đọc dữ liệu từ event file\n",
        "summary_iterator = tf.compat.v1.train.summary_iterator(event_file_path)\n",
        "\n",
        "# Khởi tạo các list để lưu giữ dữ liệu\n",
        "steps = []\n",
        "train_losses = []\n",
        "train_accuracies = []\n",
        "\n",
        "# Lặp qua từng event trong event file\n",
        "for event in summary_iterator:\n",
        "    if event.HasField('summary'):\n",
        "        for value in event.summary.value:\n",
        "            if value.tag == 'accuracy':\n",
        "                steps.append(event.step)\n",
        "                train_losses.append(value.simple_value)\n",
        "            elif value.tag == 'ap':\n",
        "                train_accuracies.append(value.simple_value)\n",
        "\n",
        "# Vẽ đồ thị train loss\n",
        "plt.plot(steps, train_losses, label='accuracy')\n",
        "plt.xlabel('Steps')\n",
        "plt.ylabel('accuracy')\n",
        "plt.title('Validate accuracy over Steps')\n",
        "plt.legend()\n",
        "plt.show()\n",
        "\n",
        "# Vẽ đồ thị train accuracy\n",
        "plt.plot(steps, train_accuracies, label='Val AP')\n",
        "plt.xlabel('Steps')\n",
        "plt.ylabel('AP')\n",
        "plt.title('Validate AP over Steps')\n",
        "plt.legend()\n",
        "plt.show()\n"
      ],
      "metadata": {
        "id": "UIUwKxWL0Zph"
      },
      "execution_count": null,
      "outputs": []
    },
    {
      "cell_type": "code",
      "source": [
        "!python eval_all.py --detect_method intrinsic --model_path /content/AIGCDetectBenchmark/checkpoints/model_epoch_best.pth"
      ],
      "metadata": {
        "id": "19VIBcPsI5lX",
        "outputId": "d3a32fea-dff2-4b1b-f113-f7e778a0b06c",
        "colab": {
          "base_uri": "https://localhost:8080/"
        }
      },
      "execution_count": null,
      "outputs": [
        {
          "output_type": "stream",
          "name": "stdout",
          "text": [
            "dataset\n",
            "----------------- Options ---------------\n",
            "                 CropSize: 224                           \n",
            "           DIRE_modelpath: /data_19/AIGCDetect/AIGCDetect/weights/preprocessing/lsun_bedroom.pt\n",
            "          LGrad_modelpath: ./weights/preprocessing/karras2019stylegan-bedrooms-256x256_discriminator.pth\n",
            "            LNP_modelpath: ./weights/preprocessing/sidd_rgb.pth\n",
            "               batch_size: 64                            \n",
            "                 blur_sig: 1.0                           \n",
            "             dataset_name:                               \n",
            "            detect_method: intrinsic                     \t[default: CNNSpot]\n",
            "                  isTrain: False                         \t[default: None]\n",
            "                    isVal: False                         \t[default: None]\n",
            "               jpg_method: pil                           \n",
            "                 jpg_qual: 95                            \n",
            "                 loadSize: 256                           \n",
            "               model_path: /content/AIGCDetectBenchmark/checkpoints/model_epoch_best.pth\t[default: ./weights/classifier/CNNSpot.pth]\n",
            "                  no_crop: False                         \n",
            "                  no_flip: False                         \n",
            "                no_resize: False                         \n",
            "               noise_type: None                          \n",
            "              results_dir: ./results/intrinsic           \t[default: None]\n",
            "                rz_interp: bilinear                      \n",
            "----------------- End -------------------\n",
            "model_epoch_best model testing on...\n",
            "(test) acc: 0.49270482603815935; ap: 0.41390749649130787\n"
          ]
        }
      ]
    }
  ]
}