{
  "nbformat": 4,
  "nbformat_minor": 0,
  "metadata": {
    "colab": {
      "provenance": [],
      "gpuType": "T4",
      "name": "aigcdetectbenchmark_dire_process.ipynb",
      "include_colab_link": true
    },
    "kernelspec": {
      "name": "python3",
      "display_name": "Python 3"
    },
    "language_info": {
      "name": "python"
    },
    "accelerator": "GPU"
  },
  "cells": [
    {
      "cell_type": "markdown",
      "metadata": {
        "id": "view-in-github",
        "colab_type": "text"
      },
      "source": [
        "<a href=\"https://colab.research.google.com/github/vohoaidanh/AIGCDetectBenchmark/blob/dire/colab/AIGCDetectbenchmark_dire_process.ipynb\" target=\"_parent\"><img src=\"https://colab.research.google.com/assets/colab-badge.svg\" alt=\"Open In Colab\"/></a>"
      ]
    },
    {
      "cell_type": "markdown",
      "source": [
        "## AIGCDetectBenchmark\n"
      ],
      "metadata": {
        "id": "4bsPZQKgE3tX"
      }
    },
    {
      "cell_type": "code",
      "source": [
        "from google.colab import drive\n",
        "drive.mount('/content/drive')\n"
      ],
      "metadata": {
        "colab": {
          "base_uri": "https://localhost:8080/"
        },
        "id": "AR7UgjyUfRcg",
        "outputId": "585fa56b-5f62-4996-86ad-3637ccd0d90d"
      },
      "execution_count": null,
      "outputs": [
        {
          "output_type": "stream",
          "name": "stdout",
          "text": [
            "Mounted at /content/drive\n"
          ]
        }
      ]
    },
    {
      "cell_type": "code",
      "source": [
        "!pip install ftfy -q\n",
        "!pip install natsort -q\n",
        "!pip install tensorboardX -q\n",
        "!pip install blobfile -q\n",
        "#!pip install mpi4py\n"
      ],
      "metadata": {
        "id": "yZtRWDeMing8",
        "outputId": "53e16c26-001d-45b6-ad19-3de30d9633c3",
        "colab": {
          "base_uri": "https://localhost:8080/"
        }
      },
      "execution_count": null,
      "outputs": [
        {
          "output_type": "stream",
          "name": "stdout",
          "text": [
            "\u001b[2K     \u001b[90m━━━━━━━━━━━━━━━━━━━━━━━━━━━━━━━━━━━━━━━━\u001b[0m \u001b[32m54.4/54.4 kB\u001b[0m \u001b[31m1.5 MB/s\u001b[0m eta \u001b[36m0:00:00\u001b[0m\n",
            "\u001b[2K     \u001b[90m━━━━━━━━━━━━━━━━━━━━━━━━━━━━━━━━━━━━━━━━\u001b[0m \u001b[32m101.7/101.7 kB\u001b[0m \u001b[31m3.2 MB/s\u001b[0m eta \u001b[36m0:00:00\u001b[0m\n",
            "\u001b[2K     \u001b[90m━━━━━━━━━━━━━━━━━━━━━━━━━━━━━━━━━━━━━━━━\u001b[0m \u001b[32m73.7/73.7 kB\u001b[0m \u001b[31m2.4 MB/s\u001b[0m eta \u001b[36m0:00:00\u001b[0m\n",
            "\u001b[2K     \u001b[90m━━━━━━━━━━━━━━━━━━━━━━━━━━━━━━━━━━━━━━━━\u001b[0m \u001b[32m2.1/2.1 MB\u001b[0m \u001b[31m59.3 MB/s\u001b[0m eta \u001b[36m0:00:00\u001b[0m\n",
            "\u001b[?25h"
          ]
        }
      ]
    },
    {
      "cell_type": "code",
      "execution_count": null,
      "metadata": {
        "id": "Q4Tiyb4jExor",
        "outputId": "ae03c8c3-a089-47c9-b5f5-0f8728832e02",
        "colab": {
          "base_uri": "https://localhost:8080/"
        }
      },
      "outputs": [
        {
          "output_type": "stream",
          "name": "stdout",
          "text": [
            "Cloning into 'AIGCDetectBenchmark'...\n",
            "remote: Enumerating objects: 681, done.\u001b[K\n",
            "remote: Counting objects: 100% (681/681), done.\u001b[K\n",
            "remote: Compressing objects: 100% (491/491), done.\u001b[K\n",
            "remote: Total 681 (delta 303), reused 515 (delta 170), pack-reused 0\u001b[K\n",
            "Receiving objects: 100% (681/681), 7.20 MiB | 13.16 MiB/s, done.\n",
            "Resolving deltas: 100% (303/303), done.\n"
          ]
        }
      ],
      "source": [
        "!git clone -b dire https://github.com/vohoaidanh/AIGCDetectBenchmark.git"
      ]
    },
    {
      "cell_type": "code",
      "source": [
        "#!cp /content/drive/MyDrive/DATASETS/real_gen_dataset.zip -d /content\n",
        "!cp /content/drive/MyDrive/DATASETS/RealFakeDB_tiny_test.zip -d /content"
      ],
      "metadata": {
        "id": "iXBZH3TkfdiU"
      },
      "execution_count": null,
      "outputs": []
    },
    {
      "cell_type": "code",
      "source": [
        "#!unzip /content/real_gen_dataset.zip -d /content/real_gen_dataset"
      ],
      "metadata": {
        "id": "P8eEOPZ6qFjz"
      },
      "execution_count": null,
      "outputs": []
    },
    {
      "cell_type": "code",
      "source": [
        "!unzip /content/RealFakeDB_tiny_test.zip -d /content/RealFakeDB_tiny_test"
      ],
      "metadata": {
        "id": "fKNkdswkqSPr"
      },
      "execution_count": null,
      "outputs": []
    },
    {
      "cell_type": "code",
      "source": [
        "#!rm -r /content/real_gen_dataset/real_gen_dataset/test"
      ],
      "metadata": {
        "id": "frqCSugNqwlH"
      },
      "execution_count": null,
      "outputs": []
    },
    {
      "cell_type": "code",
      "source": [
        "%cd /content/AIGCDetectBenchmark"
      ],
      "metadata": {
        "colab": {
          "base_uri": "https://localhost:8080/"
        },
        "id": "n9HXSjhchADX",
        "outputId": "85f17847-4115-42c1-c7d5-ac53766f3f6b"
      },
      "execution_count": null,
      "outputs": [
        {
          "output_type": "stream",
          "name": "stdout",
          "text": [
            "/content/AIGCDetectBenchmark\n"
          ]
        }
      ]
    },
    {
      "cell_type": "code",
      "source": [
        "!wget https://openaipublic.blob.core.windows.net/diffusion/jul-2021/256x256_diffusion_uncond.pt"
      ],
      "metadata": {
        "colab": {
          "base_uri": "https://localhost:8080/"
        },
        "id": "uy97NJ_Fx0-t",
        "outputId": "420f8f86-429f-4729-d9b8-510c39425a84"
      },
      "execution_count": null,
      "outputs": [
        {
          "output_type": "stream",
          "name": "stdout",
          "text": [
            "--2024-03-29 15:15:36--  https://openaipublic.blob.core.windows.net/diffusion/jul-2021/256x256_diffusion_uncond.pt\n",
            "Resolving openaipublic.blob.core.windows.net (openaipublic.blob.core.windows.net)... 20.209.18.33\n",
            "Connecting to openaipublic.blob.core.windows.net (openaipublic.blob.core.windows.net)|20.209.18.33|:443... connected.\n",
            "HTTP request sent, awaiting response... 200 OK\n",
            "Length: 2211383297 (2.1G) [application/octet-stream]\n",
            "Saving to: ‘256x256_diffusion_uncond.pt’\n",
            "\n",
            "256x256_diffusion_u 100%[===================>]   2.06G  9.81MB/s    in 4m 0s   \n",
            "\n",
            "2024-03-29 15:19:36 (8.80 MB/s) - ‘256x256_diffusion_uncond.pt’ saved [2211383297/2211383297]\n",
            "\n"
          ]
        }
      ]
    },
    {
      "cell_type": "code",
      "source": [
        "import os\n",
        "os.makedirs('models', exist_ok=True)\n",
        "import shutil\n",
        "shutil.move('256x256_diffusion_uncond.pt', 'models')"
      ],
      "metadata": {
        "colab": {
          "base_uri": "https://localhost:8080/",
          "height": 35
        },
        "id": "C0YDj4Z2yDyQ",
        "outputId": "467344f4-b709-4fe0-a03d-334ba57126d4"
      },
      "execution_count": null,
      "outputs": [
        {
          "output_type": "execute_result",
          "data": {
            "text/plain": [
              "'DIRE/models/256x256_diffusion_uncond.pt'"
            ],
            "application/vnd.google.colaboratory.intrinsic+json": {
              "type": "string"
            }
          },
          "metadata": {},
          "execution_count": 8
        }
      ]
    },
    {
      "cell_type": "code",
      "source": [
        "import os\n",
        "image_list = []\n",
        "extensions = ['.jpg', '.png', '.gif', '.bmp', '.webp']  # Add more extensions as needed\n",
        "def getname(base_dir):\n",
        "    for dirpath, dirnames, filenames in os.walk(base_dir):\n",
        "        if len(filenames) > 0:\n",
        "            imgs = [filename for filename in filenames if any(ext in filename for ext in extensions)]\n",
        "            image_list.extend(imgs)\n",
        "    return image_list\n",
        "\n",
        "image_list = getname('/content/drive/MyDrive/DATASETS/DIRE/RealFakeDB_tiny_test/dire_test')"
      ],
      "metadata": {
        "id": "D_VOh45V1wPS"
      },
      "execution_count": null,
      "outputs": []
    },
    {
      "cell_type": "code",
      "source": [
        "data_dir = '/content/AIGCDetectBenchmark/RealFakeDB_tiny_test'\n",
        "c=0\n",
        "for dirpath, dirnames, filenames in os.walk(data_dir):\n",
        "    if len(filenames) >0:\n",
        "        for file in filenames:\n",
        "            if file in image_list:\n",
        "                c+=1\n",
        "                full_name = os.path.join(dirpath, file)\n",
        "                os.remove(full_name)\n",
        "                print('removed {}:{}:'.format(c,full_name))\n",
        "\n"
      ],
      "metadata": {
        "id": "fB59Oe8C10mn"
      },
      "execution_count": null,
      "outputs": []
    },
    {
      "cell_type": "code",
      "source": [
        "samples = len(os.listdir('/content/AIGCDetectBenchmark/RealFakeDB_tiny_test/test/0_real')) + len(os.listdir('/content/AIGCDetectBenchmark/RealFakeDB_tiny_test/test/1_fake'))\n",
        "\n",
        "samples"
      ],
      "metadata": {
        "colab": {
          "base_uri": "https://localhost:8080/"
        },
        "id": "d1EglWJh13jU",
        "outputId": "d7922b23-59ea-486b-ddc4-5a62a614d218"
      },
      "execution_count": null,
      "outputs": [
        {
          "output_type": "execute_result",
          "data": {
            "text/plain": [
              "1600"
            ]
          },
          "metadata": {},
          "execution_count": 6
        }
      ]
    },
    {
      "cell_type": "code",
      "source": [
        "!python preprocessing/DIRE/compute_dire.py \\\n",
        "--model_path models/256x256_diffusion_uncond.pt \\\n",
        "--attention_resolutions 32,16,8 \\\n",
        "--class_cond False \\\n",
        "--diffusion_steps 1000 --dropout 0.1 --image_size 256 --learn_sigma True --noise_schedule linear --num_channels 256 \\\n",
        "--num_head_channels 64 --num_res_blocks 2 --resblock_updown True --use_fp16 True --use_scale_shift_norm True \\\n",
        "--images_dir /content/AIGCDetectBenchmark/RealFakeDB_tiny_test/test \\\n",
        "--recons_dir /content/drive/MyDrive/DATASETS/DIRE/RealFakeDB_tiny_test/recons_test \\\n",
        "--dire_dir /content/drive/MyDrive/DATASETS/DIRE/RealFakeDB_tiny_test/dire_test \\\n",
        "--batch_size 16 --num_samples $samples  --timestep_respacing ddim20 --use_ddim True \\\n",
        "--has_subfolder True"
      ],
      "metadata": {
        "colab": {
          "base_uri": "https://localhost:8080/"
        },
        "id": "6mzp3FH8yUhv",
        "outputId": "96109496-a434-4a00-eeae-98aa60377c0b"
      },
      "execution_count": null,
      "outputs": [
        {
          "output_type": "stream",
          "name": "stdout",
          "text": [
            "Logging to /content/drive/MyDrive/DATASETS/DIRE/RealFakeDB_tiny_test/recons_test\n",
            "Namespace(images_dir='/content/AIGCDetectBenchmark/RealFakeDB_tiny_test/test', recons_dir='/content/drive/MyDrive/DATASETS/DIRE/RealFakeDB_tiny_test/recons_test', dire_dir='/content/drive/MyDrive/DATASETS/DIRE/RealFakeDB_tiny_test/dire_test', clip_denoised=True, num_samples=1600, batch_size=16, use_ddim=True, model_path='models/256x256_diffusion_uncond.pt', real_step=0, continue_reverse=False, has_subfolder=True, image_size=256, num_channels=256, num_res_blocks=2, num_heads=4, num_heads_upsample=-1, num_head_channels=64, attention_resolutions='32,16,8', channel_mult='', dropout=0.1, class_cond=False, use_checkpoint=False, use_scale_shift_norm=True, resblock_updown=True, use_fp16=True, use_new_attention_order=False, learn_sigma=True, diffusion_steps=1000, noise_schedule='linear', timestep_respacing='ddim20', use_kl=False, predict_xstart=False, rescale_timesteps=False, rescale_learned_sigmas=False)\n",
            "have created model and diffusion\n",
            "have created data loader\n",
            "computing recons & DIRE ...\n",
            "dataset length: 600\n",
            "have finished 16 samples\n",
            "have finished 32 samples\n",
            "have finished 48 samples\n",
            "have finished 64 samples\n",
            "have finished 80 samples\n",
            "have finished 96 samples\n",
            "have finished 112 samples\n",
            "have finished 128 samples\n",
            "have finished 144 samples\n",
            "have finished 160 samples\n",
            "have finished 176 samples\n",
            "have finished 192 samples\n",
            "have finished 208 samples\n",
            "have finished 224 samples\n",
            "have finished 240 samples\n",
            "have finished 256 samples\n",
            "Traceback (most recent call last):\n",
            "  File \"/content/AIGCDetectBenchmark/preprocessing/DIRE/compute_dire.py\", line 188, in <module>\n",
            "    main()\n",
            "  File \"/content/AIGCDetectBenchmark/preprocessing/DIRE/compute_dire.py\", line 114, in main\n",
            "    recons = sample_fn(\n",
            "  File \"/content/AIGCDetectBenchmark/preprocessing/DIRE/guided_diffusion/gaussian_diffusion.py\", line 649, in ddim_sample_loop\n",
            "    for sample in self.ddim_sample_loop_progressive(\n",
            "  File \"/content/AIGCDetectBenchmark/preprocessing/DIRE/guided_diffusion/gaussian_diffusion.py\", line 707, in ddim_sample_loop_progressive\n",
            "    out = self.ddim_sample(\n",
            "  File \"/content/AIGCDetectBenchmark/preprocessing/DIRE/guided_diffusion/gaussian_diffusion.py\", line 553, in ddim_sample\n",
            "    out = self.p_mean_variance(\n",
            "  File \"/content/AIGCDetectBenchmark/preprocessing/DIRE/guided_diffusion/respace.py\", line 91, in p_mean_variance\n",
            "    return super().p_mean_variance(self._wrap_model(model), *args, **kwargs)\n",
            "  File \"/content/AIGCDetectBenchmark/preprocessing/DIRE/guided_diffusion/gaussian_diffusion.py\", line 269, in p_mean_variance\n",
            "    min_log = _extract_into_tensor(\n",
            "  File \"/content/AIGCDetectBenchmark/preprocessing/DIRE/guided_diffusion/gaussian_diffusion.py\", line 1003, in _extract_into_tensor\n",
            "    res = th.from_numpy(arr).to(device=timesteps.device)[timesteps].float()\n",
            "KeyboardInterrupt\n"
          ]
        }
      ]
    }
  ]
}