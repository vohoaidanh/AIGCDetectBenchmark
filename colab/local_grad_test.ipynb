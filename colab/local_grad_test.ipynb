{
  "nbformat": 4,
  "nbformat_minor": 0,
  "metadata": {
    "colab": {
      "provenance": [],
      "name": "local_grad_test.ipynb",
      "gpuType": "T4",
      "include_colab_link": true
    },
    "kernelspec": {
      "name": "python3",
      "display_name": "Python 3"
    },
    "language_info": {
      "name": "python"
    },
    "accelerator": "GPU"
  },
  "cells": [
    {
      "cell_type": "markdown",
      "metadata": {
        "id": "view-in-github",
        "colab_type": "text"
      },
      "source": [
        "<a href=\"https://colab.research.google.com/github/vohoaidanh/AIGCDetectBenchmark/blob/main/colab/local_grad_test.ipynb\" target=\"_parent\"><img src=\"https://colab.research.google.com/assets/colab-badge.svg\" alt=\"Open In Colab\"/></a>"
      ]
    },
    {
      "cell_type": "markdown",
      "source": [
        "## AIGCDetectBenchmark\n"
      ],
      "metadata": {
        "id": "4bsPZQKgE3tX"
      }
    },
    {
      "cell_type": "code",
      "source": [
        "from google.colab import drive\n",
        "drive.mount('/content/drive')\n"
      ],
      "metadata": {
        "colab": {
          "base_uri": "https://localhost:8080/"
        },
        "id": "AR7UgjyUfRcg",
        "outputId": "96aa72dd-54a7-461b-f333-55c74db7d3d4"
      },
      "execution_count": 1,
      "outputs": [
        {
          "output_type": "stream",
          "name": "stdout",
          "text": [
            "Mounted at /content/drive\n"
          ]
        }
      ]
    },
    {
      "cell_type": "code",
      "source": [
        "!git clone https://github.com/vohoaidanh/AIGCDetectBenchmark.git"
      ],
      "metadata": {
        "colab": {
          "base_uri": "https://localhost:8080/"
        },
        "id": "ARFExotqtZDh",
        "outputId": "d0d0efb2-1f25-473d-b137-d62214e8d32c"
      },
      "execution_count": 2,
      "outputs": [
        {
          "output_type": "stream",
          "name": "stdout",
          "text": [
            "Cloning into 'AIGCDetectBenchmark'...\n",
            "remote: Enumerating objects: 712, done.\u001b[K\n",
            "remote: Counting objects: 100% (4/4), done.\u001b[K\n",
            "remote: Compressing objects: 100% (4/4), done.\u001b[K\n",
            "remote: Total 712 (delta 0), reused 0 (delta 0), pack-reused 708\u001b[K\n",
            "Receiving objects: 100% (712/712), 7.17 MiB | 11.23 MiB/s, done.\n",
            "Resolving deltas: 100% (338/338), done.\n"
          ]
        }
      ]
    },
    {
      "cell_type": "code",
      "source": [
        "!pip install ftfy -q\n",
        "!pip install natsort -q\n",
        "!pip install tensorboardX -q\n",
        "!pip install blobfile -q\n",
        "!pip install mpi4py -q\n"
      ],
      "metadata": {
        "id": "yZtRWDeMing8",
        "outputId": "973d9169-5f99-47ef-923a-668c7a6fdd77",
        "colab": {
          "base_uri": "https://localhost:8080/"
        }
      },
      "execution_count": 3,
      "outputs": [
        {
          "output_type": "stream",
          "name": "stdout",
          "text": [
            "\u001b[2K     \u001b[90m━━━━━━━━━━━━━━━━━━━━━━━━━━━━━━━━━━━━━━━━\u001b[0m \u001b[32m54.4/54.4 kB\u001b[0m \u001b[31m2.5 MB/s\u001b[0m eta \u001b[36m0:00:00\u001b[0m\n",
            "\u001b[2K     \u001b[90m━━━━━━━━━━━━━━━━━━━━━━━━━━━━━━━━━━━━━━━━\u001b[0m \u001b[32m101.7/101.7 kB\u001b[0m \u001b[31m3.8 MB/s\u001b[0m eta \u001b[36m0:00:00\u001b[0m\n",
            "\u001b[2K     \u001b[90m━━━━━━━━━━━━━━━━━━━━━━━━━━━━━━━━━━━━━━━━\u001b[0m \u001b[32m73.7/73.7 kB\u001b[0m \u001b[31m2.2 MB/s\u001b[0m eta \u001b[36m0:00:00\u001b[0m\n",
            "\u001b[2K     \u001b[90m━━━━━━━━━━━━━━━━━━━━━━━━━━━━━━━━━━━━━━━━\u001b[0m \u001b[32m2.1/2.1 MB\u001b[0m \u001b[31m18.2 MB/s\u001b[0m eta \u001b[36m0:00:00\u001b[0m\n",
            "\u001b[2K     \u001b[90m━━━━━━━━━━━━━━━━━━━━━━━━━━━━━━━━━━━━━━━━\u001b[0m \u001b[32m2.5/2.5 MB\u001b[0m \u001b[31m19.7 MB/s\u001b[0m eta \u001b[36m0:00:00\u001b[0m\n",
            "\u001b[?25h  Installing build dependencies ... \u001b[?25l\u001b[?25hdone\n",
            "  Getting requirements to build wheel ... \u001b[?25l\u001b[?25hdone\n",
            "  Preparing metadata (pyproject.toml) ... \u001b[?25l\u001b[?25hdone\n",
            "  Building wheel for mpi4py (pyproject.toml) ... \u001b[?25l\u001b[?25hdone\n"
          ]
        }
      ]
    },
    {
      "cell_type": "code",
      "source": [
        "%cd /content/AIGCDetectBenchmark"
      ],
      "metadata": {
        "colab": {
          "base_uri": "https://localhost:8080/"
        },
        "id": "n9HXSjhchADX",
        "outputId": "2c225f1d-4ac7-4502-ec58-e399f1d73598"
      },
      "execution_count": 4,
      "outputs": [
        {
          "output_type": "stream",
          "name": "stdout",
          "text": [
            "/content/AIGCDetectBenchmark\n"
          ]
        }
      ]
    },
    {
      "cell_type": "code",
      "source": [
        "DATASET_INDRIVE = \"/content/drive/MyDrive/DATASETS/real_gen_dataset_local_grad.zip\"\n",
        "UN_ZIP_TO = \"/content/AIGCDetectBenchmark\"\n",
        "!unzip -q $DATASET_INDRIVE -d $UN_ZIP_TO"
      ],
      "metadata": {
        "id": "-eqUpAKmuMgZ"
      },
      "execution_count": 6,
      "outputs": []
    },
    {
      "cell_type": "code",
      "source": [
        "!pip install comet_ml"
      ],
      "metadata": {
        "id": "LIz4K7Z7Mi0K"
      },
      "execution_count": null,
      "outputs": []
    },
    {
      "cell_type": "markdown",
      "source": [
        "# Porcess for local_grad"
      ],
      "metadata": {
        "id": "anltKV28vLDe"
      }
    },
    {
      "cell_type": "code",
      "source": [
        "setofdata = ['val','train', 'test']\n",
        "for i in setofdata:\n",
        "  !python img2grad.py \\\n",
        "  --input_dir /content/AIGCDetectBenchmark/RealFakeDB_tiny/$i \\\n",
        "  --result_dir /content/AIGCDetectBenchmark/results/RealFakeDB_tiny/$i"
      ],
      "metadata": {
        "colab": {
          "base_uri": "https://localhost:8080/"
        },
        "id": "tyq5fn4evKbq",
        "outputId": "4fe1d4a0-b95c-45c2-b3a9-58f3834d5566"
      },
      "execution_count": null,
      "outputs": [
        {
          "output_type": "stream",
          "name": "stdout",
          "text": [
            "100% 600/600 [01:58<00:00,  5.04it/s]\n",
            "100% 1964/1964 [06:25<00:00,  5.10it/s]\n",
            "100% 2000/2000 [06:35<00:00,  5.06it/s]\n"
          ]
        }
      ]
    },
    {
      "cell_type": "code",
      "source": [
        "!zip -r RealFakeDB_tiny_local_grad.zip /content/AIGCDetectBenchmark/results/*\n"
      ],
      "metadata": {
        "id": "iHDdqf9YD4ez"
      },
      "execution_count": null,
      "outputs": []
    },
    {
      "cell_type": "code",
      "source": [
        "!cp RealFakeDB_tiny_local_grad.zip -d /content/drive/MyDrive/DATASETS"
      ],
      "metadata": {
        "id": "qrbFS--pGrn8"
      },
      "execution_count": null,
      "outputs": []
    },
    {
      "cell_type": "code",
      "source": [
        "!pip install comet_ml -q"
      ],
      "metadata": {
        "colab": {
          "base_uri": "https://localhost:8080/"
        },
        "id": "ftNpJwio3W8Q",
        "outputId": "cfd2f69a-6701-41d6-a7d1-a2cb589ceb23"
      },
      "execution_count": null,
      "outputs": [
        {
          "output_type": "stream",
          "name": "stdout",
          "text": [
            "\u001b[2K     \u001b[90m━━━━━━━━━━━━━━━━━━━━━━━━━━━━━━━━━━━━━━━━\u001b[0m \u001b[32m638.9/638.9 kB\u001b[0m \u001b[31m8.2 MB/s\u001b[0m eta \u001b[36m0:00:00\u001b[0m\n",
            "\u001b[2K     \u001b[90m━━━━━━━━━━━━━━━━━━━━━━━━━━━━━━━━━━━━━━━━\u001b[0m \u001b[32m3.3/3.3 MB\u001b[0m \u001b[31m44.0 MB/s\u001b[0m eta \u001b[36m0:00:00\u001b[0m\n",
            "\u001b[2K     \u001b[90m━━━━━━━━━━━━━━━━━━━━━━━━━━━━━━━━━━━━━━━━\u001b[0m \u001b[32m54.5/54.5 kB\u001b[0m \u001b[31m3.9 MB/s\u001b[0m eta \u001b[36m0:00:00\u001b[0m\n",
            "\u001b[2K     \u001b[90m━━━━━━━━━━━━━━━━━━━━━━━━━━━━━━━━━━━━━━━━\u001b[0m \u001b[32m264.9/264.9 kB\u001b[0m \u001b[31m19.8 MB/s\u001b[0m eta \u001b[36m0:00:00\u001b[0m\n",
            "\u001b[2K     \u001b[90m━━━━━━━━━━━━━━━━━━━━━━━━━━━━━━━━━━━━━━━━\u001b[0m \u001b[32m137.9/137.9 kB\u001b[0m \u001b[31m13.9 MB/s\u001b[0m eta \u001b[36m0:00:00\u001b[0m\n",
            "\u001b[2K     \u001b[90m━━━━━━━━━━━━━━━━━━━━━━━━━━━━━━━━━━━━━━━━\u001b[0m \u001b[32m54.3/54.3 kB\u001b[0m \u001b[31m5.8 MB/s\u001b[0m eta \u001b[36m0:00:00\u001b[0m\n",
            "\u001b[2K     \u001b[90m━━━━━━━━━━━━━━━━━━━━━━━━━━━━━━━━━━━━━━━━\u001b[0m \u001b[32m514.7/514.7 kB\u001b[0m \u001b[31m29.1 MB/s\u001b[0m eta \u001b[36m0:00:00\u001b[0m\n",
            "\u001b[?25h"
          ]
        }
      ]
    },
    {
      "cell_type": "markdown",
      "source": [
        "# Train"
      ],
      "metadata": {
        "id": "-bfZv5Gq3eht"
      }
    },
    {
      "cell_type": "code",
      "source": [
        "#@title 1. Keep this tab alive to prevent Colab from disconnecting you { display-mode: \"form\" }\n",
        "\n",
        "#@markdown Press play on the music player that will appear below:\n",
        "%%html\n",
        "<audio src=\"https://oobabooga.github.io/silence.m4a\" controls>"
      ],
      "metadata": {
        "id": "lKnxImHLkRR2"
      },
      "execution_count": null,
      "outputs": []
    },
    {
      "cell_type": "code",
      "source": [
        "TEST_NAME = 'test_with_local_grad_240330'\n",
        "DATASET_DIR = '/content/AIGCDetectBenchmark/real_gen_dataset_local_grad'\n",
        "CHECKPOINTS_DIR = '/content/drive/MyDrive/WEIGHTS/Intrinsic_detector'\n",
        "!python train.py --name $TEST_NAME --dataroot $DATASET_DIR \\\n",
        "--checkpoints $CHECKPOINTS_DIR \\\n",
        "--detect_method CNNSpot --blur_prob 0.1 --blur_sig 0.0,3.0 --jpg_prob 0.1 --jpg_method cv2,pil --jpg_qual 30,100"
      ],
      "metadata": {
        "id": "J17Cg4xCuKob",
        "outputId": "db0eeded-1420-4950-c5b7-8ac3ba332a91",
        "colab": {
          "base_uri": "https://localhost:8080/"
        }
      },
      "execution_count": 9,
      "outputs": [
        {
          "output_type": "stream",
          "name": "stdout",
          "text": [
            "\u001b[1;38;5;39mCOMET INFO:\u001b[0m Valid Comet API Key saved in /root/.comet.config (set COMET_CONFIG to change where it is saved).\n",
            "----------------- Options ---------------\n",
            "                 CropSize: 224                           \n",
            "               batch_size: 64                            \n",
            "                    beta1: 0.9                           \n",
            "                blur_prob: 0.1                           \n",
            "                 blur_sig: 0.0,3.0                       \n",
            "          checkpoints_dir: /content/drive/MyDrive/WEIGHTS/Intrinsic_detector\t[default: ./checkpoints]\n",
            "                  classes: ['airplane', 'bird', 'bicycle', 'boat', 'bottle', 'bus', 'car', 'cat', 'cow', 'chair', 'diningtable', 'dog', 'person', 'pottedplant', 'motorbike', 'tvmonitor', 'train', 'sheep', 'sofa', 'horse']\t[default: airplane,bird,bicycle,boat,bottle,bus,car,cat,cow,chair,diningtable,dog,person,pottedplant,motorbike,tvmonitor,train,sheep,sofa,horse]\n",
            "           continue_train: False                         \n",
            "                 data_aug: False                         \n",
            "                 dataroot: /content/AIGCDetectBenchmark/real_gen_dataset_local_grad\t[default: /hotdata/share/AIGCDetect]\n",
            "            detect_method: CNNSpot                       \n",
            "          earlystop_epoch: 5                             \n",
            "              epoch_count: 1                             \n",
            "             fix_backbone: False                         \n",
            "                init_gain: 0.02                          \n",
            "                init_type: normal                        \n",
            "                  isTrain: True                          \t[default: None]\n",
            "                    isVal: False                         \t[default: None]\n",
            "               jpg_method: cv2,pil                       \n",
            "                 jpg_prob: 0.1                           \n",
            "                 jpg_qual: 30,100                        \n",
            "               last_epoch: -1                            \n",
            "                 loadSize: 256                           \n",
            "                loss_freq: 400                           \n",
            "                       lr: 0.0001                        \n",
            "                     mode: binary                        \n",
            "                     name: test_with_local_grad_240330   \t[default: experiment_name]\n",
            "                new_optim: False                         \n",
            "                    niter: 1000                          \n",
            "                  no_crop: False                         \n",
            "                  no_flip: False                         \n",
            "                no_resize: False                         \n",
            "                    optim: adam                          \n",
            "              results_dir: ./results/CNNSpot             \t[default: None]\n",
            "                rz_interp: bilinear                      \n",
            "          save_epoch_freq: 5                             \n",
            "         save_latest_freq: 2000                          \n",
            "              train_split: train                         \n",
            "                val_split: val                           \n",
            "             weight_decay: 0.0                           \n",
            "----------------- End -------------------\n",
            "\u001b[1;38;5;214mCOMET WARNING:\u001b[0m To get all data logged automatically, import comet_ml before the following modules: torch.\n",
            "\u001b[1;38;5;39mCOMET INFO:\u001b[0m Experiment is live on comet.com \u001b[38;5;39mhttps://www.comet.com/danhvohoai2-gmail-com/ai-generated-image-detection/2c5d1016fe6141a0b08c86b25028be9c\u001b[0m\n",
            "\n",
            "#training images = 56\n",
            "saving the model at the end of epoch 0, iters 56\n",
            "(Val @ epoch 0) acc: 0.9519553072625698; ap: 0.9794650245088319\n",
            "Validation accuracy increased (-inf --> 0.951955).  Saving model ...\n",
            "(Val @ epoch 1) acc: 0.9407821229050279; ap: 0.9863484390037417\n",
            "EarlyStopping counter: 1 out of 5\n",
            "(Val @ epoch 2) acc: 0.9206703910614525; ap: 0.9925359721728284\n",
            "EarlyStopping counter: 2 out of 5\n",
            "(Val @ epoch 3) acc: 0.9530726256983241; ap: 0.9938578053310317\n",
            "Validation accuracy increased (0.951955 --> 0.953073).  Saving model ...\n",
            "(Val @ epoch 4) acc: 0.9418994413407821; ap: 0.9908819633558736\n",
            "EarlyStopping counter: 1 out of 5\n",
            "saving the model at the end of epoch 5, iters 336\n",
            "(Val @ epoch 5) acc: 0.9608938547486033; ap: 0.9927449713632587\n",
            "Validation accuracy increased (0.953073 --> 0.960894).  Saving model ...\n",
            "(Val @ epoch 6) acc: 0.9653631284916201; ap: 0.9940114426369291\n",
            "Validation accuracy increased (0.960894 --> 0.965363).  Saving model ...\n",
            "Train loss: 0.06530891358852386 at step: 400\n",
            "(Val @ epoch 7) acc: 0.9318435754189944; ap: 0.9910755482064195\n",
            "EarlyStopping counter: 1 out of 5\n",
            "(Val @ epoch 8) acc: 0.9608938547486033; ap: 0.9875957992973191\n",
            "EarlyStopping counter: 2 out of 5\n",
            "(Val @ epoch 9) acc: 0.9553072625698324; ap: 0.9926070424659551\n",
            "EarlyStopping counter: 3 out of 5\n",
            "saving the model at the end of epoch 10, iters 616\n",
            "(Val @ epoch 10) acc: 0.9664804469273743; ap: 0.9932398108624706\n",
            "Validation accuracy increased (0.965363 --> 0.966480).  Saving model ...\n",
            "(Val @ epoch 11) acc: 0.9340782122905028; ap: 0.9864079989564979\n",
            "EarlyStopping counter: 1 out of 5\n",
            "(Val @ epoch 12) acc: 0.9664804469273743; ap: 0.9920599741378873\n",
            "EarlyStopping counter: 2 out of 5\n",
            "(Val @ epoch 13) acc: 0.9687150837988827; ap: 0.9928261263764772\n",
            "Validation accuracy increased (0.966480 --> 0.968715).  Saving model ...\n",
            "Train loss: 0.0333104208111763 at step: 800\n",
            "(Val @ epoch 14) acc: 0.9474860335195531; ap: 0.9870764334777714\n",
            "EarlyStopping counter: 1 out of 5\n",
            "saving the model at the end of epoch 15, iters 896\n",
            "(Val @ epoch 15) acc: 0.9564245810055866; ap: 0.9893699576776394\n",
            "EarlyStopping counter: 2 out of 5\n",
            "(Val @ epoch 16) acc: 0.9463687150837988; ap: 0.9918642838755801\n",
            "EarlyStopping counter: 3 out of 5\n",
            "(Val @ epoch 17) acc: 0.9631284916201117; ap: 0.9938337188708806\n",
            "EarlyStopping counter: 4 out of 5\n",
            "(Val @ epoch 18) acc: 0.9631284916201117; ap: 0.9913776715969601\n",
            "EarlyStopping counter: 5 out of 5\n",
            "Learning rate dropped by 10, continue training...\n",
            "(Val @ epoch 19) acc: 0.9687150837988827; ap: 0.9935300602838817\n",
            "Validation accuracy increased (-inf --> 0.968715).  Saving model ...\n",
            "saving the model at the end of epoch 20, iters 1176\n",
            "(Val @ epoch 20) acc: 0.9720670391061452; ap: 0.9945369164095565\n",
            "Validation accuracy increased (0.968715 --> 0.972067).  Saving model ...\n",
            "Train loss: 0.0038963512051850557 at step: 1200\n",
            "(Val @ epoch 21) acc: 0.9720670391061452; ap: 0.9949248583451618\n",
            "EarlyStopping counter: 1 out of 5\n",
            "(Val @ epoch 22) acc: 0.9720670391061452; ap: 0.9950303380446576\n",
            "EarlyStopping counter: 2 out of 5\n",
            "(Val @ epoch 23) acc: 0.9731843575418995; ap: 0.9951393890681156\n",
            "EarlyStopping counter: 3 out of 5\n",
            "(Val @ epoch 24) acc: 0.9731843575418995; ap: 0.9953078230137553\n",
            "EarlyStopping counter: 4 out of 5\n",
            "saving the model at the end of epoch 25, iters 1456\n",
            "(Val @ epoch 25) acc: 0.9731843575418995; ap: 0.9950571689356237\n",
            "EarlyStopping counter: 5 out of 5\n",
            "Learning rate dropped by 10, continue training...\n",
            "(Val @ epoch 26) acc: 0.9743016759776536; ap: 0.9950803011326417\n",
            "Validation accuracy increased (-inf --> 0.974302).  Saving model ...\n",
            "(Val @ epoch 27) acc: 0.9731843575418995; ap: 0.994933384044743\n",
            "EarlyStopping counter: 1 out of 5\n",
            "Train loss: 0.020187722519040108 at step: 1600\n",
            "(Val @ epoch 28) acc: 0.9731843575418995; ap: 0.9951467218234904\n",
            "EarlyStopping counter: 2 out of 5\n",
            "(Val @ epoch 29) acc: 0.9720670391061452; ap: 0.9951562646593957\n",
            "EarlyStopping counter: 3 out of 5\n",
            "saving the model at the end of epoch 30, iters 1736\n",
            "(Val @ epoch 30) acc: 0.9731843575418995; ap: 0.9953082036747272\n",
            "EarlyStopping counter: 4 out of 5\n",
            "(Val @ epoch 31) acc: 0.9731843575418995; ap: 0.9952762653447507\n",
            "EarlyStopping counter: 5 out of 5\n",
            "Early stopping.\n",
            "\u001b[1;38;5;39mCOMET INFO:\u001b[0m ---------------------------------------------------------------------------------------\n",
            "\u001b[1;38;5;39mCOMET INFO:\u001b[0m Comet.ml Experiment Summary\n",
            "\u001b[1;38;5;39mCOMET INFO:\u001b[0m ---------------------------------------------------------------------------------------\n",
            "\u001b[1;38;5;39mCOMET INFO:\u001b[0m   Data:\n",
            "\u001b[1;38;5;39mCOMET INFO:\u001b[0m     display_summary_level : 1\n",
            "\u001b[1;38;5;39mCOMET INFO:\u001b[0m     url                   : \u001b[38;5;39mhttps://www.comet.com/danhvohoai2-gmail-com/ai-generated-image-detection/2c5d1016fe6141a0b08c86b25028be9c\u001b[0m\n",
            "\u001b[1;38;5;39mCOMET INFO:\u001b[0m   Metrics [count] (min, max):\n",
            "\u001b[1;38;5;39mCOMET INFO:\u001b[0m     train/epoch_acc [32]  : (0.8872453251465252, 0.9963717555121406)\n",
            "\u001b[1;38;5;39mCOMET INFO:\u001b[0m     train/epoch_loss [32] : (0.009420046582818031, 0.25650516152381897)\n",
            "\u001b[1;38;5;39mCOMET INFO:\u001b[0m     val/epoch_acc [32]    : (0.9206703910614525, 0.9743016759776536)\n",
            "\u001b[1;38;5;39mCOMET INFO:\u001b[0m   Parameters:\n",
            "\u001b[1;38;5;39mCOMET INFO:\u001b[0m     Train params : {\"CropSize\": 224, \"batch_size\": 64, \"detect_method\": \"CNNSpot\", \"earlystop_epoch\": 5, \"epoch_count\": 1, \"fix_backbone\": false, \"last_epoch\": -1, \"loadSize\": 256, \"loss_freq\": 400, \"lr\": 0.0001, \"mode\": \"binary\", \"name\": \"test_with_local_grad_240330\", \"niter\": 1000, \"optim\": \"adam\", \"save_epoch_freq\": 5, \"save_latest_freq\": 2000, \"train_split\": \"train\", \"val_split\": \"val\", \"weight_decay\": 0.0}\n",
            "\u001b[1;38;5;39mCOMET INFO:\u001b[0m   Uploads:\n",
            "\u001b[1;38;5;39mCOMET INFO:\u001b[0m     confusion-matrix         : 64\n",
            "\u001b[1;38;5;39mCOMET INFO:\u001b[0m     environment details      : 1\n",
            "\u001b[1;38;5;39mCOMET INFO:\u001b[0m     filename                 : 1\n",
            "\u001b[1;38;5;39mCOMET INFO:\u001b[0m     git metadata             : 1\n",
            "\u001b[1;38;5;39mCOMET INFO:\u001b[0m     git-patch (uncompressed) : 1 (9.18 KB)\n",
            "\u001b[1;38;5;39mCOMET INFO:\u001b[0m     installed packages       : 1\n",
            "\u001b[1;38;5;39mCOMET INFO:\u001b[0m     os packages              : 1\n",
            "\u001b[1;38;5;39mCOMET INFO:\u001b[0m     source_code              : 1 (6.36 KB)\n",
            "\u001b[1;38;5;39mCOMET INFO:\u001b[0m \n",
            "\u001b[1;38;5;214mCOMET WARNING:\u001b[0m To get all data logged automatically, import comet_ml before the following modules: torch.\n",
            "\u001b[1;38;5;39mCOMET INFO:\u001b[0m Please wait for metadata to finish uploading (timeout is 3600 seconds)\n",
            "\u001b[1;38;5;39mCOMET INFO:\u001b[0m Uploading 30 metrics, params and output messages\n"
          ]
        }
      ]
    },
    {
      "cell_type": "markdown",
      "source": [
        "# Eval"
      ],
      "metadata": {
        "id": "L65ujchi3kEO"
      }
    },
    {
      "cell_type": "code",
      "source": [
        "#Set dataset path in eval_config.py\n",
        "MODEL_PATH = '/content/drive/MyDrive/WEIGHTS/Intrinsic_detector/test_with_local_grad_240330/model_epoch_best.pth'\n",
        "!python eval_all.py --detect_method CNNSpot --model_path $MODEL_PATH"
      ],
      "metadata": {
        "id": "19VIBcPsI5lX",
        "outputId": "bc411a53-c484-4b5b-e513-a79476f4f2fd",
        "colab": {
          "base_uri": "https://localhost:8080/"
        }
      },
      "execution_count": 10,
      "outputs": [
        {
          "output_type": "stream",
          "name": "stdout",
          "text": [
            "RealFakeDB_tiny\n",
            "----------------- Options ---------------\n",
            "                 CropSize: 224                           \n",
            "           DIRE_modelpath: /data_19/AIGCDetect/AIGCDetect/weights/preprocessing/lsun_bedroom.pt\n",
            "          LGrad_modelpath: ./weights/preprocessing/karras2019stylegan-bedrooms-256x256_discriminator.pth\n",
            "            LNP_modelpath: ./weights/preprocessing/sidd_rgb.pth\n",
            "               batch_size: 64                            \n",
            "                 blur_sig: 1.0                           \n",
            "             dataset_name:                               \n",
            "            detect_method: CNNSpot                       \n",
            "                  isTrain: False                         \t[default: None]\n",
            "                    isVal: False                         \t[default: None]\n",
            "               jpg_method: pil                           \n",
            "                 jpg_qual: 95                            \n",
            "                 loadSize: 256                           \n",
            "               model_path: /content/drive/MyDrive/WEIGHTS/Intrinsic_detector/test_with_local_grad_240330/model_epoch_best.pth\t[default: ./weights/classifier/CNNSpot.pth]\n",
            "                  no_crop: False                         \n",
            "                  no_flip: False                         \n",
            "                no_resize: False                         \n",
            "               noise_type: None                          \n",
            "              results_dir: ./results/CNNSpot             \t[default: None]\n",
            "                rz_interp: bilinear                      \n",
            "----------------- End -------------------\n",
            "\u001b[1;38;5;39mCOMET INFO:\u001b[0m Valid Comet API Key saved in /root/.comet.config (set COMET_CONFIG to change where it is saved).\n",
            "\u001b[1;38;5;214mCOMET WARNING:\u001b[0m To get all data logged automatically, import comet_ml before the following modules: torch, sklearn.\n",
            "\u001b[1;38;5;39mCOMET INFO:\u001b[0m Experiment is live on comet.com \u001b[38;5;39mhttps://www.comet.com/danhvohoai2-gmail-com/ai-generated-image-detection/8909ee4b7bc94611ad509d5e37bfef5e\u001b[0m\n",
            "\n",
            "model_epoch_best model testing on...\n",
            "(val) acc: 0.3883333333333333; ap: 0.36530541010965256\n",
            "(train) acc: 0.35030549898167007; ap: 0.3513726160919059\n",
            "(test) acc: 0.372; ap: 0.37259334798378774\n",
            "\u001b[1;38;5;39mCOMET INFO:\u001b[0m ---------------------------------------------------------------------------------------\n",
            "\u001b[1;38;5;39mCOMET INFO:\u001b[0m Comet.ml Experiment Summary\n",
            "\u001b[1;38;5;39mCOMET INFO:\u001b[0m ---------------------------------------------------------------------------------------\n",
            "\u001b[1;38;5;39mCOMET INFO:\u001b[0m   Data:\n",
            "\u001b[1;38;5;39mCOMET INFO:\u001b[0m     display_summary_level : 1\n",
            "\u001b[1;38;5;39mCOMET INFO:\u001b[0m     url                   : \u001b[38;5;39mhttps://www.comet.com/danhvohoai2-gmail-com/ai-generated-image-detection/8909ee4b7bc94611ad509d5e37bfef5e\u001b[0m\n",
            "\u001b[1;38;5;39mCOMET INFO:\u001b[0m   Metrics [count] (min, max):\n",
            "\u001b[1;38;5;39mCOMET INFO:\u001b[0m     corsstest/acc [3] : (0.35030549898167007, 0.3883333333333333)\n",
            "\u001b[1;38;5;39mCOMET INFO:\u001b[0m   Parameters:\n",
            "\u001b[1;38;5;39mCOMET INFO:\u001b[0m     Cross_test params : {\"CropSize\": 224, \"batch_size\": 64, \"detect_method\": \"CNNSpot\", \"jpg_qual\": [95], \"model_path\": \"/content/drive/MyDrive/WEIGHTS/Intrinsic_detector/test_with_local_grad_240330/model_epoch_best.pth\", \"name\": \"test_with_local_grad_240330\", \"noise_type\": null}\n",
            "\u001b[1;38;5;39mCOMET INFO:\u001b[0m   Uploads:\n",
            "\u001b[1;38;5;39mCOMET INFO:\u001b[0m     confusion-matrix         : 3\n",
            "\u001b[1;38;5;39mCOMET INFO:\u001b[0m     environment details      : 1\n",
            "\u001b[1;38;5;39mCOMET INFO:\u001b[0m     filename                 : 1\n",
            "\u001b[1;38;5;39mCOMET INFO:\u001b[0m     git metadata             : 1\n",
            "\u001b[1;38;5;39mCOMET INFO:\u001b[0m     git-patch (uncompressed) : 1 (10.39 KB)\n",
            "\u001b[1;38;5;39mCOMET INFO:\u001b[0m     installed packages       : 1\n",
            "\u001b[1;38;5;39mCOMET INFO:\u001b[0m     os packages              : 1\n",
            "\u001b[1;38;5;39mCOMET INFO:\u001b[0m     source_code              : 1 (2.55 KB)\n",
            "\u001b[1;38;5;39mCOMET INFO:\u001b[0m \n",
            "\u001b[1;38;5;214mCOMET WARNING:\u001b[0m To get all data logged automatically, import comet_ml before the following modules: torch, sklearn.\n"
          ]
        }
      ]
    }
  ]
}