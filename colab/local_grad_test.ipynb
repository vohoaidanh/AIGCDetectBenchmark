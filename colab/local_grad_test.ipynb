{
  "nbformat": 4,
  "nbformat_minor": 0,
  "metadata": {
    "colab": {
      "provenance": [],
      "name": "local_grad_test.ipynb",
      "include_colab_link": true
    },
    "kernelspec": {
      "name": "python3",
      "display_name": "Python 3"
    },
    "language_info": {
      "name": "python"
    }
  },
  "cells": [
    {
      "cell_type": "markdown",
      "metadata": {
        "id": "view-in-github",
        "colab_type": "text"
      },
      "source": [
        "<a href=\"https://colab.research.google.com/github/vohoaidanh/AIGCDetectBenchmark/blob/main/colab/local_grad_test.ipynb\" target=\"_parent\"><img src=\"https://colab.research.google.com/assets/colab-badge.svg\" alt=\"Open In Colab\"/></a>"
      ]
    },
    {
      "cell_type": "markdown",
      "source": [
        "## AIGCDetectBenchmark\n"
      ],
      "metadata": {
        "id": "4bsPZQKgE3tX"
      }
    },
    {
      "cell_type": "code",
      "source": [
        "from google.colab import drive\n",
        "drive.mount('/content/drive')\n"
      ],
      "metadata": {
        "colab": {
          "base_uri": "https://localhost:8080/"
        },
        "id": "AR7UgjyUfRcg",
        "outputId": "1559676e-baf7-4a41-c7d9-920e4ea24232"
      },
      "execution_count": null,
      "outputs": [
        {
          "output_type": "stream",
          "name": "stdout",
          "text": [
            "Mounted at /content/drive\n"
          ]
        }
      ]
    },
    {
      "cell_type": "code",
      "source": [
        "!git clone https://github.com/vohoaidanh/AIGCDetectBenchmark.git"
      ],
      "metadata": {
        "colab": {
          "base_uri": "https://localhost:8080/"
        },
        "id": "ARFExotqtZDh",
        "outputId": "98d703de-f3bf-41cc-d934-2c55c83e3fa9"
      },
      "execution_count": null,
      "outputs": [
        {
          "output_type": "stream",
          "name": "stdout",
          "text": [
            "Cloning into 'AIGCDetectBenchmark'...\n",
            "remote: Enumerating objects: 704, done.\u001b[K\n",
            "remote: Counting objects: 100% (704/704), done.\u001b[K\n",
            "remote: Compressing objects: 100% (512/512), done.\u001b[K\n",
            "remote: Total 704 (delta 322), reused 520 (delta 172), pack-reused 0\u001b[K\n",
            "Receiving objects: 100% (704/704), 7.20 MiB | 13.15 MiB/s, done.\n",
            "Resolving deltas: 100% (322/322), done.\n"
          ]
        }
      ]
    },
    {
      "cell_type": "code",
      "source": [
        "!pip install ftfy -q\n",
        "!pip install natsort -q\n",
        "!pip install tensorboardX -q\n",
        "!pip install blobfile -q\n",
        "!pip install mpi4py -q\n"
      ],
      "metadata": {
        "id": "yZtRWDeMing8",
        "outputId": "805b2d40-9e87-4ae7-bbd1-df97de3eaeb1",
        "colab": {
          "base_uri": "https://localhost:8080/"
        }
      },
      "execution_count": null,
      "outputs": [
        {
          "output_type": "stream",
          "name": "stdout",
          "text": [
            "\u001b[2K     \u001b[90m━━━━━━━━━━━━━━━━━━━━━━━━━━━━━━━━━━━━━━━━\u001b[0m \u001b[32m54.4/54.4 kB\u001b[0m \u001b[31m1.6 MB/s\u001b[0m eta \u001b[36m0:00:00\u001b[0m\n",
            "\u001b[2K     \u001b[90m━━━━━━━━━━━━━━━━━━━━━━━━━━━━━━━━━━━━━━━━\u001b[0m \u001b[32m101.7/101.7 kB\u001b[0m \u001b[31m2.1 MB/s\u001b[0m eta \u001b[36m0:00:00\u001b[0m\n",
            "\u001b[2K     \u001b[90m━━━━━━━━━━━━━━━━━━━━━━━━━━━━━━━━━━━━━━━━\u001b[0m \u001b[32m73.7/73.7 kB\u001b[0m \u001b[31m2.0 MB/s\u001b[0m eta \u001b[36m0:00:00\u001b[0m\n",
            "\u001b[2K     \u001b[90m━━━━━━━━━━━━━━━━━━━━━━━━━━━━━━━━━━━━━━━━\u001b[0m \u001b[32m2.1/2.1 MB\u001b[0m \u001b[31m13.8 MB/s\u001b[0m eta \u001b[36m0:00:00\u001b[0m\n",
            "\u001b[2K     \u001b[90m━━━━━━━━━━━━━━━━━━━━━━━━━━━━━━━━━━━━━━━━\u001b[0m \u001b[32m2.5/2.5 MB\u001b[0m \u001b[31m12.6 MB/s\u001b[0m eta \u001b[36m0:00:00\u001b[0m\n",
            "\u001b[?25h  Installing build dependencies ... \u001b[?25l\u001b[?25hdone\n",
            "  Getting requirements to build wheel ... \u001b[?25l\u001b[?25hdone\n",
            "  Preparing metadata (pyproject.toml) ... \u001b[?25l\u001b[?25hdone\n",
            "  Building wheel for mpi4py (pyproject.toml) ... \u001b[?25l\u001b[?25hdone\n"
          ]
        }
      ]
    },
    {
      "cell_type": "code",
      "source": [
        " #file_path = '/content/drive/MyDrive/DATASETS/PIE_Net_real_gen_dataset.zip'\n",
        " #!mkdir -p /content/AIGCDetectBenchmark/dataset\n",
        " #!unzip \"$file_path\" -d /content/AIGCDetectBenchmark/dataset"
      ],
      "metadata": {
        "id": "iXBZH3TkfdiU"
      },
      "execution_count": null,
      "outputs": []
    },
    {
      "cell_type": "code",
      "source": [
        "#!cp '/content/drive/MyDrive/WEIGHTS/sidd_rgb.pth' /content/AIGCDetectBenchmark/weights/preprocessing"
      ],
      "metadata": {
        "id": "_JAbI4pBiMrw"
      },
      "execution_count": null,
      "outputs": []
    },
    {
      "cell_type": "code",
      "source": [
        "%cd /content/AIGCDetectBenchmark"
      ],
      "metadata": {
        "colab": {
          "base_uri": "https://localhost:8080/"
        },
        "id": "n9HXSjhchADX",
        "outputId": "9cfeaea3-2581-4b24-de9b-c8f125be046b"
      },
      "execution_count": null,
      "outputs": [
        {
          "output_type": "stream",
          "name": "stdout",
          "text": [
            "/content/AIGCDetectBenchmark\n"
          ]
        }
      ]
    },
    {
      "cell_type": "code",
      "source": [
        "DATASET_INDRIVE = \"/content/drive/MyDrive/DATASETS/RealFakeDB_tiny.zip\"\n",
        "UN_ZIP_TO = \"/content/AIGCDetectBenchmark\"\n",
        "!unzip $DATASET_INDRIVE -d $UN_ZIP_TO"
      ],
      "metadata": {
        "id": "-eqUpAKmuMgZ"
      },
      "execution_count": null,
      "outputs": []
    },
    {
      "cell_type": "code",
      "source": [
        "#/content/drive/MyDrive/DATASETS/DiffusionForensics/intrinsic/imagenet/train\n",
        "#import shutil\n",
        "\n",
        "#shutil.copytree('/content/drive/MyDrive/DATASETS/real_gen_dataset_intrinsic', '/content/AIGCDetectBenchmark/dataset')\n",
        "#!rm -r /content/AIGCDetectBenchmark/dataset/content"
      ],
      "metadata": {
        "colab": {
          "base_uri": "https://localhost:8080/",
          "height": 35
        },
        "id": "xalX3dMAbvnv",
        "outputId": "60c2e564-9d8b-48d5-fff3-bbcba476eba0"
      },
      "execution_count": null,
      "outputs": [
        {
          "output_type": "execute_result",
          "data": {
            "text/plain": [
              "'/content/AIGCDetectBenchmark/dataset'"
            ],
            "application/vnd.google.colaboratory.intrinsic+json": {
              "type": "string"
            }
          },
          "metadata": {},
          "execution_count": 4
        }
      ]
    },
    {
      "cell_type": "markdown",
      "source": [
        "Porcess for local_grad"
      ],
      "metadata": {
        "id": "anltKV28vLDe"
      }
    },
    {
      "cell_type": "code",
      "source": [
        "!python img2grad.py \\\n",
        "--input_dir /content/AIGCDetectBenchmark/RealFakeDB_tiny/val \\\n",
        "--result_dir /content/AIGCDetectBenchmark/results/val"
      ],
      "metadata": {
        "colab": {
          "base_uri": "https://localhost:8080/"
        },
        "id": "tyq5fn4evKbq",
        "outputId": "345a5a41-752d-4a52-f1ce-4c45a50534b7"
      },
      "execution_count": null,
      "outputs": [
        {
          "output_type": "stream",
          "name": "stdout",
          "text": [
            "100% 600/600 [02:10<00:00,  4.61it/s]\n"
          ]
        }
      ]
    },
    {
      "cell_type": "code",
      "source": [
        "!pip install comet_ml -q"
      ],
      "metadata": {
        "colab": {
          "base_uri": "https://localhost:8080/"
        },
        "id": "ftNpJwio3W8Q",
        "outputId": "81b7298c-f814-47f6-f620-87dbf08eab9a"
      },
      "execution_count": null,
      "outputs": [
        {
          "output_type": "stream",
          "name": "stdout",
          "text": [
            "\u001b[2K     \u001b[90m━━━━━━━━━━━━━━━━━━━━━━━━━━━━━━━━━━━━━━━━\u001b[0m \u001b[32m638.9/638.9 kB\u001b[0m \u001b[31m7.0 MB/s\u001b[0m eta \u001b[36m0:00:00\u001b[0m\n",
            "\u001b[2K     \u001b[90m━━━━━━━━━━━━━━━━━━━━━━━━━━━━━━━━━━━━━━━━\u001b[0m \u001b[32m3.3/3.3 MB\u001b[0m \u001b[31m16.1 MB/s\u001b[0m eta \u001b[36m0:00:00\u001b[0m\n",
            "\u001b[2K     \u001b[90m━━━━━━━━━━━━━━━━━━━━━━━━━━━━━━━━━━━━━━━━\u001b[0m \u001b[32m54.5/54.5 kB\u001b[0m \u001b[31m5.5 MB/s\u001b[0m eta \u001b[36m0:00:00\u001b[0m\n",
            "\u001b[2K     \u001b[90m━━━━━━━━━━━━━━━━━━━━━━━━━━━━━━━━━━━━━━━━\u001b[0m \u001b[32m264.9/264.9 kB\u001b[0m \u001b[31m15.1 MB/s\u001b[0m eta \u001b[36m0:00:00\u001b[0m\n",
            "\u001b[2K     \u001b[90m━━━━━━━━━━━━━━━━━━━━━━━━━━━━━━━━━━━━━━━━\u001b[0m \u001b[32m137.9/137.9 kB\u001b[0m \u001b[31m12.6 MB/s\u001b[0m eta \u001b[36m0:00:00\u001b[0m\n",
            "\u001b[2K     \u001b[90m━━━━━━━━━━━━━━━━━━━━━━━━━━━━━━━━━━━━━━━━\u001b[0m \u001b[32m54.3/54.3 kB\u001b[0m \u001b[31m4.3 MB/s\u001b[0m eta \u001b[36m0:00:00\u001b[0m\n",
            "\u001b[2K     \u001b[90m━━━━━━━━━━━━━━━━━━━━━━━━━━━━━━━━━━━━━━━━\u001b[0m \u001b[32m514.7/514.7 kB\u001b[0m \u001b[31m20.8 MB/s\u001b[0m eta \u001b[36m0:00:00\u001b[0m\n",
            "\u001b[?25h"
          ]
        }
      ]
    },
    {
      "cell_type": "markdown",
      "source": [
        "# Train"
      ],
      "metadata": {
        "id": "-bfZv5Gq3eht"
      }
    },
    {
      "cell_type": "code",
      "source": [
        "TEST_NAME = 'test_with_local_grad'\n",
        "DATASET_DIR = '/content/AIGCDetectBenchmark/dataset'\n",
        "!python train.py --name $TEST_NAME --dataroot $DATASET_DIR \\\n",
        " --detect_method CNNSpot --blur_prob 0.1 --blur_sig 0.0,3.0 --jpg_prob 0.1 --jpg_method cv2,pil --jpg_qual 30,100"
      ],
      "metadata": {
        "id": "J17Cg4xCuKob"
      },
      "execution_count": null,
      "outputs": []
    },
    {
      "cell_type": "markdown",
      "source": [
        "# Eval"
      ],
      "metadata": {
        "id": "L65ujchi3kEO"
      }
    },
    {
      "cell_type": "code",
      "source": [
        "#Set dataset path in eval_config.py\n",
        "MODEL_PATH = '/content/drive/MyDrive/WEIGHTS/Intrinsic_detector/local_grad/test_with_local_grad_2/model_epoch_latest.pth'\n",
        "!python eval_all.py --detect_method CNNSpot --model_path $MODEL_PATH"
      ],
      "metadata": {
        "id": "19VIBcPsI5lX",
        "outputId": "6f5e75da-97ac-44f9-a544-b3d2e12302c7",
        "colab": {
          "base_uri": "https://localhost:8080/"
        }
      },
      "execution_count": null,
      "outputs": [
        {
          "output_type": "stream",
          "name": "stdout",
          "text": [
            "results\n",
            "----------------- Options ---------------\n",
            "                 CropSize: 224                           \n",
            "           DIRE_modelpath: /data_19/AIGCDetect/AIGCDetect/weights/preprocessing/lsun_bedroom.pt\n",
            "          LGrad_modelpath: ./weights/preprocessing/karras2019stylegan-bedrooms-256x256_discriminator.pth\n",
            "            LNP_modelpath: ./weights/preprocessing/sidd_rgb.pth\n",
            "               batch_size: 64                            \n",
            "                 blur_sig: 1.0                           \n",
            "             dataset_name:                               \n",
            "            detect_method: CNNSpot                       \n",
            "                  isTrain: False                         \t[default: None]\n",
            "                    isVal: False                         \t[default: None]\n",
            "               jpg_method: pil                           \n",
            "                 jpg_qual: 95                            \n",
            "                 loadSize: 256                           \n",
            "               model_path: /content/drive/MyDrive/WEIGHTS/Intrinsic_detector/local_grad/test_with_local_grad_2/model_epoch_latest.pth\t[default: ./weights/classifier/CNNSpot.pth]\n",
            "                  no_crop: False                         \n",
            "                  no_flip: False                         \n",
            "                no_resize: False                         \n",
            "               noise_type: None                          \n",
            "              results_dir: ./results/CNNSpot             \t[default: None]\n",
            "                rz_interp: bilinear                      \n",
            "----------------- End -------------------\n",
            "\u001b[1;38;5;39mCOMET INFO:\u001b[0m Valid Comet API Key saved in /root/.comet.config (set COMET_CONFIG to change where it is saved).\n",
            "\u001b[1;38;5;214mCOMET WARNING:\u001b[0m To get all data logged automatically, import comet_ml before the following modules: sklearn, torch.\n",
            "\u001b[1;38;5;39mCOMET INFO:\u001b[0m Experiment is live on comet.com \u001b[38;5;39mhttps://www.comet.com/danhvohoai2-gmail-com/ai-generated-image-detection/7351fc82ed21422cb0a2cf0e8c24276b\u001b[0m\n",
            "\n",
            "model_epoch_latest model testing on...\n",
            "(test) acc: 0.379; ap: 0.3664224798116656\n",
            "(train) acc: 0.3615071283095723; ap: 0.3497180418886776\n",
            "(val) acc: 0.405; ap: 0.35367379736773613\n",
            "\u001b[1;38;5;39mCOMET INFO:\u001b[0m ---------------------------------------------------------------------------------------\n",
            "\u001b[1;38;5;39mCOMET INFO:\u001b[0m Comet.ml Experiment Summary\n",
            "\u001b[1;38;5;39mCOMET INFO:\u001b[0m ---------------------------------------------------------------------------------------\n",
            "\u001b[1;38;5;39mCOMET INFO:\u001b[0m   Data:\n",
            "\u001b[1;38;5;39mCOMET INFO:\u001b[0m     display_summary_level : 1\n",
            "\u001b[1;38;5;39mCOMET INFO:\u001b[0m     url                   : \u001b[38;5;39mhttps://www.comet.com/danhvohoai2-gmail-com/ai-generated-image-detection/7351fc82ed21422cb0a2cf0e8c24276b\u001b[0m\n",
            "\u001b[1;38;5;39mCOMET INFO:\u001b[0m   Metrics [count] (min, max):\n",
            "\u001b[1;38;5;39mCOMET INFO:\u001b[0m     corsstest/acc [3] : (0.3615071283095723, 0.405)\n",
            "\u001b[1;38;5;39mCOMET INFO:\u001b[0m   Parameters:\n",
            "\u001b[1;38;5;39mCOMET INFO:\u001b[0m     Cross_test params : {\"CropSize\": 224, \"batch_size\": 64, \"detect_method\": \"CNNSpot\", \"jpg_qual\": [95], \"model_path\": \"/content/drive/MyDrive/WEIGHTS/Intrinsic_detector/local_grad/test_with_local_grad_2/model_epoch_latest.pth\", \"name\": \"test with local_grad on RealFaceDB_tiny\", \"noise_type\": null, \"test No.\": \"1\", \"test date \": \"30/3/2024\"}\n",
            "\u001b[1;38;5;39mCOMET INFO:\u001b[0m   Uploads:\n",
            "\u001b[1;38;5;39mCOMET INFO:\u001b[0m     confusion-matrix         : 3\n",
            "\u001b[1;38;5;39mCOMET INFO:\u001b[0m     environment details      : 1\n",
            "\u001b[1;38;5;39mCOMET INFO:\u001b[0m     filename                 : 1\n",
            "\u001b[1;38;5;39mCOMET INFO:\u001b[0m     git metadata             : 1\n",
            "\u001b[1;38;5;39mCOMET INFO:\u001b[0m     git-patch (uncompressed) : 1 (13.92 KB)\n",
            "\u001b[1;38;5;39mCOMET INFO:\u001b[0m     installed packages       : 1\n",
            "\u001b[1;38;5;39mCOMET INFO:\u001b[0m     os packages              : 1\n",
            "\u001b[1;38;5;39mCOMET INFO:\u001b[0m     source_code              : 1 (2.61 KB)\n",
            "\u001b[1;38;5;39mCOMET INFO:\u001b[0m \n",
            "\u001b[1;38;5;214mCOMET WARNING:\u001b[0m To get all data logged automatically, import comet_ml before the following modules: sklearn, torch.\n"
          ]
        }
      ]
    }
  ]
}